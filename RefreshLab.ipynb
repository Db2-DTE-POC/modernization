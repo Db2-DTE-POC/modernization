{
 "cells": [
  {
   "cell_type": "markdown",
   "id": "4277f855",
   "metadata": {},
   "source": [
    "<img align=\"left\" src=\"media/Assets&ArchHeader.jpeg\">"
   ]
  },
  {
   "cell_type": "markdown",
   "id": "3455f575",
   "metadata": {},
   "source": [
    "# Getting Started\n",
    "This hands-on lab uses Jupyter notebooks to demonstrate Db2 features. \n",
    "\n",
    "## Update Lab Content\n",
    "Start by loading the latest lab content directly from GIT. This will overright any existing lab content on this system. \n",
    "\n",
    "Run the next cell:\n",
    "1. Click the cell below\n",
    "2. Click the Run icon above\n",
    "\n",
    "You can also find the content at https://github.com/Db2-DTE-POC/modernization. Feel free to use these examples on your own system as well as with this Hands-on Lab environment. "
   ]
  },
  {
   "cell_type": "markdown",
   "id": "e1320f7c",
   "metadata": {},
   "source": [
    "### Disclaimer\n",
    "\n",
    "Information, products, software, programs, and services are provided \"as is,\" with no warranties or guarantees whatsoever. IBM expressly disclaims to the fullest extent permitted by law all express, implied, statutory, and other warranties, guarantees, or representations, including, without limitation, the warranties of merchantability, fitness for a particular purpose, and non-infringement of proprietary and intellectual property rights. Without limitation, IBM makes no warranty or guarantee that this web site will be uninterrupted, timely, secure, or error-free.\n",
    "### Test Data\n",
    "\n",
    "The data used within this program has been derived from public sources, including the US Census Bureau (First names, Last names, Street names), and the US Postal Service (City, State, Zip code). The names, product names, credit cards, credit numbers in this program are fictitious. No identification with actual persons (living or deceased), places or products is intended or should be inferred.\n",
    "### Use of Personal Data\n",
    "\n",
    "Clients are responsible for ensuring their own compliance with various laws and regulations, including the European Union General Data Protection Regulation. Clients are solely responsible for obtaining advice of competent legal counsel as to the identification and interpretation of any relevant laws and regulations that may affect the clients' business and any actions the clients may need to take to comply with such laws and regulations.\n",
    "\n",
    "This demonstration system is not designed to be used with any personal data and uploading of data is done at your own risk. There is no guarantee that at the termination of this proof of technology that the data will be completely erased and IBM takes no responsibility for data on this system. Use of this system is at your sole risk. "
   ]
  },
  {
   "cell_type": "code",
   "execution_count": null,
   "id": "a50d286b",
   "metadata": {
    "jupyter": {
     "source_hidden": true
    }
   },
   "outputs": [],
   "source": [
    "!/home/db2inst1/refresh.sh"
   ]
  },
  {
   "cell_type": "markdown",
   "id": "ac77546e",
   "metadata": {},
   "source": [
    "**Note:** The notebook will lose the connection after this script completes. Click OK to acknowledge that the connection has failed. The links below will be active after this step."
   ]
  },
  {
   "cell_type": "markdown",
   "id": "1f3278c1",
   "metadata": {},
   "source": [
    "## Launch the Labs\n",
    "<!-- Row 1 -->\n",
    "<div style=\"font-family: 'IBM Plex Sans';\">\n",
    "<table style=\"float:left; width: 620px; height: 235px; border-spacing: 10px; border-collapse: separate; table-layout: fixed\">\n",
    "    <td style=\"padding: 15px; text-align:left; vertical-align: text-top; background-color:#F7F7F7; width: 300px; height: 250px;\">\n",
    "        <div style=\"height: 75px\"><p style=\"font-size: 24px\">\n",
    "<!-- Title -->\n",
    "Db2 Machine Learning Lab\n",
    "        </div>\n",
    "        <div style=\"height: 120px\"><p style=\"font-size: 14px\">\n",
    "<!-- Description -->\n",
    "This Db2 lab highlights some of the new ways to use Machine Learning models for and with Db2. This lab uses Jupyter notebooks to demonstrate these features. \n",
    "        </div>\n",
    "        <div style=\"height: 25px\"><p style=\"font-size: 12px; text-align: right\">\n",
    "            <img style=\"display: inline-block;\"src=\"./media/clock.png\">&nbsp;\n",
    "<!-- Duration -->            \n",
    "60min\n",
    "        </div>\n",
    "        <div style=\"height: 10px\"><p style=\"font-size: 12px; text-align: right\">\n",
    "             <a href=\"./ml/Table_of_Contents_Tiles.ipynb\">\n",
    "                 <img style=\"display: inline-block;\"src=\"./media/arrowblue.png\"></a>            \n",
    "        </div>        \n",
    "    </td>    \n",
    "    <td style=\"padding: 15px; text-align:left; vertical-align: text-top; background-color:#F7F7F7; width: 300px; height: 250px;\">\n",
    "        <div style=\"height: 75px\"><p style=\"font-size: 24px\">\n",
    "<!-- Title -->\n",
    "Using JSON in Db2\n",
    "        </div>\n",
    "        <div style=\"height: 125px\"><p style=\"font-size: 14px\">\n",
    "<!-- Description -->\n",
    "Chances are that you have already heard of JSON. JSON is an acronym for \"JavaScript Object Notation\" and is a way of representing data in a specific format. This notebook gives you a background of what JSON is and how it is used by applications.\n",
    "        </div>\n",
    "        <div style=\"height: 25px\"><p style=\"font-size: 12px; text-align: right\">\n",
    "            <img style=\"display: inline-block;\"src=\"./media/clock.png\">&nbsp;\n",
    "<!-- Duration -->\n",
    "60min\n",
    "        </div>\n",
    "        <div style=\"height: 10px\"><p style=\"font-size: 12px; text-align: right\">\n",
    "             <a href=\"./json/Table_of_Contents.ipynb\">\n",
    "                 <img style=\"display: inline-block;\"src=\"./media/arrowblue.png\"></a>            \n",
    "        </div>            \n",
    "    </td>\n",
    "</table>"
   ]
  },
  {
   "cell_type": "markdown",
   "id": "971f0c2f",
   "metadata": {},
   "source": [
    "<!-- Row 1 -->\n",
    "<div style=\"font-family: 'IBM Plex Sans';\">\n",
    "<table style=\"float:left; width: 620px; height: 235px; border-spacing: 10px; border-collapse: separate; table-layout: fixed\">\n",
    "        <td style=\"padding: 15px; text-align:left; vertical-align: text-top; background-color:#F7F7F7; width: 300px; height:250px\">\n",
    "        <div style=\"height: 75px\"><p style=\"font-size: 24px\">\n",
    "<!-- Title -->            \n",
    "RESTful Db2\n",
    "</div>\n",
    "        <div style=\"height: 125px\"><p style=\"font-size: 14px\">\n",
    "<!-- Abstract -->\n",
    "This lab demonstrates how you can extend your Db2 system so that application programmers can create Representational State Transfer (REST) endpoints to interact with your Db2 database.\n",
    "        </div>\n",
    "        <div style=\"height: 25px\"><p style=\"font-size: 12px; text-align: right\">\n",
    "            <img style=\"display: inline-block;\"src=\"./media/clock.png\">&nbsp;\n",
    "<!-- Duration -->\n",
    "60min\n",
    "        </div>  \n",
    "        <div style=\"height: 10px\"><p style=\"font-size: 12px; text-align: right\">\n",
    "             <a href=\"./ml/Db2 RESTful Example.ipynb\">\n",
    "                 <img style=\"display: inline-block;\"src=\"./media/arrowblue.png\"></a>            \n",
    "        </div>            \n",
    "    </td>   \n",
    "    <td style=\"padding: 15px; text-align:left; vertical-align: text-top; background-color:#F7F7F7; width: 300px; height: 250px;\">\n",
    "        <div style=\"height: 75px\"><p style=\"font-size: 24px\">\n",
    "<!-- Title -->\n",
    "Db2 Console Lab\n",
    "        </div>\n",
    "        <div style=\"height: 120px\"><p style=\"font-size: 14px\">\n",
    "<!-- Description -->\n",
    "This Db2 Data Management Console lab that highlights the RESTful services of the console. \n",
    "        </div>\n",
    "        <div style=\"height: 25px\"><p style=\"font-size: 12px; text-align: right\">\n",
    "            <img style=\"display: inline-block;\"src=\"./media/clock.png\">&nbsp;\n",
    "<!-- Duration -->            \n",
    "60min\n",
    "        </div>\n",
    "        <div style=\"height: 10px\"><p style=\"font-size: 12px; text-align: right\">\n",
    "             <a href=\"./console/Table_of_Contents.ipynb\">\n",
    "                 <img style=\"display: inline-block;\"src=\"./media/arrowblue.png\"></a>            \n",
    "        </div>        \n",
    "    </td>    \n",
    "</table>"
   ]
  },
  {
   "cell_type": "code",
   "execution_count": null,
   "id": "3557a5e8",
   "metadata": {},
   "outputs": [],
   "source": []
  }
 ],
 "metadata": {
  "kernelspec": {
   "display_name": "Python 3",
   "language": "python",
   "name": "python3"
  },
  "language_info": {
   "codemirror_mode": {
    "name": "ipython",
    "version": 3
   },
   "file_extension": ".py",
   "mimetype": "text/x-python",
   "name": "python",
   "nbconvert_exporter": "python",
   "pygments_lexer": "ipython3",
   "version": "3.6.13"
  }
 },
 "nbformat": 4,
 "nbformat_minor": 5
}
