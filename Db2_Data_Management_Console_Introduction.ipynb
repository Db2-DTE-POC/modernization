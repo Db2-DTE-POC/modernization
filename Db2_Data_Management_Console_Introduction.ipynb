{
 "cells": [
  {
   "cell_type": "markdown",
   "metadata": {
    "slideshow": {
     "slide_type": "slide"
    }
   },
   "source": [
    "# Introducing the Db2 Data Management Console\n",
    "The Db2 Data Management Console is more than a graphical user interface. It is a set of microservices that you can use to build custom solutions to automate how you use Db2. \n",
    "\n",
    "This Jupyter Notebook is a brief introduction to the Db2 Data Management Console user interface.\n",
    "\n",
    "The console is already installed in the demonstration platform. You can start exploring it right away. \n",
    "\n",
    "Click the following link: http://localhost:11080/console and enter the following log on information:\n",
    "* Userid: db2inst1\n",
    "* Password: db2inst1\n",
    "\n",
    "If you haven't already done so, you can explore the [IBM Db2 Data Management Console Collection](https://www.ibm.com/demos/collection/IBM-Db2-Data-Management-Console/) of videos and product walk-throughs. \n",
    "\n",
    "<img align=\"left\" src=\"media/ConsoleOverview.png\">"
   ]
  },
  {
   "cell_type": "markdown",
   "metadata": {},
   "source": [
    "### The Next Generation of Console for the Db2 database\n",
    "The IBM Db2 Data Management Console is the next step in the evolution of IBM Data Server Manager.\n",
    "This new console builds on the best of Data Server Manager while opening up the platform to exciting new possibilities. This isn’t just a new user interface it is a new way to interact with the Db2 family.\n",
    "\n",
    "We are bringing together the best of our on premises, on cloud and appliance database consoles for the Db2 family in a single experience. We have an new name, IBM Db2 Data Management Console, but you can think of this as Version 3 of Data Server Manager. \n",
    "\n",
    "Much like Data Server Manager, you can install the console on a central server (or your laptop) and manage one to hundreds of databases across the Db2 family from ground to cloud. You can download and install on a Windows, Linux, or now a MacOS machine, and share the interface with your team through a web based console. We will eventually provide the same capabilities you can find today in Data Server Manager. This initial release includes alerts, monitoring, historical data collection, object administration including privilege management, relationship mapping and exploration. You can also edit, run and analyze your SQL with an updated editor and visual explain tool. \n",
    "\n",
    "This version is fully supported for anyone with a Db2 for Linux, UNIX or Windows license entitlement using Db2 Version 10.5, 11.1 or 11.5."
   ]
  },
  {
   "cell_type": "markdown",
   "metadata": {
    "hide_input": false
   },
   "source": [
    "## What is different about this console\n",
    "In the Db2 Data Management Console you will find a lot that is familiar from your experience with Data Server Manager. It is a centralized, browser based interface. It lets you manage, monitor, receive alerts and run SQL against one or hundreds of Db2 family databases. \n",
    "\n",
    "Some of the changes are obvious in the user interface. For example the new database over page and the new and improved SQL Editor. \n",
    "\n",
    "Some go deeper than the user interface. The new console architecture opens the console to team collaboration, interface composition and extensions with an fully open set of APIs. Even how we store historical data has been simplified. "
   ]
  },
  {
   "cell_type": "markdown",
   "metadata": {},
   "source": [
    "### Rapid Triage\n",
    "\n",
    "At a high level, the health and status of your database is represented by six stories. Pilots can understand their airplane through six core instruments that are in every aircraft from a Ultralight to the Space Shuttle. In the same way we have developed six core instruments to understand the availability, responsiveness, throughput, resource use, user contention and time spent in each database. What these instruments or \"widgets\" tell you make it easy to quickly understand the nature and status of your database on one screen. \n",
    "\n",
    "* Click on **Home** and then select the database you want to monitor or click on: \n",
    "http://localhost:11080/console/#monitor/summary?profile=SAMPLE\n",
    "\n",
    "\n",
    "These same stories and metrics are also available on a single enterprise homepage. It summarizes all your databases from a single screen. You can triage (assign degree of urgency) your databases and decide which, if any, require your attention. From the database home page you can to drill in to deeper information to help analyze problems and improve performance. \n",
    "\n",
    "* Click on **Home** or click on:\n",
    "http://localhost:11080/console/#home\n",
    "\n",
    "Since there isn't a workload running on this database there won't be a lot to see yet. Check out the [Analyze SQL Workloads notebook](  http://localhost:8888/notebooks/Db2_Data_Management_Console_SQL.ipynb) to learn how to run workloads so you can see the enterprise homepage and database overview page in action.\n",
    "\n",
    "You can also check out the [IBM Db2 Data Management Console Long Running Query](https://www.ibm.com/cloud/garage/dte/producttour/db2-data-management-console-long-running-query) tour to see an online walkthrough of the monitoring interface.\n"
   ]
  },
  {
   "cell_type": "markdown",
   "metadata": {},
   "source": [
    "### History\n",
    "Unlike Data Server Manager, the Db2 Data Management Console does not force you switch between real-time and historic modes. You can easily choose any time period from the latest data to the last week or month with a simple click. To see an example:\n",
    "\n",
    "Go the the console and:\n",
    "\n",
    "1. Click the Monitor icon at the left of the console screen\n",
    "2. Click Monitor\n",
    "2. Select **Buffer Pools** \n",
    "\n",
    "Or click http://localhost:11080/console/#monitor/buffer_pool?profile=SAMPLE to go directly to the same page\n",
    "\n",
    "Now let's check out some historical data:\n",
    "\n",
    "1. Click the clock icon at the top of the page\n",
    "2. Select **Last 1 hour**\n",
    "3. Click the elipsis (...) at the right side of the page for the IBMDEFAULTBP bufferpool\n",
    "4. Scroll down to see the historical monitoring data for the last hour"
   ]
  },
  {
   "cell_type": "markdown",
   "metadata": {},
   "source": [
    "### Open RESTful API\n",
    "\n",
    "Everything we do through the user interface goes through a new RESTful API that is open and available. That includes APIs to run SQL, Manage Database Objects and Privileges, Monitor performance, load data and files and configure all aspects of the console. Along with complete and comprehensive documentation built into the user interface this hands-on lab includes extensive examples of how to write your own code in Python to access and exploit these new interfaces. (You can find a copy of this notebook and all the notebooks in this lab on GITHUB at https://github.com/Db2-DTE-POC/db2dmc.)\n",
    "\n",
    "To access the API documentation, click on the ? icon at the top right of the console and select **REST API** or click on:\n",
    "http://localhost:11080/dbapi/api/index_enterprise.html"
   ]
  },
  {
   "cell_type": "markdown",
   "metadata": {},
   "source": [
    "### One Schema to Record them All\n",
    "\n",
    "Historical monintoring data is stored in a central Db2 database. Unlike Data Server Manager the Db2 Data Management Console includes histrical data collection for all editions of Db2. There is also free entitlement to use a Db2 Database as the repository without having to purchase any additional Db2 license entitlements. \n",
    "\n",
    "All the Db2 Data Management Console history tables are also now in a single schema. Under the covers we have consolidated multipe types of monitoring into a single process of data collection and storage. You can find all our data stored in the IBMCONSOLE schema. Go to the Db2 Console and:\n",
    "\n",
    "1. Click on the Database selector dropdown menu at the top right of the console\n",
    "2. Select **History**\n",
    "3. Click the **Explore icon** at the left of the console\n",
    "4. Click **Tables**\n",
    "\n",
    "Or click http://localhost:11080/console/#explore/table?profile=HISTORY to go directly to the same page\n",
    "\n",
    "Now lets see a list of all the tables in the console schema:\n",
    "\n",
    "1. Click **Show system schema**. This displays all the Db2 catalog and the Db2 Console tables\n",
    "2. Click the box to the left of **IBMCONSOLE**\n",
    "\n",
    "This will display all the tables in the historical repository database on the right of the screen."
   ]
  },
  {
   "cell_type": "markdown",
   "metadata": {},
   "source": [
    "### Micro-Services Interface\n",
    "The user interface of the new console is built on a micro-services architecture that allows you to compose parts of the interface in new ways. Each time you select a new page the URL uniquely identifies that part of the interface. If you send that URL to another user of the console they can go to the same page you are seeing. \n",
    "\n",
    "We make use of that in this notebook as you may have noticed in the earlier steps.\n",
    "\n",
    "You can try this yourself. Go to the console:\n",
    "\n",
    "1. Click the Explore icon at the left of the console\n",
    "2. Click Tables\n",
    "3. Select the URL at the top of the web-browser and copy it using Ctrl-C\n",
    "4. Open a new browser window\n",
    "5. Paste the URL into the new browswer window using Ctrl-V\n",
    "6. Hit Enter\n",
    "\n",
    "The table explorer window should now open in the new browser window."
   ]
  },
  {
   "cell_type": "markdown",
   "metadata": {},
   "source": [
    "### Team Collaboration\n",
    "\n",
    "Have you noticed the **share icon**? <img align=\"left\" src=\"media/ShareIcon.png\">\n",
    "\n",
    "Along with being able to forward URLs, you can send more detailed URLs that capture all your choices on a specific page. Look for the \"share\" icon (three circle connected by two lines) on most page in the user interface. \n",
    "\n",
    "You can try this yourself. Go to the console:\n",
    "\n",
    "1. Click the Monitor icon at the left of the console screen\n",
    "2. Click Monitor\n",
    "3. Select Buffer Pools\n",
    "4. Click the clock icon at the top of the page\n",
    "5. Select Last 1 hour\n",
    "6. Select the filer icon a the top right of the table of buffer pools\n",
    "7. Create a new filter to only include buffer pools with the number of logical reads per hour greater than 1000\n",
    "8. Select **Apply**\n",
    "9. Click the share icon beside Buffer Pools. The icon has three circles connected by two lines.\n",
    "10. Click the copy icon to the right of the long URL\n",
    "11. Open a new browser window\n",
    "12. Paste the URL into the new browswer window using Ctrl-V\n",
    "13. Hit Enter. A prompt window appears to let you know were the URL is from\n",
    "14. Click **this window**\n",
    "\n",
    "The console page that appears should include the timeframe as well as the filter criteria you set. "
   ]
  },
  {
   "cell_type": "markdown",
   "metadata": {},
   "source": [
    "#### Using Embedded User Interface Microservices\n",
    "With a small modification to the URL you can just embed that page into your own IFrame in your own webpage or Jupyter notebook. So if you just want to include our SQL Editor in your own webpage and don't want the whole console you now can. The next steps show an example of how to embed those micro-services.\n",
    "\n",
    "This notebook includes the IPython IFrame library that lets you embed parts of the console user interface as microservices. You can use the same technique to include the same parts of the interface into Python, JavaScript or HTML code. \n",
    "\n",
    "Notice that the URL at the top of the console webpage changes each time you move to a new part of the console interface. We are using those same pages, with one small difference. In the examples below we include **?mode=compact** in teh URL being embedded in the IFrame. \n",
    "\n",
    "Run the next cells. \n",
    "\n",
    "1. Click the next cell\n",
    "2. Click the **Run** button in the menu above\n",
    "3. Continue clicking **Run** to complete the remaining cells"
   ]
  },
  {
   "cell_type": "code",
   "execution_count": null,
   "metadata": {},
   "outputs": [],
   "source": [
    "# Import the class libraries \n",
    "from IPython.display import IFrame\n",
    "from IPython.display import display, HTML"
   ]
  },
  {
   "cell_type": "code",
   "execution_count": null,
   "metadata": {},
   "outputs": [],
   "source": [
    "# Define the parts of the URL string to used to embed a component of the user interface\n",
    "Console  = 'http://localhost:11080/console/?mode=compact#'"
   ]
  },
  {
   "cell_type": "markdown",
   "metadata": {},
   "source": [
    "In this first example we will create the URL to explore tables and call it through an IFrame class.\n",
    "\n",
    "If you haven't already logged in, use the following userid and password:\n",
    "\n",
    "* Userid: db2inst1\n",
    "* Password: db2inst1"
   ]
  },
  {
   "cell_type": "code",
   "execution_count": null,
   "metadata": {
    "scrolled": true
   },
   "outputs": [],
   "source": [
    "# Embed the Table Explorer\n",
    "databaseprofile  = 'SAMPLE'\n",
    "url = Console+'explore/table'+'?profile='+databaseprofile\n",
    "print(\"URL: \"+ url)\n",
    "# Call the URL inside its own IFrame\n",
    "IFrame(url, width=1400, height=300)"
   ]
  },
  {
   "cell_type": "markdown",
   "metadata": {},
   "source": [
    "1. Click the checkbox beside **DB2INST1** in the embedded page above\n",
    "2. Click **EMPLOYEE**"
   ]
  },
  {
   "cell_type": "code",
   "execution_count": null,
   "metadata": {
    "scrolled": true
   },
   "outputs": [],
   "source": [
    "# Embed the Buffer Pool Monitoring Page\n",
    "databaseprofile  = 'HISTORY'\n",
    "url = Console+'monitor/buffer_pool'+'?profile='+databaseprofile\n",
    "print(\"URL: \"+ url)\n",
    "# Call the URL inside its own IFrame\n",
    "IFrame(url, width=1400, height=400)"
   ]
  },
  {
   "cell_type": "markdown",
   "metadata": {},
   "source": [
    "1. Click the clock icon at the top of the embedded page above\n",
    "2. Select Last 1 hour\n",
    "3. Click the elipsis (...) at the right side of the page for the IBMDEFAULTBP bufferpool\n",
    "4. Scroll down to see the historical monitoring data for the last hour\n",
    "5. Type Alt-Left Arrow to return to the list of Buffer Pools"
   ]
  },
  {
   "cell_type": "markdown",
   "metadata": {},
   "source": [
    "### The SQL Editor\n",
    "To explore the new SQL Editor, go to the Db2 Console and select the **Run SQL** icon at the left side of the console. \n",
    "\n",
    "You can also run the cell below to use an embedded copy of the editor. \n",
    "\n",
    "Check out the [IBM Db2 Data Management Console SQL Editor](https://www.ibm.com/cloud/garage/dte/producttour/db2-data-management-console-sql-editor) tour to see a walkthrough of the features of the Db2 Console SQL Editor."
   ]
  },
  {
   "cell_type": "code",
   "execution_count": null,
   "metadata": {},
   "outputs": [],
   "source": [
    "# Embed the SQL Editor\n",
    "databaseprofile  = 'SAMPLE'\n",
    "url = Console+'sql/editor'+'?profile='+databaseprofile\n",
    "print(\"URL: \"+ url)\n",
    "IFrame(url, width=1400, height=500)"
   ]
  },
  {
   "cell_type": "markdown",
   "metadata": {},
   "source": [
    "## Next Steps\n",
    "Try [Automate Db2 with Open Console Services](http://localhost:8888/notebooks/Db2_Data_Management_Console_Overview.ipynb) notebook. It contains extensive examples on how to use the open RESTful APIs to automate the management of Db2. "
   ]
  },
  {
   "cell_type": "markdown",
   "metadata": {},
   "source": [
    "#### Credits: IBM 2019, Peter Kohlmann [kohlmann@ca.ibm.com]"
   ]
  }
 ],
 "metadata": {
  "kernelspec": {
   "display_name": "Python 3",
   "language": "python",
   "name": "python3"
  },
  "language_info": {
   "codemirror_mode": {
    "name": "ipython",
    "version": 3
   },
   "file_extension": ".py",
   "mimetype": "text/x-python",
   "name": "python",
   "nbconvert_exporter": "python",
   "pygments_lexer": "ipython3",
   "version": "3.8.5"
  }
 },
 "nbformat": 4,
 "nbformat_minor": 2
}
