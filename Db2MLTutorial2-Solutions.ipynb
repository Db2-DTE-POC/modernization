{
 "cells": [
  {
   "cell_type": "markdown",
   "metadata": {},
   "source": [
    "#  Operationalize a Scikit-learn Model with Db2 v11.5\t"
   ]
  },
  {
   "cell_type": "markdown",
   "metadata": {},
   "source": [
    "Traditional scoring of machine learning models with data stored in a database often involves transferring the scoring data to a deployment system where the trained model is stored.  This can cause major challenges such as data transfer costs or data security requirements that can limit the kind or amount of data transferred from the database, such as personal identifiable information. Additionally, hardware and software roadblocks can ultimately prevent the transfer of large amounts of scoring data.\n",
    "\n",
    "In this workshop we will develop a machine learning pipeline externally (i.e. on a local Jupyter notebook) and deploy it to Db2 for in-database scoring via SQL commands.\n",
    "\n",
    "This solution allows users such as business analysts using SQL-based tools and applications to execute the machine learning pipeline by simply querying the Db2 database. \n",
    "\n",
    "This process ultimately keeps your scoring data secure and reduces data transfer latency, required compute power, complexity, and cost."
   ]
  },
  {
   "cell_type": "markdown",
   "metadata": {},
   "source": [
    "**Prerequisites**: If you are unfamiliar with the Jupyter Notebook environment, it is recommended to have gone through the [An Introduction to Jupyter Notebooks](./An_Introduction_to_Jupyter_Notebooks.ipynb) lab first"
   ]
  },
  {
   "cell_type": "markdown",
   "metadata": {},
   "source": [
    "## Problem Statement"
   ]
  },
  {
   "cell_type": "markdown",
   "metadata": {},
   "source": [
    "Consider we are on a plane heading towards our destination. We want to determine if the flight will be delayed arriving or not after it leaves the origin airport (binary classification):\n",
    "* A delayed flight will be a flight that arrives late at its destination\n",
    "* If the flight has any delays from its departure, but still arrives to its destination on time, it will not be considered a delayed flight\n",
    "* A *canceled* flight is not a delayed flight as it never left nor arrived to its destination for whatever reason\n",
    "* A *diverted* flight is not a delayed flight as it was diverted from its destination\n",
    "\n",
    "To solve this problem, we will use historical US flight data from 2009-2018. We will then deploy our model to Db2 and make predictions on \"new\" data from 2020."
   ]
  },
  {
   "cell_type": "markdown",
   "metadata": {},
   "source": [
    "## Imports and Connection to Db2"
   ]
  },
  {
   "cell_type": "code",
   "execution_count": 1,
   "metadata": {},
   "outputs": [],
   "source": [
    "import pandas as pd\n",
    "pd.set_option('display.max_columns', None)\n",
    "pd.set_option('display.max_rows', None)\n",
    "import numpy as np\n",
    "\n",
    "# Model building\n",
    "from sklearn.model_selection import train_test_split # Train-test split\n",
    "from sklearn.impute import SimpleImputer # Missing values imputation\n",
    "from sklearn.preprocessing import OneHotEncoder, StandardScaler # Feature scaling and one-hot encoding\n",
    "from sklearn.compose import ColumnTransformer # For applying transformation objects\n",
    "from sklearn.ensemble import RandomForestClassifier # Model\n",
    "from sklearn.metrics import classification_report, confusion_matrix, f1_score # Model evaluation\n",
    "from joblib import dump #Saving deployment assets\n",
    "\n",
    "# Plotting\n",
    "import seaborn as sns\n",
    "import matplotlib.pyplot as plt\n",
    "sns.set(rc={'figure.figsize':(12,8)})\n",
    "%config InlineBackend.figure_format = 'retina'"
   ]
  },
  {
   "cell_type": "markdown",
   "metadata": {},
   "source": [
    "First load the Db2 magic functions and make a connection to our Db2 database."
   ]
  },
  {
   "cell_type": "code",
   "execution_count": 2,
   "metadata": {},
   "outputs": [
    {
     "name": "stdout",
     "output_type": "stream",
     "text": [
      "Db2 Extensions Loaded.\n"
     ]
    }
   ],
   "source": [
    "%run db2.ipynb"
   ]
  },
  {
   "cell_type": "code",
   "execution_count": 3,
   "metadata": {},
   "outputs": [
    {
     "name": "stdout",
     "output_type": "stream",
     "text": [
      "Connection successful.\n"
     ]
    }
   ],
   "source": [
    "%run connectiondb2ml.ipynb"
   ]
  },
  {
   "cell_type": "markdown",
   "metadata": {},
   "source": [
    "# Part I. Pipeline Development"
   ]
  },
  {
   "cell_type": "markdown",
   "metadata": {},
   "source": [
    "## Read in Data"
   ]
  },
  {
   "cell_type": "markdown",
   "metadata": {},
   "source": [
    "First we will read in our training data. Our training data contains historical flight data from 2009-2018 and contains the following data:\n",
    "- `YEAR`: The year of the flight\n",
    "- `QUARTER`: The yearly quarter\n",
    "- `MONTH`: The month of the flight\n",
    "- `DAYOFMONTH`: The day of the flight\n",
    "- `DAYOFWEEK`: The day of the week the flight took place\n",
    "- `UNIQUECARRIER`: The abbreviation code of the airline\n",
    "- `ORIGIN`: The airport code of the departure airport\n",
    "- `DEST`: The airport code of the arrival airport\n",
    "- `CRSDEPTIME`: The scheduled departure time of the flight in the reservation system\n",
    "- `DEPTIME`: The actual departure time of the flight\n",
    "- `DEPDELAY`: The difference between the actual and scheduled departure times (minutes)\n",
    "- `DEPDEL15`: Departure delay > 15 mins?\n",
    "- `TAXIOUT`: Taxi out time (minutes)\n",
    "- `WHEELSOFF`: Wheels of time (local time)\n",
    "- `CRSARRTIME`: The scheduled arrival time of the flight in the reservation system\n",
    "- `ARRTIME`: The actual arrival time of the flight\n",
    "- `ARRDELAY`: The difference between the actual and scheduled arrival times (minutes)\n",
    "- `CRSELAPSEDTIME`: The scheduled elapsed time of the flight in the reservation system\n",
    "- `AIRTIME`: Flight time (minutes)\n",
    "- `DISTANCEGROUP`: 250 mile distance interval group"
   ]
  },
  {
   "cell_type": "markdown",
   "metadata": {},
   "source": [
    "![](media/ontime.png)\n",
    "\n",
    "**Figure 1:** This figure shows the stages of a flight as described in the dataset"
   ]
  },
  {
   "cell_type": "code",
   "execution_count": 4,
   "metadata": {},
   "outputs": [
    {
     "name": "stdout",
     "output_type": "stream",
     "text": [
      "CPU times: user 17.1 s, sys: 562 ms, total: 17.7 s\n",
      "Wall time: 18.4 s\n"
     ]
    }
   ],
   "source": [
    "%%time\n",
    "query = %sql SELECT * FROM ONTIME.TRAIN\n",
    "df = pd.DataFrame(query)"
   ]
  },
  {
   "cell_type": "code",
   "execution_count": 5,
   "metadata": {},
   "outputs": [
    {
     "data": {
      "text/html": [
       "<div>\n",
       "<style scoped>\n",
       "    .dataframe tbody tr th:only-of-type {\n",
       "        vertical-align: middle;\n",
       "    }\n",
       "\n",
       "    .dataframe tbody tr th {\n",
       "        vertical-align: top;\n",
       "    }\n",
       "\n",
       "    .dataframe thead th {\n",
       "        text-align: right;\n",
       "    }\n",
       "</style>\n",
       "<table border=\"1\" class=\"dataframe\">\n",
       "  <thead>\n",
       "    <tr style=\"text-align: right;\">\n",
       "      <th></th>\n",
       "      <th>YEAR</th>\n",
       "      <th>QUARTER</th>\n",
       "      <th>MONTH</th>\n",
       "      <th>DAYOFMONTH</th>\n",
       "      <th>DAYOFWEEK</th>\n",
       "      <th>UNIQUECARRIER</th>\n",
       "      <th>ORIGIN</th>\n",
       "      <th>DEST</th>\n",
       "      <th>CRSDEPTIME</th>\n",
       "      <th>DEPTIME</th>\n",
       "      <th>DEPDELAY</th>\n",
       "      <th>DEPDEL15</th>\n",
       "      <th>TAXIOUT</th>\n",
       "      <th>WHEELSOFF</th>\n",
       "      <th>CRSARRTIME</th>\n",
       "      <th>ARRTIME</th>\n",
       "      <th>ARRDELAY</th>\n",
       "      <th>CRSELAPSEDTIME</th>\n",
       "      <th>AIRTIME</th>\n",
       "      <th>DISTANCEGROUP</th>\n",
       "    </tr>\n",
       "  </thead>\n",
       "  <tbody>\n",
       "    <tr>\n",
       "      <th>0</th>\n",
       "      <td>2013</td>\n",
       "      <td>1</td>\n",
       "      <td>1</td>\n",
       "      <td>25</td>\n",
       "      <td>5</td>\n",
       "      <td>MQ</td>\n",
       "      <td>RDU</td>\n",
       "      <td>LGA</td>\n",
       "      <td>1100</td>\n",
       "      <td>1057</td>\n",
       "      <td>-3.0</td>\n",
       "      <td>0.0</td>\n",
       "      <td>12</td>\n",
       "      <td>1109</td>\n",
       "      <td>1230</td>\n",
       "      <td>1214</td>\n",
       "      <td>-16.0</td>\n",
       "      <td>90</td>\n",
       "      <td>62</td>\n",
       "      <td>2</td>\n",
       "    </tr>\n",
       "    <tr>\n",
       "      <th>1</th>\n",
       "      <td>2016</td>\n",
       "      <td>4</td>\n",
       "      <td>11</td>\n",
       "      <td>28</td>\n",
       "      <td>1</td>\n",
       "      <td>WN</td>\n",
       "      <td>BWI</td>\n",
       "      <td>PVD</td>\n",
       "      <td>1040</td>\n",
       "      <td>1034</td>\n",
       "      <td>-6.0</td>\n",
       "      <td>0.0</td>\n",
       "      <td>12</td>\n",
       "      <td>1046</td>\n",
       "      <td>1150</td>\n",
       "      <td>1138</td>\n",
       "      <td>-12.0</td>\n",
       "      <td>70</td>\n",
       "      <td>50</td>\n",
       "      <td>2</td>\n",
       "    </tr>\n",
       "    <tr>\n",
       "      <th>2</th>\n",
       "      <td>2012</td>\n",
       "      <td>2</td>\n",
       "      <td>4</td>\n",
       "      <td>26</td>\n",
       "      <td>4</td>\n",
       "      <td>US</td>\n",
       "      <td>PHX</td>\n",
       "      <td>ATL</td>\n",
       "      <td>910</td>\n",
       "      <td>905</td>\n",
       "      <td>-5.0</td>\n",
       "      <td>0.0</td>\n",
       "      <td>35</td>\n",
       "      <td>940</td>\n",
       "      <td>1554</td>\n",
       "      <td>1556</td>\n",
       "      <td>2.0</td>\n",
       "      <td>224</td>\n",
       "      <td>186</td>\n",
       "      <td>7</td>\n",
       "    </tr>\n",
       "    <tr>\n",
       "      <th>3</th>\n",
       "      <td>2010</td>\n",
       "      <td>2</td>\n",
       "      <td>6</td>\n",
       "      <td>17</td>\n",
       "      <td>4</td>\n",
       "      <td>EV</td>\n",
       "      <td>MEI</td>\n",
       "      <td>ATL</td>\n",
       "      <td>610</td>\n",
       "      <td>605</td>\n",
       "      <td>-5.0</td>\n",
       "      <td>0.0</td>\n",
       "      <td>4</td>\n",
       "      <td>609</td>\n",
       "      <td>824</td>\n",
       "      <td>806</td>\n",
       "      <td>-18.0</td>\n",
       "      <td>74</td>\n",
       "      <td>50</td>\n",
       "      <td>2</td>\n",
       "    </tr>\n",
       "    <tr>\n",
       "      <th>4</th>\n",
       "      <td>2016</td>\n",
       "      <td>2</td>\n",
       "      <td>4</td>\n",
       "      <td>1</td>\n",
       "      <td>5</td>\n",
       "      <td>DL</td>\n",
       "      <td>DAY</td>\n",
       "      <td>ATL</td>\n",
       "      <td>1032</td>\n",
       "      <td>1025</td>\n",
       "      <td>-7.0</td>\n",
       "      <td>0.0</td>\n",
       "      <td>17</td>\n",
       "      <td>1042</td>\n",
       "      <td>1209</td>\n",
       "      <td>1205</td>\n",
       "      <td>-4.0</td>\n",
       "      <td>97</td>\n",
       "      <td>78</td>\n",
       "      <td>2</td>\n",
       "    </tr>\n",
       "  </tbody>\n",
       "</table>\n",
       "</div>"
      ],
      "text/plain": [
       "   YEAR  QUARTER  MONTH  DAYOFMONTH  DAYOFWEEK UNIQUECARRIER ORIGIN DEST  \\\n",
       "0  2013        1      1          25          5            MQ    RDU  LGA   \n",
       "1  2016        4     11          28          1            WN    BWI  PVD   \n",
       "2  2012        2      4          26          4            US    PHX  ATL   \n",
       "3  2010        2      6          17          4            EV    MEI  ATL   \n",
       "4  2016        2      4           1          5            DL    DAY  ATL   \n",
       "\n",
       "   CRSDEPTIME  DEPTIME  DEPDELAY  DEPDEL15  TAXIOUT  WHEELSOFF  CRSARRTIME  \\\n",
       "0        1100     1057      -3.0       0.0       12       1109        1230   \n",
       "1        1040     1034      -6.0       0.0       12       1046        1150   \n",
       "2         910      905      -5.0       0.0       35        940        1554   \n",
       "3         610      605      -5.0       0.0        4        609         824   \n",
       "4        1032     1025      -7.0       0.0       17       1042        1209   \n",
       "\n",
       "   ARRTIME  ARRDELAY  CRSELAPSEDTIME  AIRTIME  DISTANCEGROUP  \n",
       "0     1214     -16.0              90       62              2  \n",
       "1     1138     -12.0              70       50              2  \n",
       "2     1556       2.0             224      186              7  \n",
       "3      806     -18.0              74       50              2  \n",
       "4     1205      -4.0              97       78              2  "
      ]
     },
     "execution_count": 5,
     "metadata": {},
     "output_type": "execute_result"
    }
   ],
   "source": [
    "df.head()"
   ]
  },
  {
   "cell_type": "code",
   "execution_count": 6,
   "metadata": {},
   "outputs": [
    {
     "name": "stdout",
     "output_type": "stream",
     "text": [
      "The dataset has 1000000 rows and 20 columns.\n"
     ]
    }
   ],
   "source": [
    "print('The dataset has',df.shape[0],'rows and',df.shape[1],'columns.')"
   ]
  },
  {
   "cell_type": "code",
   "execution_count": 7,
   "metadata": {},
   "outputs": [
    {
     "data": {
      "text/html": [
       "<div>\n",
       "<style scoped>\n",
       "    .dataframe tbody tr th:only-of-type {\n",
       "        vertical-align: middle;\n",
       "    }\n",
       "\n",
       "    .dataframe tbody tr th {\n",
       "        vertical-align: top;\n",
       "    }\n",
       "\n",
       "    .dataframe thead th {\n",
       "        text-align: right;\n",
       "    }\n",
       "</style>\n",
       "<table border=\"1\" class=\"dataframe\">\n",
       "  <thead>\n",
       "    <tr style=\"text-align: right;\">\n",
       "      <th></th>\n",
       "      <th>YEAR</th>\n",
       "      <th>QUARTER</th>\n",
       "      <th>MONTH</th>\n",
       "      <th>DAYOFMONTH</th>\n",
       "      <th>DAYOFWEEK</th>\n",
       "      <th>CRSDEPTIME</th>\n",
       "      <th>DEPTIME</th>\n",
       "      <th>DEPDELAY</th>\n",
       "      <th>DEPDEL15</th>\n",
       "      <th>TAXIOUT</th>\n",
       "      <th>WHEELSOFF</th>\n",
       "      <th>CRSARRTIME</th>\n",
       "      <th>ARRTIME</th>\n",
       "      <th>ARRDELAY</th>\n",
       "      <th>CRSELAPSEDTIME</th>\n",
       "      <th>AIRTIME</th>\n",
       "      <th>DISTANCEGROUP</th>\n",
       "    </tr>\n",
       "  </thead>\n",
       "  <tbody>\n",
       "    <tr>\n",
       "      <th>count</th>\n",
       "      <td>1000000.000000</td>\n",
       "      <td>1000000.000000</td>\n",
       "      <td>1000000.000000</td>\n",
       "      <td>1000000.000000</td>\n",
       "      <td>1000000.000000</td>\n",
       "      <td>1000000.000000</td>\n",
       "      <td>1000000.000000</td>\n",
       "      <td>999937.000000</td>\n",
       "      <td>999937.000000</td>\n",
       "      <td>1000000.000000</td>\n",
       "      <td>1000000.000000</td>\n",
       "      <td>1000000.000000</td>\n",
       "      <td>1000000.000000</td>\n",
       "      <td>999960.000000</td>\n",
       "      <td>1000000.000000</td>\n",
       "      <td>1000000.000000</td>\n",
       "      <td>1000000.000000</td>\n",
       "    </tr>\n",
       "    <tr>\n",
       "      <th>mean</th>\n",
       "      <td>2013.193454</td>\n",
       "      <td>2.454007</td>\n",
       "      <td>6.362631</td>\n",
       "      <td>15.740650</td>\n",
       "      <td>3.936586</td>\n",
       "      <td>1325.589780</td>\n",
       "      <td>1332.387942</td>\n",
       "      <td>8.902103</td>\n",
       "      <td>0.180074</td>\n",
       "      <td>15.900501</td>\n",
       "      <td>1355.288523</td>\n",
       "      <td>1494.160152</td>\n",
       "      <td>1479.347530</td>\n",
       "      <td>4.669345</td>\n",
       "      <td>136.876648</td>\n",
       "      <td>109.661863</td>\n",
       "      <td>3.625980</td>\n",
       "    </tr>\n",
       "    <tr>\n",
       "      <th>std</th>\n",
       "      <td>2.784399</td>\n",
       "      <td>1.104170</td>\n",
       "      <td>3.394361</td>\n",
       "      <td>8.777538</td>\n",
       "      <td>1.989779</td>\n",
       "      <td>473.690848</td>\n",
       "      <td>486.288007</td>\n",
       "      <td>36.099259</td>\n",
       "      <td>0.384250</td>\n",
       "      <td>9.226515</td>\n",
       "      <td>487.585689</td>\n",
       "      <td>494.197406</td>\n",
       "      <td>513.180123</td>\n",
       "      <td>38.629338</td>\n",
       "      <td>73.472559</td>\n",
       "      <td>70.653527</td>\n",
       "      <td>2.338014</td>\n",
       "    </tr>\n",
       "    <tr>\n",
       "      <th>min</th>\n",
       "      <td>2009.000000</td>\n",
       "      <td>1.000000</td>\n",
       "      <td>1.000000</td>\n",
       "      <td>1.000000</td>\n",
       "      <td>1.000000</td>\n",
       "      <td>1.000000</td>\n",
       "      <td>1.000000</td>\n",
       "      <td>-62.000000</td>\n",
       "      <td>0.000000</td>\n",
       "      <td>1.000000</td>\n",
       "      <td>1.000000</td>\n",
       "      <td>1.000000</td>\n",
       "      <td>1.000000</td>\n",
       "      <td>-103.000000</td>\n",
       "      <td>18.000000</td>\n",
       "      <td>7.000000</td>\n",
       "      <td>1.000000</td>\n",
       "    </tr>\n",
       "    <tr>\n",
       "      <th>25%</th>\n",
       "      <td>2011.000000</td>\n",
       "      <td>1.000000</td>\n",
       "      <td>3.000000</td>\n",
       "      <td>8.000000</td>\n",
       "      <td>2.000000</td>\n",
       "      <td>920.000000</td>\n",
       "      <td>925.000000</td>\n",
       "      <td>-5.000000</td>\n",
       "      <td>0.000000</td>\n",
       "      <td>10.000000</td>\n",
       "      <td>939.000000</td>\n",
       "      <td>1113.000000</td>\n",
       "      <td>1103.000000</td>\n",
       "      <td>-13.000000</td>\n",
       "      <td>84.000000</td>\n",
       "      <td>58.000000</td>\n",
       "      <td>2.000000</td>\n",
       "    </tr>\n",
       "    <tr>\n",
       "      <th>50%</th>\n",
       "      <td>2013.000000</td>\n",
       "      <td>2.000000</td>\n",
       "      <td>6.000000</td>\n",
       "      <td>16.000000</td>\n",
       "      <td>4.000000</td>\n",
       "      <td>1320.000000</td>\n",
       "      <td>1326.000000</td>\n",
       "      <td>-2.000000</td>\n",
       "      <td>0.000000</td>\n",
       "      <td>14.000000</td>\n",
       "      <td>1340.000000</td>\n",
       "      <td>1519.000000</td>\n",
       "      <td>1512.000000</td>\n",
       "      <td>-4.000000</td>\n",
       "      <td>118.000000</td>\n",
       "      <td>90.000000</td>\n",
       "      <td>3.000000</td>\n",
       "    </tr>\n",
       "    <tr>\n",
       "      <th>75%</th>\n",
       "      <td>2016.000000</td>\n",
       "      <td>3.000000</td>\n",
       "      <td>9.000000</td>\n",
       "      <td>23.000000</td>\n",
       "      <td>6.000000</td>\n",
       "      <td>1724.000000</td>\n",
       "      <td>1733.000000</td>\n",
       "      <td>7.000000</td>\n",
       "      <td>0.000000</td>\n",
       "      <td>19.000000</td>\n",
       "      <td>1747.000000</td>\n",
       "      <td>1911.000000</td>\n",
       "      <td>1911.000000</td>\n",
       "      <td>8.000000</td>\n",
       "      <td>167.000000</td>\n",
       "      <td>139.000000</td>\n",
       "      <td>5.000000</td>\n",
       "    </tr>\n",
       "    <tr>\n",
       "      <th>max</th>\n",
       "      <td>2018.000000</td>\n",
       "      <td>4.000000</td>\n",
       "      <td>12.000000</td>\n",
       "      <td>31.000000</td>\n",
       "      <td>7.000000</td>\n",
       "      <td>2359.000000</td>\n",
       "      <td>2400.000000</td>\n",
       "      <td>1767.000000</td>\n",
       "      <td>1.000000</td>\n",
       "      <td>232.000000</td>\n",
       "      <td>2400.000000</td>\n",
       "      <td>2400.000000</td>\n",
       "      <td>2400.000000</td>\n",
       "      <td>1794.000000</td>\n",
       "      <td>700.000000</td>\n",
       "      <td>703.000000</td>\n",
       "      <td>11.000000</td>\n",
       "    </tr>\n",
       "  </tbody>\n",
       "</table>\n",
       "</div>"
      ],
      "text/plain": [
       "                 YEAR         QUARTER           MONTH      DAYOFMONTH  \\\n",
       "count  1000000.000000  1000000.000000  1000000.000000  1000000.000000   \n",
       "mean      2013.193454        2.454007        6.362631       15.740650   \n",
       "std          2.784399        1.104170        3.394361        8.777538   \n",
       "min       2009.000000        1.000000        1.000000        1.000000   \n",
       "25%       2011.000000        1.000000        3.000000        8.000000   \n",
       "50%       2013.000000        2.000000        6.000000       16.000000   \n",
       "75%       2016.000000        3.000000        9.000000       23.000000   \n",
       "max       2018.000000        4.000000       12.000000       31.000000   \n",
       "\n",
       "            DAYOFWEEK      CRSDEPTIME         DEPTIME       DEPDELAY  \\\n",
       "count  1000000.000000  1000000.000000  1000000.000000  999937.000000   \n",
       "mean         3.936586     1325.589780     1332.387942       8.902103   \n",
       "std          1.989779      473.690848      486.288007      36.099259   \n",
       "min          1.000000        1.000000        1.000000     -62.000000   \n",
       "25%          2.000000      920.000000      925.000000      -5.000000   \n",
       "50%          4.000000     1320.000000     1326.000000      -2.000000   \n",
       "75%          6.000000     1724.000000     1733.000000       7.000000   \n",
       "max          7.000000     2359.000000     2400.000000    1767.000000   \n",
       "\n",
       "            DEPDEL15         TAXIOUT       WHEELSOFF      CRSARRTIME  \\\n",
       "count  999937.000000  1000000.000000  1000000.000000  1000000.000000   \n",
       "mean        0.180074       15.900501     1355.288523     1494.160152   \n",
       "std         0.384250        9.226515      487.585689      494.197406   \n",
       "min         0.000000        1.000000        1.000000        1.000000   \n",
       "25%         0.000000       10.000000      939.000000     1113.000000   \n",
       "50%         0.000000       14.000000     1340.000000     1519.000000   \n",
       "75%         0.000000       19.000000     1747.000000     1911.000000   \n",
       "max         1.000000      232.000000     2400.000000     2400.000000   \n",
       "\n",
       "              ARRTIME       ARRDELAY  CRSELAPSEDTIME         AIRTIME  \\\n",
       "count  1000000.000000  999960.000000  1000000.000000  1000000.000000   \n",
       "mean      1479.347530       4.669345      136.876648      109.661863   \n",
       "std        513.180123      38.629338       73.472559       70.653527   \n",
       "min          1.000000    -103.000000       18.000000        7.000000   \n",
       "25%       1103.000000     -13.000000       84.000000       58.000000   \n",
       "50%       1512.000000      -4.000000      118.000000       90.000000   \n",
       "75%       1911.000000       8.000000      167.000000      139.000000   \n",
       "max       2400.000000    1794.000000      700.000000      703.000000   \n",
       "\n",
       "        DISTANCEGROUP  \n",
       "count  1000000.000000  \n",
       "mean         3.625980  \n",
       "std          2.338014  \n",
       "min          1.000000  \n",
       "25%          2.000000  \n",
       "50%          3.000000  \n",
       "75%          5.000000  \n",
       "max         11.000000  "
      ]
     },
     "execution_count": 7,
     "metadata": {},
     "output_type": "execute_result"
    }
   ],
   "source": [
    "# Let's look at some summary statistics\n",
    "df.describe()"
   ]
  },
  {
   "cell_type": "markdown",
   "metadata": {},
   "source": [
    "## Data Preparation"
   ]
  },
  {
   "cell_type": "markdown",
   "metadata": {},
   "source": [
    "### Create Target variable\n",
    "We will use the `ArrDelay` variable to create our target variable `FlightStatus`:\n",
    "- 0 = on time or early\n",
    "- 1 = delayed"
   ]
  },
  {
   "cell_type": "markdown",
   "metadata": {},
   "source": [
    "Let's first check for any missing values in this column"
   ]
  },
  {
   "cell_type": "code",
   "execution_count": 8,
   "metadata": {},
   "outputs": [
    {
     "data": {
      "text/plain": [
       "40"
      ]
     },
     "execution_count": 8,
     "metadata": {},
     "output_type": "execute_result"
    }
   ],
   "source": [
    "# Count the number of missing values\n",
    "df['ARRDELAY'].isna().sum()"
   ]
  },
  {
   "cell_type": "markdown",
   "metadata": {},
   "source": [
    "Lets investigate why these values are NA"
   ]
  },
  {
   "cell_type": "code",
   "execution_count": 9,
   "metadata": {},
   "outputs": [
    {
     "data": {
      "text/html": [
       "<div>\n",
       "<style scoped>\n",
       "    .dataframe tbody tr th:only-of-type {\n",
       "        vertical-align: middle;\n",
       "    }\n",
       "\n",
       "    .dataframe tbody tr th {\n",
       "        vertical-align: top;\n",
       "    }\n",
       "\n",
       "    .dataframe thead th {\n",
       "        text-align: right;\n",
       "    }\n",
       "</style>\n",
       "<table border=\"1\" class=\"dataframe\">\n",
       "  <thead>\n",
       "    <tr style=\"text-align: right;\">\n",
       "      <th></th>\n",
       "      <th>CRSARRTIME</th>\n",
       "      <th>ARRTIME</th>\n",
       "      <th>ARRDELAY</th>\n",
       "    </tr>\n",
       "  </thead>\n",
       "  <tbody>\n",
       "    <tr>\n",
       "      <th>13340</th>\n",
       "      <td>1420</td>\n",
       "      <td>1420</td>\n",
       "      <td>NaN</td>\n",
       "    </tr>\n",
       "    <tr>\n",
       "      <th>86805</th>\n",
       "      <td>1629</td>\n",
       "      <td>1629</td>\n",
       "      <td>NaN</td>\n",
       "    </tr>\n",
       "    <tr>\n",
       "      <th>131746</th>\n",
       "      <td>2145</td>\n",
       "      <td>2145</td>\n",
       "      <td>NaN</td>\n",
       "    </tr>\n",
       "    <tr>\n",
       "      <th>140634</th>\n",
       "      <td>1048</td>\n",
       "      <td>1048</td>\n",
       "      <td>NaN</td>\n",
       "    </tr>\n",
       "    <tr>\n",
       "      <th>154164</th>\n",
       "      <td>1508</td>\n",
       "      <td>1508</td>\n",
       "      <td>NaN</td>\n",
       "    </tr>\n",
       "    <tr>\n",
       "      <th>188721</th>\n",
       "      <td>1203</td>\n",
       "      <td>1203</td>\n",
       "      <td>NaN</td>\n",
       "    </tr>\n",
       "    <tr>\n",
       "      <th>225114</th>\n",
       "      <td>918</td>\n",
       "      <td>918</td>\n",
       "      <td>NaN</td>\n",
       "    </tr>\n",
       "    <tr>\n",
       "      <th>247128</th>\n",
       "      <td>1446</td>\n",
       "      <td>1446</td>\n",
       "      <td>NaN</td>\n",
       "    </tr>\n",
       "    <tr>\n",
       "      <th>258681</th>\n",
       "      <td>1515</td>\n",
       "      <td>1515</td>\n",
       "      <td>NaN</td>\n",
       "    </tr>\n",
       "    <tr>\n",
       "      <th>259485</th>\n",
       "      <td>2009</td>\n",
       "      <td>2009</td>\n",
       "      <td>NaN</td>\n",
       "    </tr>\n",
       "  </tbody>\n",
       "</table>\n",
       "</div>"
      ],
      "text/plain": [
       "        CRSARRTIME  ARRTIME  ARRDELAY\n",
       "13340         1420     1420       NaN\n",
       "86805         1629     1629       NaN\n",
       "131746        2145     2145       NaN\n",
       "140634        1048     1048       NaN\n",
       "154164        1508     1508       NaN\n",
       "188721        1203     1203       NaN\n",
       "225114         918      918       NaN\n",
       "247128        1446     1446       NaN\n",
       "258681        1515     1515       NaN\n",
       "259485        2009     2009       NaN"
      ]
     },
     "execution_count": 9,
     "metadata": {},
     "output_type": "execute_result"
    }
   ],
   "source": [
    "# Create a temporary dataframe that includes rows where \"ARRDELAY\" is missing\n",
    "tmp = df[df['ARRDELAY'].isna()]\n",
    "tmp[['CRSARRTIME','ARRTIME','ARRDELAY']].head(10)"
   ]
  },
  {
   "cell_type": "markdown",
   "metadata": {},
   "source": [
    "We can see that these flights infact arrived on time: `CRSArrTime` = `ArrTime`. So we can replace these missing values in `ArrDelay` with 0"
   ]
  },
  {
   "cell_type": "code",
   "execution_count": 10,
   "metadata": {},
   "outputs": [],
   "source": [
    "# Fill in missing values with 0\n",
    "df['ARRDELAY']=df['ARRDELAY'].fillna(0)"
   ]
  },
  {
   "cell_type": "markdown",
   "metadata": {},
   "source": [
    "We are now ready to create our target variable"
   ]
  },
  {
   "cell_type": "code",
   "execution_count": 11,
   "metadata": {},
   "outputs": [],
   "source": [
    "# Create our target variable:\n",
    "# 0 = on time or early\n",
    "# 1 = delayed\n",
    "target = 'FLIGHTSTATUS'\n",
    "status = []\n",
    "for val in df['ARRDELAY']:\n",
    "    if val <=0:\n",
    "        status.append(0)\n",
    "    else:\n",
    "        status.append(1) \n",
    "\n",
    "df[target] = status"
   ]
  },
  {
   "cell_type": "code",
   "execution_count": 12,
   "metadata": {},
   "outputs": [
    {
     "data": {
      "text/plain": [
       "0    0.624554\n",
       "1    0.375446\n",
       "Name: FLIGHTSTATUS, dtype: float64"
      ]
     },
     "execution_count": 12,
     "metadata": {},
     "output_type": "execute_result"
    }
   ],
   "source": [
    "# Let's look at the distribution of our target variable\n",
    "df[target].value_counts(normalize=True)"
   ]
  },
  {
   "cell_type": "markdown",
   "metadata": {},
   "source": [
    "We can see our dataset is slightly imbalanced with 62% of records being flights that are on time or early, and 38% of flights being delayed"
   ]
  },
  {
   "cell_type": "code",
   "execution_count": 13,
   "metadata": {},
   "outputs": [
    {
     "data": {
      "text/html": [
       "<div>\n",
       "<style scoped>\n",
       "    .dataframe tbody tr th:only-of-type {\n",
       "        vertical-align: middle;\n",
       "    }\n",
       "\n",
       "    .dataframe tbody tr th {\n",
       "        vertical-align: top;\n",
       "    }\n",
       "\n",
       "    .dataframe thead th {\n",
       "        text-align: right;\n",
       "    }\n",
       "</style>\n",
       "<table border=\"1\" class=\"dataframe\">\n",
       "  <thead>\n",
       "    <tr style=\"text-align: right;\">\n",
       "      <th></th>\n",
       "      <th>YEAR</th>\n",
       "      <th>QUARTER</th>\n",
       "      <th>MONTH</th>\n",
       "      <th>DAYOFMONTH</th>\n",
       "      <th>DAYOFWEEK</th>\n",
       "      <th>UNIQUECARRIER</th>\n",
       "      <th>ORIGIN</th>\n",
       "      <th>DEST</th>\n",
       "      <th>CRSDEPTIME</th>\n",
       "      <th>DEPTIME</th>\n",
       "      <th>DEPDELAY</th>\n",
       "      <th>DEPDEL15</th>\n",
       "      <th>TAXIOUT</th>\n",
       "      <th>WHEELSOFF</th>\n",
       "      <th>CRSARRTIME</th>\n",
       "      <th>ARRTIME</th>\n",
       "      <th>ARRDELAY</th>\n",
       "      <th>CRSELAPSEDTIME</th>\n",
       "      <th>AIRTIME</th>\n",
       "      <th>DISTANCEGROUP</th>\n",
       "      <th>FLIGHTSTATUS</th>\n",
       "    </tr>\n",
       "  </thead>\n",
       "  <tbody>\n",
       "    <tr>\n",
       "      <th>0</th>\n",
       "      <td>2013</td>\n",
       "      <td>1</td>\n",
       "      <td>1</td>\n",
       "      <td>25</td>\n",
       "      <td>5</td>\n",
       "      <td>MQ</td>\n",
       "      <td>RDU</td>\n",
       "      <td>LGA</td>\n",
       "      <td>1100</td>\n",
       "      <td>1057</td>\n",
       "      <td>-3.0</td>\n",
       "      <td>0.0</td>\n",
       "      <td>12</td>\n",
       "      <td>1109</td>\n",
       "      <td>1230</td>\n",
       "      <td>1214</td>\n",
       "      <td>-16.0</td>\n",
       "      <td>90</td>\n",
       "      <td>62</td>\n",
       "      <td>2</td>\n",
       "      <td>0</td>\n",
       "    </tr>\n",
       "    <tr>\n",
       "      <th>1</th>\n",
       "      <td>2016</td>\n",
       "      <td>4</td>\n",
       "      <td>11</td>\n",
       "      <td>28</td>\n",
       "      <td>1</td>\n",
       "      <td>WN</td>\n",
       "      <td>BWI</td>\n",
       "      <td>PVD</td>\n",
       "      <td>1040</td>\n",
       "      <td>1034</td>\n",
       "      <td>-6.0</td>\n",
       "      <td>0.0</td>\n",
       "      <td>12</td>\n",
       "      <td>1046</td>\n",
       "      <td>1150</td>\n",
       "      <td>1138</td>\n",
       "      <td>-12.0</td>\n",
       "      <td>70</td>\n",
       "      <td>50</td>\n",
       "      <td>2</td>\n",
       "      <td>0</td>\n",
       "    </tr>\n",
       "    <tr>\n",
       "      <th>2</th>\n",
       "      <td>2012</td>\n",
       "      <td>2</td>\n",
       "      <td>4</td>\n",
       "      <td>26</td>\n",
       "      <td>4</td>\n",
       "      <td>US</td>\n",
       "      <td>PHX</td>\n",
       "      <td>ATL</td>\n",
       "      <td>910</td>\n",
       "      <td>905</td>\n",
       "      <td>-5.0</td>\n",
       "      <td>0.0</td>\n",
       "      <td>35</td>\n",
       "      <td>940</td>\n",
       "      <td>1554</td>\n",
       "      <td>1556</td>\n",
       "      <td>2.0</td>\n",
       "      <td>224</td>\n",
       "      <td>186</td>\n",
       "      <td>7</td>\n",
       "      <td>1</td>\n",
       "    </tr>\n",
       "    <tr>\n",
       "      <th>3</th>\n",
       "      <td>2010</td>\n",
       "      <td>2</td>\n",
       "      <td>6</td>\n",
       "      <td>17</td>\n",
       "      <td>4</td>\n",
       "      <td>EV</td>\n",
       "      <td>MEI</td>\n",
       "      <td>ATL</td>\n",
       "      <td>610</td>\n",
       "      <td>605</td>\n",
       "      <td>-5.0</td>\n",
       "      <td>0.0</td>\n",
       "      <td>4</td>\n",
       "      <td>609</td>\n",
       "      <td>824</td>\n",
       "      <td>806</td>\n",
       "      <td>-18.0</td>\n",
       "      <td>74</td>\n",
       "      <td>50</td>\n",
       "      <td>2</td>\n",
       "      <td>0</td>\n",
       "    </tr>\n",
       "    <tr>\n",
       "      <th>4</th>\n",
       "      <td>2016</td>\n",
       "      <td>2</td>\n",
       "      <td>4</td>\n",
       "      <td>1</td>\n",
       "      <td>5</td>\n",
       "      <td>DL</td>\n",
       "      <td>DAY</td>\n",
       "      <td>ATL</td>\n",
       "      <td>1032</td>\n",
       "      <td>1025</td>\n",
       "      <td>-7.0</td>\n",
       "      <td>0.0</td>\n",
       "      <td>17</td>\n",
       "      <td>1042</td>\n",
       "      <td>1209</td>\n",
       "      <td>1205</td>\n",
       "      <td>-4.0</td>\n",
       "      <td>97</td>\n",
       "      <td>78</td>\n",
       "      <td>2</td>\n",
       "      <td>0</td>\n",
       "    </tr>\n",
       "  </tbody>\n",
       "</table>\n",
       "</div>"
      ],
      "text/plain": [
       "   YEAR  QUARTER  MONTH  DAYOFMONTH  DAYOFWEEK UNIQUECARRIER ORIGIN DEST  \\\n",
       "0  2013        1      1          25          5            MQ    RDU  LGA   \n",
       "1  2016        4     11          28          1            WN    BWI  PVD   \n",
       "2  2012        2      4          26          4            US    PHX  ATL   \n",
       "3  2010        2      6          17          4            EV    MEI  ATL   \n",
       "4  2016        2      4           1          5            DL    DAY  ATL   \n",
       "\n",
       "   CRSDEPTIME  DEPTIME  DEPDELAY  DEPDEL15  TAXIOUT  WHEELSOFF  CRSARRTIME  \\\n",
       "0        1100     1057      -3.0       0.0       12       1109        1230   \n",
       "1        1040     1034      -6.0       0.0       12       1046        1150   \n",
       "2         910      905      -5.0       0.0       35        940        1554   \n",
       "3         610      605      -5.0       0.0        4        609         824   \n",
       "4        1032     1025      -7.0       0.0       17       1042        1209   \n",
       "\n",
       "   ARRTIME  ARRDELAY  CRSELAPSEDTIME  AIRTIME  DISTANCEGROUP  FLIGHTSTATUS  \n",
       "0     1214     -16.0              90       62              2             0  \n",
       "1     1138     -12.0              70       50              2             0  \n",
       "2     1556       2.0             224      186              7             1  \n",
       "3      806     -18.0              74       50              2             0  \n",
       "4     1205      -4.0              97       78              2             0  "
      ]
     },
     "execution_count": 13,
     "metadata": {},
     "output_type": "execute_result"
    }
   ],
   "source": [
    "df.head()"
   ]
  },
  {
   "cell_type": "markdown",
   "metadata": {},
   "source": [
    "#### DepDelay\n",
    "Let's do the same missing values investigation with `DepDelay`"
   ]
  },
  {
   "cell_type": "code",
   "execution_count": 14,
   "metadata": {},
   "outputs": [
    {
     "data": {
      "text/plain": [
       "63"
      ]
     },
     "execution_count": 14,
     "metadata": {},
     "output_type": "execute_result"
    }
   ],
   "source": [
    "# Count the number of missing values\n",
    "df['DEPDELAY'].isna().sum()"
   ]
  },
  {
   "cell_type": "code",
   "execution_count": 15,
   "metadata": {},
   "outputs": [
    {
     "data": {
      "text/html": [
       "<div>\n",
       "<style scoped>\n",
       "    .dataframe tbody tr th:only-of-type {\n",
       "        vertical-align: middle;\n",
       "    }\n",
       "\n",
       "    .dataframe tbody tr th {\n",
       "        vertical-align: top;\n",
       "    }\n",
       "\n",
       "    .dataframe thead th {\n",
       "        text-align: right;\n",
       "    }\n",
       "</style>\n",
       "<table border=\"1\" class=\"dataframe\">\n",
       "  <thead>\n",
       "    <tr style=\"text-align: right;\">\n",
       "      <th></th>\n",
       "      <th>CRSDEPTIME</th>\n",
       "      <th>DEPTIME</th>\n",
       "      <th>DEPDELAY</th>\n",
       "      <th>DEPDEL15</th>\n",
       "    </tr>\n",
       "  </thead>\n",
       "  <tbody>\n",
       "    <tr>\n",
       "      <th>4297</th>\n",
       "      <td>1430</td>\n",
       "      <td>1430</td>\n",
       "      <td>NaN</td>\n",
       "      <td>NaN</td>\n",
       "    </tr>\n",
       "    <tr>\n",
       "      <th>15993</th>\n",
       "      <td>809</td>\n",
       "      <td>809</td>\n",
       "      <td>NaN</td>\n",
       "      <td>NaN</td>\n",
       "    </tr>\n",
       "    <tr>\n",
       "      <th>57061</th>\n",
       "      <td>602</td>\n",
       "      <td>602</td>\n",
       "      <td>NaN</td>\n",
       "      <td>NaN</td>\n",
       "    </tr>\n",
       "    <tr>\n",
       "      <th>61400</th>\n",
       "      <td>1735</td>\n",
       "      <td>1735</td>\n",
       "      <td>NaN</td>\n",
       "      <td>NaN</td>\n",
       "    </tr>\n",
       "    <tr>\n",
       "      <th>69982</th>\n",
       "      <td>2015</td>\n",
       "      <td>2015</td>\n",
       "      <td>NaN</td>\n",
       "      <td>NaN</td>\n",
       "    </tr>\n",
       "    <tr>\n",
       "      <th>71391</th>\n",
       "      <td>1427</td>\n",
       "      <td>1427</td>\n",
       "      <td>NaN</td>\n",
       "      <td>NaN</td>\n",
       "    </tr>\n",
       "    <tr>\n",
       "      <th>85145</th>\n",
       "      <td>630</td>\n",
       "      <td>630</td>\n",
       "      <td>NaN</td>\n",
       "      <td>NaN</td>\n",
       "    </tr>\n",
       "    <tr>\n",
       "      <th>107994</th>\n",
       "      <td>2000</td>\n",
       "      <td>2000</td>\n",
       "      <td>NaN</td>\n",
       "      <td>NaN</td>\n",
       "    </tr>\n",
       "    <tr>\n",
       "      <th>113096</th>\n",
       "      <td>1457</td>\n",
       "      <td>1457</td>\n",
       "      <td>NaN</td>\n",
       "      <td>NaN</td>\n",
       "    </tr>\n",
       "    <tr>\n",
       "      <th>115056</th>\n",
       "      <td>1926</td>\n",
       "      <td>1926</td>\n",
       "      <td>NaN</td>\n",
       "      <td>NaN</td>\n",
       "    </tr>\n",
       "  </tbody>\n",
       "</table>\n",
       "</div>"
      ],
      "text/plain": [
       "        CRSDEPTIME  DEPTIME  DEPDELAY  DEPDEL15\n",
       "4297          1430     1430       NaN       NaN\n",
       "15993          809      809       NaN       NaN\n",
       "57061          602      602       NaN       NaN\n",
       "61400         1735     1735       NaN       NaN\n",
       "69982         2015     2015       NaN       NaN\n",
       "71391         1427     1427       NaN       NaN\n",
       "85145          630      630       NaN       NaN\n",
       "107994        2000     2000       NaN       NaN\n",
       "113096        1457     1457       NaN       NaN\n",
       "115056        1926     1926       NaN       NaN"
      ]
     },
     "execution_count": 15,
     "metadata": {},
     "output_type": "execute_result"
    }
   ],
   "source": [
    "# Create a temporary dataframe that includes rows where \"DEPDELAY\" is missing\n",
    "tmp = df[df['DEPDELAY'].isna()]\n",
    "tmp[['CRSDEPTIME','DEPTIME','DEPDELAY','DEPDEL15']].head(10)"
   ]
  },
  {
   "cell_type": "markdown",
   "metadata": {},
   "source": [
    "We can see that these flights infact departed on time: `CRSDepTime` = `DepTime`. So we can replace these missing values in `DepDelay` and `DepDel15` with 0"
   ]
  },
  {
   "cell_type": "code",
   "execution_count": 16,
   "metadata": {},
   "outputs": [],
   "source": [
    "# Fill in missing values with 0\n",
    "df['DEPDELAY']=df['DEPDELAY'].fillna(0)\n",
    "df['DEPDEL15']=df['DEPDEL15'].fillna(0)"
   ]
  },
  {
   "cell_type": "markdown",
   "metadata": {},
   "source": [
    "#### Drop unneeded columns"
   ]
  },
  {
   "cell_type": "markdown",
   "metadata": {},
   "source": [
    "We can drop the following columns:\n",
    "- `DEPTIME`: Will use the DepDelay instead\n",
    "- `ARRDELAY`: Will use the target variable instead\n",
    "- `ARRTIME`: Will use the CRSArrTime instead"
   ]
  },
  {
   "cell_type": "code",
   "execution_count": 17,
   "metadata": {},
   "outputs": [],
   "source": [
    "# Drop columns that are no longer needed\n",
    "cols_to_drop=['DEPTIME','ARRDELAY','ARRTIME']\n",
    "df=df.drop(cols_to_drop,axis=1)"
   ]
  },
  {
   "cell_type": "code",
   "execution_count": 18,
   "metadata": {},
   "outputs": [
    {
     "data": {
      "text/html": [
       "<div>\n",
       "<style scoped>\n",
       "    .dataframe tbody tr th:only-of-type {\n",
       "        vertical-align: middle;\n",
       "    }\n",
       "\n",
       "    .dataframe tbody tr th {\n",
       "        vertical-align: top;\n",
       "    }\n",
       "\n",
       "    .dataframe thead th {\n",
       "        text-align: right;\n",
       "    }\n",
       "</style>\n",
       "<table border=\"1\" class=\"dataframe\">\n",
       "  <thead>\n",
       "    <tr style=\"text-align: right;\">\n",
       "      <th></th>\n",
       "      <th>YEAR</th>\n",
       "      <th>QUARTER</th>\n",
       "      <th>MONTH</th>\n",
       "      <th>DAYOFMONTH</th>\n",
       "      <th>DAYOFWEEK</th>\n",
       "      <th>UNIQUECARRIER</th>\n",
       "      <th>ORIGIN</th>\n",
       "      <th>DEST</th>\n",
       "      <th>CRSDEPTIME</th>\n",
       "      <th>DEPDELAY</th>\n",
       "      <th>DEPDEL15</th>\n",
       "      <th>TAXIOUT</th>\n",
       "      <th>WHEELSOFF</th>\n",
       "      <th>CRSARRTIME</th>\n",
       "      <th>CRSELAPSEDTIME</th>\n",
       "      <th>AIRTIME</th>\n",
       "      <th>DISTANCEGROUP</th>\n",
       "      <th>FLIGHTSTATUS</th>\n",
       "    </tr>\n",
       "  </thead>\n",
       "  <tbody>\n",
       "    <tr>\n",
       "      <th>0</th>\n",
       "      <td>2013</td>\n",
       "      <td>1</td>\n",
       "      <td>1</td>\n",
       "      <td>25</td>\n",
       "      <td>5</td>\n",
       "      <td>MQ</td>\n",
       "      <td>RDU</td>\n",
       "      <td>LGA</td>\n",
       "      <td>1100</td>\n",
       "      <td>-3.0</td>\n",
       "      <td>0.0</td>\n",
       "      <td>12</td>\n",
       "      <td>1109</td>\n",
       "      <td>1230</td>\n",
       "      <td>90</td>\n",
       "      <td>62</td>\n",
       "      <td>2</td>\n",
       "      <td>0</td>\n",
       "    </tr>\n",
       "    <tr>\n",
       "      <th>1</th>\n",
       "      <td>2016</td>\n",
       "      <td>4</td>\n",
       "      <td>11</td>\n",
       "      <td>28</td>\n",
       "      <td>1</td>\n",
       "      <td>WN</td>\n",
       "      <td>BWI</td>\n",
       "      <td>PVD</td>\n",
       "      <td>1040</td>\n",
       "      <td>-6.0</td>\n",
       "      <td>0.0</td>\n",
       "      <td>12</td>\n",
       "      <td>1046</td>\n",
       "      <td>1150</td>\n",
       "      <td>70</td>\n",
       "      <td>50</td>\n",
       "      <td>2</td>\n",
       "      <td>0</td>\n",
       "    </tr>\n",
       "    <tr>\n",
       "      <th>2</th>\n",
       "      <td>2012</td>\n",
       "      <td>2</td>\n",
       "      <td>4</td>\n",
       "      <td>26</td>\n",
       "      <td>4</td>\n",
       "      <td>US</td>\n",
       "      <td>PHX</td>\n",
       "      <td>ATL</td>\n",
       "      <td>910</td>\n",
       "      <td>-5.0</td>\n",
       "      <td>0.0</td>\n",
       "      <td>35</td>\n",
       "      <td>940</td>\n",
       "      <td>1554</td>\n",
       "      <td>224</td>\n",
       "      <td>186</td>\n",
       "      <td>7</td>\n",
       "      <td>1</td>\n",
       "    </tr>\n",
       "    <tr>\n",
       "      <th>3</th>\n",
       "      <td>2010</td>\n",
       "      <td>2</td>\n",
       "      <td>6</td>\n",
       "      <td>17</td>\n",
       "      <td>4</td>\n",
       "      <td>EV</td>\n",
       "      <td>MEI</td>\n",
       "      <td>ATL</td>\n",
       "      <td>610</td>\n",
       "      <td>-5.0</td>\n",
       "      <td>0.0</td>\n",
       "      <td>4</td>\n",
       "      <td>609</td>\n",
       "      <td>824</td>\n",
       "      <td>74</td>\n",
       "      <td>50</td>\n",
       "      <td>2</td>\n",
       "      <td>0</td>\n",
       "    </tr>\n",
       "    <tr>\n",
       "      <th>4</th>\n",
       "      <td>2016</td>\n",
       "      <td>2</td>\n",
       "      <td>4</td>\n",
       "      <td>1</td>\n",
       "      <td>5</td>\n",
       "      <td>DL</td>\n",
       "      <td>DAY</td>\n",
       "      <td>ATL</td>\n",
       "      <td>1032</td>\n",
       "      <td>-7.0</td>\n",
       "      <td>0.0</td>\n",
       "      <td>17</td>\n",
       "      <td>1042</td>\n",
       "      <td>1209</td>\n",
       "      <td>97</td>\n",
       "      <td>78</td>\n",
       "      <td>2</td>\n",
       "      <td>0</td>\n",
       "    </tr>\n",
       "  </tbody>\n",
       "</table>\n",
       "</div>"
      ],
      "text/plain": [
       "   YEAR  QUARTER  MONTH  DAYOFMONTH  DAYOFWEEK UNIQUECARRIER ORIGIN DEST  \\\n",
       "0  2013        1      1          25          5            MQ    RDU  LGA   \n",
       "1  2016        4     11          28          1            WN    BWI  PVD   \n",
       "2  2012        2      4          26          4            US    PHX  ATL   \n",
       "3  2010        2      6          17          4            EV    MEI  ATL   \n",
       "4  2016        2      4           1          5            DL    DAY  ATL   \n",
       "\n",
       "   CRSDEPTIME  DEPDELAY  DEPDEL15  TAXIOUT  WHEELSOFF  CRSARRTIME  \\\n",
       "0        1100      -3.0       0.0       12       1109        1230   \n",
       "1        1040      -6.0       0.0       12       1046        1150   \n",
       "2         910      -5.0       0.0       35        940        1554   \n",
       "3         610      -5.0       0.0        4        609         824   \n",
       "4        1032      -7.0       0.0       17       1042        1209   \n",
       "\n",
       "   CRSELAPSEDTIME  AIRTIME  DISTANCEGROUP  FLIGHTSTATUS  \n",
       "0              90       62              2             0  \n",
       "1              70       50              2             0  \n",
       "2             224      186              7             1  \n",
       "3              74       50              2             0  \n",
       "4              97       78              2             0  "
      ]
     },
     "execution_count": 18,
     "metadata": {},
     "output_type": "execute_result"
    }
   ],
   "source": [
    "df.head()"
   ]
  },
  {
   "cell_type": "code",
   "execution_count": 19,
   "metadata": {},
   "outputs": [
    {
     "name": "stdout",
     "output_type": "stream",
     "text": [
      "The dataset now has 1000000 rows and 18 columns.\n"
     ]
    }
   ],
   "source": [
    "print('The dataset now has',df.shape[0],'rows and',df.shape[1],'columns.')"
   ]
  },
  {
   "cell_type": "markdown",
   "metadata": {},
   "source": [
    "### Train-Test Split"
   ]
  },
  {
   "cell_type": "markdown",
   "metadata": {},
   "source": [
    "Before we continue with further data preparation steps, we will first split our dataset into a training and test set using an 80/20 split. We will use our training data to develop our model and our test set to evaluate the model's performance."
   ]
  },
  {
   "cell_type": "code",
   "execution_count": 20,
   "metadata": {},
   "outputs": [],
   "source": [
    "# Train test split\n",
    "X = df.drop(target,axis=1)\n",
    "y = df[target]\n",
    "\n",
    "# # 80/20 train-test split\n",
    "X_train, X_test, y_train, y_test = train_test_split(X,y,test_size=0.2,random_state=42)"
   ]
  },
  {
   "cell_type": "code",
   "execution_count": 21,
   "metadata": {},
   "outputs": [
    {
     "name": "stdout",
     "output_type": "stream",
     "text": [
      "The training dataset has 800000 rows and 17 columns.\n"
     ]
    }
   ],
   "source": [
    "print('The training dataset has',X_train.shape[0],'rows and',X_train.shape[1],'columns.')"
   ]
  },
  {
   "cell_type": "code",
   "execution_count": 22,
   "metadata": {},
   "outputs": [
    {
     "name": "stdout",
     "output_type": "stream",
     "text": [
      "The test dataset has 200000 rows and 17 columns.\n"
     ]
    }
   ],
   "source": [
    "print('The test dataset has',X_test.shape[0],'rows and',X_test.shape[1],'columns.')"
   ]
  },
  {
   "cell_type": "markdown",
   "metadata": {},
   "source": [
    "### Missing Values\n",
    "\n",
    "Most machine learning algorithms cannot work with missing values. Therefore, it is important to identify any missing values and then to impute (i.e., replace) any missing values in our dataset."
   ]
  },
  {
   "cell_type": "code",
   "execution_count": 23,
   "metadata": {},
   "outputs": [
    {
     "data": {
      "text/plain": [
       "DISTANCEGROUP    0.0\n",
       "DEST             0.0\n",
       "QUARTER          0.0\n",
       "MONTH            0.0\n",
       "DAYOFMONTH       0.0\n",
       "DAYOFWEEK        0.0\n",
       "UNIQUECARRIER    0.0\n",
       "ORIGIN           0.0\n",
       "CRSDEPTIME       0.0\n",
       "AIRTIME          0.0\n",
       "dtype: float64"
      ]
     },
     "execution_count": 23,
     "metadata": {},
     "output_type": "execute_result"
    }
   ],
   "source": [
    "# Calculate percentage of missing values and show top 10 columns with most missing values\n",
    "percent_missing = X_train.isna().sum() * 100 / len(X_train)\n",
    "percent_missing.sort_values(ascending=False, inplace=True)\n",
    "percent_missing[:10]"
   ]
  },
  {
   "cell_type": "markdown",
   "metadata": {},
   "source": [
    "There are no missing values, so no imputation is required"
   ]
  },
  {
   "cell_type": "markdown",
   "metadata": {},
   "source": [
    "### Convert Time Values\n",
    "We will convert the timestamp values in `CRSDepTime`,`WheelsOff`, and `CRSArrTime` to a categorical value split into 4 quarters of the day. We will split `CRSElapsedTime` into 30 min segments."
   ]
  },
  {
   "cell_type": "code",
   "execution_count": 24,
   "metadata": {},
   "outputs": [],
   "source": [
    "# Convert time values into categorical values\n",
    "X_train['CRSDEPTIME'] = np.ceil(X_train['CRSDEPTIME']/600).apply(int)\n",
    "X_train['WHEELSOFF'] = np.ceil(X_train['WHEELSOFF']/600).apply(int) \n",
    "X_train['CRSARRTIME'] = np.ceil(X_train['CRSARRTIME']/600).apply(int)\n",
    "X_train['CRSELAPSEDTIME']=np.ceil(X_train['CRSELAPSEDTIME']/30).apply(int)"
   ]
  },
  {
   "cell_type": "code",
   "execution_count": 25,
   "metadata": {},
   "outputs": [
    {
     "data": {
      "text/html": [
       "<div>\n",
       "<style scoped>\n",
       "    .dataframe tbody tr th:only-of-type {\n",
       "        vertical-align: middle;\n",
       "    }\n",
       "\n",
       "    .dataframe tbody tr th {\n",
       "        vertical-align: top;\n",
       "    }\n",
       "\n",
       "    .dataframe thead th {\n",
       "        text-align: right;\n",
       "    }\n",
       "</style>\n",
       "<table border=\"1\" class=\"dataframe\">\n",
       "  <thead>\n",
       "    <tr style=\"text-align: right;\">\n",
       "      <th></th>\n",
       "      <th>YEAR</th>\n",
       "      <th>QUARTER</th>\n",
       "      <th>MONTH</th>\n",
       "      <th>DAYOFMONTH</th>\n",
       "      <th>DAYOFWEEK</th>\n",
       "      <th>UNIQUECARRIER</th>\n",
       "      <th>ORIGIN</th>\n",
       "      <th>DEST</th>\n",
       "      <th>CRSDEPTIME</th>\n",
       "      <th>DEPDELAY</th>\n",
       "      <th>DEPDEL15</th>\n",
       "      <th>TAXIOUT</th>\n",
       "      <th>WHEELSOFF</th>\n",
       "      <th>CRSARRTIME</th>\n",
       "      <th>CRSELAPSEDTIME</th>\n",
       "      <th>AIRTIME</th>\n",
       "      <th>DISTANCEGROUP</th>\n",
       "    </tr>\n",
       "  </thead>\n",
       "  <tbody>\n",
       "    <tr>\n",
       "      <th>566853</th>\n",
       "      <td>2017</td>\n",
       "      <td>3</td>\n",
       "      <td>7</td>\n",
       "      <td>28</td>\n",
       "      <td>5</td>\n",
       "      <td>WN</td>\n",
       "      <td>FLL</td>\n",
       "      <td>MSY</td>\n",
       "      <td>2</td>\n",
       "      <td>-3.0</td>\n",
       "      <td>0.0</td>\n",
       "      <td>41</td>\n",
       "      <td>2</td>\n",
       "      <td>2</td>\n",
       "      <td>4</td>\n",
       "      <td>89</td>\n",
       "      <td>3</td>\n",
       "    </tr>\n",
       "    <tr>\n",
       "      <th>382311</th>\n",
       "      <td>2014</td>\n",
       "      <td>4</td>\n",
       "      <td>11</td>\n",
       "      <td>10</td>\n",
       "      <td>1</td>\n",
       "      <td>AS</td>\n",
       "      <td>BET</td>\n",
       "      <td>ANC</td>\n",
       "      <td>2</td>\n",
       "      <td>-8.0</td>\n",
       "      <td>0.0</td>\n",
       "      <td>4</td>\n",
       "      <td>2</td>\n",
       "      <td>2</td>\n",
       "      <td>3</td>\n",
       "      <td>63</td>\n",
       "      <td>2</td>\n",
       "    </tr>\n",
       "    <tr>\n",
       "      <th>241519</th>\n",
       "      <td>2018</td>\n",
       "      <td>2</td>\n",
       "      <td>5</td>\n",
       "      <td>6</td>\n",
       "      <td>7</td>\n",
       "      <td>AA</td>\n",
       "      <td>CVG</td>\n",
       "      <td>DFW</td>\n",
       "      <td>3</td>\n",
       "      <td>2.0</td>\n",
       "      <td>0.0</td>\n",
       "      <td>14</td>\n",
       "      <td>3</td>\n",
       "      <td>3</td>\n",
       "      <td>6</td>\n",
       "      <td>111</td>\n",
       "      <td>4</td>\n",
       "    </tr>\n",
       "    <tr>\n",
       "      <th>719220</th>\n",
       "      <td>2015</td>\n",
       "      <td>2</td>\n",
       "      <td>6</td>\n",
       "      <td>21</td>\n",
       "      <td>7</td>\n",
       "      <td>AS</td>\n",
       "      <td>SEA</td>\n",
       "      <td>SFO</td>\n",
       "      <td>3</td>\n",
       "      <td>21.0</td>\n",
       "      <td>1.0</td>\n",
       "      <td>20</td>\n",
       "      <td>3</td>\n",
       "      <td>3</td>\n",
       "      <td>5</td>\n",
       "      <td>99</td>\n",
       "      <td>3</td>\n",
       "    </tr>\n",
       "    <tr>\n",
       "      <th>905718</th>\n",
       "      <td>2010</td>\n",
       "      <td>4</td>\n",
       "      <td>12</td>\n",
       "      <td>31</td>\n",
       "      <td>5</td>\n",
       "      <td>F9</td>\n",
       "      <td>DEN</td>\n",
       "      <td>LAS</td>\n",
       "      <td>2</td>\n",
       "      <td>32.0</td>\n",
       "      <td>1.0</td>\n",
       "      <td>83</td>\n",
       "      <td>2</td>\n",
       "      <td>2</td>\n",
       "      <td>4</td>\n",
       "      <td>72</td>\n",
       "      <td>3</td>\n",
       "    </tr>\n",
       "  </tbody>\n",
       "</table>\n",
       "</div>"
      ],
      "text/plain": [
       "        YEAR  QUARTER  MONTH  DAYOFMONTH  DAYOFWEEK UNIQUECARRIER ORIGIN DEST  \\\n",
       "566853  2017        3      7          28          5            WN    FLL  MSY   \n",
       "382311  2014        4     11          10          1            AS    BET  ANC   \n",
       "241519  2018        2      5           6          7            AA    CVG  DFW   \n",
       "719220  2015        2      6          21          7            AS    SEA  SFO   \n",
       "905718  2010        4     12          31          5            F9    DEN  LAS   \n",
       "\n",
       "        CRSDEPTIME  DEPDELAY  DEPDEL15  TAXIOUT  WHEELSOFF  CRSARRTIME  \\\n",
       "566853           2      -3.0       0.0       41          2           2   \n",
       "382311           2      -8.0       0.0        4          2           2   \n",
       "241519           3       2.0       0.0       14          3           3   \n",
       "719220           3      21.0       1.0       20          3           3   \n",
       "905718           2      32.0       1.0       83          2           2   \n",
       "\n",
       "        CRSELAPSEDTIME  AIRTIME  DISTANCEGROUP  \n",
       "566853               4       89              3  \n",
       "382311               3       63              2  \n",
       "241519               6      111              4  \n",
       "719220               5       99              3  \n",
       "905718               4       72              3  "
      ]
     },
     "execution_count": 25,
     "metadata": {},
     "output_type": "execute_result"
    }
   ],
   "source": [
    "X_train.head()"
   ]
  },
  {
   "cell_type": "markdown",
   "metadata": {},
   "source": [
    "### Feature Scaling\n",
    "We will scale our continuous numerical columns: `AirTime`,`TaxiOut`,`DepDelay`.\n",
    "\n",
    "Most machine learning algorithms do not perform well when the numerical attributes in the data have very different scales (i.e., large range of possible values). It is important to make sure that the numerical features in our dataset have similar scales. A standardized value z of an input feature x is calculated as:\n",
    "\n",
    "z = (x - u) / s\n",
    "\n",
    "where u is the mean of the training samples and s is the standard deviation of the training samples."
   ]
  },
  {
   "cell_type": "code",
   "execution_count": 26,
   "metadata": {},
   "outputs": [],
   "source": [
    "# Scale continuous numerical columns\n",
    "cols_to_scale=['AIRTIME','TAXIOUT','DEPDELAY']\n",
    "scaler = ColumnTransformer(\n",
    "[('scaler', StandardScaler(),cols_to_scale)],\n",
    "remainder='passthrough')"
   ]
  },
  {
   "cell_type": "code",
   "execution_count": 27,
   "metadata": {},
   "outputs": [],
   "source": [
    "trained_scaler = scaler.fit(X_train)"
   ]
  },
  {
   "cell_type": "code",
   "execution_count": 28,
   "metadata": {},
   "outputs": [],
   "source": [
    "# Apply standardization and return a dataframe\n",
    "col_names = X_train.columns.tolist()\n",
    "X_train_trsf = pd.DataFrame(trained_scaler.transform(X_train))\n",
    "X_train_trsf.columns=cols_to_scale + [col for col in col_names if col not in cols_to_scale]\n",
    "X_train_trsf.index=X_train.index"
   ]
  },
  {
   "cell_type": "markdown",
   "metadata": {},
   "source": [
    "#### Hands-On Exercise 1\n",
    "\n",
    "While performing data transformations, it is always important to validate that the transformations were performed correctly.\n",
    "\n",
    "**Using pandas DataFrame .head() and/or .tail() method, visually validate that our feature scaling was performed correctly.**\n",
    "\n",
    "\n",
    "**Hint**: The syntax will be similar to `df.head()` or `df.tail()`, where `df` is the name of the dataframe."
   ]
  },
  {
   "cell_type": "markdown",
   "metadata": {},
   "source": [
    "**Solution:**"
   ]
  },
  {
   "cell_type": "code",
   "execution_count": 29,
   "metadata": {},
   "outputs": [
    {
     "data": {
      "text/html": [
       "<div>\n",
       "<style scoped>\n",
       "    .dataframe tbody tr th:only-of-type {\n",
       "        vertical-align: middle;\n",
       "    }\n",
       "\n",
       "    .dataframe tbody tr th {\n",
       "        vertical-align: top;\n",
       "    }\n",
       "\n",
       "    .dataframe thead th {\n",
       "        text-align: right;\n",
       "    }\n",
       "</style>\n",
       "<table border=\"1\" class=\"dataframe\">\n",
       "  <thead>\n",
       "    <tr style=\"text-align: right;\">\n",
       "      <th></th>\n",
       "      <th>AIRTIME</th>\n",
       "      <th>TAXIOUT</th>\n",
       "      <th>DEPDELAY</th>\n",
       "      <th>YEAR</th>\n",
       "      <th>QUARTER</th>\n",
       "      <th>MONTH</th>\n",
       "      <th>DAYOFMONTH</th>\n",
       "      <th>DAYOFWEEK</th>\n",
       "      <th>UNIQUECARRIER</th>\n",
       "      <th>ORIGIN</th>\n",
       "      <th>DEST</th>\n",
       "      <th>CRSDEPTIME</th>\n",
       "      <th>DEPDEL15</th>\n",
       "      <th>WHEELSOFF</th>\n",
       "      <th>CRSARRTIME</th>\n",
       "      <th>CRSELAPSEDTIME</th>\n",
       "      <th>DISTANCEGROUP</th>\n",
       "    </tr>\n",
       "  </thead>\n",
       "  <tbody>\n",
       "    <tr>\n",
       "      <th>566853</th>\n",
       "      <td>-0.293098</td>\n",
       "      <td>2.72063</td>\n",
       "      <td>-0.329485</td>\n",
       "      <td>2017</td>\n",
       "      <td>3</td>\n",
       "      <td>7</td>\n",
       "      <td>28</td>\n",
       "      <td>5</td>\n",
       "      <td>WN</td>\n",
       "      <td>FLL</td>\n",
       "      <td>MSY</td>\n",
       "      <td>2</td>\n",
       "      <td>0</td>\n",
       "      <td>2</td>\n",
       "      <td>2</td>\n",
       "      <td>4</td>\n",
       "      <td>3</td>\n",
       "    </tr>\n",
       "    <tr>\n",
       "      <th>382311</th>\n",
       "      <td>-0.66066</td>\n",
       "      <td>-1.29076</td>\n",
       "      <td>-0.467928</td>\n",
       "      <td>2014</td>\n",
       "      <td>4</td>\n",
       "      <td>11</td>\n",
       "      <td>10</td>\n",
       "      <td>1</td>\n",
       "      <td>AS</td>\n",
       "      <td>BET</td>\n",
       "      <td>ANC</td>\n",
       "      <td>2</td>\n",
       "      <td>0</td>\n",
       "      <td>2</td>\n",
       "      <td>2</td>\n",
       "      <td>3</td>\n",
       "      <td>2</td>\n",
       "    </tr>\n",
       "    <tr>\n",
       "      <th>241519</th>\n",
       "      <td>0.0179163</td>\n",
       "      <td>-0.206598</td>\n",
       "      <td>-0.191043</td>\n",
       "      <td>2018</td>\n",
       "      <td>2</td>\n",
       "      <td>5</td>\n",
       "      <td>6</td>\n",
       "      <td>7</td>\n",
       "      <td>AA</td>\n",
       "      <td>CVG</td>\n",
       "      <td>DFW</td>\n",
       "      <td>3</td>\n",
       "      <td>0</td>\n",
       "      <td>3</td>\n",
       "      <td>3</td>\n",
       "      <td>6</td>\n",
       "      <td>4</td>\n",
       "    </tr>\n",
       "    <tr>\n",
       "      <th>719220</th>\n",
       "      <td>-0.151728</td>\n",
       "      <td>0.443898</td>\n",
       "      <td>0.335037</td>\n",
       "      <td>2015</td>\n",
       "      <td>2</td>\n",
       "      <td>6</td>\n",
       "      <td>21</td>\n",
       "      <td>7</td>\n",
       "      <td>AS</td>\n",
       "      <td>SEA</td>\n",
       "      <td>SFO</td>\n",
       "      <td>3</td>\n",
       "      <td>1</td>\n",
       "      <td>3</td>\n",
       "      <td>3</td>\n",
       "      <td>5</td>\n",
       "      <td>3</td>\n",
       "    </tr>\n",
       "    <tr>\n",
       "      <th>905718</th>\n",
       "      <td>-0.533427</td>\n",
       "      <td>7.27411</td>\n",
       "      <td>0.63961</td>\n",
       "      <td>2010</td>\n",
       "      <td>4</td>\n",
       "      <td>12</td>\n",
       "      <td>31</td>\n",
       "      <td>5</td>\n",
       "      <td>F9</td>\n",
       "      <td>DEN</td>\n",
       "      <td>LAS</td>\n",
       "      <td>2</td>\n",
       "      <td>1</td>\n",
       "      <td>2</td>\n",
       "      <td>2</td>\n",
       "      <td>4</td>\n",
       "      <td>3</td>\n",
       "    </tr>\n",
       "  </tbody>\n",
       "</table>\n",
       "</div>"
      ],
      "text/plain": [
       "          AIRTIME   TAXIOUT  DEPDELAY  YEAR QUARTER MONTH DAYOFMONTH  \\\n",
       "566853  -0.293098   2.72063 -0.329485  2017       3     7         28   \n",
       "382311   -0.66066  -1.29076 -0.467928  2014       4    11         10   \n",
       "241519  0.0179163 -0.206598 -0.191043  2018       2     5          6   \n",
       "719220  -0.151728  0.443898  0.335037  2015       2     6         21   \n",
       "905718  -0.533427   7.27411   0.63961  2010       4    12         31   \n",
       "\n",
       "       DAYOFWEEK UNIQUECARRIER ORIGIN DEST CRSDEPTIME DEPDEL15 WHEELSOFF  \\\n",
       "566853         5            WN    FLL  MSY          2        0         2   \n",
       "382311         1            AS    BET  ANC          2        0         2   \n",
       "241519         7            AA    CVG  DFW          3        0         3   \n",
       "719220         7            AS    SEA  SFO          3        1         3   \n",
       "905718         5            F9    DEN  LAS          2        1         2   \n",
       "\n",
       "       CRSARRTIME CRSELAPSEDTIME DISTANCEGROUP  \n",
       "566853          2              4             3  \n",
       "382311          2              3             2  \n",
       "241519          3              6             4  \n",
       "719220          3              5             3  \n",
       "905718          2              4             3  "
      ]
     },
     "execution_count": 29,
     "metadata": {},
     "output_type": "execute_result"
    }
   ],
   "source": [
    "X_train_trsf.head()"
   ]
  },
  {
   "cell_type": "markdown",
   "metadata": {},
   "source": [
    "### One-Hot Encoding"
   ]
  },
  {
   "cell_type": "markdown",
   "metadata": {},
   "source": [
    "The values in `UNIQUECARRIER`, `ORIGIN`, and `DEST` need to be converted into categorical columns\n",
    "\n",
    "Most machine learning algorithms prefer to work with numbers rather than text values. A common solution is to create one binary attribute per category: one attribute equal to 1 when the category is “LAX” (and 0 otherwise), another attribute equal to 1 when the category is “JFK” (and 0 otherwise), and so on. This is called one-hot encoding, because only one attribute will be equal to 1 (hot), while the others will be 0 (cold)."
   ]
  },
  {
   "cell_type": "code",
   "execution_count": 30,
   "metadata": {},
   "outputs": [
    {
     "name": "stdout",
     "output_type": "stream",
     "text": [
      "Number of unique values in UNIQUECARRIER: 23\n",
      "Number of unique values in ORIGIN: 365\n",
      "Number of unique values in DEST: 367\n"
     ]
    }
   ],
   "source": [
    "# Calculate number of unique values in each of these columns\n",
    "print('Number of unique values in UNIQUECARRIER:',X_train_trsf['UNIQUECARRIER'].nunique())\n",
    "print('Number of unique values in ORIGIN:',X_train_trsf['ORIGIN'].nunique())\n",
    "print('Number of unique values in DEST:',X_train_trsf['DEST'].nunique())"
   ]
  },
  {
   "cell_type": "markdown",
   "metadata": {},
   "source": [
    "Clearly, we can't apply one-hot encoding directly to these columns as we would be adding >750 new columns! Instead we will select the top 10 most common occurences in these columns as our labels"
   ]
  },
  {
   "cell_type": "code",
   "execution_count": 31,
   "metadata": {},
   "outputs": [],
   "source": [
    "# Create a list of the top 10 occurences in each column\n",
    "top_10_airlines = X_train_trsf['UNIQUECARRIER'].value_counts().index[:10].tolist()\n",
    "top_10_origin = X_train_trsf['ORIGIN'].value_counts().index[:10].tolist()\n",
    "top_10_dest = X_train_trsf['DEST'].value_counts().index[:10].tolist()"
   ]
  },
  {
   "cell_type": "code",
   "execution_count": 32,
   "metadata": {},
   "outputs": [],
   "source": [
    "# Replace values not in the top 10 list with \"Other\"\n",
    "X_train_trsf['UNIQUECARRIER'] = np.where(~X_train_trsf['UNIQUECARRIER'].isin(top_10_airlines), \n",
    "                                                       'Other_Airline', X_train_trsf['UNIQUECARRIER'])\n",
    "X_train_trsf['ORIGIN'] = np.where(~X_train_trsf['ORIGIN'].isin(top_10_origin), \n",
    "                                                       'Other_Origin', X_train_trsf['ORIGIN'])\n",
    "X_train_trsf['DEST'] = np.where(~X_train_trsf['DEST'].isin(top_10_dest), \n",
    "                                                       'Other_Dest', X_train_trsf['DEST'])\n"
   ]
  },
  {
   "cell_type": "code",
   "execution_count": 33,
   "metadata": {},
   "outputs": [
    {
     "name": "stdout",
     "output_type": "stream",
     "text": [
      "Number of unique values in UNIQUECARRIER: 11\n",
      "Number of unique values in ORIGIN: 11\n",
      "Number of unique values in DEST: 11\n"
     ]
    }
   ],
   "source": [
    "# Confirm it worked\n",
    "print('Number of unique values in UNIQUECARRIER:',X_train_trsf['UNIQUECARRIER'].nunique())\n",
    "print('Number of unique values in ORIGIN:',X_train_trsf['ORIGIN'].nunique())\n",
    "print('Number of unique values in DEST:',X_train_trsf['DEST'].nunique())"
   ]
  },
  {
   "cell_type": "code",
   "execution_count": 34,
   "metadata": {},
   "outputs": [
    {
     "data": {
      "text/html": [
       "<div>\n",
       "<style scoped>\n",
       "    .dataframe tbody tr th:only-of-type {\n",
       "        vertical-align: middle;\n",
       "    }\n",
       "\n",
       "    .dataframe tbody tr th {\n",
       "        vertical-align: top;\n",
       "    }\n",
       "\n",
       "    .dataframe thead th {\n",
       "        text-align: right;\n",
       "    }\n",
       "</style>\n",
       "<table border=\"1\" class=\"dataframe\">\n",
       "  <thead>\n",
       "    <tr style=\"text-align: right;\">\n",
       "      <th></th>\n",
       "      <th>AIRTIME</th>\n",
       "      <th>TAXIOUT</th>\n",
       "      <th>DEPDELAY</th>\n",
       "      <th>YEAR</th>\n",
       "      <th>QUARTER</th>\n",
       "      <th>MONTH</th>\n",
       "      <th>DAYOFMONTH</th>\n",
       "      <th>DAYOFWEEK</th>\n",
       "      <th>UNIQUECARRIER</th>\n",
       "      <th>ORIGIN</th>\n",
       "      <th>DEST</th>\n",
       "      <th>CRSDEPTIME</th>\n",
       "      <th>DEPDEL15</th>\n",
       "      <th>WHEELSOFF</th>\n",
       "      <th>CRSARRTIME</th>\n",
       "      <th>CRSELAPSEDTIME</th>\n",
       "      <th>DISTANCEGROUP</th>\n",
       "    </tr>\n",
       "  </thead>\n",
       "  <tbody>\n",
       "    <tr>\n",
       "      <th>566853</th>\n",
       "      <td>-0.293098</td>\n",
       "      <td>2.72063</td>\n",
       "      <td>-0.329485</td>\n",
       "      <td>2017</td>\n",
       "      <td>3</td>\n",
       "      <td>7</td>\n",
       "      <td>28</td>\n",
       "      <td>5</td>\n",
       "      <td>WN</td>\n",
       "      <td>Other_Origin</td>\n",
       "      <td>Other_Dest</td>\n",
       "      <td>2</td>\n",
       "      <td>0</td>\n",
       "      <td>2</td>\n",
       "      <td>2</td>\n",
       "      <td>4</td>\n",
       "      <td>3</td>\n",
       "    </tr>\n",
       "    <tr>\n",
       "      <th>382311</th>\n",
       "      <td>-0.66066</td>\n",
       "      <td>-1.29076</td>\n",
       "      <td>-0.467928</td>\n",
       "      <td>2014</td>\n",
       "      <td>4</td>\n",
       "      <td>11</td>\n",
       "      <td>10</td>\n",
       "      <td>1</td>\n",
       "      <td>AS</td>\n",
       "      <td>Other_Origin</td>\n",
       "      <td>Other_Dest</td>\n",
       "      <td>2</td>\n",
       "      <td>0</td>\n",
       "      <td>2</td>\n",
       "      <td>2</td>\n",
       "      <td>3</td>\n",
       "      <td>2</td>\n",
       "    </tr>\n",
       "    <tr>\n",
       "      <th>241519</th>\n",
       "      <td>0.0179163</td>\n",
       "      <td>-0.206598</td>\n",
       "      <td>-0.191043</td>\n",
       "      <td>2018</td>\n",
       "      <td>2</td>\n",
       "      <td>5</td>\n",
       "      <td>6</td>\n",
       "      <td>7</td>\n",
       "      <td>AA</td>\n",
       "      <td>Other_Origin</td>\n",
       "      <td>DFW</td>\n",
       "      <td>3</td>\n",
       "      <td>0</td>\n",
       "      <td>3</td>\n",
       "      <td>3</td>\n",
       "      <td>6</td>\n",
       "      <td>4</td>\n",
       "    </tr>\n",
       "    <tr>\n",
       "      <th>719220</th>\n",
       "      <td>-0.151728</td>\n",
       "      <td>0.443898</td>\n",
       "      <td>0.335037</td>\n",
       "      <td>2015</td>\n",
       "      <td>2</td>\n",
       "      <td>6</td>\n",
       "      <td>21</td>\n",
       "      <td>7</td>\n",
       "      <td>AS</td>\n",
       "      <td>Other_Origin</td>\n",
       "      <td>SFO</td>\n",
       "      <td>3</td>\n",
       "      <td>1</td>\n",
       "      <td>3</td>\n",
       "      <td>3</td>\n",
       "      <td>5</td>\n",
       "      <td>3</td>\n",
       "    </tr>\n",
       "    <tr>\n",
       "      <th>905718</th>\n",
       "      <td>-0.533427</td>\n",
       "      <td>7.27411</td>\n",
       "      <td>0.63961</td>\n",
       "      <td>2010</td>\n",
       "      <td>4</td>\n",
       "      <td>12</td>\n",
       "      <td>31</td>\n",
       "      <td>5</td>\n",
       "      <td>Other_Airline</td>\n",
       "      <td>DEN</td>\n",
       "      <td>LAS</td>\n",
       "      <td>2</td>\n",
       "      <td>1</td>\n",
       "      <td>2</td>\n",
       "      <td>2</td>\n",
       "      <td>4</td>\n",
       "      <td>3</td>\n",
       "    </tr>\n",
       "  </tbody>\n",
       "</table>\n",
       "</div>"
      ],
      "text/plain": [
       "          AIRTIME   TAXIOUT  DEPDELAY  YEAR QUARTER MONTH DAYOFMONTH  \\\n",
       "566853  -0.293098   2.72063 -0.329485  2017       3     7         28   \n",
       "382311   -0.66066  -1.29076 -0.467928  2014       4    11         10   \n",
       "241519  0.0179163 -0.206598 -0.191043  2018       2     5          6   \n",
       "719220  -0.151728  0.443898  0.335037  2015       2     6         21   \n",
       "905718  -0.533427   7.27411   0.63961  2010       4    12         31   \n",
       "\n",
       "       DAYOFWEEK  UNIQUECARRIER        ORIGIN        DEST CRSDEPTIME DEPDEL15  \\\n",
       "566853         5             WN  Other_Origin  Other_Dest          2        0   \n",
       "382311         1             AS  Other_Origin  Other_Dest          2        0   \n",
       "241519         7             AA  Other_Origin         DFW          3        0   \n",
       "719220         7             AS  Other_Origin         SFO          3        1   \n",
       "905718         5  Other_Airline           DEN         LAS          2        1   \n",
       "\n",
       "       WHEELSOFF CRSARRTIME CRSELAPSEDTIME DISTANCEGROUP  \n",
       "566853         2          2              4             3  \n",
       "382311         2          2              3             2  \n",
       "241519         3          3              6             4  \n",
       "719220         3          3              5             3  \n",
       "905718         2          2              4             3  "
      ]
     },
     "execution_count": 34,
     "metadata": {},
     "output_type": "execute_result"
    }
   ],
   "source": [
    "X_train_trsf.head()"
   ]
  },
  {
   "cell_type": "markdown",
   "metadata": {},
   "source": [
    "We are now ready to perform one-hot encoding"
   ]
  },
  {
   "cell_type": "code",
   "execution_count": 35,
   "metadata": {},
   "outputs": [],
   "source": [
    "# Perform one-hot encoding\n",
    "cols_to_encode = ['UNIQUECARRIER','ORIGIN','DEST']\n",
    "encoder = ColumnTransformer(transformers=[\n",
    "    ('encoder',OneHotEncoder(handle_unknown='ignore'),cols_to_encode)],\n",
    "    remainder='passthrough')"
   ]
  },
  {
   "cell_type": "code",
   "execution_count": 36,
   "metadata": {},
   "outputs": [],
   "source": [
    "trained_encoder = encoder.fit(X_train_trsf)"
   ]
  },
  {
   "cell_type": "code",
   "execution_count": 37,
   "metadata": {},
   "outputs": [],
   "source": [
    "X_train_trsf = trained_encoder.transform(X_train_trsf)"
   ]
  },
  {
   "cell_type": "code",
   "execution_count": 38,
   "metadata": {},
   "outputs": [
    {
     "name": "stdout",
     "output_type": "stream",
     "text": [
      "The training now dataset has 800000 rows and 47 columns.\n"
     ]
    }
   ],
   "source": [
    "print('The training now dataset has',X_train_trsf.shape[0],'rows and',X_train_trsf.shape[1],'columns.')"
   ]
  },
  {
   "cell_type": "code",
   "execution_count": 39,
   "metadata": {},
   "outputs": [],
   "source": [
    "# Get the feature names after fitting the encoder - this will be used to determine the model's feature importance\n",
    "feature_names=trained_encoder.get_feature_names()"
   ]
  },
  {
   "cell_type": "markdown",
   "metadata": {},
   "source": [
    "## Transform X_test"
   ]
  },
  {
   "cell_type": "markdown",
   "metadata": {},
   "source": [
    "We now need to apply the same transformations to our test set"
   ]
  },
  {
   "cell_type": "code",
   "execution_count": 40,
   "metadata": {},
   "outputs": [],
   "source": [
    "# Convert time to categorical variable\n",
    "X_test['CRSDEPTIME'] = np.ceil(X_test['CRSDEPTIME']/600).apply(int)\n",
    "X_test['WHEELSOFF'] = np.ceil(X_test['WHEELSOFF']/600).apply(int) \n",
    "X_test['CRSARRTIME'] = np.ceil(X_test['CRSARRTIME']/600).apply(int)\n",
    "X_test['CRSELAPSEDTIME']=np.ceil(X_test['CRSELAPSEDTIME']/30).apply(int)"
   ]
  },
  {
   "cell_type": "code",
   "execution_count": 41,
   "metadata": {},
   "outputs": [],
   "source": [
    "# Feature Scaling\n",
    "col_names = X_test.columns.tolist()\n",
    "X_test_trsf = pd.DataFrame(trained_scaler.transform(X_test))\n",
    "X_test_trsf.columns=cols_to_scale + [col for col in col_names if col not in cols_to_scale]\n",
    "X_test_trsf.index=X_test.index"
   ]
  },
  {
   "cell_type": "code",
   "execution_count": 42,
   "metadata": {},
   "outputs": [],
   "source": [
    "# Replace values not in the top 10 list with \"Other\"\n",
    "X_test_trsf['UNIQUECARRIER'] = np.where(~X_test_trsf['UNIQUECARRIER'].isin(top_10_airlines), \n",
    "                                                       'Other_Airline', X_test_trsf['UNIQUECARRIER'])\n",
    "X_test_trsf['ORIGIN'] = np.where(~X_test_trsf['ORIGIN'].isin(top_10_origin), \n",
    "                                                       'Other_Origin', X_test_trsf['ORIGIN'])\n",
    "X_test_trsf['DEST'] = np.where(~X_test_trsf['DEST'].isin(top_10_dest), \n",
    "                                                       'Other_Dest', X_test_trsf['DEST'])\n"
   ]
  },
  {
   "cell_type": "code",
   "execution_count": 43,
   "metadata": {},
   "outputs": [],
   "source": [
    "# Perform one-hot encoding\n",
    "X_test_trsf = trained_encoder.transform(X_test_trsf)"
   ]
  },
  {
   "cell_type": "code",
   "execution_count": 44,
   "metadata": {},
   "outputs": [
    {
     "name": "stdout",
     "output_type": "stream",
     "text": [
      "The test dataset has 200000 rows and 47 columns.\n"
     ]
    }
   ],
   "source": [
    "print('The test dataset has',X_test_trsf.shape[0],'rows and',X_test_trsf.shape[1],'columns.')"
   ]
  },
  {
   "cell_type": "markdown",
   "metadata": {},
   "source": [
    "## Model Training"
   ]
  },
  {
   "cell_type": "markdown",
   "metadata": {},
   "source": [
    "### Random Forest\n",
    "\n",
    "Suppose you ask a complex question to thousands of random people, then aggregate their answers. In many cases you will find that this aggregated answer is better than an expert’s answer. This is called the *wisdom of the crowd*. Similarly, if you aggregate the predictions of a group of predictors (such as classifiers or regressors), you will often get better predictions than with the best individual predictor. A group of predictors is called an *ensemble*; thus, this technique is called *Ensemble Learning*. For example, you can train a group of Decision Tree classifiers, each on a different random subset of the training set. To make predictions, you just obtain the predictions of all individual trees, then predict the class that gets the most votes. Such an ensemble of Decision Trees is called a **Random Forest**, and despite its simplicity, this is one of the most powerful Machine Learning algorithms available today.\n",
    "\n",
    "We will train a random forest classifer using the default values and setting the `class_weight` parameter to \"balanced\" due to our imbalanced training dataset."
   ]
  },
  {
   "cell_type": "code",
   "execution_count": 45,
   "metadata": {},
   "outputs": [],
   "source": [
    "# Base model\n",
    "rf = RandomForestClassifier(random_state=42,class_weight='balanced')"
   ]
  },
  {
   "cell_type": "code",
   "execution_count": 46,
   "metadata": {
    "scrolled": false
   },
   "outputs": [
    {
     "name": "stdout",
     "output_type": "stream",
     "text": [
      "CPU times: user 3min 5s, sys: 1 s, total: 3min 6s\n",
      "Wall time: 3min 7s\n"
     ]
    }
   ],
   "source": [
    "%%time\n",
    "trained_rf = rf.fit(X_train_trsf,y_train)"
   ]
  },
  {
   "cell_type": "code",
   "execution_count": 47,
   "metadata": {},
   "outputs": [],
   "source": [
    "# Make predictions on the test set\n",
    "y_pred = trained_rf.predict(X_test_trsf)"
   ]
  },
  {
   "cell_type": "markdown",
   "metadata": {},
   "source": [
    "We will use the F1 score (harmonic mean of Precision and Recall) as our metric for evaluating model performance. An F1-Score of 1.0, indicates perfect precision and recall, and the lowest possible value is 0, if either the precision or the recall is zero.\n",
    "\n",
    "Precision is the number of true positive results divided by the number of all positive results, including those not identified correctly, and the recall is the number of true positive results divided by the number of all samples that should have been identified as positive.\n",
    "\n",
    "The F1 score can be expressed as\n",
    "\n",
    "$\\frac{TP}{TP +\\frac{1}{2}(FP+FN)}$,\n",
    "\n",
    "where TP is the number of true positives, FP is the number of false positives, and FN is the number of false negatives"
   ]
  },
  {
   "cell_type": "code",
   "execution_count": 48,
   "metadata": {
    "scrolled": false
   },
   "outputs": [
    {
     "name": "stdout",
     "output_type": "stream",
     "text": [
      "              precision    recall  f1-score   support\n",
      "\n",
      "           0       0.86      0.95      0.90    124825\n",
      "           1       0.90      0.73      0.81     75175\n",
      "\n",
      "    accuracy                           0.87    200000\n",
      "   macro avg       0.88      0.84      0.85    200000\n",
      "weighted avg       0.87      0.87      0.87    200000\n",
      "\n"
     ]
    }
   ],
   "source": [
    "# Let's evaluate the model performance\n",
    "print(classification_report(y_test,y_pred))"
   ]
  },
  {
   "cell_type": "code",
   "execution_count": 49,
   "metadata": {
    "scrolled": false
   },
   "outputs": [
    {
     "name": "stdout",
     "output_type": "stream",
     "text": [
      "Model F1 Score: 0.808\n"
     ]
    },
    {
     "data": {
      "image/png": "[encoded data removed]",
      "text/plain": [
       "<Figure size 864x576 with 2 Axes>"
      ]
     },
     "metadata": {
      "image/png": {
       "height": 500,
       "width": 667
      }
     },
     "output_type": "display_data"
    }
   ],
   "source": [
    "# Plot confusion matrix\n",
    "print('Model F1 Score: %.3f' % f1_score(y_test,y_pred))\n",
    "\n",
    "cf_matrix = confusion_matrix(y_test, y_pred)\n",
    "sns.heatmap(cf_matrix/np.sum(cf_matrix), annot=True, \n",
    "            fmt='.2%', cmap='Blues',xticklabels=['On Time','Delayed'],yticklabels=['On Time','Delayed'])\n",
    "plt.title('Random Forest')\n",
    "plt.xlabel('Predicted')\n",
    "plt.ylabel('Actual')\n",
    "plt.show()"
   ]
  },
  {
   "cell_type": "markdown",
   "metadata": {},
   "source": [
    "We can also take a look at the features the model has deemed as important for determining if a flight will be delayed or on time."
   ]
  },
  {
   "cell_type": "code",
   "execution_count": 50,
   "metadata": {},
   "outputs": [
    {
     "data": {
      "image/png": "[encoded data removed]",
      "text/plain": [
       "<Figure size 864x576 with 1 Axes>"
      ]
     },
     "metadata": {
      "image/png": {
       "height": 610,
       "width": 734
      }
     },
     "output_type": "display_data"
    }
   ],
   "source": [
    "# Plot feature importances\n",
    "feature_importances=pd.DataFrame(trained_rf.feature_importances_.flatten(), index=trained_encoder.get_feature_names(), \n",
    "                                 columns=['Importance'])\n",
    "feature_importances.sort_values(by='Importance',ascending=False).head(15).plot.bar();\n",
    "plt.ylabel('Feature Importance')\n",
    "plt.title('Random Forest Classifier Feature Importances');"
   ]
  },
  {
   "cell_type": "markdown",
   "metadata": {},
   "source": [
    "## Save Deployment Assets\n",
    "\n",
    "We now need to save our deployment assets to the shared filesystem. They include:\n",
    "- top 10 carriers, origin, and destinations\n",
    "- trained scalar\n",
    "- trained one-hot encoder\n",
    "- trained model"
   ]
  },
  {
   "cell_type": "code",
   "execution_count": 51,
   "metadata": {},
   "outputs": [
    {
     "data": {
      "text/plain": [
       "['../PYUDF/trained_rf.joblib']"
      ]
     },
     "execution_count": 51,
     "metadata": {},
     "output_type": "execute_result"
    }
   ],
   "source": [
    "# Save our deployment assets to the shared filesystem\n",
    "dump(top_10_airlines,'../PYUDF/top_10_airlines.joblib')\n",
    "dump(top_10_origin,'../PYUDF/top_10_origin.joblib')\n",
    "dump(top_10_dest,'../PYUDF/top_10_dest.joblib')\n",
    "dump(trained_scaler,'../PYUDF/trained_scaler.joblib')\n",
    "dump(trained_encoder,'../PYUDF/trained_encoder.joblib')\n",
    "dump(trained_rf,'../PYUDF/trained_rf.joblib')"
   ]
  },
  {
   "cell_type": "markdown",
   "metadata": {},
   "source": [
    "# Part II. Deploying the Pipeline to Db2"
   ]
  },
  {
   "cell_type": "markdown",
   "metadata": {},
   "source": [
    "We are now ready to deploy our model to Db2 for in-database scoring.\n",
    "\n",
    "We will:\n",
    "1. Create a UDF source file\n",
    "2. Register our Python UDF\n",
    "3. Call our UDF with a SQL statement"
   ]
  },
  {
   "cell_type": "markdown",
   "metadata": {},
   "source": [
    "Our UDTF (User Defined Table Function) has the following sections:\n",
    "- **Initialization**: Define any static variables, load our deployment assets (e.g. model), and prepare for batch scoring\n",
    "- **Data Preparation**: Perform the same data preparation steps we performed during model development\n",
    "- **Model Scoring & Output**: Call our model to make predictions and return the results\n",
    "\n",
    "Our UDTF will output the following:\n",
    "- `DATE`: The date of the flight \n",
    "- `ORIGIN`: The origin airport\n",
    "- `DEST`: The destination airport\n",
    "- `CARRIER`: The airline code\n",
    "- `CRSDEPTIME`: The scheduled departure time\n",
    "- `CRSARRTIME`: The scheduled arrival time \n",
    "- `PREDICTION`: The prediction (0 = on time, 1 = delayed)\n",
    "- `PROB_DELAYED`: The predicted probability that the flight will be delayed"
   ]
  },
  {
   "cell_type": "markdown",
   "metadata": {},
   "source": [
    "![](media/udfdeployment.png)\n",
    "\n",
    "**Figure 2**: This figure depicts how a UDF source file is created from the original pipeline code developed during the model development stage."
   ]
  },
  {
   "cell_type": "code",
   "execution_count": 52,
   "metadata": {},
   "outputs": [
    {
     "name": "stdout",
     "output_type": "stream",
     "text": [
      "Overwriting ../PYUDF/myUDF.py\n"
     ]
    }
   ],
   "source": [
    "%%writefile ../PYUDF/myUDF.py\n",
    "\n",
    "#Imports\n",
    "import nzae\n",
    "import pandas as pd\n",
    "from joblib import load\n",
    "import numpy as np\n",
    "\n",
    "\n",
    "class full_pipeline(nzae.Ae):\n",
    "    def _runUdtf(self):\n",
    "        #####################\n",
    "        ### INITIALIZATON ###\n",
    "        #####################\n",
    "        \n",
    "        # Define static variables\n",
    "        input_cols = ['YEAR','QUARTER', 'MONTH',\n",
    "                      'DAYOFMONTH', 'DAYOFWEEK','UNIQUECARRIER',\n",
    "                      'ORIGIN', 'DEST', 'CRSDEPTIME',\n",
    "                      'DEPDELAY', 'DEPDEL15','TAXIOUT','WHEELSOFF',\n",
    "                      'CRSARRTIME', 'CRSELAPSEDTIME', 'AIRTIME', 'DISTANCEGROUP']\n",
    "        cols_to_scale=['AIRTIME','TAXIOUT','DEPDELAY']\n",
    "        cols_to_encode = ['UNIQUECARRIER','ORIGIN','DEST']\n",
    "\n",
    "        # Load deployment assets\n",
    "        top_10_airlines= load('home/db2inst1/PYUDF/top_10_airlines.joblib')\n",
    "        top_10_origin=load('home/db2inst1/PYUDF/top_10_origin.joblib')\n",
    "        top_10_dest= load('home/db2inst1/PYUDF/top_10_dest.joblib')\n",
    "        trained_scaler = load('home/db2inst1/PYUDF/trained_scaler.joblib')\n",
    "        trained_encoder = load('home/db2inst1/PYUDF/trained_encoder.joblib')\n",
    "        trained_rf = load('home/db2inst1/PYUDF/trained_rf.joblib')\n",
    "     \n",
    "        # Collect rows into a single batch\n",
    "        batchsize = 10000\n",
    "        rownum = 0\n",
    "        row_list = []\n",
    "        for row in self:\n",
    "            row_list.append(row)\n",
    "            rownum = rownum+1         \n",
    "\n",
    "            if rownum==batchsize:\n",
    "                ########################\n",
    "                ### DATA PREPARATION ###\n",
    "                ########################\n",
    "                \n",
    "                # Collect the rows into a dataframe\n",
    "                df = pd.DataFrame(row_list, columns=input_cols)\n",
    "\n",
    "\n",
    "                # Save the original datestring (yyyymmdd), ORIGIN, DEST, UNIQUECARRIER, CRSDEPTIME, CRSARRTIME\n",
    "                # to return with the model prediction\n",
    "                dates = [int(year + month + day) for year, month, day in \n",
    "                         zip(map(str,list(df['YEAR'])), map(str,[\"%02d\" %i for i in list(df['MONTH'])]), \n",
    "                             map(str,[\"%02d\" %i for i in list(df['DAYOFMONTH'])]))]\n",
    "                origins = list(df['ORIGIN'])\n",
    "                dests = list(df['DEST'])\n",
    "                carriers = list(df['UNIQUECARRIER'])\n",
    "                deptimes = list(df['CRSDEPTIME'])\n",
    "                arrtimes = list(df['CRSARRTIME'])\n",
    "\n",
    "                \n",
    "                # Fill any missing values\n",
    "                df['DEPDELAY']=df['DEPDELAY'].fillna(0)\n",
    "                df['DEPDEL15']=df['DEPDEL15'].fillna(0)\n",
    "\n",
    "                # Convert time values to categorical variable\n",
    "                df['CRSDEPTIME'] = np.ceil(df['CRSDEPTIME']/600).apply(int)\n",
    "                df['WHEELSOFF'] = np.ceil(df['WHEELSOFF']/600).apply(int) \n",
    "                df['CRSARRTIME'] = np.ceil(df['CRSARRTIME']/600).apply(int)\n",
    "                df['CRSELAPSEDTIME']=np.ceil(df['CRSELAPSEDTIME']/30).apply(int)\n",
    "\n",
    "                # Feature scaling\n",
    "                col_names = df.columns.tolist()\n",
    "                df_trsf = pd.DataFrame(trained_scaler.transform(df))\n",
    "                df_trsf.columns=cols_to_scale + [col for col in col_names if col not in cols_to_scale]\n",
    "                df_trsf.index=df.index\n",
    "\n",
    "                # Replace values not in the top 10 list with \"Other\"\n",
    "                df_trsf['UNIQUECARRIER'] = np.where(~df_trsf['UNIQUECARRIER'].isin(top_10_airlines), \n",
    "                                                                       'Other_Airline', df_trsf['UNIQUECARRIER'])\n",
    "                df_trsf['ORIGIN'] = np.where(~df_trsf['ORIGIN'].isin(top_10_origin), \n",
    "                                                                       'Other_Origin', df_trsf['ORIGIN'])\n",
    "                df_trsf['DEST'] = np.where(~df_trsf['DEST'].isin(top_10_dest), \n",
    "                                                                       'Other_Dest', df_trsf['DEST'])\n",
    "\n",
    "                # One-hot encoding\n",
    "                df_trsf = trained_encoder.transform(df_trsf)\n",
    "\n",
    "                ##############################\n",
    "                ### MODEL SCORING & OUTPUT ###\n",
    "                ##############################\n",
    "                \n",
    "                # Call model to make prediction\n",
    "                predictions = trained_rf.predict(df_trsf)\n",
    "                \n",
    "                # Calculate probability that flight will be delayed\n",
    "                probability_delayed = trained_rf.predict_proba(df_trsf)[:,1]\n",
    "                \n",
    "                # Return the result\n",
    "                for x in range(predictions.shape[0]):\n",
    "                    self.output(int(dates[x]),str(origins[x]),str(dests[x]),str(carriers[x]),\n",
    "                                int(deptimes[x]),int(arrtimes[x]),int(predictions[x]),\n",
    "                                float(probability_delayed[x]))\n",
    "\n",
    "                row_list = []\n",
    "                rownum = 0\n",
    "                \n",
    "        self.done()\n",
    "full_pipeline.run()"
   ]
  },
  {
   "cell_type": "markdown",
   "metadata": {},
   "source": [
    "We are now ready to register our UDTF. We will provide it a name `FLIGHT_PREDICTER`, define the input datatypes, the definition of the table it outputs (i.e. column names and datatypes), and the path to our source file."
   ]
  },
  {
   "cell_type": "code",
   "execution_count": 53,
   "metadata": {},
   "outputs": [
    {
     "name": "stdout",
     "output_type": "stream",
     "text": [
      "Command completed.\n"
     ]
    }
   ],
   "source": [
    "%%sql\n",
    "CREATE OR REPLACE FUNCTION \n",
    "FLIGHT_PREDICTER(SMALLINT,SMALLINT,SMALLINT,SMALLINT,SMALLINT,VARCHAR(8),VARCHAR(3),\n",
    "              VARCHAR(3),SMALLINT,SMALLINT,SMALLINT,SMALLINT,SMALLINT,SMALLINT,SMALLINT,\n",
    "              SMALLINT,SMALLINT) \n",
    "RETURNS TABLE (DATE INTEGER,ORIGIN VARCHAR(3), DEST VARCHAR(3), CARRIER VARCHAR(3), \n",
    "CRSDEPTIME SMALLINT, CRSARRTIME SMALLINT,PREDICTION SMALLINT,PROB_DELAYED DOUBLE)\n",
    "LANGUAGE PYTHON PARAMETER STYLE NPSGENERIC  FENCED  NOT THREADSAFE  NO FINAL CALL  DISALLOW PARALLEL  NO DBINFO  \n",
    "DETERMINISTIC NO EXTERNAL ACTION CALLED ON NULL INPUT  \n",
    "NO SQL EXTERNAL NAME 'home/db2inst1/PYUDF/myUDF.py'"
   ]
  },
  {
   "cell_type": "markdown",
   "metadata": {},
   "source": [
    "With our UDTF source file created and our function registered, we can now call the Python UDTF to make predictions. We will create a table `ONTIME.PREDICTIONS` to store the results, and insert the output from our UDTF into that table. Recall that we will be making predictions on new flight data from 2020 (i.e., the model is using historical data to make predictions on future events)."
   ]
  },
  {
   "cell_type": "code",
   "execution_count": 54,
   "metadata": {
    "scrolled": true
   },
   "outputs": [
    {
     "name": "stdout",
     "output_type": "stream",
     "text": [
      "Command completed.\n"
     ]
    }
   ],
   "source": [
    "%%sql\n",
    "DROP TABLE IF EXISTS ONTIME.PREDICTIONS"
   ]
  },
  {
   "cell_type": "code",
   "execution_count": 55,
   "metadata": {},
   "outputs": [
    {
     "name": "stdout",
     "output_type": "stream",
     "text": [
      "Command completed.\n"
     ]
    }
   ],
   "source": [
    "%%sql\n",
    "CREATE TABLE ONTIME.PREDICTIONS(DATE INTEGER,\n",
    "                                ORIGIN VARCHAR(3), \n",
    "                                DEST VARCHAR(3),\n",
    "                                CARRIER VARCHAR(3),\n",
    "                                CRSDEPTIME SMALLINT, \n",
    "                                CRSARRTIME SMALLINT,\n",
    "                                PREDICTION SMALLINT,\n",
    "                                PROB_DELAYED DOUBLE)"
   ]
  },
  {
   "cell_type": "code",
   "execution_count": 56,
   "metadata": {},
   "outputs": [
    {
     "name": "stdout",
     "output_type": "stream",
     "text": [
      "Command completed.\n",
      "CPU times: user 7.08 ms, sys: 65.2 ms, total: 72.2 ms\n",
      "Wall time: 3min 56s\n"
     ]
    }
   ],
   "source": [
    "%%time\n",
    "%%sql\n",
    "INSERT INTO ONTIME.PREDICTIONS(DATE,ORIGIN,DEST,CARRIER,CRSDEPTIME,CRSARRTIME,PREDICTION,PROB_DELAYED)\n",
    "SELECT f.* from ONTIME.TEST i,\n",
    "TABLE(FLIGHT_PREDICTER(i.YEAR, i.QUARTER, i.MONTH, \n",
    "                i.DAYOFMONTH, i.DAYOFWEEK,i.UNIQUECARRIER,\n",
    "                i.ORIGIN, i.DEST, i.CRSDEPTIME,\n",
    "                i.DEPDELAY, i.DEPDEL15,i.TAXIOUT,i.WHEELSOFF,\n",
    "                i.CRSARRTIME, i.CRSELAPSEDTIME, i.AIRTIME, i.DISTANCEGROUP)) f"
   ]
  },
  {
   "cell_type": "markdown",
   "metadata": {},
   "source": [
    "Finally, we can query the `ONTIME.PREDICTIONS` table to look at the output."
   ]
  },
  {
   "cell_type": "code",
   "execution_count": 57,
   "metadata": {},
   "outputs": [],
   "source": [
    "query = %sql SELECT * FROM ONTIME.PREDICTIONS\n",
    "result = pd.DataFrame(query)"
   ]
  },
  {
   "cell_type": "code",
   "execution_count": 58,
   "metadata": {
    "scrolled": false
   },
   "outputs": [
    {
     "data": {
      "text/html": [
       "<div>\n",
       "<style scoped>\n",
       "    .dataframe tbody tr th:only-of-type {\n",
       "        vertical-align: middle;\n",
       "    }\n",
       "\n",
       "    .dataframe tbody tr th {\n",
       "        vertical-align: top;\n",
       "    }\n",
       "\n",
       "    .dataframe thead th {\n",
       "        text-align: right;\n",
       "    }\n",
       "</style>\n",
       "<table border=\"1\" class=\"dataframe\">\n",
       "  <thead>\n",
       "    <tr style=\"text-align: right;\">\n",
       "      <th></th>\n",
       "      <th>DATE</th>\n",
       "      <th>ORIGIN</th>\n",
       "      <th>DEST</th>\n",
       "      <th>CARRIER</th>\n",
       "      <th>CRSDEPTIME</th>\n",
       "      <th>CRSARRTIME</th>\n",
       "      <th>PREDICTION</th>\n",
       "      <th>PROB_DELAYED</th>\n",
       "    </tr>\n",
       "  </thead>\n",
       "  <tbody>\n",
       "    <tr>\n",
       "      <th>0</th>\n",
       "      <td>20201215</td>\n",
       "      <td>SFO</td>\n",
       "      <td>MIA</td>\n",
       "      <td>AA</td>\n",
       "      <td>2350</td>\n",
       "      <td>805</td>\n",
       "      <td>1</td>\n",
       "      <td>0.86</td>\n",
       "    </tr>\n",
       "    <tr>\n",
       "      <th>1</th>\n",
       "      <td>20200614</td>\n",
       "      <td>HOU</td>\n",
       "      <td>DCA</td>\n",
       "      <td>WN</td>\n",
       "      <td>2000</td>\n",
       "      <td>2355</td>\n",
       "      <td>1</td>\n",
       "      <td>0.77</td>\n",
       "    </tr>\n",
       "    <tr>\n",
       "      <th>2</th>\n",
       "      <td>20200627</td>\n",
       "      <td>DFW</td>\n",
       "      <td>PSP</td>\n",
       "      <td>AA</td>\n",
       "      <td>1655</td>\n",
       "      <td>1747</td>\n",
       "      <td>1</td>\n",
       "      <td>0.99</td>\n",
       "    </tr>\n",
       "    <tr>\n",
       "      <th>3</th>\n",
       "      <td>20200203</td>\n",
       "      <td>DFW</td>\n",
       "      <td>SLC</td>\n",
       "      <td>OO</td>\n",
       "      <td>1233</td>\n",
       "      <td>1425</td>\n",
       "      <td>1</td>\n",
       "      <td>0.89</td>\n",
       "    </tr>\n",
       "    <tr>\n",
       "      <th>4</th>\n",
       "      <td>20200108</td>\n",
       "      <td>PHX</td>\n",
       "      <td>ORD</td>\n",
       "      <td>AA</td>\n",
       "      <td>145</td>\n",
       "      <td>605</td>\n",
       "      <td>0</td>\n",
       "      <td>0.07</td>\n",
       "    </tr>\n",
       "    <tr>\n",
       "      <th>5</th>\n",
       "      <td>20201016</td>\n",
       "      <td>ORD</td>\n",
       "      <td>EWR</td>\n",
       "      <td>UA</td>\n",
       "      <td>1812</td>\n",
       "      <td>2132</td>\n",
       "      <td>0</td>\n",
       "      <td>0.07</td>\n",
       "    </tr>\n",
       "    <tr>\n",
       "      <th>6</th>\n",
       "      <td>20200914</td>\n",
       "      <td>ORD</td>\n",
       "      <td>BOS</td>\n",
       "      <td>AA</td>\n",
       "      <td>2155</td>\n",
       "      <td>100</td>\n",
       "      <td>1</td>\n",
       "      <td>0.94</td>\n",
       "    </tr>\n",
       "    <tr>\n",
       "      <th>7</th>\n",
       "      <td>20200609</td>\n",
       "      <td>PDX</td>\n",
       "      <td>PHX</td>\n",
       "      <td>WN</td>\n",
       "      <td>2005</td>\n",
       "      <td>2240</td>\n",
       "      <td>0</td>\n",
       "      <td>0.25</td>\n",
       "    </tr>\n",
       "    <tr>\n",
       "      <th>8</th>\n",
       "      <td>20200226</td>\n",
       "      <td>BOS</td>\n",
       "      <td>TPA</td>\n",
       "      <td>B6</td>\n",
       "      <td>2015</td>\n",
       "      <td>2335</td>\n",
       "      <td>0</td>\n",
       "      <td>0.35</td>\n",
       "    </tr>\n",
       "    <tr>\n",
       "      <th>9</th>\n",
       "      <td>20200608</td>\n",
       "      <td>BUF</td>\n",
       "      <td>BOS</td>\n",
       "      <td>B6</td>\n",
       "      <td>1510</td>\n",
       "      <td>1633</td>\n",
       "      <td>0</td>\n",
       "      <td>0.00</td>\n",
       "    </tr>\n",
       "  </tbody>\n",
       "</table>\n",
       "</div>"
      ],
      "text/plain": [
       "       DATE ORIGIN DEST CARRIER  CRSDEPTIME  CRSARRTIME  PREDICTION  \\\n",
       "0  20201215    SFO  MIA      AA        2350         805           1   \n",
       "1  20200614    HOU  DCA      WN        2000        2355           1   \n",
       "2  20200627    DFW  PSP      AA        1655        1747           1   \n",
       "3  20200203    DFW  SLC      OO        1233        1425           1   \n",
       "4  20200108    PHX  ORD      AA         145         605           0   \n",
       "5  20201016    ORD  EWR      UA        1812        2132           0   \n",
       "6  20200914    ORD  BOS      AA        2155         100           1   \n",
       "7  20200609    PDX  PHX      WN        2005        2240           0   \n",
       "8  20200226    BOS  TPA      B6        2015        2335           0   \n",
       "9  20200608    BUF  BOS      B6        1510        1633           0   \n",
       "\n",
       "   PROB_DELAYED  \n",
       "0          0.86  \n",
       "1          0.77  \n",
       "2          0.99  \n",
       "3          0.89  \n",
       "4          0.07  \n",
       "5          0.07  \n",
       "6          0.94  \n",
       "7          0.25  \n",
       "8          0.35  \n",
       "9          0.00  "
      ]
     },
     "execution_count": 58,
     "metadata": {},
     "output_type": "execute_result"
    }
   ],
   "source": [
    "# Lets look at the first 10 rows of our UDTF's output\n",
    "result.head(10)"
   ]
  },
  {
   "cell_type": "markdown",
   "metadata": {},
   "source": [
    "## Exercise: Build and deploy your own UDF"
   ]
  },
  {
   "cell_type": "markdown",
   "metadata": {},
   "source": [
    "In this exercise you will deploy your own ML classification model. We will provide the steps to build and deploy the model, including any necessary data transformation steps. You will be responsible for filling the UDF template provided during the model deployment phase.\n",
    "\n",
    "The dataset used is the famous IRIS dataset - it contains samples from each of three species of *Iris* flowers. (*Iris setosa*, *Iris virginica*, and *Iris versicolor*). Four features were measured from each sample: the length and the width of the sepals and petals, in centimeters."
   ]
  },
  {
   "cell_type": "code",
   "execution_count": 59,
   "metadata": {},
   "outputs": [],
   "source": [
    "import pandas as pd\n",
    "pd.set_option('display.max_columns', None)\n",
    "pd.set_option('display.max_rows', None)\n",
    "import numpy as np\n",
    "\n",
    "# Model building\n",
    "from sklearn.model_selection import train_test_split # Train-test split\n",
    "from sklearn.impute import SimpleImputer # Missing values imputation\n",
    "from sklearn.compose import ColumnTransformer # For applying transformation objects\n",
    "from sklearn.tree import DecisionTreeClassifier\n",
    "from sklearn.metrics import classification_report, confusion_matrix, f1_score # Model evaluation\n",
    "from joblib import dump #Saving deployment assets\n",
    "\n",
    "# Plotting\n",
    "import seaborn as sns\n",
    "import matplotlib.pyplot as plt\n",
    "sns.set(rc={'figure.figsize':(12,8)})\n",
    "%config InlineBackend.figure_format = 'retina'"
   ]
  },
  {
   "cell_type": "code",
   "execution_count": 60,
   "metadata": {},
   "outputs": [
    {
     "name": "stdout",
     "output_type": "stream",
     "text": [
      "Db2 Extensions Loaded.\n"
     ]
    }
   ],
   "source": [
    "%run db2.ipynb"
   ]
  },
  {
   "cell_type": "code",
   "execution_count": 61,
   "metadata": {},
   "outputs": [
    {
     "name": "stdout",
     "output_type": "stream",
     "text": [
      "Connection successful.\n"
     ]
    }
   ],
   "source": [
    "%run connectiondb2ml.ipynb"
   ]
  },
  {
   "cell_type": "markdown",
   "metadata": {},
   "source": [
    "#### Data Exploration"
   ]
  },
  {
   "cell_type": "code",
   "execution_count": 62,
   "metadata": {},
   "outputs": [
    {
     "data": {
      "text/html": [
       "<div>\n",
       "<style scoped>\n",
       "    .dataframe tbody tr th:only-of-type {\n",
       "        vertical-align: middle;\n",
       "    }\n",
       "\n",
       "    .dataframe tbody tr th {\n",
       "        vertical-align: top;\n",
       "    }\n",
       "\n",
       "    .dataframe thead th {\n",
       "        text-align: right;\n",
       "    }\n",
       "</style>\n",
       "<table border=\"1\" class=\"dataframe\">\n",
       "  <thead>\n",
       "    <tr style=\"text-align: right;\">\n",
       "      <th></th>\n",
       "      <th>SEPAL_LENGTH</th>\n",
       "      <th>SEPAL_WIDTH</th>\n",
       "      <th>PETAL_LENGTH</th>\n",
       "      <th>PETAL_WIDTH</th>\n",
       "      <th>CLASS</th>\n",
       "    </tr>\n",
       "  </thead>\n",
       "  <tbody>\n",
       "    <tr>\n",
       "      <th>0</th>\n",
       "      <td>5.1</td>\n",
       "      <td>3.5</td>\n",
       "      <td>1.4</td>\n",
       "      <td>0.2</td>\n",
       "      <td>Iris-setosa</td>\n",
       "    </tr>\n",
       "    <tr>\n",
       "      <th>1</th>\n",
       "      <td>4.9</td>\n",
       "      <td>3.0</td>\n",
       "      <td>1.4</td>\n",
       "      <td>0.2</td>\n",
       "      <td>Iris-setosa</td>\n",
       "    </tr>\n",
       "    <tr>\n",
       "      <th>2</th>\n",
       "      <td>4.7</td>\n",
       "      <td>3.2</td>\n",
       "      <td>1.3</td>\n",
       "      <td>0.2</td>\n",
       "      <td>Iris-setosa</td>\n",
       "    </tr>\n",
       "    <tr>\n",
       "      <th>3</th>\n",
       "      <td>4.6</td>\n",
       "      <td>3.1</td>\n",
       "      <td>1.5</td>\n",
       "      <td>0.2</td>\n",
       "      <td>Iris-setosa</td>\n",
       "    </tr>\n",
       "    <tr>\n",
       "      <th>4</th>\n",
       "      <td>5.0</td>\n",
       "      <td>3.6</td>\n",
       "      <td>1.4</td>\n",
       "      <td>0.2</td>\n",
       "      <td>Iris-setosa</td>\n",
       "    </tr>\n",
       "    <tr>\n",
       "      <th>5</th>\n",
       "      <td>NaN</td>\n",
       "      <td>3.9</td>\n",
       "      <td>1.7</td>\n",
       "      <td>0.4</td>\n",
       "      <td>Iris-setosa</td>\n",
       "    </tr>\n",
       "    <tr>\n",
       "      <th>6</th>\n",
       "      <td>4.6</td>\n",
       "      <td>3.4</td>\n",
       "      <td>1.4</td>\n",
       "      <td>0.3</td>\n",
       "      <td>Iris-setosa</td>\n",
       "    </tr>\n",
       "    <tr>\n",
       "      <th>7</th>\n",
       "      <td>5.0</td>\n",
       "      <td>3.4</td>\n",
       "      <td>1.5</td>\n",
       "      <td>0.2</td>\n",
       "      <td>Iris-setosa</td>\n",
       "    </tr>\n",
       "    <tr>\n",
       "      <th>8</th>\n",
       "      <td>4.4</td>\n",
       "      <td>2.9</td>\n",
       "      <td>1.4</td>\n",
       "      <td>NaN</td>\n",
       "      <td>Iris-setosa</td>\n",
       "    </tr>\n",
       "    <tr>\n",
       "      <th>9</th>\n",
       "      <td>4.9</td>\n",
       "      <td>3.1</td>\n",
       "      <td>1.5</td>\n",
       "      <td>0.1</td>\n",
       "      <td>Iris-setosa</td>\n",
       "    </tr>\n",
       "  </tbody>\n",
       "</table>\n",
       "</div>"
      ],
      "text/plain": [
       "   SEPAL_LENGTH  SEPAL_WIDTH  PETAL_LENGTH  PETAL_WIDTH        CLASS\n",
       "0           5.1          3.5           1.4          0.2  Iris-setosa\n",
       "1           4.9          3.0           1.4          0.2  Iris-setosa\n",
       "2           4.7          3.2           1.3          0.2  Iris-setosa\n",
       "3           4.6          3.1           1.5          0.2  Iris-setosa\n",
       "4           5.0          3.6           1.4          0.2  Iris-setosa\n",
       "5           NaN          3.9           1.7          0.4  Iris-setosa\n",
       "6           4.6          3.4           1.4          0.3  Iris-setosa\n",
       "7           5.0          3.4           1.5          0.2  Iris-setosa\n",
       "8           4.4          2.9           1.4          NaN  Iris-setosa\n",
       "9           4.9          3.1           1.5          0.1  Iris-setosa"
      ]
     },
     "execution_count": 62,
     "metadata": {},
     "output_type": "execute_result"
    }
   ],
   "source": [
    "# Let's look at the training data\n",
    "query = %sql SELECT * FROM ONTIME.IRIS_TRAIN\n",
    "df = pd.DataFrame(query)\n",
    "df.head(10)"
   ]
  },
  {
   "cell_type": "code",
   "execution_count": 63,
   "metadata": {},
   "outputs": [],
   "source": [
    "# Train test split\n",
    "target = \"CLASS\"\n",
    "X = df.drop(target,axis=1)\n",
    "y = df[target]\n",
    "\n",
    "# # 80/20 train-test split\n",
    "X_train, X_test, y_train, y_test = train_test_split(X,y,test_size=0.3,random_state=42)"
   ]
  },
  {
   "cell_type": "code",
   "execution_count": 64,
   "metadata": {},
   "outputs": [
    {
     "name": "stdout",
     "output_type": "stream",
     "text": [
      "The training dataset has 105 rows and 4 columns.\n"
     ]
    }
   ],
   "source": [
    "print('The training dataset has',X_train.shape[0],'rows and',X_train.shape[1],'columns.')"
   ]
  },
  {
   "cell_type": "code",
   "execution_count": 65,
   "metadata": {},
   "outputs": [
    {
     "name": "stdout",
     "output_type": "stream",
     "text": [
      "The test dataset has 45 rows and 4 columns.\n"
     ]
    }
   ],
   "source": [
    "print('The test dataset has',X_test.shape[0],'rows and',X_test.shape[1],'columns.')"
   ]
  },
  {
   "cell_type": "markdown",
   "metadata": {},
   "source": [
    "#### Data Transformation"
   ]
  },
  {
   "cell_type": "markdown",
   "metadata": {},
   "source": [
    "Let's check for missing values in our training and test sets, and perform imputation if necessary."
   ]
  },
  {
   "cell_type": "code",
   "execution_count": 66,
   "metadata": {},
   "outputs": [
    {
     "data": {
      "text/plain": [
       "SEPAL_LENGTH    4\n",
       "SEPAL_WIDTH     3\n",
       "PETAL_LENGTH    2\n",
       "PETAL_WIDTH     5\n",
       "dtype: int64"
      ]
     },
     "execution_count": 66,
     "metadata": {},
     "output_type": "execute_result"
    }
   ],
   "source": [
    "# Count the number of missing values in the training set\n",
    "number_of_missing_vals = X_train.isna().sum()\n",
    "number_of_missing_vals"
   ]
  },
  {
   "cell_type": "markdown",
   "metadata": {},
   "source": [
    "Next, let's perform missing value imputation"
   ]
  },
  {
   "cell_type": "code",
   "execution_count": 67,
   "metadata": {},
   "outputs": [],
   "source": [
    "# Train an imputer to perform missing value imputation\n",
    "from sklearn.impute import SimpleImputer\n",
    "imputer= SimpleImputer(strategy='mean')\n",
    "trained_imputer = imputer.fit(X_train)\n",
    "\n",
    "# Transform the training set and return as a dataframe\n",
    "X_train_trsf = pd.DataFrame(trained_imputer.transform(X_train),\n",
    "                            columns=['SEPAL_LENGTH','SEPAL_WIDTH','PETAL_LENGTH','PETAL_WIDTH'])"
   ]
  },
  {
   "cell_type": "markdown",
   "metadata": {},
   "source": [
    "Now, let's repeat these steps for our test set"
   ]
  },
  {
   "cell_type": "code",
   "execution_count": 68,
   "metadata": {},
   "outputs": [
    {
     "data": {
      "text/plain": [
       "SEPAL_LENGTH    1\n",
       "SEPAL_WIDTH     3\n",
       "PETAL_LENGTH    2\n",
       "PETAL_WIDTH     1\n",
       "dtype: int64"
      ]
     },
     "execution_count": 68,
     "metadata": {},
     "output_type": "execute_result"
    }
   ],
   "source": [
    "# Let's take a look if our test set has any missing values\n",
    "number_of_missing_vals = X_test.isna().sum()\n",
    "number_of_missing_vals"
   ]
  },
  {
   "cell_type": "code",
   "execution_count": 69,
   "metadata": {},
   "outputs": [],
   "source": [
    "# Let's transform our test set before we make any predictions\n",
    "X_test_trsf = trained_imputer.transform(X_test)"
   ]
  },
  {
   "cell_type": "markdown",
   "metadata": {},
   "source": [
    "#### Model Training and Evaluation\n",
    "\n",
    "We will train a simple decision tree model to predict the type of flower based on the sepal and petal length and width."
   ]
  },
  {
   "cell_type": "code",
   "execution_count": 70,
   "metadata": {},
   "outputs": [],
   "source": [
    "# Let's train a simple decision tree model\n",
    "from sklearn.tree import DecisionTreeClassifier\n",
    "dt = DecisionTreeClassifier(random_state=42)\n",
    "trained_dt = dt.fit(X_train_trsf,y_train)"
   ]
  },
  {
   "cell_type": "code",
   "execution_count": 71,
   "metadata": {},
   "outputs": [
    {
     "data": {
      "text/plain": [
       "Iris-setosa        0.422222\n",
       "Iris-versicolor    0.288889\n",
       "Iris-virginica     0.288889\n",
       "Name: CLASS, dtype: float64"
      ]
     },
     "execution_count": 71,
     "metadata": {},
     "output_type": "execute_result"
    }
   ],
   "source": [
    "y_test.value_counts(normalize=True)"
   ]
  },
  {
   "cell_type": "markdown",
   "metadata": {},
   "source": [
    "We next will make predictions on our test set and evaluate the performance of the model"
   ]
  },
  {
   "cell_type": "code",
   "execution_count": 72,
   "metadata": {},
   "outputs": [
    {
     "name": "stdout",
     "output_type": "stream",
     "text": [
      "Model F1 Score: 1.000\n"
     ]
    },
    {
     "data": {
      "image/png": "[encoded data removed]",
      "text/plain": [
       "<Figure size 864x576 with 2 Axes>"
      ]
     },
     "metadata": {
      "image/png": {
       "height": 500,
       "width": 674
      }
     },
     "output_type": "display_data"
    }
   ],
   "source": [
    "#Let's evaluate the performance of the model\n",
    "y_pred = trained_dt.predict(X_test_trsf)\n",
    "\n",
    "# Plot confusion matrix\n",
    "print('Model F1 Score: %.3f' % f1_score(y_test,y_pred,average='weighted'))\n",
    "\n",
    "cf_matrix = confusion_matrix(y_test, y_pred)\n",
    "sns.heatmap(cf_matrix/np.sum(cf_matrix), annot=True, \n",
    "            fmt='.2%', cmap='Blues',xticklabels=['Iris-setosa','Iris-virginica','Iris-versicolor'],\n",
    "            yticklabels=['Iris-setosa','Iris-virginica','Iris-versicolor'])\n",
    "plt.title('Decision Tree')\n",
    "plt.xlabel('Predicted')\n",
    "plt.ylabel('Actual')\n",
    "plt.show()"
   ]
  },
  {
   "cell_type": "markdown",
   "metadata": {},
   "source": [
    "#### Save Deployment Assets"
   ]
  },
  {
   "cell_type": "markdown",
   "metadata": {},
   "source": [
    "Once we are satisfied with our model, we will save the trained imputer and trained model to the shared filesystem"
   ]
  },
  {
   "cell_type": "code",
   "execution_count": 73,
   "metadata": {},
   "outputs": [
    {
     "data": {
      "text/plain": [
       "['../PYUDF/trained_dt.joblib']"
      ]
     },
     "execution_count": 73,
     "metadata": {},
     "output_type": "execute_result"
    }
   ],
   "source": [
    "# Save our model and scalar\n",
    "dump(trained_imputer,'../PYUDF/trained_imputer.joblib')\n",
    "dump(trained_dt,'../PYUDF/trained_dt.joblib')"
   ]
  },
  {
   "cell_type": "markdown",
   "metadata": {},
   "source": [
    "#### Model Deployment\n",
    "\n",
    "Here, we have provided a UDF template for you to fill out.\n",
    "\n",
    "1. Add some code to load in the trained imputer and scalar (**Hint**: the path where the deployment assets are stored is `home/db2inst1/PYUDF/<file_name>`)\n",
    "2. Add some code to perform the missing value imputation on the data\n",
    "3. Add some code to make predictions with the model"
   ]
  },
  {
   "cell_type": "code",
   "execution_count": null,
   "metadata": {},
   "outputs": [],
   "source": [
    "#### SOLUTION #####\n",
    "%%writefile ../PYUDF/exerciseUDF.py\n",
    "\n",
    "#Imports\n",
    "import nzae\n",
    "import pandas as pd\n",
    "from joblib import load\n",
    "import numpy as np\n",
    "\n",
    "\n",
    "class full_pipeline(nzae.Ae):\n",
    "    def _runUdtf(self):\n",
    "        #####################\n",
    "        ### INITIALIZATON ###\n",
    "        #####################\n",
    "        \n",
    "        # Define static variable\n",
    "        input_cols=['SEPAL_LENGTH','SEPAL_WIDTH','PETAL_LENGTH','PETAL_WIDTH']\n",
    "        # Load deployment assets\n",
    "        \n",
    "        trained_imputer = #### YOUR CODE HERE ####\n",
    "        trained_dt = #### YOUR CODE HERE ####\n",
    "     \n",
    "        # Collect rows into a single batch\n",
    "        batchsize = 110\n",
    "        rownum = 0\n",
    "        row_list = []\n",
    "        for row in self:\n",
    "            row_list.append(row)\n",
    "            rownum = rownum+1         \n",
    "\n",
    "            if rownum==batchsize:\n",
    "                ########################\n",
    "                ### DATA PREPARATION ###\n",
    "                ########################\n",
    "                \n",
    "                # Collect the rows into a dataframe\n",
    "                df = pd.DataFrame(row_list, columns=input_cols)\n",
    "\n",
    "                # Feature imputation\n",
    "                df_trsf = #### YOUR CODE HERE ####\n",
    "\n",
    "\n",
    "                ##############################\n",
    "                ### MODEL SCORING & OUTPUT ###\n",
    "                ##############################\n",
    "                \n",
    "                # Call model to make prediction\n",
    "                predictions = #### YOUR CODE HERE ####\n",
    "                \n",
    "                \n",
    "                # Return the result\n",
    "                for x in range(predictions.shape[0]):\n",
    "                    self.output(float(df_trsf['SEPAL_LENGTH'][x]),\n",
    "                                float(df_trsf['SEPAL_WIDTH'][x]),\n",
    "                                float(df_trsf['PETAL_LENGTH'][x]),\n",
    "                                float(df_trsf['PETAL_WIDTH'][x]),\n",
    "                                str(predictions[x]))\n",
    "\n",
    "                row_list = []\n",
    "                rownum = 0\n",
    "                \n",
    "        self.done()\n",
    "full_pipeline.run()"
   ]
  },
  {
   "cell_type": "markdown",
   "metadata": {},
   "source": [
    "Now, run the following cells to check your work"
   ]
  },
  {
   "cell_type": "code",
   "execution_count": null,
   "metadata": {},
   "outputs": [],
   "source": [
    "%%sql\n",
    "CREATE OR REPLACE FUNCTION \n",
    "MY_UDF(DOUBLE,DOUBLE,DOUBLE,DOUBLE) \n",
    "RETURNS TABLE (SEPAL_LENGTH DOUBLE,\n",
    "    SEPAL_WIDTH DOUBLE,\n",
    "    PETAL_LENGTH DOUBLE,\n",
    "    PETAL_WIDTH DOUBLE,\n",
    "    PREDICTION VARCHAR(15))\n",
    "LANGUAGE PYTHON PARAMETER STYLE NPSGENERIC  FENCED  NOT THREADSAFE  NO FINAL CALL  DISALLOW PARALLEL  NO DBINFO  \n",
    "DETERMINISTIC NO EXTERNAL ACTION CALLED ON NULL INPUT  \n",
    "NO SQL EXTERNAL NAME 'home/db2inst1/PYUDF/exerciseUDF.py'"
   ]
  },
  {
   "cell_type": "code",
   "execution_count": null,
   "metadata": {
    "scrolled": true
   },
   "outputs": [],
   "source": [
    "%%sql\n",
    "DROP TABLE IF EXISTS ONTIME.IRIS_PREDICTIONS"
   ]
  },
  {
   "cell_type": "code",
   "execution_count": null,
   "metadata": {},
   "outputs": [],
   "source": [
    "%%sql\n",
    "CREATE TABLE ONTIME.IRIS_PREDICTIONS(\n",
    "    SEPAL_LENGTH DOUBLE,\n",
    "    SEPAL_WIDTH DOUBLE,\n",
    "    PETAL_LENGTH DOUBLE,\n",
    "    PETAL_WIDTH DOUBLE,\n",
    "    PREDICTION VARCHAR(15))"
   ]
  },
  {
   "cell_type": "code",
   "execution_count": null,
   "metadata": {},
   "outputs": [],
   "source": [
    "%%time\n",
    "%%sql\n",
    "INSERT INTO ONTIME.IRIS_PREDICTIONS(SEPAL_LENGTH,SEPAL_WIDTH,PETAL_LENGTH,PETAL_WIDTH,PREDICTION)\n",
    "SELECT f.* from ONTIME.IRIS_TEST i,\n",
    "TABLE(MY_UDF(i.SEPAL_LENGTH,i.SEPAL_WIDTH,i.PETAL_LENGTH,i.PETAL_WIDTH)) f"
   ]
  },
  {
   "cell_type": "code",
   "execution_count": null,
   "metadata": {},
   "outputs": [],
   "source": [
    "query = %sql SELECT * FROM ONTIME.IRIS_PREDICTIONS\n",
    "result = pd.DataFrame(query)\n",
    "result.head(10)"
   ]
  },
  {
   "cell_type": "markdown",
   "metadata": {},
   "source": [
    "**SOLUTION**"
   ]
  },
  {
   "cell_type": "code",
   "execution_count": 74,
   "metadata": {},
   "outputs": [
    {
     "name": "stdout",
     "output_type": "stream",
     "text": [
      "Overwriting ../PYUDF/exerciseUDF.py\n"
     ]
    }
   ],
   "source": [
    "%%writefile ../PYUDF/exerciseUDF.py\n",
    "\n",
    "#Imports\n",
    "import nzae\n",
    "import pandas as pd\n",
    "from joblib import load\n",
    "import numpy as np\n",
    "\n",
    "\n",
    "class full_pipeline(nzae.Ae):\n",
    "    def _runUdtf(self):\n",
    "        #####################\n",
    "        ### INITIALIZATON ###\n",
    "        #####################\n",
    "        \n",
    "        # Define static variable\n",
    "        input_cols=['SEPAL_LENGTH','SEPAL_WIDTH','PETAL_LENGTH','PETAL_WIDTH']\n",
    "        # Load deployment assets\n",
    "        trained_imputer = load('home/db2inst1/PYUDF/trained_imputer.joblib')\n",
    "        trained_dt = load('home/db2inst1/PYUDF/trained_dt.joblib')\n",
    "     \n",
    "        # Collect rows into a single batch\n",
    "        batchsize = 110\n",
    "        rownum = 0\n",
    "        row_list = []\n",
    "        for row in self:\n",
    "            row_list.append(row)\n",
    "            rownum = rownum+1         \n",
    "\n",
    "            if rownum==batchsize:\n",
    "                ########################\n",
    "                ### DATA PREPARATION ###\n",
    "                ########################\n",
    "                \n",
    "                # Collect the rows into a dataframe\n",
    "                df = pd.DataFrame(row_list, columns=input_cols)\n",
    "\n",
    "                # Feature imputation\n",
    "                df_trsf = pd.DataFrame(trained_imputer.transform(df),columns=input_cols)\n",
    "\n",
    "\n",
    "                ##############################\n",
    "                ### MODEL SCORING & OUTPUT ###\n",
    "                ##############################\n",
    "                \n",
    "                # Call model to make prediction\n",
    "                predictions = trained_dt.predict(df_trsf)\n",
    "                \n",
    "                \n",
    "                # Return the result\n",
    "                for x in range(predictions.shape[0]):\n",
    "                    self.output(float(df_trsf['SEPAL_LENGTH'][x]),\n",
    "                                float(df_trsf['SEPAL_WIDTH'][x]),\n",
    "                                float(df_trsf['PETAL_LENGTH'][x]),\n",
    "                                float(df_trsf['PETAL_WIDTH'][x]),\n",
    "                                str(predictions[x]))\n",
    "\n",
    "                row_list = []\n",
    "                rownum = 0\n",
    "                \n",
    "        self.done()\n",
    "full_pipeline.run()"
   ]
  },
  {
   "cell_type": "code",
   "execution_count": 75,
   "metadata": {},
   "outputs": [
    {
     "name": "stdout",
     "output_type": "stream",
     "text": [
      "Command completed.\n"
     ]
    }
   ],
   "source": [
    "%%sql\n",
    "CREATE OR REPLACE FUNCTION \n",
    "MY_UDF(DOUBLE,DOUBLE,DOUBLE,DOUBLE) \n",
    "RETURNS TABLE (SEPAL_LENGTH DOUBLE,\n",
    "    SEPAL_WIDTH DOUBLE,\n",
    "    PETAL_LENGTH DOUBLE,\n",
    "    PETAL_WIDTH DOUBLE,\n",
    "    PREDICTION VARCHAR(15))\n",
    "LANGUAGE PYTHON PARAMETER STYLE NPSGENERIC  FENCED  NOT THREADSAFE  NO FINAL CALL  DISALLOW PARALLEL  NO DBINFO  \n",
    "DETERMINISTIC NO EXTERNAL ACTION CALLED ON NULL INPUT  \n",
    "NO SQL EXTERNAL NAME 'home/db2inst1/PYUDF/exerciseUDF.py'"
   ]
  },
  {
   "cell_type": "code",
   "execution_count": 76,
   "metadata": {
    "scrolled": true
   },
   "outputs": [
    {
     "name": "stdout",
     "output_type": "stream",
     "text": [
      "Command completed.\n"
     ]
    }
   ],
   "source": [
    "%%sql\n",
    "DROP TABLE ONTIME.IRIS_PREDICTIONS"
   ]
  },
  {
   "cell_type": "code",
   "execution_count": 77,
   "metadata": {},
   "outputs": [
    {
     "name": "stdout",
     "output_type": "stream",
     "text": [
      "Command completed.\n"
     ]
    }
   ],
   "source": [
    "%%sql\n",
    "CREATE TABLE ONTIME.IRIS_PREDICTIONS(\n",
    "    SEPAL_LENGTH DOUBLE,\n",
    "    SEPAL_WIDTH DOUBLE,\n",
    "    PETAL_LENGTH DOUBLE,\n",
    "    PETAL_WIDTH DOUBLE,\n",
    "    PREDICTION VARCHAR(15))"
   ]
  },
  {
   "cell_type": "code",
   "execution_count": 78,
   "metadata": {},
   "outputs": [
    {
     "name": "stdout",
     "output_type": "stream",
     "text": [
      "Command completed.\n",
      "CPU times: user 1.51 ms, sys: 988 µs, total: 2.5 ms\n",
      "Wall time: 2.41 s\n"
     ]
    }
   ],
   "source": [
    "%%time\n",
    "%%sql\n",
    "INSERT INTO ONTIME.IRIS_PREDICTIONS(SEPAL_LENGTH,SEPAL_WIDTH,PETAL_LENGTH,PETAL_WIDTH,PREDICTION)\n",
    "SELECT f.* from ONTIME.IRIS_TEST i,\n",
    "TABLE(MY_UDF(i.SEPAL_LENGTH,i.SEPAL_WIDTH,i.PETAL_LENGTH,i.PETAL_WIDTH)) f"
   ]
  },
  {
   "cell_type": "code",
   "execution_count": 79,
   "metadata": {},
   "outputs": [
    {
     "data": {
      "text/html": [
       "<div>\n",
       "<style scoped>\n",
       "    .dataframe tbody tr th:only-of-type {\n",
       "        vertical-align: middle;\n",
       "    }\n",
       "\n",
       "    .dataframe tbody tr th {\n",
       "        vertical-align: top;\n",
       "    }\n",
       "\n",
       "    .dataframe thead th {\n",
       "        text-align: right;\n",
       "    }\n",
       "</style>\n",
       "<table border=\"1\" class=\"dataframe\">\n",
       "  <thead>\n",
       "    <tr style=\"text-align: right;\">\n",
       "      <th></th>\n",
       "      <th>SEPAL_LENGTH</th>\n",
       "      <th>SEPAL_WIDTH</th>\n",
       "      <th>PETAL_LENGTH</th>\n",
       "      <th>PETAL_WIDTH</th>\n",
       "      <th>PREDICTION</th>\n",
       "    </tr>\n",
       "  </thead>\n",
       "  <tbody>\n",
       "    <tr>\n",
       "      <th>0</th>\n",
       "      <td>5.1</td>\n",
       "      <td>3.5</td>\n",
       "      <td>1.400000</td>\n",
       "      <td>0.2</td>\n",
       "      <td>Iris-setosa</td>\n",
       "    </tr>\n",
       "    <tr>\n",
       "      <th>1</th>\n",
       "      <td>4.9</td>\n",
       "      <td>3.0</td>\n",
       "      <td>1.400000</td>\n",
       "      <td>0.2</td>\n",
       "      <td>Iris-setosa</td>\n",
       "    </tr>\n",
       "    <tr>\n",
       "      <th>2</th>\n",
       "      <td>4.7</td>\n",
       "      <td>3.2</td>\n",
       "      <td>1.300000</td>\n",
       "      <td>0.2</td>\n",
       "      <td>Iris-setosa</td>\n",
       "    </tr>\n",
       "    <tr>\n",
       "      <th>3</th>\n",
       "      <td>4.6</td>\n",
       "      <td>3.1</td>\n",
       "      <td>1.500000</td>\n",
       "      <td>0.2</td>\n",
       "      <td>Iris-setosa</td>\n",
       "    </tr>\n",
       "    <tr>\n",
       "      <th>4</th>\n",
       "      <td>5.0</td>\n",
       "      <td>3.6</td>\n",
       "      <td>3.917476</td>\n",
       "      <td>0.2</td>\n",
       "      <td>Iris-setosa</td>\n",
       "    </tr>\n",
       "    <tr>\n",
       "      <th>5</th>\n",
       "      <td>5.4</td>\n",
       "      <td>3.9</td>\n",
       "      <td>3.917476</td>\n",
       "      <td>0.4</td>\n",
       "      <td>Iris-setosa</td>\n",
       "    </tr>\n",
       "    <tr>\n",
       "      <th>6</th>\n",
       "      <td>4.6</td>\n",
       "      <td>3.4</td>\n",
       "      <td>3.917476</td>\n",
       "      <td>0.3</td>\n",
       "      <td>Iris-setosa</td>\n",
       "    </tr>\n",
       "    <tr>\n",
       "      <th>7</th>\n",
       "      <td>5.0</td>\n",
       "      <td>3.4</td>\n",
       "      <td>1.500000</td>\n",
       "      <td>0.2</td>\n",
       "      <td>Iris-setosa</td>\n",
       "    </tr>\n",
       "    <tr>\n",
       "      <th>8</th>\n",
       "      <td>4.4</td>\n",
       "      <td>2.9</td>\n",
       "      <td>1.400000</td>\n",
       "      <td>0.2</td>\n",
       "      <td>Iris-setosa</td>\n",
       "    </tr>\n",
       "    <tr>\n",
       "      <th>9</th>\n",
       "      <td>4.9</td>\n",
       "      <td>3.1</td>\n",
       "      <td>1.500000</td>\n",
       "      <td>0.1</td>\n",
       "      <td>Iris-setosa</td>\n",
       "    </tr>\n",
       "  </tbody>\n",
       "</table>\n",
       "</div>"
      ],
      "text/plain": [
       "   SEPAL_LENGTH  SEPAL_WIDTH  PETAL_LENGTH  PETAL_WIDTH   PREDICTION\n",
       "0           5.1          3.5      1.400000          0.2  Iris-setosa\n",
       "1           4.9          3.0      1.400000          0.2  Iris-setosa\n",
       "2           4.7          3.2      1.300000          0.2  Iris-setosa\n",
       "3           4.6          3.1      1.500000          0.2  Iris-setosa\n",
       "4           5.0          3.6      3.917476          0.2  Iris-setosa\n",
       "5           5.4          3.9      3.917476          0.4  Iris-setosa\n",
       "6           4.6          3.4      3.917476          0.3  Iris-setosa\n",
       "7           5.0          3.4      1.500000          0.2  Iris-setosa\n",
       "8           4.4          2.9      1.400000          0.2  Iris-setosa\n",
       "9           4.9          3.1      1.500000          0.1  Iris-setosa"
      ]
     },
     "execution_count": 79,
     "metadata": {},
     "output_type": "execute_result"
    }
   ],
   "source": [
    "query = %sql SELECT * FROM ONTIME.IRIS_PREDICTIONS\n",
    "result = pd.DataFrame(query)\n",
    "result.head(10)"
   ]
  },
  {
   "cell_type": "markdown",
   "metadata": {},
   "source": [
    "## Resources"
   ]
  },
  {
   "cell_type": "markdown",
   "metadata": {},
   "source": [
    "[Video: Deploying a Machine Learning Model Trained on IBM Cloud Pak for Data into Db2](https://video.ibm.com/recorded/129516812)"
   ]
  },
  {
   "cell_type": "code",
   "execution_count": null,
   "metadata": {},
   "outputs": [],
   "source": []
  }
 ],
 "metadata": {
  "kernelspec": {
   "display_name": "Python 3",
   "language": "python",
   "name": "python3"
  },
  "language_info": {
   "codemirror_mode": {
    "name": "ipython",
    "version": 3
   },
   "file_extension": ".py",
   "mimetype": "text/x-python",
   "name": "python",
   "nbconvert_exporter": "python",
   "pygments_lexer": "ipython3",
   "version": "3.9.0"
  }
 },
 "nbformat": 4,
 "nbformat_minor": 4
}
