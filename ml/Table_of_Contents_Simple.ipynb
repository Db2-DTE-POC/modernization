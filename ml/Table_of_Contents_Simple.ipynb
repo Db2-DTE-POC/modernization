{
 "cells": [
  {
   "cell_type": "markdown",
   "metadata": {},
   "source": [
    "[![](./media/dte-header.jpg)](https://www.ibm.com/demos/collection/db2-database/)\n",
    "<a id=\"top\">"
   ]
  },
  {
   "cell_type": "markdown",
   "metadata": {},
   "source": [
    "# Modern Db2 Applications \n",
    "Welcome to this Db2 lab that highlights some of the new ways to access Db2 through REST services and build Machine Learning models for and with Db2. This lab uses Jupyter notebooks to demonstrate these features. If you are not familiar with the use of Jupyter notebooks or Python, the following notebooks will guide you through their usage. You can find a copy of these notebooks at https://github.com/Db2-DTE-POC/modernization. "
   ]
  },
  {
   "cell_type": "markdown",
   "metadata": {},
   "source": [
    "## Getting Oriented before the Hands-on Lab"
   ]
  },
  {
   "cell_type": "markdown",
   "metadata": {},
   "source": [
    "### An Introduction to Jupyter Notebooks\n",
    "Click [An Introduction to Jupyter Notebooks](./An_Introduction_to_Jupyter_Notebooks.ipynb) if you are not familiar with the use of Jupyter notebooks or Python. This notebook will help to get you oriented with Jupyter and Jupyter Lab."
   ]
  },
  {
   "cell_type": "markdown",
   "metadata": {},
   "source": [
    "### Db2 Magic Commands\n",
    "Db2 Magic commands are used in all of the notebooks used in this lab. Click [Using Db2 Magic](./Db2_Jupyter_Extensions_Tutorial.ipynb) if you want to see how easy it is to use Db2 with Python in a Jupyter environment. "
   ]
  },
  {
   "cell_type": "markdown",
   "metadata": {},
   "source": [
    "### Db2 Data Management Console\n",
    "The IBM Db2 Data Management Console builds on the best of Data Server Manager to help you manage one to hundreds of databases across the Db2 family from ground to cloud. \n",
    "Click [Db2 Console](./Db2_Data_Management_Console_Introduction.ipynb) for a quick overview of how to access the Db2 Console in this environment and some of the feature to look for."
   ]
  },
  {
   "cell_type": "markdown",
   "metadata": {},
   "source": [
    "## Build Machine Learning Models with and for Db2"
   ]
  },
  {
   "cell_type": "markdown",
   "metadata": {},
   "source": [
    "### Build and Deploy an in-Db2 ML Model\n",
    "This lab contains an example of how to develop a customer segmentation machine learning model with Db2's native machine learning functionality. [Build and Deploy an in-Db2 ML Model](./Db2MLTutorial1.ipynb)"
   ]
  },
  {
   "cell_type": "markdown",
   "metadata": {},
   "source": [
    "### Operationalize a Scikit-learn Model with Db2\n",
    "This lab contains an example of how to develop a machine learning pipeline externally in a Jupyter notebook and deploy the pipeline to Db2 for in-database scoring with Python UDFs. [Operationalize a Scikit-learn Model with Db2](./Db2MLTutorial2.ipynb)"
   ]
  },
  {
   "cell_type": "markdown",
   "metadata": {},
   "source": [
    "## Connect to Db2 with REST"
   ]
  },
  {
   "cell_type": "markdown",
   "metadata": {},
   "source": [
    "### Db2 RESTful Endpoint Service\n",
    "You can extend your Db2 system so that application programmers can create Representational State Transfer (REST) endpoints to interact with your Db2 database [Db2 RESTful Endpoint Service](./Db2 RESTful Example.ipynb)"
   ]
  },
  {
   "cell_type": "markdown",
   "metadata": {},
   "source": [
    "## Questions and Comments\n",
    "Adrian Mahjour [adrian.mahjour@ibm.com], Peter Kohlmann [kohlmann@ca.ibm.com], George Baklarz [baklarz@ca.ibm.com]"
   ]
  },
  {
   "cell_type": "code",
   "execution_count": null,
   "metadata": {},
   "outputs": [],
   "source": []
  }
 ],
 "metadata": {
  "kernelspec": {
   "display_name": "Python 3",
   "language": "python",
   "name": "python3"
  },
  "language_info": {
   "codemirror_mode": {
    "name": "ipython",
    "version": 3
   },
   "file_extension": ".py",
   "mimetype": "text/x-python",
   "name": "python",
   "nbconvert_exporter": "python",
   "pygments_lexer": "ipython3",
   "version": "3.6.13"
  }
 },
 "nbformat": 4,
 "nbformat_minor": 4
}
