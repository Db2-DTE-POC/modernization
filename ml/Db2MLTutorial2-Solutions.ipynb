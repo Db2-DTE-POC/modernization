{
 "cells": [
  {
   "cell_type": "markdown",
   "metadata": {},
   "source": [
    "<img align=\"left\" src=\"media/Assets&ArchHeader.jpeg\">"
   ]
  },
  {
   "cell_type": "markdown",
   "metadata": {},
   "source": [
    "#  Operationalize a Scikit-learn Model with Db2 v11.5\t"
   ]
  },
  {
   "cell_type": "markdown",
   "metadata": {},
   "source": [
    "Traditional scoring of machine learning models with data stored in a database often involves transferring the scoring data to a deployment system where the trained model is stored.  This can cause major challenges such as data transfer costs or data security requirements that can limit the kind or amount of data transferred from the database, such as personal identifiable information. Additionally, hardware and software roadblocks can ultimately prevent the transfer of large amounts of scoring data.\n",
    "\n",
    "In this workshop we will develop a machine learning pipeline externally (i.e. on a local Jupyter notebook) and deploy it to Db2 for in-database scoring via SQL commands.\n",
    "\n",
    "This solution allows users such as business analysts using SQL-based tools and applications to execute the machine learning pipeline by simply querying the Db2 database. \n",
    "\n",
    "This process ultimately keeps your scoring data secure and reduces data transfer latency, required compute power, complexity, and cost."
   ]
  },
  {
   "cell_type": "markdown",
   "metadata": {},
   "source": [
    "**Prerequisites**: If you are unfamiliar with the Jupyter Notebook environment, it is recommended to have gone through the [An Introduction to Jupyter Notebooks](./An_Introduction_to_Jupyter_Notebooks.ipynb) lab first"
   ]
  },
  {
   "cell_type": "markdown",
   "metadata": {},
   "source": [
    "## Problem Statement"
   ]
  },
  {
   "cell_type": "markdown",
   "metadata": {},
   "source": [
    "Consider we are on a plane heading towards our destination. We want to determine if the flight will be delayed arriving or not after it leaves the origin airport (binary classification):\n",
    "* A delayed flight will be a flight that arrives late at its destination\n",
    "* If the flight has any delays from its departure, but still arrives to its destination on time, it will not be considered a delayed flight\n",
    "* A *canceled* flight is not a delayed flight as it never left nor arrived to its destination for whatever reason\n",
    "* A *diverted* flight is not a delayed flight as it was diverted from its destination\n",
    "\n",
    "To solve this problem, we will use historical US flight data from 2009-2018. We will then deploy our model to Db2 and make predictions on \"new\" data from 2020."
   ]
  },
  {
   "cell_type": "markdown",
   "metadata": {},
   "source": [
    "## Imports and Connection to Db2"
   ]
  },
  {
   "cell_type": "code",
   "execution_count": 1,
   "metadata": {},
   "outputs": [],
   "source": [
    "import pandas as pd\n",
    "pd.set_option('display.max_columns', None)\n",
    "pd.set_option('display.max_rows', None)\n",
    "import numpy as np\n",
    "\n",
    "# Model building\n",
    "from sklearn.model_selection import train_test_split # Train-test split\n",
    "from sklearn.impute import SimpleImputer # Missing values imputation\n",
    "from sklearn.preprocessing import OneHotEncoder, StandardScaler # Feature scaling and one-hot encoding\n",
    "from sklearn.linear_model import LogisticRegression # Model\n",
    "from sklearn.metrics import classification_report, confusion_matrix, f1_score # Model evaluation\n",
    "from joblib import dump #Saving deployment assets\n",
    "\n",
    "from sklearn.base import BaseEstimator, TransformerMixin # For creating transformation pipelines\n",
    "from sklearn.pipeline import Pipeline # For creating transformation pipelines\n",
    "from sklearn.compose import ColumnTransformer # For creating transformation pipelines\n",
    "\n",
    "# Plotting\n",
    "import seaborn as sns\n",
    "import matplotlib.pyplot as plt\n",
    "sns.set(rc={'figure.figsize':(12,8)})\n",
    "%config InlineBackend.figure_format = 'retina'"
   ]
  },
  {
   "cell_type": "markdown",
   "metadata": {},
   "source": [
    "First load the Db2 magic functions and make a connection to our Db2 database."
   ]
  },
  {
   "cell_type": "code",
   "execution_count": 2,
   "metadata": {
    "scrolled": true
   },
   "outputs": [
    {
     "name": "stdout",
     "output_type": "stream",
     "text": [
      "Db2 Extensions Loaded.\n"
     ]
    }
   ],
   "source": [
    "%run db2.ipynb"
   ]
  },
  {
   "cell_type": "code",
   "execution_count": 3,
   "metadata": {
    "scrolled": true
   },
   "outputs": [
    {
     "name": "stdout",
     "output_type": "stream",
     "text": [
      "Connection successful.\n"
     ]
    }
   ],
   "source": [
    "%run connectiondb2ml.ipynb"
   ]
  },
  {
   "cell_type": "code",
   "execution_count": 4,
   "metadata": {},
   "outputs": [],
   "source": [
    "%sql option maxrows -1 display pandas"
   ]
  },
  {
   "cell_type": "markdown",
   "metadata": {},
   "source": [
    "# Part I. Pipeline Development"
   ]
  },
  {
   "cell_type": "markdown",
   "metadata": {},
   "source": [
    "## Read in Data"
   ]
  },
  {
   "cell_type": "markdown",
   "metadata": {},
   "source": [
    "First we will read in our training data. Our training data contains historical flight data from 2009-2018 and contains the following data:\n",
    "- `YEAR`: The year of the flight\n",
    "- `QUARTER`: The yearly quarter\n",
    "- `MONTH`: The month of the flight\n",
    "- `DAYOFMONTH`: The day of the flight\n",
    "- `DAYOFWEEK`: The day of the week the flight took place\n",
    "- `UNIQUECARRIER`: The abbreviation code of the airline\n",
    "- `ORIGIN`: The airport code of the departure airport\n",
    "- `DEST`: The airport code of the arrival airport\n",
    "- `CRSDEPTIME`: The scheduled departure time of the flight in the reservation system\n",
    "- `DEPTIME`: The actual departure time of the flight\n",
    "- `DEPDELAY`: The difference between the actual and scheduled departure times (minutes)\n",
    "- `DEPDEL15`: Departure delay > 15 mins?\n",
    "- `TAXIOUT`: Taxi out time (minutes)\n",
    "- `WHEELSOFF`: Wheels of time (local time)\n",
    "- `CRSARRTIME`: The scheduled arrival time of the flight in the reservation system\n",
    "- `ARRTIME`: The actual arrival time of the flight\n",
    "- `ARRDELAY`: The difference between the actual and scheduled arrival times (minutes)\n",
    "- `CRSELAPSEDTIME`: The scheduled elapsed time of the flight in the reservation system\n",
    "- `AIRTIME`: Flight time (minutes)\n",
    "- `DISTANCEGROUP`: 250 mile distance interval group"
   ]
  },
  {
   "cell_type": "markdown",
   "metadata": {},
   "source": [
    "![](media/ontime.png)\n",
    "\n",
    "**Figure 1:** This figure shows the stages of a flight as described in the dataset"
   ]
  },
  {
   "cell_type": "code",
   "execution_count": 5,
   "metadata": {},
   "outputs": [],
   "source": [
    "query = %sql SELECT * FROM ONTIME.TRAIN\n",
    "df = pd.DataFrame(query)"
   ]
  },
  {
   "cell_type": "code",
   "execution_count": 6,
   "metadata": {},
   "outputs": [
    {
     "data": {
      "text/html": [
       "<div>\n",
       "<style scoped>\n",
       "    .dataframe tbody tr th:only-of-type {\n",
       "        vertical-align: middle;\n",
       "    }\n",
       "\n",
       "    .dataframe tbody tr th {\n",
       "        vertical-align: top;\n",
       "    }\n",
       "\n",
       "    .dataframe thead th {\n",
       "        text-align: right;\n",
       "    }\n",
       "</style>\n",
       "<table border=\"1\" class=\"dataframe\">\n",
       "  <thead>\n",
       "    <tr style=\"text-align: right;\">\n",
       "      <th></th>\n",
       "      <th>YEAR</th>\n",
       "      <th>QUARTER</th>\n",
       "      <th>MONTH</th>\n",
       "      <th>DAYOFMONTH</th>\n",
       "      <th>DAYOFWEEK</th>\n",
       "      <th>UNIQUECARRIER</th>\n",
       "      <th>ORIGIN</th>\n",
       "      <th>DEST</th>\n",
       "      <th>CRSDEPTIME</th>\n",
       "      <th>DEPTIME</th>\n",
       "      <th>DEPDELAY</th>\n",
       "      <th>DEPDEL15</th>\n",
       "      <th>TAXIOUT</th>\n",
       "      <th>WHEELSOFF</th>\n",
       "      <th>CRSARRTIME</th>\n",
       "      <th>ARRTIME</th>\n",
       "      <th>ARRDELAY</th>\n",
       "      <th>CRSELAPSEDTIME</th>\n",
       "      <th>AIRTIME</th>\n",
       "      <th>DISTANCEGROUP</th>\n",
       "    </tr>\n",
       "  </thead>\n",
       "  <tbody>\n",
       "    <tr>\n",
       "      <th>0</th>\n",
       "      <td>2013</td>\n",
       "      <td>1</td>\n",
       "      <td>1</td>\n",
       "      <td>25</td>\n",
       "      <td>5</td>\n",
       "      <td>MQ</td>\n",
       "      <td>RDU</td>\n",
       "      <td>LGA</td>\n",
       "      <td>1100</td>\n",
       "      <td>1057</td>\n",
       "      <td>-3.0</td>\n",
       "      <td>0.0</td>\n",
       "      <td>12</td>\n",
       "      <td>1109</td>\n",
       "      <td>1230</td>\n",
       "      <td>1214</td>\n",
       "      <td>-16.0</td>\n",
       "      <td>90</td>\n",
       "      <td>62</td>\n",
       "      <td>2</td>\n",
       "    </tr>\n",
       "    <tr>\n",
       "      <th>1</th>\n",
       "      <td>2016</td>\n",
       "      <td>4</td>\n",
       "      <td>11</td>\n",
       "      <td>28</td>\n",
       "      <td>1</td>\n",
       "      <td>WN</td>\n",
       "      <td>BWI</td>\n",
       "      <td>PVD</td>\n",
       "      <td>1040</td>\n",
       "      <td>1034</td>\n",
       "      <td>-6.0</td>\n",
       "      <td>0.0</td>\n",
       "      <td>12</td>\n",
       "      <td>1046</td>\n",
       "      <td>1150</td>\n",
       "      <td>1138</td>\n",
       "      <td>-12.0</td>\n",
       "      <td>70</td>\n",
       "      <td>50</td>\n",
       "      <td>2</td>\n",
       "    </tr>\n",
       "    <tr>\n",
       "      <th>2</th>\n",
       "      <td>2012</td>\n",
       "      <td>2</td>\n",
       "      <td>4</td>\n",
       "      <td>26</td>\n",
       "      <td>4</td>\n",
       "      <td>US</td>\n",
       "      <td>PHX</td>\n",
       "      <td>ATL</td>\n",
       "      <td>910</td>\n",
       "      <td>905</td>\n",
       "      <td>-5.0</td>\n",
       "      <td>0.0</td>\n",
       "      <td>35</td>\n",
       "      <td>940</td>\n",
       "      <td>1554</td>\n",
       "      <td>1556</td>\n",
       "      <td>2.0</td>\n",
       "      <td>224</td>\n",
       "      <td>186</td>\n",
       "      <td>7</td>\n",
       "    </tr>\n",
       "    <tr>\n",
       "      <th>3</th>\n",
       "      <td>2010</td>\n",
       "      <td>2</td>\n",
       "      <td>6</td>\n",
       "      <td>17</td>\n",
       "      <td>4</td>\n",
       "      <td>EV</td>\n",
       "      <td>MEI</td>\n",
       "      <td>ATL</td>\n",
       "      <td>610</td>\n",
       "      <td>605</td>\n",
       "      <td>-5.0</td>\n",
       "      <td>0.0</td>\n",
       "      <td>4</td>\n",
       "      <td>609</td>\n",
       "      <td>824</td>\n",
       "      <td>806</td>\n",
       "      <td>-18.0</td>\n",
       "      <td>74</td>\n",
       "      <td>50</td>\n",
       "      <td>2</td>\n",
       "    </tr>\n",
       "    <tr>\n",
       "      <th>4</th>\n",
       "      <td>2016</td>\n",
       "      <td>2</td>\n",
       "      <td>4</td>\n",
       "      <td>1</td>\n",
       "      <td>5</td>\n",
       "      <td>DL</td>\n",
       "      <td>DAY</td>\n",
       "      <td>ATL</td>\n",
       "      <td>1032</td>\n",
       "      <td>1025</td>\n",
       "      <td>-7.0</td>\n",
       "      <td>0.0</td>\n",
       "      <td>17</td>\n",
       "      <td>1042</td>\n",
       "      <td>1209</td>\n",
       "      <td>1205</td>\n",
       "      <td>-4.0</td>\n",
       "      <td>97</td>\n",
       "      <td>78</td>\n",
       "      <td>2</td>\n",
       "    </tr>\n",
       "  </tbody>\n",
       "</table>\n",
       "</div>"
      ],
      "text/plain": [
       "   YEAR  QUARTER  MONTH  DAYOFMONTH  DAYOFWEEK UNIQUECARRIER ORIGIN DEST  \\\n",
       "0  2013        1      1          25          5            MQ    RDU  LGA   \n",
       "1  2016        4     11          28          1            WN    BWI  PVD   \n",
       "2  2012        2      4          26          4            US    PHX  ATL   \n",
       "3  2010        2      6          17          4            EV    MEI  ATL   \n",
       "4  2016        2      4           1          5            DL    DAY  ATL   \n",
       "\n",
       "   CRSDEPTIME  DEPTIME  DEPDELAY  DEPDEL15  TAXIOUT  WHEELSOFF  CRSARRTIME  \\\n",
       "0        1100     1057      -3.0       0.0       12       1109        1230   \n",
       "1        1040     1034      -6.0       0.0       12       1046        1150   \n",
       "2         910      905      -5.0       0.0       35        940        1554   \n",
       "3         610      605      -5.0       0.0        4        609         824   \n",
       "4        1032     1025      -7.0       0.0       17       1042        1209   \n",
       "\n",
       "   ARRTIME  ARRDELAY  CRSELAPSEDTIME  AIRTIME  DISTANCEGROUP  \n",
       "0     1214     -16.0              90       62              2  \n",
       "1     1138     -12.0              70       50              2  \n",
       "2     1556       2.0             224      186              7  \n",
       "3      806     -18.0              74       50              2  \n",
       "4     1205      -4.0              97       78              2  "
      ]
     },
     "execution_count": 6,
     "metadata": {},
     "output_type": "execute_result"
    }
   ],
   "source": [
    "df.head()"
   ]
  },
  {
   "cell_type": "code",
   "execution_count": 7,
   "metadata": {},
   "outputs": [
    {
     "name": "stdout",
     "output_type": "stream",
     "text": [
      "The dataset has 1000000 rows and 20 columns.\n"
     ]
    }
   ],
   "source": [
    "print('The dataset has',df.shape[0],'rows and',df.shape[1],'columns.')"
   ]
  },
  {
   "cell_type": "code",
   "execution_count": 8,
   "metadata": {},
   "outputs": [
    {
     "data": {
      "text/html": [
       "<div>\n",
       "<style scoped>\n",
       "    .dataframe tbody tr th:only-of-type {\n",
       "        vertical-align: middle;\n",
       "    }\n",
       "\n",
       "    .dataframe tbody tr th {\n",
       "        vertical-align: top;\n",
       "    }\n",
       "\n",
       "    .dataframe thead th {\n",
       "        text-align: right;\n",
       "    }\n",
       "</style>\n",
       "<table border=\"1\" class=\"dataframe\">\n",
       "  <thead>\n",
       "    <tr style=\"text-align: right;\">\n",
       "      <th></th>\n",
       "      <th>YEAR</th>\n",
       "      <th>QUARTER</th>\n",
       "      <th>MONTH</th>\n",
       "      <th>DAYOFMONTH</th>\n",
       "      <th>DAYOFWEEK</th>\n",
       "      <th>CRSDEPTIME</th>\n",
       "      <th>DEPTIME</th>\n",
       "      <th>DEPDELAY</th>\n",
       "      <th>DEPDEL15</th>\n",
       "      <th>TAXIOUT</th>\n",
       "      <th>WHEELSOFF</th>\n",
       "      <th>CRSARRTIME</th>\n",
       "      <th>ARRTIME</th>\n",
       "      <th>ARRDELAY</th>\n",
       "      <th>CRSELAPSEDTIME</th>\n",
       "      <th>AIRTIME</th>\n",
       "      <th>DISTANCEGROUP</th>\n",
       "    </tr>\n",
       "  </thead>\n",
       "  <tbody>\n",
       "    <tr>\n",
       "      <th>count</th>\n",
       "      <td>1000000.000000</td>\n",
       "      <td>1000000.000000</td>\n",
       "      <td>1000000.000000</td>\n",
       "      <td>1000000.000000</td>\n",
       "      <td>1000000.000000</td>\n",
       "      <td>1000000.000000</td>\n",
       "      <td>1000000.000000</td>\n",
       "      <td>999937.000000</td>\n",
       "      <td>999937.000000</td>\n",
       "      <td>1000000.000000</td>\n",
       "      <td>1000000.000000</td>\n",
       "      <td>1000000.000000</td>\n",
       "      <td>1000000.000000</td>\n",
       "      <td>999960.000000</td>\n",
       "      <td>1000000.000000</td>\n",
       "      <td>1000000.000000</td>\n",
       "      <td>1000000.000000</td>\n",
       "    </tr>\n",
       "    <tr>\n",
       "      <th>mean</th>\n",
       "      <td>2013.193454</td>\n",
       "      <td>2.454007</td>\n",
       "      <td>6.362631</td>\n",
       "      <td>15.740650</td>\n",
       "      <td>3.936586</td>\n",
       "      <td>1325.589780</td>\n",
       "      <td>1332.387942</td>\n",
       "      <td>8.902103</td>\n",
       "      <td>0.180074</td>\n",
       "      <td>15.900501</td>\n",
       "      <td>1355.288523</td>\n",
       "      <td>1494.160152</td>\n",
       "      <td>1479.347530</td>\n",
       "      <td>4.669345</td>\n",
       "      <td>136.876648</td>\n",
       "      <td>109.661863</td>\n",
       "      <td>3.625980</td>\n",
       "    </tr>\n",
       "    <tr>\n",
       "      <th>std</th>\n",
       "      <td>2.784399</td>\n",
       "      <td>1.104170</td>\n",
       "      <td>3.394361</td>\n",
       "      <td>8.777538</td>\n",
       "      <td>1.989779</td>\n",
       "      <td>473.690848</td>\n",
       "      <td>486.288007</td>\n",
       "      <td>36.099259</td>\n",
       "      <td>0.384250</td>\n",
       "      <td>9.226515</td>\n",
       "      <td>487.585689</td>\n",
       "      <td>494.197406</td>\n",
       "      <td>513.180123</td>\n",
       "      <td>38.629338</td>\n",
       "      <td>73.472559</td>\n",
       "      <td>70.653527</td>\n",
       "      <td>2.338014</td>\n",
       "    </tr>\n",
       "    <tr>\n",
       "      <th>min</th>\n",
       "      <td>2009.000000</td>\n",
       "      <td>1.000000</td>\n",
       "      <td>1.000000</td>\n",
       "      <td>1.000000</td>\n",
       "      <td>1.000000</td>\n",
       "      <td>1.000000</td>\n",
       "      <td>1.000000</td>\n",
       "      <td>-62.000000</td>\n",
       "      <td>0.000000</td>\n",
       "      <td>1.000000</td>\n",
       "      <td>1.000000</td>\n",
       "      <td>1.000000</td>\n",
       "      <td>1.000000</td>\n",
       "      <td>-103.000000</td>\n",
       "      <td>18.000000</td>\n",
       "      <td>7.000000</td>\n",
       "      <td>1.000000</td>\n",
       "    </tr>\n",
       "    <tr>\n",
       "      <th>25%</th>\n",
       "      <td>2011.000000</td>\n",
       "      <td>1.000000</td>\n",
       "      <td>3.000000</td>\n",
       "      <td>8.000000</td>\n",
       "      <td>2.000000</td>\n",
       "      <td>920.000000</td>\n",
       "      <td>925.000000</td>\n",
       "      <td>-5.000000</td>\n",
       "      <td>0.000000</td>\n",
       "      <td>10.000000</td>\n",
       "      <td>939.000000</td>\n",
       "      <td>1113.000000</td>\n",
       "      <td>1103.000000</td>\n",
       "      <td>-13.000000</td>\n",
       "      <td>84.000000</td>\n",
       "      <td>58.000000</td>\n",
       "      <td>2.000000</td>\n",
       "    </tr>\n",
       "    <tr>\n",
       "      <th>50%</th>\n",
       "      <td>2013.000000</td>\n",
       "      <td>2.000000</td>\n",
       "      <td>6.000000</td>\n",
       "      <td>16.000000</td>\n",
       "      <td>4.000000</td>\n",
       "      <td>1320.000000</td>\n",
       "      <td>1326.000000</td>\n",
       "      <td>-2.000000</td>\n",
       "      <td>0.000000</td>\n",
       "      <td>14.000000</td>\n",
       "      <td>1340.000000</td>\n",
       "      <td>1519.000000</td>\n",
       "      <td>1512.000000</td>\n",
       "      <td>-4.000000</td>\n",
       "      <td>118.000000</td>\n",
       "      <td>90.000000</td>\n",
       "      <td>3.000000</td>\n",
       "    </tr>\n",
       "    <tr>\n",
       "      <th>75%</th>\n",
       "      <td>2016.000000</td>\n",
       "      <td>3.000000</td>\n",
       "      <td>9.000000</td>\n",
       "      <td>23.000000</td>\n",
       "      <td>6.000000</td>\n",
       "      <td>1724.000000</td>\n",
       "      <td>1733.000000</td>\n",
       "      <td>7.000000</td>\n",
       "      <td>0.000000</td>\n",
       "      <td>19.000000</td>\n",
       "      <td>1747.000000</td>\n",
       "      <td>1911.000000</td>\n",
       "      <td>1911.000000</td>\n",
       "      <td>8.000000</td>\n",
       "      <td>167.000000</td>\n",
       "      <td>139.000000</td>\n",
       "      <td>5.000000</td>\n",
       "    </tr>\n",
       "    <tr>\n",
       "      <th>max</th>\n",
       "      <td>2018.000000</td>\n",
       "      <td>4.000000</td>\n",
       "      <td>12.000000</td>\n",
       "      <td>31.000000</td>\n",
       "      <td>7.000000</td>\n",
       "      <td>2359.000000</td>\n",
       "      <td>2400.000000</td>\n",
       "      <td>1767.000000</td>\n",
       "      <td>1.000000</td>\n",
       "      <td>232.000000</td>\n",
       "      <td>2400.000000</td>\n",
       "      <td>2400.000000</td>\n",
       "      <td>2400.000000</td>\n",
       "      <td>1794.000000</td>\n",
       "      <td>700.000000</td>\n",
       "      <td>703.000000</td>\n",
       "      <td>11.000000</td>\n",
       "    </tr>\n",
       "  </tbody>\n",
       "</table>\n",
       "</div>"
      ],
      "text/plain": [
       "                 YEAR         QUARTER           MONTH      DAYOFMONTH  \\\n",
       "count  1000000.000000  1000000.000000  1000000.000000  1000000.000000   \n",
       "mean      2013.193454        2.454007        6.362631       15.740650   \n",
       "std          2.784399        1.104170        3.394361        8.777538   \n",
       "min       2009.000000        1.000000        1.000000        1.000000   \n",
       "25%       2011.000000        1.000000        3.000000        8.000000   \n",
       "50%       2013.000000        2.000000        6.000000       16.000000   \n",
       "75%       2016.000000        3.000000        9.000000       23.000000   \n",
       "max       2018.000000        4.000000       12.000000       31.000000   \n",
       "\n",
       "            DAYOFWEEK      CRSDEPTIME         DEPTIME       DEPDELAY  \\\n",
       "count  1000000.000000  1000000.000000  1000000.000000  999937.000000   \n",
       "mean         3.936586     1325.589780     1332.387942       8.902103   \n",
       "std          1.989779      473.690848      486.288007      36.099259   \n",
       "min          1.000000        1.000000        1.000000     -62.000000   \n",
       "25%          2.000000      920.000000      925.000000      -5.000000   \n",
       "50%          4.000000     1320.000000     1326.000000      -2.000000   \n",
       "75%          6.000000     1724.000000     1733.000000       7.000000   \n",
       "max          7.000000     2359.000000     2400.000000    1767.000000   \n",
       "\n",
       "            DEPDEL15         TAXIOUT       WHEELSOFF      CRSARRTIME  \\\n",
       "count  999937.000000  1000000.000000  1000000.000000  1000000.000000   \n",
       "mean        0.180074       15.900501     1355.288523     1494.160152   \n",
       "std         0.384250        9.226515      487.585689      494.197406   \n",
       "min         0.000000        1.000000        1.000000        1.000000   \n",
       "25%         0.000000       10.000000      939.000000     1113.000000   \n",
       "50%         0.000000       14.000000     1340.000000     1519.000000   \n",
       "75%         0.000000       19.000000     1747.000000     1911.000000   \n",
       "max         1.000000      232.000000     2400.000000     2400.000000   \n",
       "\n",
       "              ARRTIME       ARRDELAY  CRSELAPSEDTIME         AIRTIME  \\\n",
       "count  1000000.000000  999960.000000  1000000.000000  1000000.000000   \n",
       "mean      1479.347530       4.669345      136.876648      109.661863   \n",
       "std        513.180123      38.629338       73.472559       70.653527   \n",
       "min          1.000000    -103.000000       18.000000        7.000000   \n",
       "25%       1103.000000     -13.000000       84.000000       58.000000   \n",
       "50%       1512.000000      -4.000000      118.000000       90.000000   \n",
       "75%       1911.000000       8.000000      167.000000      139.000000   \n",
       "max       2400.000000    1794.000000      700.000000      703.000000   \n",
       "\n",
       "        DISTANCEGROUP  \n",
       "count  1000000.000000  \n",
       "mean         3.625980  \n",
       "std          2.338014  \n",
       "min          1.000000  \n",
       "25%          2.000000  \n",
       "50%          3.000000  \n",
       "75%          5.000000  \n",
       "max         11.000000  "
      ]
     },
     "execution_count": 8,
     "metadata": {},
     "output_type": "execute_result"
    }
   ],
   "source": [
    "# Let's look at some summary statistics\n",
    "df.describe()"
   ]
  },
  {
   "cell_type": "markdown",
   "metadata": {},
   "source": [
    "## Data Preparation"
   ]
  },
  {
   "cell_type": "markdown",
   "metadata": {},
   "source": [
    "### Create Target variable\n",
    "We will use the `ARRDELAY` variable to create our target variable `FLIGHTSTATUS`:\n",
    "- 0 = on time or early\n",
    "- 1 = delayed"
   ]
  },
  {
   "cell_type": "markdown",
   "metadata": {},
   "source": [
    "Let's first check for any missing values in this column"
   ]
  },
  {
   "cell_type": "code",
   "execution_count": 9,
   "metadata": {},
   "outputs": [
    {
     "data": {
      "text/plain": [
       "40"
      ]
     },
     "execution_count": 9,
     "metadata": {},
     "output_type": "execute_result"
    }
   ],
   "source": [
    "# Count the number of missing values\n",
    "df['ARRDELAY'].isna().sum()"
   ]
  },
  {
   "cell_type": "markdown",
   "metadata": {},
   "source": [
    "Lets investigate why these values are NA"
   ]
  },
  {
   "cell_type": "code",
   "execution_count": 10,
   "metadata": {},
   "outputs": [
    {
     "data": {
      "text/html": [
       "<div>\n",
       "<style scoped>\n",
       "    .dataframe tbody tr th:only-of-type {\n",
       "        vertical-align: middle;\n",
       "    }\n",
       "\n",
       "    .dataframe tbody tr th {\n",
       "        vertical-align: top;\n",
       "    }\n",
       "\n",
       "    .dataframe thead th {\n",
       "        text-align: right;\n",
       "    }\n",
       "</style>\n",
       "<table border=\"1\" class=\"dataframe\">\n",
       "  <thead>\n",
       "    <tr style=\"text-align: right;\">\n",
       "      <th></th>\n",
       "      <th>CRSARRTIME</th>\n",
       "      <th>ARRTIME</th>\n",
       "      <th>ARRDELAY</th>\n",
       "    </tr>\n",
       "  </thead>\n",
       "  <tbody>\n",
       "    <tr>\n",
       "      <th>4019</th>\n",
       "      <td>2100</td>\n",
       "      <td>2100</td>\n",
       "      <td>NaN</td>\n",
       "    </tr>\n",
       "    <tr>\n",
       "      <th>48315</th>\n",
       "      <td>1933</td>\n",
       "      <td>1933</td>\n",
       "      <td>NaN</td>\n",
       "    </tr>\n",
       "    <tr>\n",
       "      <th>88090</th>\n",
       "      <td>1629</td>\n",
       "      <td>1629</td>\n",
       "      <td>NaN</td>\n",
       "    </tr>\n",
       "    <tr>\n",
       "      <th>128435</th>\n",
       "      <td>1700</td>\n",
       "      <td>1700</td>\n",
       "      <td>NaN</td>\n",
       "    </tr>\n",
       "    <tr>\n",
       "      <th>144124</th>\n",
       "      <td>1420</td>\n",
       "      <td>1420</td>\n",
       "      <td>NaN</td>\n",
       "    </tr>\n",
       "    <tr>\n",
       "      <th>147435</th>\n",
       "      <td>752</td>\n",
       "      <td>752</td>\n",
       "      <td>NaN</td>\n",
       "    </tr>\n",
       "    <tr>\n",
       "      <th>190007</th>\n",
       "      <td>1203</td>\n",
       "      <td>1203</td>\n",
       "      <td>NaN</td>\n",
       "    </tr>\n",
       "    <tr>\n",
       "      <th>205705</th>\n",
       "      <td>1156</td>\n",
       "      <td>1156</td>\n",
       "      <td>NaN</td>\n",
       "    </tr>\n",
       "    <tr>\n",
       "      <th>222600</th>\n",
       "      <td>1855</td>\n",
       "      <td>1855</td>\n",
       "      <td>NaN</td>\n",
       "    </tr>\n",
       "    <tr>\n",
       "      <th>259968</th>\n",
       "      <td>1515</td>\n",
       "      <td>1515</td>\n",
       "      <td>NaN</td>\n",
       "    </tr>\n",
       "  </tbody>\n",
       "</table>\n",
       "</div>"
      ],
      "text/plain": [
       "        CRSARRTIME  ARRTIME  ARRDELAY\n",
       "4019          2100     2100       NaN\n",
       "48315         1933     1933       NaN\n",
       "88090         1629     1629       NaN\n",
       "128435        1700     1700       NaN\n",
       "144124        1420     1420       NaN\n",
       "147435         752      752       NaN\n",
       "190007        1203     1203       NaN\n",
       "205705        1156     1156       NaN\n",
       "222600        1855     1855       NaN\n",
       "259968        1515     1515       NaN"
      ]
     },
     "execution_count": 10,
     "metadata": {},
     "output_type": "execute_result"
    }
   ],
   "source": [
    "# Create a temporary dataframe that includes rows where \"ARRDELAY\" is missing\n",
    "tmp = df[df['ARRDELAY'].isna()]\n",
    "tmp[['CRSARRTIME','ARRTIME','ARRDELAY']].head(10)"
   ]
  },
  {
   "cell_type": "markdown",
   "metadata": {},
   "source": [
    "We can see that these flights infact arrived on time: `CRSARRTIME` = `ARRTIME`. So we can replace these missing values in `ARRDELAY` with 0"
   ]
  },
  {
   "cell_type": "code",
   "execution_count": 11,
   "metadata": {},
   "outputs": [],
   "source": [
    "# Fill in missing values with 0\n",
    "df['ARRDELAY']=df['ARRDELAY'].fillna(0)"
   ]
  },
  {
   "cell_type": "markdown",
   "metadata": {},
   "source": [
    "We are now ready to create our target variable"
   ]
  },
  {
   "cell_type": "code",
   "execution_count": 12,
   "metadata": {},
   "outputs": [],
   "source": [
    "# Create our target variable:\n",
    "# 0 = on time or early\n",
    "# 1 = delayed\n",
    "target = 'FLIGHTSTATUS'\n",
    "status = []\n",
    "for val in df['ARRDELAY']:\n",
    "    if val <=0:\n",
    "        status.append(0)\n",
    "    else:\n",
    "        status.append(1) \n",
    "\n",
    "df[target] = status"
   ]
  },
  {
   "cell_type": "code",
   "execution_count": 13,
   "metadata": {},
   "outputs": [
    {
     "data": {
      "text/plain": [
       "0    0.624554\n",
       "1    0.375446\n",
       "Name: FLIGHTSTATUS, dtype: float64"
      ]
     },
     "execution_count": 13,
     "metadata": {},
     "output_type": "execute_result"
    }
   ],
   "source": [
    "# Let's look at the distribution of our target variable\n",
    "df[target].value_counts(normalize=True)"
   ]
  },
  {
   "cell_type": "markdown",
   "metadata": {},
   "source": [
    "We can see our dataset is slightly imbalanced with 62% of records being flights that are on time or early, and 38% of flights being delayed"
   ]
  },
  {
   "cell_type": "code",
   "execution_count": 14,
   "metadata": {},
   "outputs": [
    {
     "data": {
      "text/html": [
       "<div>\n",
       "<style scoped>\n",
       "    .dataframe tbody tr th:only-of-type {\n",
       "        vertical-align: middle;\n",
       "    }\n",
       "\n",
       "    .dataframe tbody tr th {\n",
       "        vertical-align: top;\n",
       "    }\n",
       "\n",
       "    .dataframe thead th {\n",
       "        text-align: right;\n",
       "    }\n",
       "</style>\n",
       "<table border=\"1\" class=\"dataframe\">\n",
       "  <thead>\n",
       "    <tr style=\"text-align: right;\">\n",
       "      <th></th>\n",
       "      <th>YEAR</th>\n",
       "      <th>QUARTER</th>\n",
       "      <th>MONTH</th>\n",
       "      <th>DAYOFMONTH</th>\n",
       "      <th>DAYOFWEEK</th>\n",
       "      <th>UNIQUECARRIER</th>\n",
       "      <th>ORIGIN</th>\n",
       "      <th>DEST</th>\n",
       "      <th>CRSDEPTIME</th>\n",
       "      <th>DEPTIME</th>\n",
       "      <th>DEPDELAY</th>\n",
       "      <th>DEPDEL15</th>\n",
       "      <th>TAXIOUT</th>\n",
       "      <th>WHEELSOFF</th>\n",
       "      <th>CRSARRTIME</th>\n",
       "      <th>ARRTIME</th>\n",
       "      <th>ARRDELAY</th>\n",
       "      <th>CRSELAPSEDTIME</th>\n",
       "      <th>AIRTIME</th>\n",
       "      <th>DISTANCEGROUP</th>\n",
       "      <th>FLIGHTSTATUS</th>\n",
       "    </tr>\n",
       "  </thead>\n",
       "  <tbody>\n",
       "    <tr>\n",
       "      <th>0</th>\n",
       "      <td>2013</td>\n",
       "      <td>1</td>\n",
       "      <td>1</td>\n",
       "      <td>25</td>\n",
       "      <td>5</td>\n",
       "      <td>MQ</td>\n",
       "      <td>RDU</td>\n",
       "      <td>LGA</td>\n",
       "      <td>1100</td>\n",
       "      <td>1057</td>\n",
       "      <td>-3.0</td>\n",
       "      <td>0.0</td>\n",
       "      <td>12</td>\n",
       "      <td>1109</td>\n",
       "      <td>1230</td>\n",
       "      <td>1214</td>\n",
       "      <td>-16.0</td>\n",
       "      <td>90</td>\n",
       "      <td>62</td>\n",
       "      <td>2</td>\n",
       "      <td>0</td>\n",
       "    </tr>\n",
       "    <tr>\n",
       "      <th>1</th>\n",
       "      <td>2016</td>\n",
       "      <td>4</td>\n",
       "      <td>11</td>\n",
       "      <td>28</td>\n",
       "      <td>1</td>\n",
       "      <td>WN</td>\n",
       "      <td>BWI</td>\n",
       "      <td>PVD</td>\n",
       "      <td>1040</td>\n",
       "      <td>1034</td>\n",
       "      <td>-6.0</td>\n",
       "      <td>0.0</td>\n",
       "      <td>12</td>\n",
       "      <td>1046</td>\n",
       "      <td>1150</td>\n",
       "      <td>1138</td>\n",
       "      <td>-12.0</td>\n",
       "      <td>70</td>\n",
       "      <td>50</td>\n",
       "      <td>2</td>\n",
       "      <td>0</td>\n",
       "    </tr>\n",
       "    <tr>\n",
       "      <th>2</th>\n",
       "      <td>2012</td>\n",
       "      <td>2</td>\n",
       "      <td>4</td>\n",
       "      <td>26</td>\n",
       "      <td>4</td>\n",
       "      <td>US</td>\n",
       "      <td>PHX</td>\n",
       "      <td>ATL</td>\n",
       "      <td>910</td>\n",
       "      <td>905</td>\n",
       "      <td>-5.0</td>\n",
       "      <td>0.0</td>\n",
       "      <td>35</td>\n",
       "      <td>940</td>\n",
       "      <td>1554</td>\n",
       "      <td>1556</td>\n",
       "      <td>2.0</td>\n",
       "      <td>224</td>\n",
       "      <td>186</td>\n",
       "      <td>7</td>\n",
       "      <td>1</td>\n",
       "    </tr>\n",
       "    <tr>\n",
       "      <th>3</th>\n",
       "      <td>2010</td>\n",
       "      <td>2</td>\n",
       "      <td>6</td>\n",
       "      <td>17</td>\n",
       "      <td>4</td>\n",
       "      <td>EV</td>\n",
       "      <td>MEI</td>\n",
       "      <td>ATL</td>\n",
       "      <td>610</td>\n",
       "      <td>605</td>\n",
       "      <td>-5.0</td>\n",
       "      <td>0.0</td>\n",
       "      <td>4</td>\n",
       "      <td>609</td>\n",
       "      <td>824</td>\n",
       "      <td>806</td>\n",
       "      <td>-18.0</td>\n",
       "      <td>74</td>\n",
       "      <td>50</td>\n",
       "      <td>2</td>\n",
       "      <td>0</td>\n",
       "    </tr>\n",
       "    <tr>\n",
       "      <th>4</th>\n",
       "      <td>2016</td>\n",
       "      <td>2</td>\n",
       "      <td>4</td>\n",
       "      <td>1</td>\n",
       "      <td>5</td>\n",
       "      <td>DL</td>\n",
       "      <td>DAY</td>\n",
       "      <td>ATL</td>\n",
       "      <td>1032</td>\n",
       "      <td>1025</td>\n",
       "      <td>-7.0</td>\n",
       "      <td>0.0</td>\n",
       "      <td>17</td>\n",
       "      <td>1042</td>\n",
       "      <td>1209</td>\n",
       "      <td>1205</td>\n",
       "      <td>-4.0</td>\n",
       "      <td>97</td>\n",
       "      <td>78</td>\n",
       "      <td>2</td>\n",
       "      <td>0</td>\n",
       "    </tr>\n",
       "  </tbody>\n",
       "</table>\n",
       "</div>"
      ],
      "text/plain": [
       "   YEAR  QUARTER  MONTH  DAYOFMONTH  DAYOFWEEK UNIQUECARRIER ORIGIN DEST  \\\n",
       "0  2013        1      1          25          5            MQ    RDU  LGA   \n",
       "1  2016        4     11          28          1            WN    BWI  PVD   \n",
       "2  2012        2      4          26          4            US    PHX  ATL   \n",
       "3  2010        2      6          17          4            EV    MEI  ATL   \n",
       "4  2016        2      4           1          5            DL    DAY  ATL   \n",
       "\n",
       "   CRSDEPTIME  DEPTIME  DEPDELAY  DEPDEL15  TAXIOUT  WHEELSOFF  CRSARRTIME  \\\n",
       "0        1100     1057      -3.0       0.0       12       1109        1230   \n",
       "1        1040     1034      -6.0       0.0       12       1046        1150   \n",
       "2         910      905      -5.0       0.0       35        940        1554   \n",
       "3         610      605      -5.0       0.0        4        609         824   \n",
       "4        1032     1025      -7.0       0.0       17       1042        1209   \n",
       "\n",
       "   ARRTIME  ARRDELAY  CRSELAPSEDTIME  AIRTIME  DISTANCEGROUP  FLIGHTSTATUS  \n",
       "0     1214     -16.0              90       62              2             0  \n",
       "1     1138     -12.0              70       50              2             0  \n",
       "2     1556       2.0             224      186              7             1  \n",
       "3      806     -18.0              74       50              2             0  \n",
       "4     1205      -4.0              97       78              2             0  "
      ]
     },
     "execution_count": 14,
     "metadata": {},
     "output_type": "execute_result"
    }
   ],
   "source": [
    "df.head()"
   ]
  },
  {
   "cell_type": "markdown",
   "metadata": {},
   "source": [
    "#### Drop unneeded columns"
   ]
  },
  {
   "cell_type": "markdown",
   "metadata": {},
   "source": [
    "We can drop the following columns:\n",
    "- `ARRDELAY`: Will use the target variable instead\n",
    "- `ARRTIME`: Will use the CRSArrTime instead"
   ]
  },
  {
   "cell_type": "code",
   "execution_count": 15,
   "metadata": {},
   "outputs": [],
   "source": [
    "# Drop columns that are no longer needed\n",
    "cols_to_drop=['ARRDELAY','ARRTIME']\n",
    "df=df.drop(cols_to_drop,axis=1)"
   ]
  },
  {
   "cell_type": "code",
   "execution_count": 16,
   "metadata": {},
   "outputs": [
    {
     "data": {
      "text/html": [
       "<div>\n",
       "<style scoped>\n",
       "    .dataframe tbody tr th:only-of-type {\n",
       "        vertical-align: middle;\n",
       "    }\n",
       "\n",
       "    .dataframe tbody tr th {\n",
       "        vertical-align: top;\n",
       "    }\n",
       "\n",
       "    .dataframe thead th {\n",
       "        text-align: right;\n",
       "    }\n",
       "</style>\n",
       "<table border=\"1\" class=\"dataframe\">\n",
       "  <thead>\n",
       "    <tr style=\"text-align: right;\">\n",
       "      <th></th>\n",
       "      <th>YEAR</th>\n",
       "      <th>QUARTER</th>\n",
       "      <th>MONTH</th>\n",
       "      <th>DAYOFMONTH</th>\n",
       "      <th>DAYOFWEEK</th>\n",
       "      <th>UNIQUECARRIER</th>\n",
       "      <th>ORIGIN</th>\n",
       "      <th>DEST</th>\n",
       "      <th>CRSDEPTIME</th>\n",
       "      <th>DEPTIME</th>\n",
       "      <th>DEPDELAY</th>\n",
       "      <th>DEPDEL15</th>\n",
       "      <th>TAXIOUT</th>\n",
       "      <th>WHEELSOFF</th>\n",
       "      <th>CRSARRTIME</th>\n",
       "      <th>CRSELAPSEDTIME</th>\n",
       "      <th>AIRTIME</th>\n",
       "      <th>DISTANCEGROUP</th>\n",
       "      <th>FLIGHTSTATUS</th>\n",
       "    </tr>\n",
       "  </thead>\n",
       "  <tbody>\n",
       "    <tr>\n",
       "      <th>0</th>\n",
       "      <td>2013</td>\n",
       "      <td>1</td>\n",
       "      <td>1</td>\n",
       "      <td>25</td>\n",
       "      <td>5</td>\n",
       "      <td>MQ</td>\n",
       "      <td>RDU</td>\n",
       "      <td>LGA</td>\n",
       "      <td>1100</td>\n",
       "      <td>1057</td>\n",
       "      <td>-3.0</td>\n",
       "      <td>0.0</td>\n",
       "      <td>12</td>\n",
       "      <td>1109</td>\n",
       "      <td>1230</td>\n",
       "      <td>90</td>\n",
       "      <td>62</td>\n",
       "      <td>2</td>\n",
       "      <td>0</td>\n",
       "    </tr>\n",
       "    <tr>\n",
       "      <th>1</th>\n",
       "      <td>2016</td>\n",
       "      <td>4</td>\n",
       "      <td>11</td>\n",
       "      <td>28</td>\n",
       "      <td>1</td>\n",
       "      <td>WN</td>\n",
       "      <td>BWI</td>\n",
       "      <td>PVD</td>\n",
       "      <td>1040</td>\n",
       "      <td>1034</td>\n",
       "      <td>-6.0</td>\n",
       "      <td>0.0</td>\n",
       "      <td>12</td>\n",
       "      <td>1046</td>\n",
       "      <td>1150</td>\n",
       "      <td>70</td>\n",
       "      <td>50</td>\n",
       "      <td>2</td>\n",
       "      <td>0</td>\n",
       "    </tr>\n",
       "    <tr>\n",
       "      <th>2</th>\n",
       "      <td>2012</td>\n",
       "      <td>2</td>\n",
       "      <td>4</td>\n",
       "      <td>26</td>\n",
       "      <td>4</td>\n",
       "      <td>US</td>\n",
       "      <td>PHX</td>\n",
       "      <td>ATL</td>\n",
       "      <td>910</td>\n",
       "      <td>905</td>\n",
       "      <td>-5.0</td>\n",
       "      <td>0.0</td>\n",
       "      <td>35</td>\n",
       "      <td>940</td>\n",
       "      <td>1554</td>\n",
       "      <td>224</td>\n",
       "      <td>186</td>\n",
       "      <td>7</td>\n",
       "      <td>1</td>\n",
       "    </tr>\n",
       "    <tr>\n",
       "      <th>3</th>\n",
       "      <td>2010</td>\n",
       "      <td>2</td>\n",
       "      <td>6</td>\n",
       "      <td>17</td>\n",
       "      <td>4</td>\n",
       "      <td>EV</td>\n",
       "      <td>MEI</td>\n",
       "      <td>ATL</td>\n",
       "      <td>610</td>\n",
       "      <td>605</td>\n",
       "      <td>-5.0</td>\n",
       "      <td>0.0</td>\n",
       "      <td>4</td>\n",
       "      <td>609</td>\n",
       "      <td>824</td>\n",
       "      <td>74</td>\n",
       "      <td>50</td>\n",
       "      <td>2</td>\n",
       "      <td>0</td>\n",
       "    </tr>\n",
       "    <tr>\n",
       "      <th>4</th>\n",
       "      <td>2016</td>\n",
       "      <td>2</td>\n",
       "      <td>4</td>\n",
       "      <td>1</td>\n",
       "      <td>5</td>\n",
       "      <td>DL</td>\n",
       "      <td>DAY</td>\n",
       "      <td>ATL</td>\n",
       "      <td>1032</td>\n",
       "      <td>1025</td>\n",
       "      <td>-7.0</td>\n",
       "      <td>0.0</td>\n",
       "      <td>17</td>\n",
       "      <td>1042</td>\n",
       "      <td>1209</td>\n",
       "      <td>97</td>\n",
       "      <td>78</td>\n",
       "      <td>2</td>\n",
       "      <td>0</td>\n",
       "    </tr>\n",
       "  </tbody>\n",
       "</table>\n",
       "</div>"
      ],
      "text/plain": [
       "   YEAR  QUARTER  MONTH  DAYOFMONTH  DAYOFWEEK UNIQUECARRIER ORIGIN DEST  \\\n",
       "0  2013        1      1          25          5            MQ    RDU  LGA   \n",
       "1  2016        4     11          28          1            WN    BWI  PVD   \n",
       "2  2012        2      4          26          4            US    PHX  ATL   \n",
       "3  2010        2      6          17          4            EV    MEI  ATL   \n",
       "4  2016        2      4           1          5            DL    DAY  ATL   \n",
       "\n",
       "   CRSDEPTIME  DEPTIME  DEPDELAY  DEPDEL15  TAXIOUT  WHEELSOFF  CRSARRTIME  \\\n",
       "0        1100     1057      -3.0       0.0       12       1109        1230   \n",
       "1        1040     1034      -6.0       0.0       12       1046        1150   \n",
       "2         910      905      -5.0       0.0       35        940        1554   \n",
       "3         610      605      -5.0       0.0        4        609         824   \n",
       "4        1032     1025      -7.0       0.0       17       1042        1209   \n",
       "\n",
       "   CRSELAPSEDTIME  AIRTIME  DISTANCEGROUP  FLIGHTSTATUS  \n",
       "0              90       62              2             0  \n",
       "1              70       50              2             0  \n",
       "2             224      186              7             1  \n",
       "3              74       50              2             0  \n",
       "4              97       78              2             0  "
      ]
     },
     "execution_count": 16,
     "metadata": {},
     "output_type": "execute_result"
    }
   ],
   "source": [
    "df.head()"
   ]
  },
  {
   "cell_type": "code",
   "execution_count": 17,
   "metadata": {},
   "outputs": [
    {
     "name": "stdout",
     "output_type": "stream",
     "text": [
      "The dataset now has 1000000 rows and 19 columns.\n"
     ]
    }
   ],
   "source": [
    "print('The dataset now has',df.shape[0],'rows and',df.shape[1],'columns.')"
   ]
  },
  {
   "cell_type": "markdown",
   "metadata": {},
   "source": [
    "### Train-Test Split"
   ]
  },
  {
   "cell_type": "markdown",
   "metadata": {},
   "source": [
    "Before we continue with further data preparation steps, we will first split our dataset into a training and test set using an 80/20 split. We will use our training data to develop our model and our test set to evaluate the model's performance."
   ]
  },
  {
   "cell_type": "code",
   "execution_count": 18,
   "metadata": {},
   "outputs": [],
   "source": [
    "# Train test split\n",
    "X = df.drop(target,axis=1)\n",
    "y = df[target]\n",
    "\n",
    "# # 80/20 train-test split\n",
    "X_train, X_test, y_train, y_test = train_test_split(X,y,test_size=0.2,random_state=42)"
   ]
  },
  {
   "cell_type": "code",
   "execution_count": 19,
   "metadata": {},
   "outputs": [
    {
     "name": "stdout",
     "output_type": "stream",
     "text": [
      "The training dataset has 800000 rows and 18 columns.\n"
     ]
    }
   ],
   "source": [
    "print('The training dataset has',X_train.shape[0],'rows and',X_train.shape[1],'columns.')"
   ]
  },
  {
   "cell_type": "code",
   "execution_count": 20,
   "metadata": {},
   "outputs": [
    {
     "name": "stdout",
     "output_type": "stream",
     "text": [
      "The test dataset has 200000 rows and 18 columns.\n"
     ]
    }
   ],
   "source": [
    "print('The test dataset has',X_test.shape[0],'rows and',X_test.shape[1],'columns.')"
   ]
  },
  {
   "cell_type": "markdown",
   "metadata": {},
   "source": [
    "### Missing Values\n",
    "\n",
    "Most machine learning algorithms cannot work with missing values. Therefore, it is important to identify any missing values and then to impute (i.e., replace) any missing values in our dataset."
   ]
  },
  {
   "cell_type": "code",
   "execution_count": 21,
   "metadata": {},
   "outputs": [
    {
     "data": {
      "text/plain": [
       "DEPDEL15         0.006375\n",
       "DEPDELAY         0.006375\n",
       "DISTANCEGROUP    0.000000\n",
       "DEST             0.000000\n",
       "QUARTER          0.000000\n",
       "MONTH            0.000000\n",
       "DAYOFMONTH       0.000000\n",
       "DAYOFWEEK        0.000000\n",
       "UNIQUECARRIER    0.000000\n",
       "ORIGIN           0.000000\n",
       "dtype: float64"
      ]
     },
     "execution_count": 21,
     "metadata": {},
     "output_type": "execute_result"
    }
   ],
   "source": [
    "# Calculate percentage of missing values and show top 10 columns with most missing values\n",
    "percent_missing = X_train.isna().sum() * 100 / len(X_train)\n",
    "percent_missing.sort_values(ascending=False, inplace=True)\n",
    "percent_missing[:10]"
   ]
  },
  {
   "cell_type": "markdown",
   "metadata": {},
   "source": [
    "There are missing values, so imputation is required"
   ]
  },
  {
   "cell_type": "markdown",
   "metadata": {},
   "source": [
    "#### DepDelay\n",
    "Let's do some missing values investigation with `DEPDELAY` and `DEPDEL15`"
   ]
  },
  {
   "cell_type": "code",
   "execution_count": 22,
   "metadata": {},
   "outputs": [
    {
     "name": "stdout",
     "output_type": "stream",
     "text": [
      "Number of missing values in DEPDELAY column:  63\n",
      "Number of missing values in DEPDEL15 column:  63\n"
     ]
    }
   ],
   "source": [
    "# Count the number of missing values\n",
    "print('Number of missing values in DEPDELAY column: ',df['DEPDELAY'].isna().sum())\n",
    "print('Number of missing values in DEPDEL15 column: ',df['DEPDEL15'].isna().sum())"
   ]
  },
  {
   "cell_type": "code",
   "execution_count": 23,
   "metadata": {},
   "outputs": [
    {
     "data": {
      "text/html": [
       "<div>\n",
       "<style scoped>\n",
       "    .dataframe tbody tr th:only-of-type {\n",
       "        vertical-align: middle;\n",
       "    }\n",
       "\n",
       "    .dataframe tbody tr th {\n",
       "        vertical-align: top;\n",
       "    }\n",
       "\n",
       "    .dataframe thead th {\n",
       "        text-align: right;\n",
       "    }\n",
       "</style>\n",
       "<table border=\"1\" class=\"dataframe\">\n",
       "  <thead>\n",
       "    <tr style=\"text-align: right;\">\n",
       "      <th></th>\n",
       "      <th>CRSDEPTIME</th>\n",
       "      <th>DEPTIME</th>\n",
       "      <th>DEPDELAY</th>\n",
       "      <th>DEPDEL15</th>\n",
       "    </tr>\n",
       "  </thead>\n",
       "  <tbody>\n",
       "    <tr>\n",
       "      <th>4556</th>\n",
       "      <td>1430</td>\n",
       "      <td>1430</td>\n",
       "      <td>NaN</td>\n",
       "      <td>NaN</td>\n",
       "    </tr>\n",
       "    <tr>\n",
       "      <th>15478</th>\n",
       "      <td>809</td>\n",
       "      <td>809</td>\n",
       "      <td>NaN</td>\n",
       "      <td>NaN</td>\n",
       "    </tr>\n",
       "    <tr>\n",
       "      <th>58348</th>\n",
       "      <td>602</td>\n",
       "      <td>602</td>\n",
       "      <td>NaN</td>\n",
       "      <td>NaN</td>\n",
       "    </tr>\n",
       "    <tr>\n",
       "      <th>60887</th>\n",
       "      <td>1735</td>\n",
       "      <td>1735</td>\n",
       "      <td>NaN</td>\n",
       "      <td>NaN</td>\n",
       "    </tr>\n",
       "    <tr>\n",
       "      <th>65798</th>\n",
       "      <td>830</td>\n",
       "      <td>830</td>\n",
       "      <td>NaN</td>\n",
       "      <td>NaN</td>\n",
       "    </tr>\n",
       "    <tr>\n",
       "      <th>70239</th>\n",
       "      <td>2015</td>\n",
       "      <td>2015</td>\n",
       "      <td>NaN</td>\n",
       "      <td>NaN</td>\n",
       "    </tr>\n",
       "    <tr>\n",
       "      <th>72678</th>\n",
       "      <td>1427</td>\n",
       "      <td>1427</td>\n",
       "      <td>NaN</td>\n",
       "      <td>NaN</td>\n",
       "    </tr>\n",
       "    <tr>\n",
       "      <th>84632</th>\n",
       "      <td>630</td>\n",
       "      <td>630</td>\n",
       "      <td>NaN</td>\n",
       "      <td>NaN</td>\n",
       "    </tr>\n",
       "    <tr>\n",
       "      <th>125797</th>\n",
       "      <td>1830</td>\n",
       "      <td>1830</td>\n",
       "      <td>NaN</td>\n",
       "      <td>NaN</td>\n",
       "    </tr>\n",
       "    <tr>\n",
       "      <th>128435</th>\n",
       "      <td>1510</td>\n",
       "      <td>1510</td>\n",
       "      <td>NaN</td>\n",
       "      <td>NaN</td>\n",
       "    </tr>\n",
       "  </tbody>\n",
       "</table>\n",
       "</div>"
      ],
      "text/plain": [
       "        CRSDEPTIME  DEPTIME  DEPDELAY  DEPDEL15\n",
       "4556          1430     1430       NaN       NaN\n",
       "15478          809      809       NaN       NaN\n",
       "58348          602      602       NaN       NaN\n",
       "60887         1735     1735       NaN       NaN\n",
       "65798          830      830       NaN       NaN\n",
       "70239         2015     2015       NaN       NaN\n",
       "72678         1427     1427       NaN       NaN\n",
       "84632          630      630       NaN       NaN\n",
       "125797        1830     1830       NaN       NaN\n",
       "128435        1510     1510       NaN       NaN"
      ]
     },
     "execution_count": 23,
     "metadata": {},
     "output_type": "execute_result"
    }
   ],
   "source": [
    "# Create a temporary dataframe that includes rows where \"DEPDELAY\" is missing\n",
    "tmp = df[df['DEPDELAY'].isna()]\n",
    "tmp[['CRSDEPTIME','DEPTIME','DEPDELAY','DEPDEL15']].head(10)"
   ]
  },
  {
   "cell_type": "markdown",
   "metadata": {},
   "source": [
    "We can see that these flights infact departed on time: `CRSDEPTIME` = `DEPTIME`. So we can replace these missing values in `DEPDELAY` and `DEPDEL15` with 0. \n",
    "\n",
    "We will also drop the feature `DEPTIME` from our data set as it is highly correlated to `DEPDELAY` (i.e. we can use the values in `CRSDEPTIME` and `DELDELAY` to obtain the values in `DEPTIME`)"
   ]
  },
  {
   "cell_type": "code",
   "execution_count": 24,
   "metadata": {},
   "outputs": [],
   "source": [
    "# Drop DEPTIME from our training and test sets\n",
    "X_train=X_train.drop(['DEPTIME'],axis=1)\n",
    "X_test=X_test.drop(['DEPTIME'],axis=1)"
   ]
  },
  {
   "cell_type": "markdown",
   "metadata": {},
   "source": [
    "We will perform our data transformations by wrapping them in the scikit-learn Pipeline construct - this will allow us to chain our other data transformations together later on and combine them with our ML model to simplify the code required."
   ]
  },
  {
   "cell_type": "markdown",
   "metadata": {},
   "source": [
    "![](media/pipeline.png)\n",
    "\n",
    "**Figure 2:** This image shows how we are using scikit-learn's Pipeline and ColumnTransformer constructs to build a machine learning pipeline that performs data transformations in parallel, concatenates the results, and feeds the transformed data to the ML model. Each of the dashed black boxes represents a sub-pipeline that handles a particular transformation on a subset of our dataset."
   ]
  },
  {
   "cell_type": "markdown",
   "metadata": {},
   "source": [
    "We will first create a pipeline for the missing values imputer - note that we have not included `DEPDELAY` in this pipeline. This is because we also want to perform feature scaling on it, so we will impute that feature in a following step."
   ]
  },
  {
   "cell_type": "code",
   "execution_count": 25,
   "metadata": {},
   "outputs": [],
   "source": [
    "# Pipeline for missing values imputation\n",
    "features_to_impute = ['DEPDEL15']\n",
    "missing_vals_imputer = Pipeline( steps = [\n",
    "    ( 'imputer', SimpleImputer(strategy='constant',fill_value=0) )\n",
    "])"
   ]
  },
  {
   "cell_type": "markdown",
   "metadata": {},
   "source": [
    "### Convert Time Values\n",
    "We will convert the timestamp values in `CRSDepTime`,`WheelsOff`, and `CRSArrTime` to a categorical value split into 4 quarters of the day. We will split `CRSElapsedTime` into 30 min segments. To incorporate this into a Pipeline construct, we first need to create a custom class that performs this transformation."
   ]
  },
  {
   "cell_type": "code",
   "execution_count": 26,
   "metadata": {},
   "outputs": [],
   "source": [
    "#Custom transformer that breaks time values into categorical values\n",
    "class TimeTransformer( BaseEstimator, TransformerMixin ):\n",
    "    #Class constructor method - takes no inputs, so nothing to do\n",
    "    def __init__(self):\n",
    "        return None\n",
    "        \n",
    "    #Return self nothing else to do here\n",
    "    def fit( self, X, y = None  ):\n",
    "        return self\n",
    "    \n",
    "    #Transformer method we wrote for this transformer \n",
    "    # Converts 24hr features into 4 quarters of the day, splits elapsed time into 30min segments\n",
    "    def transform(self, X , y = None ):\n",
    "        X['CRSDEPTIME'] = np.ceil(X['CRSDEPTIME']/600).apply(int)\n",
    "        X['WHEELSOFF'] = np.ceil(X['WHEELSOFF']/600).apply(int) \n",
    "        X['CRSARRTIME'] = np.ceil(X['CRSARRTIME']/600).apply(int)\n",
    "        X['CRSELAPSEDTIME']=np.ceil(X['CRSELAPSEDTIME']/30).apply(int)\n",
    "        \n",
    "        return X.values"
   ]
  },
  {
   "cell_type": "code",
   "execution_count": 27,
   "metadata": {},
   "outputs": [],
   "source": [
    "# Create a pipeline that converts our time values using the custom transformer we just wrote\n",
    "time_features = ['CRSDEPTIME','WHEELSOFF','CRSARRTIME','CRSELAPSEDTIME']\n",
    "time_vals_converter = Pipeline( steps = [\n",
    "    ( 'time_transformer', TimeTransformer())\n",
    "])"
   ]
  },
  {
   "cell_type": "markdown",
   "metadata": {},
   "source": [
    "### Feature Scaling\n",
    "We will scale our continuous numerical columns: `AirTime`,`TaxiOut`,`DepDelay`.\n",
    "\n",
    "Most machine learning algorithms do not perform well when the numerical attributes in the data have very different scales (i.e., large range of possible values). It is important to make sure that the numerical features in our dataset have similar scales. A standardized value z of an input feature x is calculated as:\n",
    "\n",
    "z = (x - u) / s\n",
    "\n",
    "where u is the mean of the training samples and s is the standard deviation of the training samples."
   ]
  },
  {
   "cell_type": "code",
   "execution_count": 28,
   "metadata": {},
   "outputs": [],
   "source": [
    "# Scale continuous numerical columns\n",
    "features_to_scale=['AIRTIME','TAXIOUT','DEPDELAY']\n",
    "feature_scaler = Pipeline( steps = [\n",
    "    ( 'imputer', SimpleImputer(strategy='constant',fill_value=0)), # Imputation - DEPDELAY has missing values\n",
    "    ( 'scaler', StandardScaler())\n",
    "])"
   ]
  },
  {
   "cell_type": "markdown",
   "metadata": {},
   "source": [
    "### One-Hot Encoding"
   ]
  },
  {
   "cell_type": "markdown",
   "metadata": {},
   "source": [
    "The values in `UNIQUECARRIER`, `ORIGIN`, and `DEST` need to be converted into categorical columns\n",
    "\n",
    "Most machine learning algorithms prefer to work with numbers rather than text values. A common solution is to create one binary attribute *per category*: one attribute equal to 1 when the category is “LAX” (and 0 otherwise), another attribute equal to 1 when the category is “JFK” (and 0 otherwise), and so on. This is called one-hot encoding, because only one attribute will be equal to 1 (hot), while the others will be 0 (cold)."
   ]
  },
  {
   "cell_type": "code",
   "execution_count": 29,
   "metadata": {},
   "outputs": [
    {
     "name": "stdout",
     "output_type": "stream",
     "text": [
      "Number of unique values in UNIQUECARRIER: 23\n",
      "Number of unique values in ORIGIN: 367\n",
      "Number of unique values in DEST: 366\n"
     ]
    }
   ],
   "source": [
    "# Calculate number of unique values in each of these columns\n",
    "print('Number of unique values in UNIQUECARRIER:', X_train['UNIQUECARRIER'].nunique())\n",
    "print('Number of unique values in ORIGIN:', X_train['ORIGIN'].nunique())\n",
    "print('Number of unique values in DEST:', X_train['DEST'].nunique())"
   ]
  },
  {
   "cell_type": "markdown",
   "metadata": {},
   "source": [
    "Clearly, we can't apply one-hot encoding directly to these columns as we would be adding >750 new columns! Instead we will select the top 10 most common occurences in these columns as our labels. Again to do this, we need to create a custom class that will first identify the top 10 most common occurences, and then will transform the values not in those top 10 lists to \"Other_X\" (e.g. Other_Airline)."
   ]
  },
  {
   "cell_type": "code",
   "execution_count": 30,
   "metadata": {},
   "outputs": [],
   "source": [
    "#Custom transformer that reduces the number of unique values\n",
    "class ReduceUnique( BaseEstimator, TransformerMixin ):\n",
    "    #Class constructor method - takes no inputs, so nothing to do\n",
    "    def __init__(self):\n",
    "        return None\n",
    "        \n",
    "    #Fit method - find the top 10 most common occurrences in each of the 3 columns\n",
    "    def fit( self, X, y = None  ):\n",
    "        self._top_10_airlines = X_train['UNIQUECARRIER'].value_counts().index[:10].tolist()\n",
    "        self._top_10_origin = X_train['ORIGIN'].value_counts().index[:10].tolist()\n",
    "        self._top_10_dest = X_train['DEST'].value_counts().index[:10].tolist()\n",
    "        return self\n",
    "    \n",
    "    #Transformer method - convert values not in the top 10 lists to \"Other_X\"\n",
    "    def transform(self, X , y = None ):\n",
    "        X['UNIQUECARRIER'] = np.where(~X['UNIQUECARRIER'].isin(self._top_10_airlines),\n",
    "                                      'Other_Airline', X['UNIQUECARRIER'])\n",
    "        X['ORIGIN'] = np.where(~X['ORIGIN'].isin(self._top_10_origin),'Other_Origin', X['ORIGIN'])\n",
    "        X['DEST'] = np.where(~X['DEST'].isin(self._top_10_dest),'Other_Dest', X['DEST'])\n",
    "        \n",
    "        return X.values "
   ]
  },
  {
   "cell_type": "markdown",
   "metadata": {},
   "source": [
    "After having applied this `ReduceUnique` transformer to our columns, we can now perform one-hot encoding as we now only replace the 3 original columns with 11+11+11=33 new columns."
   ]
  },
  {
   "cell_type": "code",
   "execution_count": 31,
   "metadata": {},
   "outputs": [],
   "source": [
    "# Perform one-hot encoding\n",
    "features_to_encode=['UNIQUECARRIER','ORIGIN','DEST']\n",
    "feature_encoder = Pipeline( steps = [\n",
    "    ( 'reduceunique', ReduceUnique()), # First reduce the number of unique values\n",
    "    ('encoder',OneHotEncoder(handle_unknown='ignore')) # Perform one-hot encoding\n",
    "])"
   ]
  },
  {
   "cell_type": "markdown",
   "metadata": {},
   "source": [
    "## Combine our transformers into a single data transformation pipeline"
   ]
  },
  {
   "cell_type": "markdown",
   "metadata": {},
   "source": [
    "The ColumnTransformer construct allows us to perform our transformations *in parallel* improving the overall execution time of our pipeline. It does so by applying different transformers to different subsets of the whole input data and concatenating the results. "
   ]
  },
  {
   "cell_type": "code",
   "execution_count": 32,
   "metadata": {},
   "outputs": [],
   "source": [
    "transform_pipeline=ColumnTransformer([\n",
    "    ('imputer',missing_vals_imputer,features_to_impute), # Missing values imputation\n",
    "    ('time_vals_converter',time_vals_converter,time_features), # 24hr time values conversion\n",
    "    ('feature_scaler', feature_scaler,features_to_scale ), # Feature scaling\n",
    "    ('feature_encoder', feature_encoder,features_to_encode ) # One-hot encoding\n",
    "],remainder='passthrough',verbose=True)"
   ]
  },
  {
   "cell_type": "markdown",
   "metadata": {},
   "source": [
    "![](media/pipeline.png)\n",
    "\n",
    "**Figure 2:** This image shows how we are using scikit-learn's Pipeline and ColumnTransformer constructs to build a machine learning pipeline that performs data transformations in parallel, concatenates the results, and feeds the transformed data to the ML model."
   ]
  },
  {
   "cell_type": "markdown",
   "metadata": {},
   "source": [
    "## Model Training"
   ]
  },
  {
   "cell_type": "markdown",
   "metadata": {},
   "source": [
    "### Logistic Regression\n",
    "\n",
    "Logistic Regression (also called Logit Regression) is commonly used to estimate the probability that an instance belongs to a particular class (e.g., what is the probability that you will pass your exam?). If the estimated probability is greater than 50%, then the model predicts that the instance belongs to that class (called the positive class, labeled “1”), and otherwise it predicts that it does not (i.e., it belongs to the negative class, labeled “0”). This makes it a binary classifier.\n",
    "\n",
    "We will train a logistic regression model using the default values and setting the `class_weight` parameter to \"balanced\" due to our imbalanced training dataset.\n",
    "\n",
    "![](media/Exam_pass_logistic_curve.jpeg)\n",
    "\n",
    "**Figure 3:** A sample logistic regression model. The blue line shows the fitted logit function, and the black dots represent the input training data. Note that for points where the probability is greater than 50%, the predicted class is 1, and 0 otherwise. This model predicts that if you study for 2.75 hrs or longer, you will pass your exam."
   ]
  },
  {
   "cell_type": "code",
   "execution_count": 33,
   "metadata": {},
   "outputs": [],
   "source": [
    "# Create our final ML pipeline by adding our model to the data transformation pipeline\n",
    "full_pipeline = Pipeline( steps = [\n",
    "    ('transformation_pipeline', transform_pipeline), # Data transformations\n",
    "    ( 'model', LogisticRegression(random_state=42,class_weight='balanced')) # Logistic Regression model\n",
    "],verbose=True)"
   ]
  },
  {
   "cell_type": "code",
   "execution_count": 34,
   "metadata": {
    "scrolled": false
   },
   "outputs": [
    {
     "name": "stdout",
     "output_type": "stream",
     "text": [
      "[ColumnTransformer] ....... (1 of 5) Processing imputer, total=   0.0s\n",
      "[ColumnTransformer]  (2 of 5) Processing time_vals_converter, total=   1.6s\n",
      "[ColumnTransformer]  (3 of 5) Processing feature_scaler, total=   0.1s\n",
      "[ColumnTransformer]  (4 of 5) Processing feature_encoder, total=   3.4s\n",
      "[ColumnTransformer] ..... (5 of 5) Processing remainder, total=   0.0s\n",
      "[Pipeline]  (step 1 of 2) Processing transformation_pipeline, total=   5.6s\n",
      "[Pipeline] ............. (step 2 of 2) Processing model, total=  14.9s\n"
     ]
    }
   ],
   "source": [
    "#Perform data transformations and fit our model to the transformed training data\n",
    "trained_pipeline = full_pipeline.fit(X_train,y_train)"
   ]
  },
  {
   "cell_type": "code",
   "execution_count": 35,
   "metadata": {},
   "outputs": [],
   "source": [
    "#Make predictions on our test set to compare it against the true values\n",
    "y_pred = trained_pipeline.predict(X_test)"
   ]
  },
  {
   "cell_type": "markdown",
   "metadata": {},
   "source": [
    "We will use the F1 score (harmonic mean of Precision and Recall) as our metric for evaluating model performance. An F1-Score of 1.0, indicates perfect precision and recall, and the lowest possible value is 0, if either the precision or the recall is zero.\n",
    "\n",
    "Precision is the number of true positive results divided by the number of all positive results, including those not identified correctly, and the recall is the number of true positive results divided by the number of all samples that should have been identified as positive.\n",
    "\n",
    "The F1 score can be expressed as\n",
    "\n",
    "$\\frac{TP}{TP +\\frac{1}{2}(FP+FN)}$,\n",
    "\n",
    "where TP is the number of true positives, FP is the number of false positives, and FN is the number of false negatives"
   ]
  },
  {
   "cell_type": "code",
   "execution_count": 36,
   "metadata": {
    "scrolled": false
   },
   "outputs": [
    {
     "name": "stdout",
     "output_type": "stream",
     "text": [
      "              precision    recall  f1-score   support\n",
      "\n",
      "           0       0.85      0.89      0.87    125138\n",
      "           1       0.79      0.73      0.76     74862\n",
      "\n",
      "    accuracy                           0.83    200000\n",
      "   macro avg       0.82      0.81      0.81    200000\n",
      "weighted avg       0.83      0.83      0.83    200000\n",
      "\n"
     ]
    }
   ],
   "source": [
    "# Let's evaluate the model performance\n",
    "print(classification_report(y_test,y_pred))"
   ]
  },
  {
   "cell_type": "code",
   "execution_count": 37,
   "metadata": {
    "scrolled": false
   },
   "outputs": [
    {
     "name": "stdout",
     "output_type": "stream",
     "text": [
      "Model F1 Score: 0.761\n"
     ]
    },
    {
     "data": {
      "image/png": "[encoded data removed]",
      "text/plain": [
       "<Figure size 864x576 with 2 Axes>"
      ]
     },
     "metadata": {
      "image/png": {
       "height": 500,
       "width": 667
      }
     },
     "output_type": "display_data"
    }
   ],
   "source": [
    "# Plot confusion matrix\n",
    "print('Model F1 Score: %.3f' % f1_score(y_test,y_pred))\n",
    "\n",
    "cf_matrix = confusion_matrix(y_test, y_pred)\n",
    "sns.heatmap(cf_matrix/np.sum(cf_matrix), annot=True, \n",
    "            fmt='.2%', cmap='Blues',xticklabels=['On Time','Delayed'],yticklabels=['On Time','Delayed'])\n",
    "plt.title('Random Forest')\n",
    "plt.xlabel('Predicted')\n",
    "plt.ylabel('Actual')\n",
    "plt.show()"
   ]
  },
  {
   "cell_type": "markdown",
   "metadata": {},
   "source": [
    "## Save Deployment Assets\n",
    "\n",
    "We now need to save our deployment assets to Db2. They include:\n",
    "- Our trained ML pipeline, saved as a joblib file and stored in a Db2 table\n",
    "- Our custom transformers, saved as a Python script and stored on the shared filesystem "
   ]
  },
  {
   "cell_type": "markdown",
   "metadata": {},
   "source": [
    "#### Save our ML pipeline to a Db2 table\n",
    "\n",
    "1. Save our asset as a joblib file\n",
    "2. Create a table MYASSETS for storing the contents of the joblib file\n",
    "3. Use the ibm_db package to store the contents of the joblib file to the MYASSETS table"
   ]
  },
  {
   "cell_type": "code",
   "execution_count": 38,
   "metadata": {},
   "outputs": [
    {
     "data": {
      "text/plain": [
       "['../../../PYUDF/trained_pipeline.joblib']"
      ]
     },
     "execution_count": 38,
     "metadata": {},
     "output_type": "execute_result"
    }
   ],
   "source": [
    "# Save our asset as a joblib file\n",
    "dump(trained_pipeline,'../../../PYUDF/trained_pipeline.joblib')"
   ]
  },
  {
   "cell_type": "code",
   "execution_count": 39,
   "metadata": {},
   "outputs": [
    {
     "name": "stdout",
     "output_type": "stream",
     "text": [
      "Command completed.\n"
     ]
    }
   ],
   "source": [
    "%%sql\n",
    "DROP TABLE IF EXISTS MYASSETS"
   ]
  },
  {
   "cell_type": "code",
   "execution_count": 40,
   "metadata": {},
   "outputs": [
    {
     "name": "stdout",
     "output_type": "stream",
     "text": [
      "Command completed.\n"
     ]
    }
   ],
   "source": [
    "%%sql\n",
    "CREATE TABLE MYASSETS(name VARCHAR(15),joblib BLOB) "
   ]
  },
  {
   "cell_type": "code",
   "execution_count": 41,
   "metadata": {},
   "outputs": [],
   "source": [
    "# Custom function for saving the contents of a joblib file to a Db2 table\n",
    "def deploy_joblib_assets(asset_name,filepath,table_name,ibm_db_conn):\n",
    "    '''\n",
    "    asset_name = name of the asset - to be stored in Db2 table column\n",
    "    filepath = the path to the joblib file to be stored\n",
    "    table_name = the Db2 table which will store the joblib file contents and the asset name\n",
    "    ibm_db_conn = an connection to the Db2 database created by the ibm_db.connect() function\n",
    "    '''\n",
    "    \n",
    "    joblib_file=filepath\n",
    "    name=asset_name\n",
    "\n",
    "    print(\"Preparing to deploy asset \"+asset_name+\" to Db2...\")\n",
    "    \n",
    "    # Prepare SQL INSERT statement\n",
    "    insert_sql = \"INSERT INTO \"+table_name+\"(name,joblib) values(?,?)\"\n",
    "    stmt = ibm_db.prepare(ibm_db_conn, insert_sql)\n",
    "    print(\"Successfully prepared the insert statement\")\n",
    "    \n",
    "    # Bind parameters (name & joblib file contents) to the placeholders\n",
    "    rc = ibm_db.bind_param(stmt, 1, name)\n",
    "    print(\"Bind returned: \"+str(rc))\n",
    "    rc = ibm_db.bind_param(stmt, 2, joblib_file, ibm_db.PARAM_FILE,ibm_db.SQL_BLOB )\n",
    "    print(\"Bind returned: \"+str(rc))\n",
    "    print(\"Successfully bound the variables to the parmameter-markers\")\n",
    "    \n",
    "    # Execute the INSERT statement\n",
    "    try:\n",
    "        ibm_db.execute(stmt)\n",
    "        print(\"Successfully inserted joblib file into blob column\\n\")\n",
    "    except:\n",
    "        print(\"Failed to execute the insert to blob column\")\n",
    "        print(ibm_db.stmt_errormsg(stmt))\n"
   ]
  },
  {
   "cell_type": "code",
   "execution_count": 42,
   "metadata": {},
   "outputs": [
    {
     "name": "stdout",
     "output_type": "stream",
     "text": [
      "Connection to Db2 Instance Created!\n"
     ]
    }
   ],
   "source": [
    "# Make a connection to the Db2 database - for use in our custom function\n",
    "conn_str = \"DATABASE=ONTIME;\" + \\\n",
    "           \"HOSTNAME=localhost;\"+ \\\n",
    "           \"PROTOCOL=TCPIP;\"  + \\\n",
    "           \"PORT=50001;\" + \\\n",
    "           \"UID=db2inst1;\" + \\\n",
    "           \"PWD=db2inst1;\"\n",
    "\n",
    "ibm_db_conn = ibm_db.connect(conn_str,\"\",\"\")\n",
    "print('Connection to Db2 Instance Created!')"
   ]
  },
  {
   "cell_type": "code",
   "execution_count": 43,
   "metadata": {},
   "outputs": [
    {
     "name": "stdout",
     "output_type": "stream",
     "text": [
      "Preparing to deploy asset pipeline to Db2...\n",
      "Successfully prepared the insert statement\n",
      "Bind returned: True\n",
      "Bind returned: True\n",
      "Successfully bound the variables to the parmameter-markers\n",
      "Successfully inserted joblib file into blob column\n",
      "\n"
     ]
    }
   ],
   "source": [
    "# Save our asset to the MYASSETS table\n",
    "deploy_joblib_assets(\"pipeline\",\"../../../PYUDF/trained_pipeline.joblib\",\"MYASSETS\",ibm_db_conn)"
   ]
  },
  {
   "cell_type": "markdown",
   "metadata": {},
   "source": [
    "#### Saving our custom functions\n",
    "\n",
    "We will simply create a python script `mycustomtransformers.py` that we will use to load in our custom transformers into our UDF in a later step"
   ]
  },
  {
   "cell_type": "code",
   "execution_count": 44,
   "metadata": {},
   "outputs": [
    {
     "name": "stdout",
     "output_type": "stream",
     "text": [
      "Overwriting ../../../PYUDF/mycustomtransformers.py\n"
     ]
    }
   ],
   "source": [
    "%%writefile ../../../PYUDF/mycustomtransformers.py\n",
    "\n",
    "import numpy as np \n",
    "import pandas as pd\n",
    "from sklearn.base import BaseEstimator, TransformerMixin\n",
    "\n",
    "\n",
    "#Custom transformer that breaks time values into categorical values\n",
    "class TimeTransformer( BaseEstimator, TransformerMixin ):\n",
    "    #Class constructor method - takes no inputs, so nothing to do\n",
    "    def __init__(self):\n",
    "        return None\n",
    "        \n",
    "    #Return self nothing else to do here\n",
    "    def fit( self, X, y = None  ):\n",
    "        return self\n",
    "    \n",
    "    #Transformer method we wrote for this transformer \n",
    "    # Converts 24hr features into 4 quarters of the day, splits elapsed time into 30min segments\n",
    "    def transform(self, X , y = None ):\n",
    "        X['CRSDEPTIME'] = np.ceil(X['CRSDEPTIME']/600).apply(int)\n",
    "        X['WHEELSOFF'] = np.ceil(X['WHEELSOFF']/600).apply(int) \n",
    "        X['CRSARRTIME'] = np.ceil(X['CRSARRTIME']/600).apply(int)\n",
    "        X['CRSELAPSEDTIME']=np.ceil(X['CRSELAPSEDTIME']/30).apply(int)\n",
    "        \n",
    "        return X.values \n",
    "\n",
    "\n",
    "#Custom transformer that reduces the number of unique values\n",
    "class ReduceUnique( BaseEstimator, TransformerMixin ):\n",
    "    #Class constructor method - takes no inputs, so nothing to do\n",
    "    def __init__(self):\n",
    "        return None\n",
    "        \n",
    "    #Fit method - find the top 10 most common occurrences in each of the 3 columns\n",
    "    def fit( self, X, y = None  ):\n",
    "        self._top_10_airlines = X_train['UNIQUECARRIER'].value_counts().index[:10].tolist()\n",
    "        self._top_10_origin = X_train['ORIGIN'].value_counts().index[:10].tolist()\n",
    "        self._top_10_dest = X_train['DEST'].value_counts().index[:10].tolist()\n",
    "        return self\n",
    "    \n",
    "    #Transformer method - convert values not in the top 10 lists to \"Other_X\"\n",
    "    def transform(self, X , y = None ):\n",
    "        X['UNIQUECARRIER'] = np.where(~X['UNIQUECARRIER'].isin(self._top_10_airlines),\n",
    "                                      'Other_Airline', X['UNIQUECARRIER'])\n",
    "        X['ORIGIN'] = np.where(~X['ORIGIN'].isin(self._top_10_origin),'Other_Origin', X['ORIGIN'])\n",
    "        X['DEST'] = np.where(~X['DEST'].isin(self._top_10_dest),'Other_Dest', X['DEST'])\n",
    "        \n",
    "        return X.values "
   ]
  },
  {
   "cell_type": "markdown",
   "metadata": {},
   "source": [
    "# Part II. Deploying the Pipeline to Db2"
   ]
  },
  {
   "cell_type": "markdown",
   "metadata": {},
   "source": [
    "We are now ready to deploy our model to Db2 for in-database scoring.\n",
    "\n",
    "We will:\n",
    "1. Create a UDF source file\n",
    "2. Register our Python UDF\n",
    "3. Call our UDF with a SQL statement"
   ]
  },
  {
   "cell_type": "markdown",
   "metadata": {},
   "source": [
    "Our UDF (User Defined Function) has the following sections:\n",
    "- **Initialization**: Define any static variables, load our deployment assets (e.g. model), and prepare for batch scoring\n",
    "- **Data Preparation**: Perform the same data preparation steps we performed during model development\n",
    "- **Model Scoring & Output**: Call our model to make predictions and return the results\n",
    "\n",
    "Our UDF will output the following:\n",
    "- `DATE`: The date of the flight \n",
    "- `ORIGIN`: The origin airport\n",
    "- `DEST`: The destination airport\n",
    "- `CARRIER`: The airline code\n",
    "- `CRSDEPTIME`: The scheduled departure time\n",
    "- `CRSARRTIME`: The scheduled arrival time \n",
    "- `PREDICTION`: The prediction (0 = on time, 1 = delayed)\n",
    "- `PROB_DELAYED`: The predicted probability that the flight will be delayed"
   ]
  },
  {
   "cell_type": "markdown",
   "metadata": {},
   "source": [
    "![](media/udfdeployment.png)\n",
    "\n",
    "**Figure 4**: This figure depicts how a UDF source file is created from the original pipeline code developed during the model development stage."
   ]
  },
  {
   "cell_type": "code",
   "execution_count": 45,
   "metadata": {},
   "outputs": [
    {
     "name": "stdout",
     "output_type": "stream",
     "text": [
      "Overwriting ../../../PYUDF/myUDF.py\n"
     ]
    }
   ],
   "source": [
    "%%writefile ../../../PYUDF/myUDF.py\n",
    "\n",
    "#Imports\n",
    "import nzae\n",
    "import pandas as pd\n",
    "from joblib import load\n",
    "import numpy as np\n",
    "import ibm_db\n",
    "from io import BytesIO\n",
    "sys.path.insert(0, 'home/db2inst1/PYUDF/')\n",
    "from mycustomtransformers import TimeTransformer, ReduceUnique\n",
    "\n",
    "class full_pipeline(nzae.Ae):\n",
    "    def _runUdtf(self):\n",
    "        #####################\n",
    "        ### INITIALIZATON ###\n",
    "        #####################\n",
    "        \n",
    "        # Define static variables\n",
    "        input_cols = ['YEAR','QUARTER', 'MONTH',\n",
    "                      'DAYOFMONTH', 'DAYOFWEEK','UNIQUECARRIER',\n",
    "                      'ORIGIN', 'DEST', 'CRSDEPTIME',\n",
    "                      'DEPDELAY', 'DEPDEL15','TAXIOUT','WHEELSOFF',\n",
    "                      'CRSARRTIME', 'CRSELAPSEDTIME', 'AIRTIME', 'DISTANCEGROUP']\n",
    "\n",
    "        # Make a connection to our Db2 database - for executing SQL statements\n",
    "        conn_str = \"DATABASE=ONTIME;\" + \\\n",
    "           \"HOSTNAME=localhost;\"+ \\\n",
    "           \"PROTOCOL=TCPIP;\"  + \\\n",
    "           \"PORT=50001;\" + \\\n",
    "           \"UID=db2inst1;\" + \\\n",
    "           \"PWD=db2inst1;\"\n",
    "\n",
    "        ibm_db_conn = ibm_db.connect(conn_str,\"\",\"\")\n",
    "        \n",
    "        # Load our trained ML pipeline\n",
    "        sql = \"SELECT JOBLIB FROM MYASSETS WHERE NAME='pipeline'\"\n",
    "        stmt = ibm_db.exec_immediate(ibm_db_conn, sql)\n",
    "        row = ibm_db.fetch_tuple(stmt)\n",
    "        trained_pipeline = load(BytesIO(row[0]))\n",
    "        \n",
    "        #######################\n",
    "        ### DATA COLLECTION ###\n",
    "        #######################\n",
    "        # Collect rows into a single batch\n",
    "        batchsize = 10000\n",
    "        rownum = 0\n",
    "        row_list = []\n",
    "        for row in self:\n",
    "            row_list.append(row)\n",
    "            rownum = rownum+1         \n",
    "\n",
    "            if rownum==batchsize:\n",
    "\n",
    "                # Create a dataframe from the batch\n",
    "                df = pd.DataFrame(row_list, columns=input_cols)\n",
    "\n",
    "                # Save the original datestring (yyyymmdd), ORIGIN, DEST, UNIQUECARRIER, CRSDEPTIME, CRSARRTIME\n",
    "                # to return with the model prediction\n",
    "                dates = [int(year + month + day) for year, month, day in \n",
    "                         zip(map(str,list(df['YEAR'])), map(str,[\"%02d\" %i for i in list(df['MONTH'])]), \n",
    "                             map(str,[\"%02d\" %i for i in list(df['DAYOFMONTH'])]))]\n",
    "                origins = list(df['ORIGIN'])\n",
    "                dests = list(df['DEST'])\n",
    "                carriers = list(df['UNIQUECARRIER'])\n",
    "                deptimes = list(df['CRSDEPTIME'])\n",
    "                arrtimes = list(df['CRSARRTIME'])\n",
    "\n",
    "                ##############################\n",
    "                ### MODEL SCORING & OUTPUT ###\n",
    "                ##############################\n",
    "                \n",
    "                # Call our trained pipeline to transform the data and make predictions\n",
    "                predictions = trained_pipeline.predict(df)\n",
    "                \n",
    "                # Calculate probability that flight will be delayed, round to 2 decimal places              \n",
    "                probability_delayed = [round(x,2) for x in trained_pipeline.predict_proba(df)[:,1]]\n",
    "\n",
    "                # Return the result\n",
    "                for x in range(predictions.shape[0]):\n",
    "                    self.output(int(dates[x]),str(origins[x]),str(dests[x]),str(carriers[x]),\n",
    "                                int(deptimes[x]),int(arrtimes[x]),int(predictions[x]),\n",
    "                                float(probability_delayed[x]))\n",
    "\n",
    "                row_list = []\n",
    "                rownum = 0\n",
    "                \n",
    "        self.done()\n",
    "full_pipeline.run()"
   ]
  },
  {
   "cell_type": "markdown",
   "metadata": {},
   "source": [
    "We are now ready to register our UDF. We will provide it a name `FLIGHT_PREDICTER`, define the input datatypes, the definition of the table it outputs (i.e. column names and datatypes), and the path to our source file."
   ]
  },
  {
   "cell_type": "code",
   "execution_count": 46,
   "metadata": {},
   "outputs": [
    {
     "name": "stdout",
     "output_type": "stream",
     "text": [
      "Command completed.\n"
     ]
    }
   ],
   "source": [
    "%%sql\n",
    "CREATE OR REPLACE FUNCTION \n",
    "FLIGHT_PREDICTER(SMALLINT,SMALLINT,SMALLINT,SMALLINT,SMALLINT,VARCHAR(8),VARCHAR(3),VARCHAR(3),SMALLINT,\n",
    "                 SMALLINT,SMALLINT,SMALLINT,SMALLINT,SMALLINT,SMALLINT,SMALLINT,SMALLINT) \n",
    "RETURNS TABLE (DATE INTEGER,ORIGIN VARCHAR(3), DEST VARCHAR(3), CARRIER VARCHAR(3), \n",
    "CRSDEPTIME SMALLINT, CRSARRTIME SMALLINT,PREDICTION SMALLINT,PROB_DELAYED DOUBLE)\n",
    "LANGUAGE PYTHON PARAMETER STYLE NPSGENERIC  FENCED  NOT THREADSAFE  NO FINAL CALL  DISALLOW PARALLEL  NO DBINFO  \n",
    "DETERMINISTIC NO EXTERNAL ACTION CALLED ON NULL INPUT  \n",
    "NO SQL EXTERNAL NAME 'home/db2inst1/PYUDF/myUDF.py'"
   ]
  },
  {
   "cell_type": "markdown",
   "metadata": {},
   "source": [
    "With our UDF source file created and our function registered, we can now call the Python UDF to make predictions. We will create a table `ONTIME.PREDICTIONS` to store the results, and insert the output from our UDF into that table. Recall that we will be making predictions on new flight data from 2020 (i.e., the model is using historical data to make predictions on future events)."
   ]
  },
  {
   "cell_type": "code",
   "execution_count": 47,
   "metadata": {
    "scrolled": true
   },
   "outputs": [
    {
     "name": "stdout",
     "output_type": "stream",
     "text": [
      "Command completed.\n"
     ]
    }
   ],
   "source": [
    "%%sql\n",
    "DROP TABLE IF EXISTS ONTIME.PREDICTIONS"
   ]
  },
  {
   "cell_type": "code",
   "execution_count": 48,
   "metadata": {},
   "outputs": [
    {
     "name": "stdout",
     "output_type": "stream",
     "text": [
      "Command completed.\n"
     ]
    }
   ],
   "source": [
    "%%sql\n",
    "CREATE TABLE ONTIME.PREDICTIONS(DATE INTEGER,\n",
    "                                ORIGIN VARCHAR(3), \n",
    "                                DEST VARCHAR(3),\n",
    "                                CARRIER VARCHAR(3),\n",
    "                                CRSDEPTIME SMALLINT, \n",
    "                                CRSARRTIME SMALLINT,\n",
    "                                PREDICTION SMALLINT,\n",
    "                                PROB_DELAYED DOUBLE)"
   ]
  },
  {
   "cell_type": "code",
   "execution_count": 49,
   "metadata": {},
   "outputs": [
    {
     "name": "stdout",
     "output_type": "stream",
     "text": [
      "Command completed.\n"
     ]
    }
   ],
   "source": [
    "%%sql\n",
    "INSERT INTO ONTIME.PREDICTIONS(DATE,ORIGIN,DEST,CARRIER,CRSDEPTIME,CRSARRTIME,PREDICTION,PROB_DELAYED)\n",
    "SELECT f.* from ONTIME.NEWDATA i,\n",
    "TABLE(FLIGHT_PREDICTER(i.YEAR, i.QUARTER, i.MONTH, \n",
    "                i.DAYOFMONTH, i.DAYOFWEEK,i.UNIQUECARRIER,\n",
    "                i.ORIGIN, i.DEST, i.CRSDEPTIME,\n",
    "                i.DEPDELAY, i.DEPDEL15,i.TAXIOUT,i.WHEELSOFF,\n",
    "                i.CRSARRTIME, i.CRSELAPSEDTIME, i.AIRTIME, i.DISTANCEGROUP)) f"
   ]
  },
  {
   "cell_type": "markdown",
   "metadata": {},
   "source": [
    "Finally, we can query the `ONTIME.PREDICTIONS` table to look at the output."
   ]
  },
  {
   "cell_type": "code",
   "execution_count": 50,
   "metadata": {},
   "outputs": [],
   "source": [
    "query = %sql SELECT * FROM ONTIME.PREDICTIONS\n",
    "result = pd.DataFrame(query)"
   ]
  },
  {
   "cell_type": "code",
   "execution_count": 51,
   "metadata": {
    "scrolled": false
   },
   "outputs": [
    {
     "data": {
      "text/html": [
       "<div>\n",
       "<style scoped>\n",
       "    .dataframe tbody tr th:only-of-type {\n",
       "        vertical-align: middle;\n",
       "    }\n",
       "\n",
       "    .dataframe tbody tr th {\n",
       "        vertical-align: top;\n",
       "    }\n",
       "\n",
       "    .dataframe thead th {\n",
       "        text-align: right;\n",
       "    }\n",
       "</style>\n",
       "<table border=\"1\" class=\"dataframe\">\n",
       "  <thead>\n",
       "    <tr style=\"text-align: right;\">\n",
       "      <th></th>\n",
       "      <th>DATE</th>\n",
       "      <th>ORIGIN</th>\n",
       "      <th>DEST</th>\n",
       "      <th>CARRIER</th>\n",
       "      <th>CRSDEPTIME</th>\n",
       "      <th>CRSARRTIME</th>\n",
       "      <th>PREDICTION</th>\n",
       "      <th>PROB_DELAYED</th>\n",
       "    </tr>\n",
       "  </thead>\n",
       "  <tbody>\n",
       "    <tr>\n",
       "      <th>0</th>\n",
       "      <td>20200627</td>\n",
       "      <td>ATL</td>\n",
       "      <td>MCI</td>\n",
       "      <td>FL</td>\n",
       "      <td>1731</td>\n",
       "      <td>1836</td>\n",
       "      <td>0</td>\n",
       "      <td>0.15</td>\n",
       "    </tr>\n",
       "    <tr>\n",
       "      <th>1</th>\n",
       "      <td>20200703</td>\n",
       "      <td>EWR</td>\n",
       "      <td>LAS</td>\n",
       "      <td>CO</td>\n",
       "      <td>745</td>\n",
       "      <td>1010</td>\n",
       "      <td>0</td>\n",
       "      <td>0.29</td>\n",
       "    </tr>\n",
       "    <tr>\n",
       "      <th>2</th>\n",
       "      <td>20200322</td>\n",
       "      <td>ATL</td>\n",
       "      <td>LGA</td>\n",
       "      <td>DL</td>\n",
       "      <td>1745</td>\n",
       "      <td>2007</td>\n",
       "      <td>0</td>\n",
       "      <td>0.18</td>\n",
       "    </tr>\n",
       "    <tr>\n",
       "      <th>3</th>\n",
       "      <td>20200115</td>\n",
       "      <td>MCO</td>\n",
       "      <td>DFW</td>\n",
       "      <td>AA</td>\n",
       "      <td>1935</td>\n",
       "      <td>2130</td>\n",
       "      <td>1</td>\n",
       "      <td>0.75</td>\n",
       "    </tr>\n",
       "    <tr>\n",
       "      <th>4</th>\n",
       "      <td>20200716</td>\n",
       "      <td>ISN</td>\n",
       "      <td>MSP</td>\n",
       "      <td>OO</td>\n",
       "      <td>640</td>\n",
       "      <td>824</td>\n",
       "      <td>0</td>\n",
       "      <td>0.21</td>\n",
       "    </tr>\n",
       "    <tr>\n",
       "      <th>5</th>\n",
       "      <td>20200608</td>\n",
       "      <td>BNA</td>\n",
       "      <td>DTW</td>\n",
       "      <td>DL</td>\n",
       "      <td>1315</td>\n",
       "      <td>1552</td>\n",
       "      <td>0</td>\n",
       "      <td>0.15</td>\n",
       "    </tr>\n",
       "    <tr>\n",
       "      <th>6</th>\n",
       "      <td>20200729</td>\n",
       "      <td>IAH</td>\n",
       "      <td>MCO</td>\n",
       "      <td>UA</td>\n",
       "      <td>1555</td>\n",
       "      <td>1918</td>\n",
       "      <td>1</td>\n",
       "      <td>0.78</td>\n",
       "    </tr>\n",
       "    <tr>\n",
       "      <th>7</th>\n",
       "      <td>20200312</td>\n",
       "      <td>PIA</td>\n",
       "      <td>CLT</td>\n",
       "      <td>OH</td>\n",
       "      <td>730</td>\n",
       "      <td>1035</td>\n",
       "      <td>1</td>\n",
       "      <td>1.00</td>\n",
       "    </tr>\n",
       "    <tr>\n",
       "      <th>8</th>\n",
       "      <td>20200330</td>\n",
       "      <td>DFW</td>\n",
       "      <td>LIT</td>\n",
       "      <td>MQ</td>\n",
       "      <td>659</td>\n",
       "      <td>811</td>\n",
       "      <td>1</td>\n",
       "      <td>1.00</td>\n",
       "    </tr>\n",
       "    <tr>\n",
       "      <th>9</th>\n",
       "      <td>20200523</td>\n",
       "      <td>DFW</td>\n",
       "      <td>MIA</td>\n",
       "      <td>AA</td>\n",
       "      <td>1040</td>\n",
       "      <td>1431</td>\n",
       "      <td>1</td>\n",
       "      <td>1.00</td>\n",
       "    </tr>\n",
       "  </tbody>\n",
       "</table>\n",
       "</div>"
      ],
      "text/plain": [
       "       DATE ORIGIN DEST CARRIER  CRSDEPTIME  CRSARRTIME  PREDICTION  \\\n",
       "0  20200627    ATL  MCI      FL        1731        1836           0   \n",
       "1  20200703    EWR  LAS      CO         745        1010           0   \n",
       "2  20200322    ATL  LGA      DL        1745        2007           0   \n",
       "3  20200115    MCO  DFW      AA        1935        2130           1   \n",
       "4  20200716    ISN  MSP      OO         640         824           0   \n",
       "5  20200608    BNA  DTW      DL        1315        1552           0   \n",
       "6  20200729    IAH  MCO      UA        1555        1918           1   \n",
       "7  20200312    PIA  CLT      OH         730        1035           1   \n",
       "8  20200330    DFW  LIT      MQ         659         811           1   \n",
       "9  20200523    DFW  MIA      AA        1040        1431           1   \n",
       "\n",
       "   PROB_DELAYED  \n",
       "0          0.15  \n",
       "1          0.29  \n",
       "2          0.18  \n",
       "3          0.75  \n",
       "4          0.21  \n",
       "5          0.15  \n",
       "6          0.78  \n",
       "7          1.00  \n",
       "8          1.00  \n",
       "9          1.00  "
      ]
     },
     "execution_count": 51,
     "metadata": {},
     "output_type": "execute_result"
    }
   ],
   "source": [
    "# Lets look at the first 10 rows of our UDF's output\n",
    "result.head(10)"
   ]
  },
  {
   "cell_type": "markdown",
   "metadata": {},
   "source": [
    "## Exercise: Build and deploy your own UDF"
   ]
  },
  {
   "cell_type": "markdown",
   "metadata": {},
   "source": [
    "In this exercise you will deploy your own ML classification model. We will provide the steps to build and deploy the model, including any necessary data transformation steps. You will be responsible for filling the UDF template provided during the model deployment phase.\n",
    "\n",
    "The dataset used is the famous IRIS dataset - it contains samples from each of three species of *Iris* flowers. (*Iris setosa*, *Iris virginica*, and *Iris versicolor*). Four features were measured from each sample: the length and the width of the sepals and petals, in centimeters."
   ]
  },
  {
   "cell_type": "code",
   "execution_count": 52,
   "metadata": {},
   "outputs": [],
   "source": [
    "import pandas as pd\n",
    "pd.set_option('display.max_columns', None)\n",
    "pd.set_option('display.max_rows', None)\n",
    "import numpy as np\n",
    "\n",
    "# Model building\n",
    "from sklearn.model_selection import train_test_split # Train-test split\n",
    "from sklearn.impute import SimpleImputer # Missing values imputation\n",
    "from sklearn.compose import ColumnTransformer # For applying transformation objects\n",
    "from sklearn.tree import DecisionTreeClassifier\n",
    "from sklearn.metrics import classification_report, confusion_matrix, f1_score # Model evaluation\n",
    "from joblib import dump #Saving deployment assets\n",
    "\n",
    "# Plotting\n",
    "import seaborn as sns\n",
    "import matplotlib.pyplot as plt\n",
    "sns.set(rc={'figure.figsize':(12,8)})\n",
    "%config InlineBackend.figure_format = 'retina'"
   ]
  },
  {
   "cell_type": "markdown",
   "metadata": {},
   "source": [
    "First load the Db2 magic functions and make a connection to our Db2 database."
   ]
  },
  {
   "cell_type": "code",
   "execution_count": 53,
   "metadata": {
    "scrolled": false
   },
   "outputs": [
    {
     "name": "stdout",
     "output_type": "stream",
     "text": [
      "Db2 Extensions Loaded.\n"
     ]
    }
   ],
   "source": [
    "%run db2.ipynb"
   ]
  },
  {
   "cell_type": "code",
   "execution_count": 54,
   "metadata": {
    "scrolled": true
   },
   "outputs": [
    {
     "name": "stdout",
     "output_type": "stream",
     "text": [
      "Connection successful.\n"
     ]
    }
   ],
   "source": [
    "%run connectiondb2ml.ipynb"
   ]
  },
  {
   "cell_type": "markdown",
   "metadata": {},
   "source": [
    "### Data Exploration"
   ]
  },
  {
   "cell_type": "code",
   "execution_count": 55,
   "metadata": {},
   "outputs": [
    {
     "data": {
      "text/html": [
       "<div>\n",
       "<style scoped>\n",
       "    .dataframe tbody tr th:only-of-type {\n",
       "        vertical-align: middle;\n",
       "    }\n",
       "\n",
       "    .dataframe tbody tr th {\n",
       "        vertical-align: top;\n",
       "    }\n",
       "\n",
       "    .dataframe thead th {\n",
       "        text-align: right;\n",
       "    }\n",
       "</style>\n",
       "<table border=\"1\" class=\"dataframe\">\n",
       "  <thead>\n",
       "    <tr style=\"text-align: right;\">\n",
       "      <th></th>\n",
       "      <th>ID</th>\n",
       "      <th>SEPAL_LENGTH</th>\n",
       "      <th>SEPAL_WIDTH</th>\n",
       "      <th>PETAL_LENGTH</th>\n",
       "      <th>PETAL_WIDTH</th>\n",
       "      <th>CLASS</th>\n",
       "    </tr>\n",
       "  </thead>\n",
       "  <tbody>\n",
       "    <tr>\n",
       "      <th>0</th>\n",
       "      <td>1</td>\n",
       "      <td>5.1</td>\n",
       "      <td>3.5</td>\n",
       "      <td>1.4</td>\n",
       "      <td>0.2</td>\n",
       "      <td>Iris-setosa</td>\n",
       "    </tr>\n",
       "    <tr>\n",
       "      <th>1</th>\n",
       "      <td>2</td>\n",
       "      <td>4.9</td>\n",
       "      <td>3.0</td>\n",
       "      <td>1.4</td>\n",
       "      <td>0.2</td>\n",
       "      <td>Iris-setosa</td>\n",
       "    </tr>\n",
       "    <tr>\n",
       "      <th>2</th>\n",
       "      <td>3</td>\n",
       "      <td>4.7</td>\n",
       "      <td>3.2</td>\n",
       "      <td>1.3</td>\n",
       "      <td>0.2</td>\n",
       "      <td>Iris-setosa</td>\n",
       "    </tr>\n",
       "    <tr>\n",
       "      <th>3</th>\n",
       "      <td>4</td>\n",
       "      <td>4.6</td>\n",
       "      <td>3.1</td>\n",
       "      <td>1.5</td>\n",
       "      <td>0.2</td>\n",
       "      <td>Iris-setosa</td>\n",
       "    </tr>\n",
       "    <tr>\n",
       "      <th>4</th>\n",
       "      <td>5</td>\n",
       "      <td>5.0</td>\n",
       "      <td>3.6</td>\n",
       "      <td>1.4</td>\n",
       "      <td>0.2</td>\n",
       "      <td>Iris-setosa</td>\n",
       "    </tr>\n",
       "    <tr>\n",
       "      <th>5</th>\n",
       "      <td>6</td>\n",
       "      <td>NaN</td>\n",
       "      <td>3.9</td>\n",
       "      <td>1.7</td>\n",
       "      <td>0.4</td>\n",
       "      <td>Iris-setosa</td>\n",
       "    </tr>\n",
       "    <tr>\n",
       "      <th>6</th>\n",
       "      <td>7</td>\n",
       "      <td>4.6</td>\n",
       "      <td>3.4</td>\n",
       "      <td>1.4</td>\n",
       "      <td>0.3</td>\n",
       "      <td>Iris-setosa</td>\n",
       "    </tr>\n",
       "    <tr>\n",
       "      <th>7</th>\n",
       "      <td>8</td>\n",
       "      <td>5.0</td>\n",
       "      <td>3.4</td>\n",
       "      <td>1.5</td>\n",
       "      <td>0.2</td>\n",
       "      <td>Iris-setosa</td>\n",
       "    </tr>\n",
       "    <tr>\n",
       "      <th>8</th>\n",
       "      <td>9</td>\n",
       "      <td>4.4</td>\n",
       "      <td>2.9</td>\n",
       "      <td>1.4</td>\n",
       "      <td>NaN</td>\n",
       "      <td>Iris-setosa</td>\n",
       "    </tr>\n",
       "    <tr>\n",
       "      <th>9</th>\n",
       "      <td>10</td>\n",
       "      <td>4.9</td>\n",
       "      <td>3.1</td>\n",
       "      <td>1.5</td>\n",
       "      <td>0.1</td>\n",
       "      <td>Iris-setosa</td>\n",
       "    </tr>\n",
       "  </tbody>\n",
       "</table>\n",
       "</div>"
      ],
      "text/plain": [
       "   ID  SEPAL_LENGTH  SEPAL_WIDTH  PETAL_LENGTH  PETAL_WIDTH        CLASS\n",
       "0   1           5.1          3.5           1.4          0.2  Iris-setosa\n",
       "1   2           4.9          3.0           1.4          0.2  Iris-setosa\n",
       "2   3           4.7          3.2           1.3          0.2  Iris-setosa\n",
       "3   4           4.6          3.1           1.5          0.2  Iris-setosa\n",
       "4   5           5.0          3.6           1.4          0.2  Iris-setosa\n",
       "5   6           NaN          3.9           1.7          0.4  Iris-setosa\n",
       "6   7           4.6          3.4           1.4          0.3  Iris-setosa\n",
       "7   8           5.0          3.4           1.5          0.2  Iris-setosa\n",
       "8   9           4.4          2.9           1.4          NaN  Iris-setosa\n",
       "9  10           4.9          3.1           1.5          0.1  Iris-setosa"
      ]
     },
     "execution_count": 55,
     "metadata": {},
     "output_type": "execute_result"
    }
   ],
   "source": [
    "# Let's look at the training data\n",
    "query = %sql SELECT * FROM ONTIME.IRIS_TRAIN\n",
    "df = pd.DataFrame(query)\n",
    "df.head(10)"
   ]
  },
  {
   "cell_type": "code",
   "execution_count": 56,
   "metadata": {},
   "outputs": [],
   "source": [
    "# First drop the ID column as it is only a row identifier\n",
    "df=df.drop(\"ID\",axis=1)\n",
    "\n",
    "# Train test split\n",
    "target = \"CLASS\"\n",
    "X = df.drop(target,axis=1)\n",
    "y = df[target]\n",
    "\n",
    "# Our dataset size is small, so we will do a 70/30 train-test split\n",
    "X_train, X_test, y_train, y_test = train_test_split(X,y,test_size=0.3,random_state=42)"
   ]
  },
  {
   "cell_type": "code",
   "execution_count": 57,
   "metadata": {},
   "outputs": [
    {
     "name": "stdout",
     "output_type": "stream",
     "text": [
      "The training dataset has 105 rows and 4 columns.\n"
     ]
    }
   ],
   "source": [
    "print('The training dataset has',X_train.shape[0],'rows and',X_train.shape[1],'columns.')"
   ]
  },
  {
   "cell_type": "code",
   "execution_count": 58,
   "metadata": {},
   "outputs": [
    {
     "name": "stdout",
     "output_type": "stream",
     "text": [
      "The test dataset has 45 rows and 4 columns.\n"
     ]
    }
   ],
   "source": [
    "print('The test dataset has',X_test.shape[0],'rows and',X_test.shape[1],'columns.')"
   ]
  },
  {
   "cell_type": "markdown",
   "metadata": {},
   "source": [
    "### Data Transformation"
   ]
  },
  {
   "cell_type": "markdown",
   "metadata": {},
   "source": [
    "Let's check for missing values in our training and test sets, and perform imputation if necessary."
   ]
  },
  {
   "cell_type": "code",
   "execution_count": 59,
   "metadata": {},
   "outputs": [
    {
     "data": {
      "text/plain": [
       "SEPAL_LENGTH    4\n",
       "SEPAL_WIDTH     3\n",
       "PETAL_LENGTH    2\n",
       "PETAL_WIDTH     5\n",
       "dtype: int64"
      ]
     },
     "execution_count": 59,
     "metadata": {},
     "output_type": "execute_result"
    }
   ],
   "source": [
    "# Count the number of missing values in the training set\n",
    "number_of_missing_vals = X_train.isna().sum()\n",
    "number_of_missing_vals"
   ]
  },
  {
   "cell_type": "markdown",
   "metadata": {},
   "source": [
    "Next, let's perform missing value imputation"
   ]
  },
  {
   "cell_type": "code",
   "execution_count": 60,
   "metadata": {},
   "outputs": [],
   "source": [
    "#Create pipeline\n",
    "pipeline = Pipeline([('imputer',SimpleImputer(strategy='mean')), #Impute missing values\n",
    "                    ('model',DecisionTreeClassifier(random_state=42))]) #Decision Tree model"
   ]
  },
  {
   "cell_type": "markdown",
   "metadata": {},
   "source": [
    "Now, let's repeat these steps for our test set"
   ]
  },
  {
   "cell_type": "markdown",
   "metadata": {},
   "source": [
    "### Model Training and Evaluation\n",
    "\n",
    "We will train a simple decision tree model to predict the type of flower based on the sepal and petal length and width."
   ]
  },
  {
   "cell_type": "code",
   "execution_count": 61,
   "metadata": {},
   "outputs": [],
   "source": [
    "# Transform the data and fit our ML model\n",
    "fitted_pipe=pipeline.fit(X_train,y_train)"
   ]
  },
  {
   "cell_type": "code",
   "execution_count": 62,
   "metadata": {},
   "outputs": [],
   "source": [
    "# Make predictions on the test set to evaluate the model performance\n",
    "y_pred = fitted_pipe.predict(X_test)"
   ]
  },
  {
   "cell_type": "markdown",
   "metadata": {},
   "source": [
    "We next will make predictions on our test set and evaluate the performance of the model"
   ]
  },
  {
   "cell_type": "code",
   "execution_count": 63,
   "metadata": {},
   "outputs": [
    {
     "name": "stdout",
     "output_type": "stream",
     "text": [
      "Model F1 Score: 1.000\n"
     ]
    },
    {
     "data": {
      "image/png": "[encoded data removed]",
      "text/plain": [
       "<Figure size 864x576 with 2 Axes>"
      ]
     },
     "metadata": {
      "image/png": {
       "height": 500,
       "width": 674
      }
     },
     "output_type": "display_data"
    }
   ],
   "source": [
    "# Plot confusion matrix\n",
    "print('Model F1 Score: %.3f' % f1_score(y_test,y_pred,average='weighted'))\n",
    "\n",
    "cf_matrix = confusion_matrix(y_test, y_pred)\n",
    "sns.heatmap(cf_matrix/np.sum(cf_matrix), annot=True, \n",
    "            fmt='.2%', cmap='Blues',xticklabels=['Iris-setosa','Iris-virginica','Iris-versicolor'],\n",
    "            yticklabels=['Iris-setosa','Iris-virginica','Iris-versicolor'])\n",
    "plt.title('Decision Tree')\n",
    "plt.xlabel('Predicted')\n",
    "plt.ylabel('Actual')\n",
    "plt.show()"
   ]
  },
  {
   "cell_type": "markdown",
   "metadata": {},
   "source": [
    "### Save Deployment Assets"
   ]
  },
  {
   "cell_type": "markdown",
   "metadata": {},
   "source": [
    "Once we are satisfied with our model, we will save the trained imputer and trained model to the shared filesystem"
   ]
  },
  {
   "cell_type": "code",
   "execution_count": 64,
   "metadata": {},
   "outputs": [
    {
     "data": {
      "text/plain": [
       "['../../../PYUDF/exercise_pipeline.joblib']"
      ]
     },
     "execution_count": 64,
     "metadata": {},
     "output_type": "execute_result"
    }
   ],
   "source": [
    "# Save our model and scalar\n",
    "dump(fitted_pipe,\"../../../PYUDF/exercise_pipeline.joblib\")"
   ]
  },
  {
   "cell_type": "code",
   "execution_count": 65,
   "metadata": {},
   "outputs": [
    {
     "name": "stdout",
     "output_type": "stream",
     "text": [
      "Command completed.\n"
     ]
    }
   ],
   "source": [
    "%%sql\n",
    "DROP TABLE IF EXISTS MYASSETS"
   ]
  },
  {
   "cell_type": "code",
   "execution_count": 66,
   "metadata": {},
   "outputs": [
    {
     "name": "stdout",
     "output_type": "stream",
     "text": [
      "Command completed.\n"
     ]
    }
   ],
   "source": [
    "%%sql\n",
    "CREATE TABLE MYASSETS(name VARCHAR(15),joblib BLOB) "
   ]
  },
  {
   "cell_type": "code",
   "execution_count": 67,
   "metadata": {},
   "outputs": [
    {
     "name": "stdout",
     "output_type": "stream",
     "text": [
      "Preparing to deploy asset mypipeline to Db2...\n",
      "Successfully prepared the insert statement\n",
      "Bind returned: True\n",
      "Bind returned: True\n",
      "Successfully bound the variables to the parmameter-markers\n",
      "Successfully inserted joblib file into blob column\n",
      "\n"
     ]
    }
   ],
   "source": [
    "deploy_joblib_assets(\"mypipeline\",\"../../../PYUDF/exercise_pipeline.joblib\",\"MYASSETS\",ibm_db_conn)"
   ]
  },
  {
   "cell_type": "markdown",
   "metadata": {},
   "source": [
    "### Model Deployment\n",
    "\n",
    "Here, we have provided a UDF template for you to fill out.\n",
    "\n",
    "1. Write a SQL statment to load in the pipeline from the MYASSETS table (line 28)\n",
    "2. Add some code to make predictions with the ML pipeline (line 60)"
   ]
  },
  {
   "cell_type": "code",
   "execution_count": 68,
   "metadata": {},
   "outputs": [
    {
     "name": "stdout",
     "output_type": "stream",
     "text": [
      "Overwriting ../../../PYUDF/exerciseUDF.py\n"
     ]
    }
   ],
   "source": [
    "%%writefile ../../../PYUDF/exerciseUDF.py\n",
    "\n",
    "#Imports\n",
    "import nzae\n",
    "import pandas as pd\n",
    "from joblib import load\n",
    "import numpy as np\n",
    "import ibm_db\n",
    "from io import BytesIO\n",
    "\n",
    "class full_pipeline(nzae.Ae):\n",
    "    def _runUdtf(self):\n",
    "        #####################\n",
    "        ### INITIALIZATON ###\n",
    "        #####################\n",
    "        \n",
    "        # Load deployment assets from Db2 tables\n",
    "        conn_str = \"DATABASE=ONTIME;\" + \\\n",
    "           \"HOSTNAME=localhost;\"+ \\\n",
    "           \"PROTOCOL=TCPIP;\"  + \\\n",
    "           \"PORT=50001;\" + \\\n",
    "           \"UID=db2inst1;\" + \\\n",
    "           \"PWD=db2inst1;\"\n",
    "\n",
    "        ibm_db_conn = ibm_db.connect(conn_str,\"\",\"\")\n",
    "        \n",
    "        # Load ML pipeline\n",
    "        sql = \"SELECT JOBLIB FROM MYASSETS WHERE NAME='mypipeline'\"\n",
    "        stmt = ibm_db.exec_immediate(ibm_db_conn, sql)\n",
    "        row = ibm_db.fetch_tuple(stmt)\n",
    "        pipeline = load(BytesIO(row[0]))\n",
    "\n",
    "        # Define static variable\n",
    "        input_cols=['SEPAL_LENGTH','SEPAL_WIDTH','PETAL_LENGTH','PETAL_WIDTH']\n",
    "     \n",
    "        # Collect rows into a single batch\n",
    "        batchsize = 110\n",
    "        rownum = 0\n",
    "        row_list = []\n",
    "        for row in self:\n",
    "            row_list.append(row)\n",
    "            rownum = rownum+1         \n",
    "\n",
    "            if rownum==batchsize:\n",
    "                ########################\n",
    "                ### DATA PREPARATION ###\n",
    "                ########################\n",
    "                \n",
    "                # Separate the IDs out for returning with the predictions\n",
    "                ids=np.array(row_list)[:,0]\n",
    "                \n",
    "                # Collect the rows into a dataframe\n",
    "                df = pd.DataFrame(np.array(row_list)[:,1:5], columns=input_cols)\n",
    "\n",
    "                ##############################\n",
    "                ### MODEL SCORING & OUTPUT ###\n",
    "                ##############################\n",
    "                \n",
    "                # Call model to make prediction\n",
    "                predictions = pipeline.predict(df)\n",
    "                \n",
    "                # Return the result\n",
    "                for x in range(predictions.shape[0]):\n",
    "                    self.output(int(ids[x]),str(predictions[x]))\n",
    "\n",
    "                row_list = []\n",
    "                rownum = 0      \n",
    "        self.done()\n",
    "full_pipeline.run()"
   ]
  },
  {
   "cell_type": "markdown",
   "metadata": {},
   "source": [
    "Now, run the following cells to check your work. **Hint:** If you encounter errors, the UDF log files can be found in the `sqllib/db2dump/pythonUDX/` directory."
   ]
  },
  {
   "cell_type": "code",
   "execution_count": 69,
   "metadata": {},
   "outputs": [
    {
     "name": "stdout",
     "output_type": "stream",
     "text": [
      "Command completed.\n"
     ]
    }
   ],
   "source": [
    "%%sql\n",
    "CREATE OR REPLACE FUNCTION \n",
    "MY_UDF(INT,DOUBLE,DOUBLE,DOUBLE,DOUBLE) \n",
    "RETURNS TABLE (ID INT,PREDICTION VARCHAR(15))\n",
    "LANGUAGE PYTHON PARAMETER STYLE NPSGENERIC  FENCED  NOT THREADSAFE  NO FINAL CALL  DISALLOW PARALLEL  NO DBINFO  \n",
    "DETERMINISTIC NO EXTERNAL ACTION CALLED ON NULL INPUT  \n",
    "NO SQL EXTERNAL NAME 'home/db2inst1/PYUDF/exerciseUDF.py'"
   ]
  },
  {
   "cell_type": "code",
   "execution_count": 70,
   "metadata": {
    "scrolled": true
   },
   "outputs": [
    {
     "name": "stdout",
     "output_type": "stream",
     "text": [
      "Command completed.\n"
     ]
    }
   ],
   "source": [
    "%%sql\n",
    "DROP TABLE IF EXISTS ONTIME.IRIS_PREDICTIONS"
   ]
  },
  {
   "cell_type": "code",
   "execution_count": 71,
   "metadata": {},
   "outputs": [
    {
     "name": "stdout",
     "output_type": "stream",
     "text": [
      "Command completed.\n"
     ]
    }
   ],
   "source": [
    "%%sql\n",
    "CREATE TABLE ONTIME.IRIS_PREDICTIONS(ID INT,PREDICTION VARCHAR(15))"
   ]
  },
  {
   "cell_type": "code",
   "execution_count": 72,
   "metadata": {},
   "outputs": [
    {
     "name": "stdout",
     "output_type": "stream",
     "text": [
      "Command completed.\n",
      "CPU times: user 902 µs, sys: 1.4 ms, total: 2.3 ms\n",
      "Wall time: 1.98 s\n"
     ]
    }
   ],
   "source": [
    "%%time\n",
    "%%sql\n",
    "INSERT INTO ONTIME.IRIS_PREDICTIONS(ID,PREDICTION)\n",
    "SELECT f.* from ONTIME.IRIS_TEST i,\n",
    "TABLE(MY_UDF(i.ID,i.SEPAL_LENGTH,i.SEPAL_WIDTH,i.PETAL_LENGTH,i.PETAL_WIDTH)) f"
   ]
  },
  {
   "cell_type": "code",
   "execution_count": 73,
   "metadata": {},
   "outputs": [
    {
     "data": {
      "text/html": [
       "<div>\n",
       "<style scoped>\n",
       "    .dataframe tbody tr th:only-of-type {\n",
       "        vertical-align: middle;\n",
       "    }\n",
       "\n",
       "    .dataframe tbody tr th {\n",
       "        vertical-align: top;\n",
       "    }\n",
       "\n",
       "    .dataframe thead th {\n",
       "        text-align: right;\n",
       "    }\n",
       "</style>\n",
       "<table border=\"1\" class=\"dataframe\">\n",
       "  <thead>\n",
       "    <tr style=\"text-align: right;\">\n",
       "      <th></th>\n",
       "      <th>ID</th>\n",
       "      <th>PREDICTION</th>\n",
       "    </tr>\n",
       "  </thead>\n",
       "  <tbody>\n",
       "    <tr>\n",
       "      <th>0</th>\n",
       "      <td>1</td>\n",
       "      <td>Iris-setosa</td>\n",
       "    </tr>\n",
       "    <tr>\n",
       "      <th>1</th>\n",
       "      <td>2</td>\n",
       "      <td>Iris-setosa</td>\n",
       "    </tr>\n",
       "    <tr>\n",
       "      <th>2</th>\n",
       "      <td>3</td>\n",
       "      <td>Iris-setosa</td>\n",
       "    </tr>\n",
       "    <tr>\n",
       "      <th>3</th>\n",
       "      <td>4</td>\n",
       "      <td>Iris-setosa</td>\n",
       "    </tr>\n",
       "    <tr>\n",
       "      <th>4</th>\n",
       "      <td>5</td>\n",
       "      <td>Iris-setosa</td>\n",
       "    </tr>\n",
       "    <tr>\n",
       "      <th>5</th>\n",
       "      <td>6</td>\n",
       "      <td>Iris-setosa</td>\n",
       "    </tr>\n",
       "    <tr>\n",
       "      <th>6</th>\n",
       "      <td>7</td>\n",
       "      <td>Iris-setosa</td>\n",
       "    </tr>\n",
       "    <tr>\n",
       "      <th>7</th>\n",
       "      <td>8</td>\n",
       "      <td>Iris-setosa</td>\n",
       "    </tr>\n",
       "    <tr>\n",
       "      <th>8</th>\n",
       "      <td>9</td>\n",
       "      <td>Iris-setosa</td>\n",
       "    </tr>\n",
       "    <tr>\n",
       "      <th>9</th>\n",
       "      <td>10</td>\n",
       "      <td>Iris-setosa</td>\n",
       "    </tr>\n",
       "  </tbody>\n",
       "</table>\n",
       "</div>"
      ],
      "text/plain": [
       "   ID   PREDICTION\n",
       "0   1  Iris-setosa\n",
       "1   2  Iris-setosa\n",
       "2   3  Iris-setosa\n",
       "3   4  Iris-setosa\n",
       "4   5  Iris-setosa\n",
       "5   6  Iris-setosa\n",
       "6   7  Iris-setosa\n",
       "7   8  Iris-setosa\n",
       "8   9  Iris-setosa\n",
       "9  10  Iris-setosa"
      ]
     },
     "execution_count": 73,
     "metadata": {},
     "output_type": "execute_result"
    }
   ],
   "source": [
    "query = %sql SELECT * FROM ONTIME.IRIS_PREDICTIONS\n",
    "result = pd.DataFrame(query)\n",
    "result.head(10)"
   ]
  },
  {
   "cell_type": "markdown",
   "metadata": {},
   "source": [
    "## Resources"
   ]
  },
  {
   "cell_type": "markdown",
   "metadata": {},
   "source": [
    "[Video: Deploying a Machine Learning Model Trained on IBM Cloud Pak for Data into Db2](https://video.ibm.com/recorded/129516812)"
   ]
  }
 ],
 "metadata": {
  "kernelspec": {
   "display_name": "Python 3",
   "language": "python",
   "name": "python3"
  },
  "language_info": {
   "codemirror_mode": {
    "name": "ipython",
    "version": 3
   },
   "file_extension": ".py",
   "mimetype": "text/x-python",
   "name": "python",
   "nbconvert_exporter": "python",
   "pygments_lexer": "ipython3",
   "version": "3.9.0"
  }
 },
 "nbformat": 4,
 "nbformat_minor": 4
}
