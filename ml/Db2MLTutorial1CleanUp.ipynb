{
 "cells": [
  {
   "cell_type": "markdown",
   "id": "5b1beaf4",
   "metadata": {},
   "source": [
    "This notebook handles the cleanup of models and tables created in the Db2MLTutorial1.ipynb notebook"
   ]
  },
  {
   "cell_type": "code",
   "execution_count": 1,
   "id": "1f7b6362",
   "metadata": {},
   "outputs": [],
   "source": [
    "import pandas as pd"
   ]
  },
  {
   "cell_type": "code",
   "execution_count": 2,
   "id": "817e02fb",
   "metadata": {},
   "outputs": [
    {
     "name": "stdout",
     "output_type": "stream",
     "text": [
      "Db2 Extensions Loaded.\n"
     ]
    }
   ],
   "source": [
    "%run db2.ipynb"
   ]
  },
  {
   "cell_type": "code",
   "execution_count": 3,
   "id": "6ce87fc8",
   "metadata": {},
   "outputs": [
    {
     "name": "stdout",
     "output_type": "stream",
     "text": [
      "Connection successful.\n"
     ]
    }
   ],
   "source": [
    "%run connectiondb2ml-banking.ipynb"
   ]
  },
  {
   "cell_type": "markdown",
   "id": "aeaeca15",
   "metadata": {},
   "source": [
    "We will use the `IDAX.DROP_MODEL` stored procedure to delete the models and their associated model tables. Then we can use normal `DROP TABLE` statements to delete the rest of the tables in our schema."
   ]
  },
  {
   "cell_type": "code",
   "execution_count": 8,
   "id": "2c438bd2",
   "metadata": {},
   "outputs": [],
   "source": [
    "%%sql -q\n",
    "CALL IDAX.DROP_MODEL('model=CLUSTERING.KMEANS_3');\n",
    "CALL IDAX.DROP_MODEL('model=CLUSTERING.KMEANS_4');\n",
    "CALL IDAX.DROP_MODEL('model=CLUSTERING.KMEANS_5');\n",
    "CALL IDAX.DROP_MODEL('model=CLUSTERING.KMEANS_6');\n",
    "CALL IDAX.DROP_MODEL('model=CLUSTERING.KMEANS_7');\n",
    "CALL IDAX.DROP_MODEL('model=CLUSTERING.KMEANS_8');\n",
    "CALL IDAX.DROP_MODEL('model=CLUSTERING.KMEANS_9');\n",
    "CALL IDAX.DROP_MODEL('model=CLUSTERING.KMEANS_10');\n",
    "CALL IDAX.DROP_MODEL('model=CLUSTERING.KMEANS_11');\n",
    "CALL IDAX.DROP_MODEL('model=CLUSTERING.PCA');"
   ]
  },
  {
   "cell_type": "code",
   "execution_count": 10,
   "id": "60766a5a",
   "metadata": {},
   "outputs": [
    {
     "data": {
      "text/html": [
       "<p><p style=\"border:2px; border-style:solid; border-color:#FF0000; background-color:#ffe6e6; padding: 1em;\">No rows found</p>"
      ],
      "text/plain": [
       "<IPython.core.display.HTML object>"
      ]
     },
     "metadata": {},
     "output_type": "display_data"
    },
    {
     "name": "stdout",
     "output_type": "stream",
     "text": [
      "Command completed.\n",
      "Schema is already clean.\n"
     ]
    }
   ],
   "source": [
    "# Drop all remaining tables in schema CLUSTERING\n",
    "try:\n",
    "    query = %sql select 'drop table '||rtrim(tabschema)||'.'||rtrim(tabname) from syscat.tables where tabschema = 'CLUSTERING'\n",
    "    tabs_to_drop = pd.DataFrame(query)\n",
    "    for cmd in tabs_to_drop['1']:\n",
    "        %sql {cmd}\n",
    "except:\n",
    "    print('Schema is already clean.')"
   ]
  },
  {
   "cell_type": "code",
   "execution_count": 6,
   "id": "c8fb366a",
   "metadata": {},
   "outputs": [
    {
     "name": "stdout",
     "output_type": "stream",
     "text": [
      "Clean Up Successful.\n"
     ]
    }
   ],
   "source": [
    "success(\"Clean Up Successful.\")"
   ]
  },
  {
   "cell_type": "code",
   "execution_count": null,
   "id": "87338d93",
   "metadata": {},
   "outputs": [],
   "source": []
  }
 ],
 "metadata": {
  "kernelspec": {
   "display_name": "Python 3",
   "language": "python",
   "name": "python3"
  },
  "language_info": {
   "codemirror_mode": {
    "name": "ipython",
    "version": 3
   },
   "file_extension": ".py",
   "mimetype": "text/x-python",
   "name": "python",
   "nbconvert_exporter": "python",
   "pygments_lexer": "ipython3",
   "version": "3.6.13"
  }
 },
 "nbformat": 4,
 "nbformat_minor": 5
}
