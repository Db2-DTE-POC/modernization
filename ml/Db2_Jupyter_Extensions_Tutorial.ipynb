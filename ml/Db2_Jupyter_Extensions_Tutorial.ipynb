{
 "cells": [
  {
   "cell_type": "markdown",
   "metadata": {},
   "source": [
    "<img align=\"left\" src=\"media/Assets&ArchHeader.jpeg\">"
   ]
  },
  {
   "cell_type": "markdown",
   "metadata": {},
   "source": [
    "# Db2 Jupyter Notebook Extensions Tutorial\n",
    "Updated: 2019-10-03\n",
    "\n",
    "The SQL code tutorials for Db2 rely on a Jupyter notebook extension, commonly refer to as a \"magic\" command. The beginning of all of the notebooks begin with the following command which will load the extension and allow the remainder of the notebook to use the %sql magic command.\n",
    "<pre>\n",
    "&#37;run db2.ipynb\n",
    "</pre>\n",
    "The cell below will load the Db2 extension. Note that it will take a few seconds for the extension to load, so you should generally wait until the \"Db2 Extensions Loaded\" message is displayed in your notebook. "
   ]
  },
  {
   "cell_type": "code",
   "execution_count": 1,
   "metadata": {},
   "outputs": [
    {
     "name": "stdout",
     "output_type": "stream",
     "text": [
      "Db2 Extensions Loaded.\n",
      "Connection successful.\n",
      "Sample tables [EMPLOYEE, DEPARTMENT] created.\n"
     ]
    }
   ],
   "source": [
    "%run db2.ipynb\n",
    "%run connection.ipynb"
   ]
  },
  {
   "cell_type": "markdown",
   "metadata": {},
   "source": [
    "## Options\n",
    "There are four options that can be set with the **`%sql`** command. These options are shown below with the default value shown in parenthesis.\n",
    "- **`MAXROWS n (10)`** - The maximum number of rows that will be displayed before summary information is shown. If the answer set is less than this number of rows, it will be completely shown on the screen. If the answer set is larger than this amount, only the first 5 rows and last 5 rows of the answer set will be displayed. If you want to display a very large answer set, you may want to consider using the grid option `-g` to display the results in a scrollable table. If you really want to show all results then setting MAXROWS to -1 will return all output.\n",
    "\n",
    "- **`MAXGRID n (5)`** - The maximum size of a grid display. When displaying a result set in a grid `-g`, the default size of the display window is 5 rows. You can set this to a larger size so that more rows are shown on the screen. Note that the minimum size always remains at 5 which means that if the system is unable to display your maximum row size it will reduce the table display until it fits.\n",
    "\n",
    "- **`DISPLAY PANDAS | GRID (PANDAS)`** - Display the results as a PANDAS dataframe (default) or as a scrollable GRID\n",
    "\n",
    "- **`RUNTIME n (1)`** - When using the timer option on a SQL statement, the statement will execute for **`n`** number of seconds. The result that is returned is the number of times the SQL statement executed rather than the execution time of the statement. The default value for runtime is one second, so if the SQL is very complex you will need to increase the run time.\n",
    "\n",
    "- **`LIST`** - Display the current settings\n",
    "\n",
    "To set an option use the following syntax:\n",
    "```\n",
    "%sql option option_name value option_name value ....\n",
    "```\n",
    "The following example sets all options:\n",
    "```\n",
    "%sql option maxrows 100 runtime 2 display grid maxgrid 10\n",
    "```\n",
    "The values will **not** be saved between Jupyter notebooks sessions. If you need to retrieve the current options values, use the LIST command as the only argument:\n",
    "```\n",
    "%sql option list\n",
    "```\n"
   ]
  },
  {
   "cell_type": "markdown",
   "metadata": {},
   "source": [
    "## Connections to Db2\n",
    "\n",
    "Before any SQL commands can be issued, a connection needs to be made to the Db2 database that you will be using. The connection can be done manually (through the use of the CONNECT command), or automatically when the first `%sql` command is issued.\n",
    "\n",
    "The Db2 magic command tracks whether or not a connection has occured in the past and saves this information between notebooks and sessions. When you start up a notebook and issue a command, the program will reconnect to the database using your credentials from the last session. In the event that you have not connected before, the system will prompt you for all the information it needs to connect. This information includes:\n",
    "\n",
    "- Database name (SAMPLE) \n",
    "- Hostname - localhost (enter an IP address if you need to connect to a remote server) \n",
    "- PORT - 50000 (this is the default but it could be different) \n",
    "- Userid - DB2INST1 \n",
    "- Password - No password is provided so you have to enter a value \n",
    "- Maximum Rows - 10 lines of output are displayed when a result set is returned \n",
    "\n",
    "There will be default values presented in the panels that you can accept, or enter your own values. All of the information will be stored in the directory that the notebooks are stored on. Once you have entered the information, the system will attempt to connect to the database for you and then you can run all of the SQL scripts. More details on the CONNECT syntax will be found in a section below.\n",
    "\n",
    "If you have credentials available from Db2 on Cloud or DSX, place the contents of the credentials into a variable and then use the `CONNECT CREDENTIALS <var>` syntax to connect to the database.\n",
    "```Python\n",
    "db2blu = { \"uid\" : \"xyz123456\", ...}\n",
    "%sql CONNECT CREDENTIALS db2blu\n",
    "```\n",
    "\n",
    "If the connection is successful using the credentials, the variable will be saved to disk so that you can connected from within another notebook using the same syntax.\n",
    "\n",
    "The next statement will force a CONNECT to occur with the default values. If you have not connected before, it will prompt you for the information."
   ]
  },
  {
   "cell_type": "code",
   "execution_count": 2,
   "metadata": {},
   "outputs": [
    {
     "name": "stdout",
     "output_type": "stream",
     "text": [
      "Connection successful.\n"
     ]
    }
   ],
   "source": [
    "%sql CONNECT"
   ]
  },
  {
   "cell_type": "markdown",
   "metadata": {},
   "source": [
    "## Line versus Cell Command\n",
    "The Db2 extension is made up of one magic command that works either at the LINE level (`%sql`) or at the CELL level (`%%sql`). If you only want to execute a SQL command on one line in your script, use the `%sql` form of the command. If you want to run a larger block of SQL, then use the `%%sql` form. Note that when you use the `%%sql` form of the command, the entire contents of the cell is considered part of the command, so you cannot mix other commands in the cell.\n",
    "\n",
    "The following is an example of a line command:"
   ]
  },
  {
   "cell_type": "code",
   "execution_count": 3,
   "metadata": {},
   "outputs": [
    {
     "data": {
      "text/html": [
       "<div>\n",
       "<style scoped>\n",
       "    .dataframe tbody tr th:only-of-type {\n",
       "        vertical-align: middle;\n",
       "    }\n",
       "\n",
       "    .dataframe tbody tr th {\n",
       "        vertical-align: top;\n",
       "    }\n",
       "\n",
       "    .dataframe thead th {\n",
       "        text-align: right;\n",
       "    }\n",
       "</style>\n",
       "<table border=\"1\" class=\"dataframe\">\n",
       "  <thead>\n",
       "    <tr style=\"text-align: right;\">\n",
       "      <th></th>\n",
       "      <th>1</th>\n",
       "    </tr>\n",
       "  </thead>\n",
       "  <tbody>\n",
       "    <tr>\n",
       "      <th>0</th>\n",
       "      <td>HELLO THERE</td>\n",
       "    </tr>\n",
       "  </tbody>\n",
       "</table>\n",
       "</div>"
      ],
      "text/plain": [
       "             1\n",
       "0  HELLO THERE"
      ]
     },
     "execution_count": 3,
     "metadata": {},
     "output_type": "execute_result"
    }
   ],
   "source": [
    "%sql VALUES 'HELLO THERE'"
   ]
  },
  {
   "cell_type": "markdown",
   "metadata": {},
   "source": [
    "If you have SQL that requires multiple lines, of if you need to execute many lines of SQL, then you should \n",
    "be using the CELL version of the `%sql` command. To start a block of SQL, start the cell with `%%sql` and do not place any SQL following the command. Subsequent lines can contain SQL code, with each SQL statement delimited with the semicolon (`;`). You can change the delimiter if required for procedures, etc... More details on this later."
   ]
  },
  {
   "cell_type": "code",
   "execution_count": 4,
   "metadata": {},
   "outputs": [
    {
     "data": {
      "text/html": [
       "<div>\n",
       "<style scoped>\n",
       "    .dataframe tbody tr th:only-of-type {\n",
       "        vertical-align: middle;\n",
       "    }\n",
       "\n",
       "    .dataframe tbody tr th {\n",
       "        vertical-align: top;\n",
       "    }\n",
       "\n",
       "    .dataframe thead th {\n",
       "        text-align: right;\n",
       "    }\n",
       "</style>\n",
       "<table border=\"1\" class=\"dataframe\">\n",
       "  <thead>\n",
       "    <tr style=\"text-align: right;\">\n",
       "      <th></th>\n",
       "      <th>1</th>\n",
       "    </tr>\n",
       "  </thead>\n",
       "  <tbody>\n",
       "    <tr>\n",
       "      <th>0</th>\n",
       "      <td>1</td>\n",
       "    </tr>\n",
       "    <tr>\n",
       "      <th>1</th>\n",
       "      <td>2</td>\n",
       "    </tr>\n",
       "    <tr>\n",
       "      <th>2</th>\n",
       "      <td>3</td>\n",
       "    </tr>\n",
       "  </tbody>\n",
       "</table>\n",
       "</div>"
      ],
      "text/plain": [
       "   1\n",
       "0  1\n",
       "1  2\n",
       "2  3"
      ]
     },
     "execution_count": 4,
     "metadata": {},
     "output_type": "execute_result"
    }
   ],
   "source": [
    "%%sql\n",
    "VALUES\n",
    "  1,\n",
    "  2,\n",
    "  3"
   ]
  },
  {
   "cell_type": "markdown",
   "metadata": {},
   "source": [
    "If you are using a single statement then there is no need to use a delimiter. However, if you are combining a number of commands then you must use the semicolon."
   ]
  },
  {
   "cell_type": "code",
   "execution_count": 5,
   "metadata": {},
   "outputs": [
    {
     "data": {
      "text/html": [
       "<p><p style=\"border:2px; border-style:solid; border-color:#FF0000; background-color:#ffe6e6; padding: 1em;\">SQL0204N  \"DB2INST1.STUFF\" is an undefined name.  SQLSTATE=42704 SQLCODE=-204</p>"
      ],
      "text/plain": [
       "<IPython.core.display.HTML object>"
      ]
     },
     "metadata": {},
     "output_type": "display_data"
    },
    {
     "data": {
      "text/html": [
       "<div>\n",
       "<style scoped>\n",
       "    .dataframe tbody tr th:only-of-type {\n",
       "        vertical-align: middle;\n",
       "    }\n",
       "\n",
       "    .dataframe tbody tr th {\n",
       "        vertical-align: top;\n",
       "    }\n",
       "\n",
       "    .dataframe thead th {\n",
       "        text-align: right;\n",
       "    }\n",
       "</style>\n",
       "<table border=\"1\" class=\"dataframe\">\n",
       "  <thead>\n",
       "    <tr style=\"text-align: right;\">\n",
       "      <th></th>\n",
       "      <th>A</th>\n",
       "    </tr>\n",
       "  </thead>\n",
       "  <tbody>\n",
       "    <tr>\n",
       "      <th>0</th>\n",
       "      <td>1</td>\n",
       "    </tr>\n",
       "    <tr>\n",
       "      <th>1</th>\n",
       "      <td>2</td>\n",
       "    </tr>\n",
       "    <tr>\n",
       "      <th>2</th>\n",
       "      <td>3</td>\n",
       "    </tr>\n",
       "  </tbody>\n",
       "</table>\n",
       "</div>"
      ],
      "text/plain": [
       "   A\n",
       "0  1\n",
       "1  2\n",
       "2  3"
      ]
     },
     "execution_count": 5,
     "metadata": {},
     "output_type": "execute_result"
    }
   ],
   "source": [
    "%%sql\n",
    "DROP TABLE STUFF;\n",
    "CREATE TABLE STUFF (A INT);\n",
    "INSERT INTO STUFF VALUES\n",
    "  1,2,3;\n",
    "SELECT * FROM STUFF;"
   ]
  },
  {
   "cell_type": "markdown",
   "metadata": {},
   "source": [
    "The script will generate messages and output as it executes. Each SQL statement that generates results will have a table displayed with the result set. If a command is executed, the results of the execution get listed as well. The script you just ran probably generated an error on the DROP table command."
   ]
  },
  {
   "cell_type": "markdown",
   "metadata": {},
   "source": [
    "## Options\n",
    "Both forms of the `%sql` command have options that can be used to change the behavior of the code. For both forms of the command (`%sql`, `%%sql`), the options must be on the same line as the command:\n",
    "<pre>\n",
    "%sql -t ...\n",
    "%%sql -t\n",
    "</pre>\n",
    "\n",
    "The only difference is that the `%sql` command can have SQL following the parameters, while the `%%sql` requires the SQL to be placed on subsequent lines.\n",
    "\n",
    "There are a number of parameters that you can specify as part of the `%sql` statement. \n",
    "\n",
    "* `-d` - Use alternative statement delimiter `@`\n",
    "* `-t,-time` - Time the statement execution\n",
    "* `-q,-quiet` - Suppress messages \n",
    "* `-j` - JSON formatting of the first column\n",
    "* `-json` - Retrieve the result set as a JSON record\n",
    "* `-a,-all` - Show all output\n",
    "* `-pb,-bar` - Bar chart of results\n",
    "* `-pp,-pie` - Pie chart of results \n",
    "* `-pl,-line` - Line chart of results\n",
    "* `-sampledata` Load the database with the sample EMPLOYEE and DEPARTMENT tables\n",
    "* `-r,-array` - Return the results into a variable (list of rows)\n",
    "* `-e,-echo` - Echo macro substitution\n",
    "* `-h,-help` - Display help information\n",
    "* `-grid` - Display results in a scrollable grid     \n",
    "\n",
    "Multiple parameters are allowed on a command line. Each option should be separated by a space:\n",
    "<pre>\n",
    "%sql -a -j ...\n",
    "</pre>\n",
    "\n",
    "A `SELECT` statement will return the results as a dataframe and display the results as a table in the notebook. If you use the assignment statement, the dataframe will be placed into the variable and the results will not be displayed:\n",
    "<pre>\n",
    "r = %sql SELECT * FROM EMPLOYEE\n",
    "</pre>\n",
    "\n",
    "The sections below will explain the options in more detail."
   ]
  },
  {
   "cell_type": "markdown",
   "metadata": {},
   "source": [
    "## Delimiters\n",
    "The default delimiter for all SQL statements is the semicolon. However, this becomes a problem when you try to create a trigger, function, or procedure that uses SQLPL (or PL/SQL). Use the `-d` option to turn the SQL delimiter into the at (`@`) sign and `-q` to suppress error messages. The semi-colon is then ignored as a delimiter.\n",
    "\n",
    "For example, the following SQL will use the `@` sign as the delimiter."
   ]
  },
  {
   "cell_type": "code",
   "execution_count": 6,
   "metadata": {},
   "outputs": [
    {
     "data": {
      "text/html": [
       "<div>\n",
       "<style scoped>\n",
       "    .dataframe tbody tr th:only-of-type {\n",
       "        vertical-align: middle;\n",
       "    }\n",
       "\n",
       "    .dataframe tbody tr th {\n",
       "        vertical-align: top;\n",
       "    }\n",
       "\n",
       "    .dataframe thead th {\n",
       "        text-align: right;\n",
       "    }\n",
       "</style>\n",
       "<table border=\"1\" class=\"dataframe\">\n",
       "  <thead>\n",
       "    <tr style=\"text-align: right;\">\n",
       "      <th></th>\n",
       "      <th>A</th>\n",
       "    </tr>\n",
       "  </thead>\n",
       "  <tbody>\n",
       "    <tr>\n",
       "      <th>0</th>\n",
       "      <td>1</td>\n",
       "    </tr>\n",
       "    <tr>\n",
       "      <th>1</th>\n",
       "      <td>2</td>\n",
       "    </tr>\n",
       "    <tr>\n",
       "      <th>2</th>\n",
       "      <td>3</td>\n",
       "    </tr>\n",
       "  </tbody>\n",
       "</table>\n",
       "</div>"
      ],
      "text/plain": [
       "   A\n",
       "0  1\n",
       "1  2\n",
       "2  3"
      ]
     },
     "execution_count": 6,
     "metadata": {},
     "output_type": "execute_result"
    }
   ],
   "source": [
    "%%sql -d -q\n",
    "DROP TABLE STUFF\n",
    "@\n",
    "CREATE TABLE STUFF (A INT)\n",
    "@\n",
    "INSERT INTO STUFF VALUES\n",
    "  1,2,3\n",
    "@\n",
    "SELECT * FROM STUFF\n",
    "@"
   ]
  },
  {
   "cell_type": "markdown",
   "metadata": {},
   "source": [
    "The delimiter change will only take place for the statements following the `%%sql` command. Subsequent cells\n",
    "in the notebook will still use the semicolon. You must use the `-d` option for every cell that needs to use the\n",
    "semicolon in the script."
   ]
  },
  {
   "cell_type": "markdown",
   "metadata": {},
   "source": [
    "## Limiting Result Sets\n",
    "The default number of rows displayed for any result set is 10. You have the option of changing this option when initially connecting to the database. If you want to override the number of rows display you can either update\n",
    "the control variable, or use the -a option. The `-a` option will display all of the rows in the answer set. For instance, the following SQL will only show 10 rows even though we inserted 15 values:"
   ]
  },
  {
   "cell_type": "code",
   "execution_count": 7,
   "metadata": {},
   "outputs": [
    {
     "data": {
      "text/html": [
       "<div>\n",
       "<style scoped>\n",
       "    .dataframe tbody tr th:only-of-type {\n",
       "        vertical-align: middle;\n",
       "    }\n",
       "\n",
       "    .dataframe tbody tr th {\n",
       "        vertical-align: top;\n",
       "    }\n",
       "\n",
       "    .dataframe thead th {\n",
       "        text-align: right;\n",
       "    }\n",
       "</style>\n",
       "<table border=\"1\" class=\"dataframe\">\n",
       "  <thead>\n",
       "    <tr style=\"text-align: right;\">\n",
       "      <th></th>\n",
       "      <th>1</th>\n",
       "    </tr>\n",
       "  </thead>\n",
       "  <tbody>\n",
       "    <tr>\n",
       "      <th>0</th>\n",
       "      <td>1</td>\n",
       "    </tr>\n",
       "    <tr>\n",
       "      <th>1</th>\n",
       "      <td>2</td>\n",
       "    </tr>\n",
       "    <tr>\n",
       "      <th>2</th>\n",
       "      <td>3</td>\n",
       "    </tr>\n",
       "    <tr>\n",
       "      <th>3</th>\n",
       "      <td>4</td>\n",
       "    </tr>\n",
       "    <tr>\n",
       "      <th>4</th>\n",
       "      <td>5</td>\n",
       "    </tr>\n",
       "    <tr>\n",
       "      <th>...</th>\n",
       "      <td>...</td>\n",
       "    </tr>\n",
       "    <tr>\n",
       "      <th>10</th>\n",
       "      <td>11</td>\n",
       "    </tr>\n",
       "    <tr>\n",
       "      <th>11</th>\n",
       "      <td>12</td>\n",
       "    </tr>\n",
       "    <tr>\n",
       "      <th>12</th>\n",
       "      <td>13</td>\n",
       "    </tr>\n",
       "    <tr>\n",
       "      <th>13</th>\n",
       "      <td>14</td>\n",
       "    </tr>\n",
       "    <tr>\n",
       "      <th>14</th>\n",
       "      <td>15</td>\n",
       "    </tr>\n",
       "  </tbody>\n",
       "</table>\n",
       "<p>15 rows × 1 columns</p>\n",
       "</div>"
      ],
      "text/plain": [
       "     1\n",
       "0    1\n",
       "1    2\n",
       "2    3\n",
       "3    4\n",
       "4    5\n",
       "..  ..\n",
       "10  11\n",
       "11  12\n",
       "12  13\n",
       "13  14\n",
       "14  15\n",
       "\n",
       "[15 rows x 1 columns]"
      ]
     },
     "execution_count": 7,
     "metadata": {},
     "output_type": "execute_result"
    }
   ],
   "source": [
    "%sql values 1,2,3,4,5,6,7,8,9,10,11,12,13,14,15"
   ]
  },
  {
   "cell_type": "markdown",
   "metadata": {},
   "source": [
    "You will notice that the displayed result will split the visible rows to the first 5 rows and the last 5 rows.\n",
    "Using the `-a` option will display all of the values."
   ]
  },
  {
   "cell_type": "code",
   "execution_count": 8,
   "metadata": {},
   "outputs": [
    {
     "data": {
      "text/html": [
       "<div>\n",
       "<style scoped>\n",
       "    .dataframe tbody tr th:only-of-type {\n",
       "        vertical-align: middle;\n",
       "    }\n",
       "\n",
       "    .dataframe tbody tr th {\n",
       "        vertical-align: top;\n",
       "    }\n",
       "\n",
       "    .dataframe thead th {\n",
       "        text-align: right;\n",
       "    }\n",
       "</style>\n",
       "<table border=\"1\" class=\"dataframe\">\n",
       "  <thead>\n",
       "    <tr style=\"text-align: right;\">\n",
       "      <th></th>\n",
       "      <th>1</th>\n",
       "    </tr>\n",
       "  </thead>\n",
       "  <tbody>\n",
       "    <tr>\n",
       "      <th>0</th>\n",
       "      <td>1</td>\n",
       "    </tr>\n",
       "    <tr>\n",
       "      <th>1</th>\n",
       "      <td>2</td>\n",
       "    </tr>\n",
       "    <tr>\n",
       "      <th>2</th>\n",
       "      <td>3</td>\n",
       "    </tr>\n",
       "    <tr>\n",
       "      <th>3</th>\n",
       "      <td>4</td>\n",
       "    </tr>\n",
       "    <tr>\n",
       "      <th>4</th>\n",
       "      <td>5</td>\n",
       "    </tr>\n",
       "    <tr>\n",
       "      <th>5</th>\n",
       "      <td>6</td>\n",
       "    </tr>\n",
       "    <tr>\n",
       "      <th>6</th>\n",
       "      <td>7</td>\n",
       "    </tr>\n",
       "    <tr>\n",
       "      <th>7</th>\n",
       "      <td>8</td>\n",
       "    </tr>\n",
       "    <tr>\n",
       "      <th>8</th>\n",
       "      <td>9</td>\n",
       "    </tr>\n",
       "    <tr>\n",
       "      <th>9</th>\n",
       "      <td>10</td>\n",
       "    </tr>\n",
       "    <tr>\n",
       "      <th>10</th>\n",
       "      <td>11</td>\n",
       "    </tr>\n",
       "    <tr>\n",
       "      <th>11</th>\n",
       "      <td>12</td>\n",
       "    </tr>\n",
       "    <tr>\n",
       "      <th>12</th>\n",
       "      <td>13</td>\n",
       "    </tr>\n",
       "    <tr>\n",
       "      <th>13</th>\n",
       "      <td>14</td>\n",
       "    </tr>\n",
       "    <tr>\n",
       "      <th>14</th>\n",
       "      <td>15</td>\n",
       "    </tr>\n",
       "  </tbody>\n",
       "</table>\n",
       "</div>"
      ],
      "text/plain": [
       "     1\n",
       "0    1\n",
       "1    2\n",
       "2    3\n",
       "3    4\n",
       "4    5\n",
       "5    6\n",
       "6    7\n",
       "7    8\n",
       "8    9\n",
       "9   10\n",
       "10  11\n",
       "11  12\n",
       "12  13\n",
       "13  14\n",
       "14  15"
      ]
     },
     "execution_count": 8,
     "metadata": {},
     "output_type": "execute_result"
    }
   ],
   "source": [
    "%sql -a values 1,2,3,4,5,6,7,8,9,10,11,12,13,14,15"
   ]
  },
  {
   "cell_type": "markdown",
   "metadata": {},
   "source": [
    "If you want a scrollable list, use the `-grid` option."
   ]
  },
  {
   "cell_type": "code",
   "execution_count": 9,
   "metadata": {},
   "outputs": [
    {
     "data": {
      "application/vnd.jupyter.widget-view+json": {
       "model_id": "2746968049484acfa064ab95d42e73e5",
       "version_major": 2,
       "version_minor": 0
      },
      "text/plain": [
       "QgridWidget(grid_options={'fullWidthRows': True, 'syncColumnCellResize': True, 'forceFitColumns': False, 'defa…"
      ]
     },
     "metadata": {},
     "output_type": "display_data"
    }
   ],
   "source": [
    "%sql -grid values 1,2,3,4,5,6,7,8,9,10,11,12,13,14,15"
   ]
  },
  {
   "cell_type": "markdown",
   "metadata": {},
   "source": [
    "To change the default value of rows displayed, you can use the `%sql option maxrow` command to set the value to something else. A value of -1 means unlimited output. Note that `MAXROWS` will display all of the data for answer sets that are less than `MAXROWS` in size. For instance, if you set `MAXROWS` to 20, then any answer set less than or equal to 20 will be shown on the screen. Anything larger than this amount will be summarized with the first `MAXROWS/2` rows displayed followed by the last `MAXROWS/2` rows.\n",
    "\n",
    "The following example will set the maximum rows to 8. Since our answer set is greater than 8, only the first 4 (8/2) rows will be shown, followed by the last 4."
   ]
  },
  {
   "cell_type": "code",
   "execution_count": 10,
   "metadata": {},
   "outputs": [
    {
     "data": {
      "text/html": [
       "<div>\n",
       "<style scoped>\n",
       "    .dataframe tbody tr th:only-of-type {\n",
       "        vertical-align: middle;\n",
       "    }\n",
       "\n",
       "    .dataframe tbody tr th {\n",
       "        vertical-align: top;\n",
       "    }\n",
       "\n",
       "    .dataframe thead th {\n",
       "        text-align: right;\n",
       "    }\n",
       "</style>\n",
       "<table border=\"1\" class=\"dataframe\">\n",
       "  <thead>\n",
       "    <tr style=\"text-align: right;\">\n",
       "      <th></th>\n",
       "      <th>1</th>\n",
       "    </tr>\n",
       "  </thead>\n",
       "  <tbody>\n",
       "    <tr>\n",
       "      <th>0</th>\n",
       "      <td>1</td>\n",
       "    </tr>\n",
       "    <tr>\n",
       "      <th>1</th>\n",
       "      <td>2</td>\n",
       "    </tr>\n",
       "    <tr>\n",
       "      <th>2</th>\n",
       "      <td>3</td>\n",
       "    </tr>\n",
       "    <tr>\n",
       "      <th>3</th>\n",
       "      <td>4</td>\n",
       "    </tr>\n",
       "    <tr>\n",
       "      <th>...</th>\n",
       "      <td>...</td>\n",
       "    </tr>\n",
       "    <tr>\n",
       "      <th>11</th>\n",
       "      <td>12</td>\n",
       "    </tr>\n",
       "    <tr>\n",
       "      <th>12</th>\n",
       "      <td>13</td>\n",
       "    </tr>\n",
       "    <tr>\n",
       "      <th>13</th>\n",
       "      <td>14</td>\n",
       "    </tr>\n",
       "    <tr>\n",
       "      <th>14</th>\n",
       "      <td>15</td>\n",
       "    </tr>\n",
       "  </tbody>\n",
       "</table>\n",
       "<p>15 rows × 1 columns</p>\n",
       "</div>"
      ],
      "text/plain": [
       "     1\n",
       "0    1\n",
       "1    2\n",
       "2    3\n",
       "3    4\n",
       "..  ..\n",
       "11  12\n",
       "12  13\n",
       "13  14\n",
       "14  15\n",
       "\n",
       "[15 rows x 1 columns]"
      ]
     },
     "execution_count": 10,
     "metadata": {},
     "output_type": "execute_result"
    }
   ],
   "source": [
    "%sql option maxrows 8\n",
    "%sql values 1,2,3,4,5,6,7,8,9,10,11,12,13,14,15"
   ]
  },
  {
   "cell_type": "markdown",
   "metadata": {},
   "source": [
    "For a grid display `-grid -g`, the `MAXGRID` setting will try to display the scrollable table with *at least* `MAXGRID` rows. The minimum display size of a table is 5 rows so if the table can't fit on the screen it will try to force at least 5 rows to be displayed. The size of the table display does not impact your ability to use the scrollbars to see the entire answer set."
   ]
  },
  {
   "cell_type": "code",
   "execution_count": 11,
   "metadata": {},
   "outputs": [
    {
     "data": {
      "text/html": [
       "<div>\n",
       "<style scoped>\n",
       "    .dataframe tbody tr th:only-of-type {\n",
       "        vertical-align: middle;\n",
       "    }\n",
       "\n",
       "    .dataframe tbody tr th {\n",
       "        vertical-align: top;\n",
       "    }\n",
       "\n",
       "    .dataframe thead th {\n",
       "        text-align: right;\n",
       "    }\n",
       "</style>\n",
       "<table border=\"1\" class=\"dataframe\">\n",
       "  <thead>\n",
       "    <tr style=\"text-align: right;\">\n",
       "      <th></th>\n",
       "      <th>1</th>\n",
       "    </tr>\n",
       "  </thead>\n",
       "  <tbody>\n",
       "    <tr>\n",
       "      <th>0</th>\n",
       "      <td>1</td>\n",
       "    </tr>\n",
       "    <tr>\n",
       "      <th>1</th>\n",
       "      <td>2</td>\n",
       "    </tr>\n",
       "    <tr>\n",
       "      <th>2</th>\n",
       "      <td>3</td>\n",
       "    </tr>\n",
       "    <tr>\n",
       "      <th>3</th>\n",
       "      <td>4</td>\n",
       "    </tr>\n",
       "    <tr>\n",
       "      <th>4</th>\n",
       "      <td>5</td>\n",
       "    </tr>\n",
       "    <tr>\n",
       "      <th>...</th>\n",
       "      <td>...</td>\n",
       "    </tr>\n",
       "    <tr>\n",
       "      <th>10</th>\n",
       "      <td>11</td>\n",
       "    </tr>\n",
       "    <tr>\n",
       "      <th>11</th>\n",
       "      <td>12</td>\n",
       "    </tr>\n",
       "    <tr>\n",
       "      <th>12</th>\n",
       "      <td>13</td>\n",
       "    </tr>\n",
       "    <tr>\n",
       "      <th>13</th>\n",
       "      <td>14</td>\n",
       "    </tr>\n",
       "    <tr>\n",
       "      <th>14</th>\n",
       "      <td>15</td>\n",
       "    </tr>\n",
       "  </tbody>\n",
       "</table>\n",
       "<p>15 rows × 1 columns</p>\n",
       "</div>"
      ],
      "text/plain": [
       "     1\n",
       "0    1\n",
       "1    2\n",
       "2    3\n",
       "3    4\n",
       "4    5\n",
       "..  ..\n",
       "10  11\n",
       "11  12\n",
       "12  13\n",
       "13  14\n",
       "14  15\n",
       "\n",
       "[15 rows x 1 columns]"
      ]
     },
     "execution_count": 11,
     "metadata": {},
     "output_type": "execute_result"
    }
   ],
   "source": [
    "%sql option maxrows 10\n",
    "%sql values 1,2,3,4,5,6,7,8,9,10,11,12,13,14,15"
   ]
  },
  {
   "cell_type": "markdown",
   "metadata": {},
   "source": [
    "A special note regarding the output from a `SELECT` statement. If the SQL statement is the last line of a block, the results will be displayed by default (unless you assigned the results to a variable). If the SQL is in the middle of a block of statements, the results will not be displayed. "
   ]
  },
  {
   "cell_type": "markdown",
   "metadata": {},
   "source": [
    "## Quiet Mode\n",
    "Every SQL statement will result in some output. You will either get an answer set (`SELECT`), or an indication if\n",
    "the command worked. For instance, the following set of SQL will generate some error messages since the tables \n",
    "will probably not exist:"
   ]
  },
  {
   "cell_type": "code",
   "execution_count": 12,
   "metadata": {},
   "outputs": [
    {
     "data": {
      "text/html": [
       "<p><p style=\"border:2px; border-style:solid; border-color:#FF0000; background-color:#ffe6e6; padding: 1em;\">SQL0204N  \"DB2INST1.TABLE_NOT_FOUND\" is an undefined name.  SQLSTATE=42704 SQLCODE=-204</p>"
      ],
      "text/plain": [
       "<IPython.core.display.HTML object>"
      ]
     },
     "metadata": {},
     "output_type": "display_data"
    },
    {
     "data": {
      "text/html": [
       "<p><p style=\"border:2px; border-style:solid; border-color:#FF0000; background-color:#ffe6e6; padding: 1em;\">SQL0204N  \"DB2INST1.TABLE_SPELLED_WRONG\" is an undefined name.  SQLSTATE=42704 SQLCODE=-204</p>"
      ],
      "text/plain": [
       "<IPython.core.display.HTML object>"
      ]
     },
     "metadata": {},
     "output_type": "display_data"
    },
    {
     "name": "stdout",
     "output_type": "stream",
     "text": [
      "Command completed.\n"
     ]
    }
   ],
   "source": [
    "%%sql\n",
    "DROP TABLE TABLE_NOT_FOUND;\n",
    "DROP TABLE TABLE_SPELLED_WRONG;"
   ]
  },
  {
   "cell_type": "markdown",
   "metadata": {},
   "source": [
    "If you know that these errors may occur you can silence them with the -q option."
   ]
  },
  {
   "cell_type": "code",
   "execution_count": 13,
   "metadata": {},
   "outputs": [],
   "source": [
    "%%sql -q\n",
    "DROP TABLE TABLE_NOT_FOUND;\n",
    "DROP TABLE TABLE_SPELLED_WRONG;"
   ]
  },
  {
   "cell_type": "markdown",
   "metadata": {},
   "source": [
    "SQL output will not be suppressed, so the following command will still show the results."
   ]
  },
  {
   "cell_type": "code",
   "execution_count": 14,
   "metadata": {},
   "outputs": [
    {
     "data": {
      "text/html": [
       "<div>\n",
       "<style scoped>\n",
       "    .dataframe tbody tr th:only-of-type {\n",
       "        vertical-align: middle;\n",
       "    }\n",
       "\n",
       "    .dataframe tbody tr th {\n",
       "        vertical-align: top;\n",
       "    }\n",
       "\n",
       "    .dataframe thead th {\n",
       "        text-align: right;\n",
       "    }\n",
       "</style>\n",
       "<table border=\"1\" class=\"dataframe\">\n",
       "  <thead>\n",
       "    <tr style=\"text-align: right;\">\n",
       "      <th></th>\n",
       "      <th>1</th>\n",
       "    </tr>\n",
       "  </thead>\n",
       "  <tbody>\n",
       "    <tr>\n",
       "      <th>0</th>\n",
       "      <td>1</td>\n",
       "    </tr>\n",
       "    <tr>\n",
       "      <th>1</th>\n",
       "      <td>2</td>\n",
       "    </tr>\n",
       "    <tr>\n",
       "      <th>2</th>\n",
       "      <td>3</td>\n",
       "    </tr>\n",
       "  </tbody>\n",
       "</table>\n",
       "</div>"
      ],
      "text/plain": [
       "   1\n",
       "0  1\n",
       "1  2\n",
       "2  3"
      ]
     },
     "execution_count": 14,
     "metadata": {},
     "output_type": "execute_result"
    }
   ],
   "source": [
    "%%sql -q\n",
    "DROP TABLE TABLE_NOT_FOUND;\n",
    "DROP TABLE TABLE_SPELLED_WRONG;\n",
    "VALUES 1,2,3;"
   ]
  },
  {
   "cell_type": "markdown",
   "metadata": {},
   "source": [
    "## Variables in %sql Blocks"
   ]
  },
  {
   "cell_type": "markdown",
   "metadata": {},
   "source": [
    "Python variables can be passed to a `%sql` line command, and to a `%%sql` block. For both forms of the `%sql` command you can pass variables by placing a colon in front of the variable name.\n",
    "```python\n",
    "%sql SELECT * FROM EMPLOYEE WHERE EMPNO = :empno\n",
    "```\n",
    "\n",
    "The following example illustrates the use of a variable in the SQL."
   ]
  },
  {
   "cell_type": "code",
   "execution_count": 15,
   "metadata": {},
   "outputs": [
    {
     "data": {
      "text/html": [
       "<div>\n",
       "<style scoped>\n",
       "    .dataframe tbody tr th:only-of-type {\n",
       "        vertical-align: middle;\n",
       "    }\n",
       "\n",
       "    .dataframe tbody tr th {\n",
       "        vertical-align: top;\n",
       "    }\n",
       "\n",
       "    .dataframe thead th {\n",
       "        text-align: right;\n",
       "    }\n",
       "</style>\n",
       "<table border=\"1\" class=\"dataframe\">\n",
       "  <thead>\n",
       "    <tr style=\"text-align: right;\">\n",
       "      <th></th>\n",
       "      <th>EMPNO</th>\n",
       "      <th>FIRSTNME</th>\n",
       "      <th>MIDINIT</th>\n",
       "      <th>LASTNAME</th>\n",
       "      <th>WORKDEPT</th>\n",
       "      <th>PHONENO</th>\n",
       "      <th>HIREDATE</th>\n",
       "      <th>JOB</th>\n",
       "      <th>EDLEVEL</th>\n",
       "      <th>SEX</th>\n",
       "      <th>BIRTHDATE</th>\n",
       "      <th>SALARY</th>\n",
       "      <th>BONUS</th>\n",
       "      <th>COMM</th>\n",
       "    </tr>\n",
       "  </thead>\n",
       "  <tbody>\n",
       "    <tr>\n",
       "      <th>0</th>\n",
       "      <td>000010</td>\n",
       "      <td>CHRISTINE</td>\n",
       "      <td>I</td>\n",
       "      <td>HAAS</td>\n",
       "      <td>A00</td>\n",
       "      <td>3978</td>\n",
       "      <td>1995-01-01</td>\n",
       "      <td>PRES</td>\n",
       "      <td>18</td>\n",
       "      <td>F</td>\n",
       "      <td>1963-08-24</td>\n",
       "      <td>152750.0</td>\n",
       "      <td>1000.0</td>\n",
       "      <td>4220.0</td>\n",
       "    </tr>\n",
       "  </tbody>\n",
       "</table>\n",
       "</div>"
      ],
      "text/plain": [
       "    EMPNO   FIRSTNME MIDINIT LASTNAME WORKDEPT PHONENO    HIREDATE       JOB  \\\n",
       "0  000010  CHRISTINE       I     HAAS      A00    3978  1995-01-01  PRES       \n",
       "\n",
       "   EDLEVEL SEX   BIRTHDATE    SALARY   BONUS    COMM  \n",
       "0       18   F  1963-08-24  152750.0  1000.0  4220.0  "
      ]
     },
     "execution_count": 15,
     "metadata": {},
     "output_type": "execute_result"
    }
   ],
   "source": [
    "empno = '000010'\n",
    "%sql SELECT * FROM EMPLOYEE WHERE EMPNO = :empno"
   ]
  },
  {
   "cell_type": "markdown",
   "metadata": {},
   "source": [
    "You can doublecheck that the substitution took place by using the `-e` option which echos the SQL command after substitution."
   ]
  },
  {
   "cell_type": "code",
   "execution_count": 16,
   "metadata": {},
   "outputs": [
    {
     "data": {
      "text/html": [
       "<p><pre style=\"font-family: monospace; border:2px; border-style:solid; border-color:#008000; background-color:#e6ffe6; padding: 1em;\">SELECT * FROM EMPLOYEE WHERE EMPNO = '000010'</pre></p>"
      ],
      "text/plain": [
       "<IPython.core.display.HTML object>"
      ]
     },
     "metadata": {},
     "output_type": "display_data"
    },
    {
     "data": {
      "text/html": [
       "<div>\n",
       "<style scoped>\n",
       "    .dataframe tbody tr th:only-of-type {\n",
       "        vertical-align: middle;\n",
       "    }\n",
       "\n",
       "    .dataframe tbody tr th {\n",
       "        vertical-align: top;\n",
       "    }\n",
       "\n",
       "    .dataframe thead th {\n",
       "        text-align: right;\n",
       "    }\n",
       "</style>\n",
       "<table border=\"1\" class=\"dataframe\">\n",
       "  <thead>\n",
       "    <tr style=\"text-align: right;\">\n",
       "      <th></th>\n",
       "      <th>EMPNO</th>\n",
       "      <th>FIRSTNME</th>\n",
       "      <th>MIDINIT</th>\n",
       "      <th>LASTNAME</th>\n",
       "      <th>WORKDEPT</th>\n",
       "      <th>PHONENO</th>\n",
       "      <th>HIREDATE</th>\n",
       "      <th>JOB</th>\n",
       "      <th>EDLEVEL</th>\n",
       "      <th>SEX</th>\n",
       "      <th>BIRTHDATE</th>\n",
       "      <th>SALARY</th>\n",
       "      <th>BONUS</th>\n",
       "      <th>COMM</th>\n",
       "    </tr>\n",
       "  </thead>\n",
       "  <tbody>\n",
       "    <tr>\n",
       "      <th>0</th>\n",
       "      <td>000010</td>\n",
       "      <td>CHRISTINE</td>\n",
       "      <td>I</td>\n",
       "      <td>HAAS</td>\n",
       "      <td>A00</td>\n",
       "      <td>3978</td>\n",
       "      <td>1995-01-01</td>\n",
       "      <td>PRES</td>\n",
       "      <td>18</td>\n",
       "      <td>F</td>\n",
       "      <td>1963-08-24</td>\n",
       "      <td>152750.0</td>\n",
       "      <td>1000.0</td>\n",
       "      <td>4220.0</td>\n",
       "    </tr>\n",
       "  </tbody>\n",
       "</table>\n",
       "</div>"
      ],
      "text/plain": [
       "    EMPNO   FIRSTNME MIDINIT LASTNAME WORKDEPT PHONENO    HIREDATE       JOB  \\\n",
       "0  000010  CHRISTINE       I     HAAS      A00    3978  1995-01-01  PRES       \n",
       "\n",
       "   EDLEVEL SEX   BIRTHDATE    SALARY   BONUS    COMM  \n",
       "0       18   F  1963-08-24  152750.0  1000.0  4220.0  "
      ]
     },
     "execution_count": 16,
     "metadata": {},
     "output_type": "execute_result"
    }
   ],
   "source": [
    "%sql -echo SELECT * FROM EMPLOYEE WHERE EMPNO = :empno"
   ]
  },
  {
   "cell_type": "markdown",
   "metadata": {},
   "source": [
    "Note that the variable `:empno` did not have quotes around it, although it is a string value. The `%sql` call will examine the contents of the variable and add quotes around strings so you do not have to supply them in the SQL command.\n",
    "\n",
    "Variables can also be array types. Arrays are expanded into multiple values, each separated by commas. This is useful when building SQL `IN` lists. The following example searches for 3 employees based on their employee number."
   ]
  },
  {
   "cell_type": "code",
   "execution_count": 17,
   "metadata": {},
   "outputs": [
    {
     "data": {
      "text/html": [
       "<div>\n",
       "<style scoped>\n",
       "    .dataframe tbody tr th:only-of-type {\n",
       "        vertical-align: middle;\n",
       "    }\n",
       "\n",
       "    .dataframe tbody tr th {\n",
       "        vertical-align: top;\n",
       "    }\n",
       "\n",
       "    .dataframe thead th {\n",
       "        text-align: right;\n",
       "    }\n",
       "</style>\n",
       "<table border=\"1\" class=\"dataframe\">\n",
       "  <thead>\n",
       "    <tr style=\"text-align: right;\">\n",
       "      <th></th>\n",
       "      <th>EMPNO</th>\n",
       "      <th>FIRSTNME</th>\n",
       "      <th>MIDINIT</th>\n",
       "      <th>LASTNAME</th>\n",
       "      <th>WORKDEPT</th>\n",
       "      <th>PHONENO</th>\n",
       "      <th>HIREDATE</th>\n",
       "      <th>JOB</th>\n",
       "      <th>EDLEVEL</th>\n",
       "      <th>SEX</th>\n",
       "      <th>BIRTHDATE</th>\n",
       "      <th>SALARY</th>\n",
       "      <th>BONUS</th>\n",
       "      <th>COMM</th>\n",
       "    </tr>\n",
       "  </thead>\n",
       "  <tbody>\n",
       "    <tr>\n",
       "      <th>0</th>\n",
       "      <td>000010</td>\n",
       "      <td>CHRISTINE</td>\n",
       "      <td>I</td>\n",
       "      <td>HAAS</td>\n",
       "      <td>A00</td>\n",
       "      <td>3978</td>\n",
       "      <td>1995-01-01</td>\n",
       "      <td>PRES</td>\n",
       "      <td>18</td>\n",
       "      <td>F</td>\n",
       "      <td>1963-08-24</td>\n",
       "      <td>152750.0</td>\n",
       "      <td>1000.0</td>\n",
       "      <td>4220.0</td>\n",
       "    </tr>\n",
       "    <tr>\n",
       "      <th>1</th>\n",
       "      <td>000020</td>\n",
       "      <td>MICHAEL</td>\n",
       "      <td>L</td>\n",
       "      <td>THOMPSON</td>\n",
       "      <td>B01</td>\n",
       "      <td>3476</td>\n",
       "      <td>2003-10-10</td>\n",
       "      <td>MANAGER</td>\n",
       "      <td>18</td>\n",
       "      <td>M</td>\n",
       "      <td>1978-02-02</td>\n",
       "      <td>94250.0</td>\n",
       "      <td>800.0</td>\n",
       "      <td>3300.0</td>\n",
       "    </tr>\n",
       "    <tr>\n",
       "      <th>2</th>\n",
       "      <td>000030</td>\n",
       "      <td>SALLY</td>\n",
       "      <td>A</td>\n",
       "      <td>KWAN</td>\n",
       "      <td>C01</td>\n",
       "      <td>4738</td>\n",
       "      <td>2005-04-05</td>\n",
       "      <td>MANAGER</td>\n",
       "      <td>20</td>\n",
       "      <td>F</td>\n",
       "      <td>1971-05-11</td>\n",
       "      <td>98250.0</td>\n",
       "      <td>800.0</td>\n",
       "      <td>3060.0</td>\n",
       "    </tr>\n",
       "  </tbody>\n",
       "</table>\n",
       "</div>"
      ],
      "text/plain": [
       "    EMPNO   FIRSTNME MIDINIT  LASTNAME WORKDEPT PHONENO    HIREDATE       JOB  \\\n",
       "0  000010  CHRISTINE       I      HAAS      A00    3978  1995-01-01  PRES       \n",
       "1  000020    MICHAEL       L  THOMPSON      B01    3476  2003-10-10  MANAGER    \n",
       "2  000030      SALLY       A      KWAN      C01    4738  2005-04-05  MANAGER    \n",
       "\n",
       "   EDLEVEL SEX   BIRTHDATE    SALARY   BONUS    COMM  \n",
       "0       18   F  1963-08-24  152750.0  1000.0  4220.0  \n",
       "1       18   M  1978-02-02   94250.0   800.0  3300.0  \n",
       "2       20   F  1971-05-11   98250.0   800.0  3060.0  "
      ]
     },
     "execution_count": 17,
     "metadata": {},
     "output_type": "execute_result"
    }
   ],
   "source": [
    "empnos = ['000010','000020','000030']\n",
    "%sql SELECT * FROM EMPLOYEE WHERE EMPNO IN (:empnos)"
   ]
  },
  {
   "cell_type": "markdown",
   "metadata": {},
   "source": [
    "You can reference individual array items using this technique as well. If you wanted to search for only the first value in the `empnos` array, use `:empnos[0]` instead."
   ]
  },
  {
   "cell_type": "code",
   "execution_count": 18,
   "metadata": {},
   "outputs": [
    {
     "data": {
      "text/html": [
       "<div>\n",
       "<style scoped>\n",
       "    .dataframe tbody tr th:only-of-type {\n",
       "        vertical-align: middle;\n",
       "    }\n",
       "\n",
       "    .dataframe tbody tr th {\n",
       "        vertical-align: top;\n",
       "    }\n",
       "\n",
       "    .dataframe thead th {\n",
       "        text-align: right;\n",
       "    }\n",
       "</style>\n",
       "<table border=\"1\" class=\"dataframe\">\n",
       "  <thead>\n",
       "    <tr style=\"text-align: right;\">\n",
       "      <th></th>\n",
       "      <th>EMPNO</th>\n",
       "      <th>FIRSTNME</th>\n",
       "      <th>MIDINIT</th>\n",
       "      <th>LASTNAME</th>\n",
       "      <th>WORKDEPT</th>\n",
       "      <th>PHONENO</th>\n",
       "      <th>HIREDATE</th>\n",
       "      <th>JOB</th>\n",
       "      <th>EDLEVEL</th>\n",
       "      <th>SEX</th>\n",
       "      <th>BIRTHDATE</th>\n",
       "      <th>SALARY</th>\n",
       "      <th>BONUS</th>\n",
       "      <th>COMM</th>\n",
       "    </tr>\n",
       "  </thead>\n",
       "  <tbody>\n",
       "    <tr>\n",
       "      <th>0</th>\n",
       "      <td>000010</td>\n",
       "      <td>CHRISTINE</td>\n",
       "      <td>I</td>\n",
       "      <td>HAAS</td>\n",
       "      <td>A00</td>\n",
       "      <td>3978</td>\n",
       "      <td>1995-01-01</td>\n",
       "      <td>PRES</td>\n",
       "      <td>18</td>\n",
       "      <td>F</td>\n",
       "      <td>1963-08-24</td>\n",
       "      <td>152750.0</td>\n",
       "      <td>1000.0</td>\n",
       "      <td>4220.0</td>\n",
       "    </tr>\n",
       "  </tbody>\n",
       "</table>\n",
       "</div>"
      ],
      "text/plain": [
       "    EMPNO   FIRSTNME MIDINIT LASTNAME WORKDEPT PHONENO    HIREDATE       JOB  \\\n",
       "0  000010  CHRISTINE       I     HAAS      A00    3978  1995-01-01  PRES       \n",
       "\n",
       "   EDLEVEL SEX   BIRTHDATE    SALARY   BONUS    COMM  \n",
       "0       18   F  1963-08-24  152750.0  1000.0  4220.0  "
      ]
     },
     "execution_count": 18,
     "metadata": {},
     "output_type": "execute_result"
    }
   ],
   "source": [
    "%sql SELECT * FROM EMPLOYEE WHERE EMPNO IN (:empnos[0])"
   ]
  },
  {
   "cell_type": "markdown",
   "metadata": {},
   "source": [
    "One final type of variable substitution that is allowed is for dictionaries. Python dictionaries resemble JSON objects and can be used to insert JSON values into Db2. For instance, the following variable contains company information in a JSON structure."
   ]
  },
  {
   "cell_type": "code",
   "execution_count": 19,
   "metadata": {},
   "outputs": [],
   "source": [
    "customer = {\n",
    "    \"name\" : \"Aced Hardware Stores\",\n",
    "    \"city\" : \"Rockwood\",\n",
    "    \"employees\" : 14\n",
    "}"
   ]
  },
  {
   "cell_type": "markdown",
   "metadata": {},
   "source": [
    "Db2 has builtin functions for dealing with JSON objects. There is another Jupyter notebook which goes through this in detail. Rather than using those functions, the following code will create a Db2 table with a string column that will contain the contents of this JSON record."
   ]
  },
  {
   "cell_type": "code",
   "execution_count": 20,
   "metadata": {},
   "outputs": [
    {
     "data": {
      "text/html": [
       "<p><p style=\"border:2px; border-style:solid; border-color:#FF0000; background-color:#ffe6e6; padding: 1em;\">SQL0204N  \"DB2INST1.SHOWJSON\" is an undefined name.  SQLSTATE=42704 SQLCODE=-204</p>"
      ],
      "text/plain": [
       "<IPython.core.display.HTML object>"
      ]
     },
     "metadata": {},
     "output_type": "display_data"
    },
    {
     "name": "stdout",
     "output_type": "stream",
     "text": [
      "Command completed.\n"
     ]
    }
   ],
   "source": [
    "%%sql\n",
    "DROP TABLE SHOWJSON;\n",
    "CREATE TABLE SHOWJSON (INJSON VARCHAR(256));"
   ]
  },
  {
   "cell_type": "markdown",
   "metadata": {},
   "source": [
    "To insert the Dictionary (JSON Record) into this Db2 table, you only need to use the variable name as one of the fields being inserted."
   ]
  },
  {
   "cell_type": "code",
   "execution_count": 21,
   "metadata": {},
   "outputs": [
    {
     "name": "stdout",
     "output_type": "stream",
     "text": [
      "Command completed.\n"
     ]
    }
   ],
   "source": [
    "%sql INSERT INTO SHOWJSON VALUES :customer"
   ]
  },
  {
   "cell_type": "markdown",
   "metadata": {},
   "source": [
    "Selecting from this table will show that the data has been inserted as a string. "
   ]
  },
  {
   "cell_type": "code",
   "execution_count": 22,
   "metadata": {},
   "outputs": [
    {
     "data": {
      "text/html": [
       "<div>\n",
       "<style scoped>\n",
       "    .dataframe tbody tr th:only-of-type {\n",
       "        vertical-align: middle;\n",
       "    }\n",
       "\n",
       "    .dataframe tbody tr th {\n",
       "        vertical-align: top;\n",
       "    }\n",
       "\n",
       "    .dataframe thead th {\n",
       "        text-align: right;\n",
       "    }\n",
       "</style>\n",
       "<table border=\"1\" class=\"dataframe\">\n",
       "  <thead>\n",
       "    <tr style=\"text-align: right;\">\n",
       "      <th></th>\n",
       "      <th>INJSON</th>\n",
       "    </tr>\n",
       "  </thead>\n",
       "  <tbody>\n",
       "    <tr>\n",
       "      <th>0</th>\n",
       "      <td>{\"name\": \"Aced Hardware Stores\", \"city\": \"Rock...</td>\n",
       "    </tr>\n",
       "  </tbody>\n",
       "</table>\n",
       "</div>"
      ],
      "text/plain": [
       "                                              INJSON\n",
       "0  {\"name\": \"Aced Hardware Stores\", \"city\": \"Rock..."
      ]
     },
     "execution_count": 22,
     "metadata": {},
     "output_type": "execute_result"
    }
   ],
   "source": [
    "%sql select * from showjson"
   ]
  },
  {
   "cell_type": "markdown",
   "metadata": {},
   "source": [
    "If you want to retrieve the data from a column that contains JSON records, you must use the `-j` flag to insert the contents back into a variable."
   ]
  },
  {
   "cell_type": "code",
   "execution_count": 23,
   "metadata": {},
   "outputs": [],
   "source": [
    "v = %sql -j SELECT * FROM SHOWJSON"
   ]
  },
  {
   "cell_type": "markdown",
   "metadata": {},
   "source": [
    "The variable `v` now contains the original JSON record for you to use."
   ]
  },
  {
   "cell_type": "code",
   "execution_count": 24,
   "metadata": {},
   "outputs": [
    {
     "data": {
      "text/plain": [
       "[{'name': 'Aced Hardware Stores', 'city': 'Rockwood', 'employees': 14}]"
      ]
     },
     "execution_count": 24,
     "metadata": {},
     "output_type": "execute_result"
    }
   ],
   "source": [
    "v"
   ]
  },
  {
   "cell_type": "markdown",
   "metadata": {},
   "source": [
    "## SQL Character Strings\n",
    "\n",
    "Character strings require special handling when dealing with Db2. The single quote character `'` is reserved for delimiting string constants, while the double quote `\"` is used for naming columns that require special characters. You cannot use the double quote character to delimit strings that happen to contain the single quote character. What Db2 requires you do is placed two quotes in a row to have them interpreted as a single quote character. For instance, the next statement will select one employee from the table who has a quote in their last name: `O'CONNELL`."
   ]
  },
  {
   "cell_type": "code",
   "execution_count": 25,
   "metadata": {},
   "outputs": [
    {
     "data": {
      "text/html": [
       "<div>\n",
       "<style scoped>\n",
       "    .dataframe tbody tr th:only-of-type {\n",
       "        vertical-align: middle;\n",
       "    }\n",
       "\n",
       "    .dataframe tbody tr th {\n",
       "        vertical-align: top;\n",
       "    }\n",
       "\n",
       "    .dataframe thead th {\n",
       "        text-align: right;\n",
       "    }\n",
       "</style>\n",
       "<table border=\"1\" class=\"dataframe\">\n",
       "  <thead>\n",
       "    <tr style=\"text-align: right;\">\n",
       "      <th></th>\n",
       "      <th>EMPNO</th>\n",
       "      <th>FIRSTNME</th>\n",
       "      <th>MIDINIT</th>\n",
       "      <th>LASTNAME</th>\n",
       "      <th>WORKDEPT</th>\n",
       "      <th>PHONENO</th>\n",
       "      <th>HIREDATE</th>\n",
       "      <th>JOB</th>\n",
       "      <th>EDLEVEL</th>\n",
       "      <th>SEX</th>\n",
       "      <th>BIRTHDATE</th>\n",
       "      <th>SALARY</th>\n",
       "      <th>BONUS</th>\n",
       "      <th>COMM</th>\n",
       "    </tr>\n",
       "  </thead>\n",
       "  <tbody>\n",
       "    <tr>\n",
       "      <th>0</th>\n",
       "      <td>000120</td>\n",
       "      <td>SEAN</td>\n",
       "      <td></td>\n",
       "      <td>O'CONNELL</td>\n",
       "      <td>A00</td>\n",
       "      <td>2167</td>\n",
       "      <td>1993-12-05</td>\n",
       "      <td>CLERK</td>\n",
       "      <td>14</td>\n",
       "      <td>M</td>\n",
       "      <td>1972-10-18</td>\n",
       "      <td>49250.0</td>\n",
       "      <td>600.0</td>\n",
       "      <td>2340.0</td>\n",
       "    </tr>\n",
       "  </tbody>\n",
       "</table>\n",
       "</div>"
      ],
      "text/plain": [
       "    EMPNO FIRSTNME MIDINIT   LASTNAME WORKDEPT PHONENO    HIREDATE       JOB  \\\n",
       "0  000120     SEAN          O'CONNELL      A00    2167  1993-12-05  CLERK      \n",
       "\n",
       "   EDLEVEL SEX   BIRTHDATE   SALARY  BONUS    COMM  \n",
       "0       14   M  1972-10-18  49250.0  600.0  2340.0  "
      ]
     },
     "execution_count": 25,
     "metadata": {},
     "output_type": "execute_result"
    }
   ],
   "source": [
    "%sql SELECT * FROM EMPLOYEE WHERE LASTNAME = 'O''CONNELL'"
   ]
  },
  {
   "cell_type": "markdown",
   "metadata": {},
   "source": [
    "Python handles quotes differently! You can assign a string to a Python variable using single or double quotes. The following assignment statements are not identical!"
   ]
  },
  {
   "cell_type": "code",
   "execution_count": 26,
   "metadata": {},
   "outputs": [
    {
     "name": "stdout",
     "output_type": "stream",
     "text": [
      "O'CONNELL\n",
      "OCONNELL\n"
     ]
    }
   ],
   "source": [
    "lastname = \"O'CONNELL\"\n",
    "print(lastname)\n",
    "lastname = 'O''CONNELL'\n",
    "print(lastname)"
   ]
  },
  {
   "cell_type": "markdown",
   "metadata": {},
   "source": [
    "If you use the same syntax as Db2, Python will remove the quote in the string! It interprets this as two strings (O and CONNELL) being concatentated together. That probably isn't what you want! So the safest approach is to use double quotes around your string when you assign it to a variable. Then you can use the variable in the SQL statement as shown in the following example."
   ]
  },
  {
   "cell_type": "code",
   "execution_count": 27,
   "metadata": {},
   "outputs": [
    {
     "data": {
      "text/html": [
       "<p><pre style=\"font-family: monospace; border:2px; border-style:solid; border-color:#008000; background-color:#e6ffe6; padding: 1em;\">SELECT * FROM EMPLOYEE WHERE LASTNAME = 'O''CONNELL'</pre></p>"
      ],
      "text/plain": [
       "<IPython.core.display.HTML object>"
      ]
     },
     "metadata": {},
     "output_type": "display_data"
    },
    {
     "data": {
      "text/html": [
       "<div>\n",
       "<style scoped>\n",
       "    .dataframe tbody tr th:only-of-type {\n",
       "        vertical-align: middle;\n",
       "    }\n",
       "\n",
       "    .dataframe tbody tr th {\n",
       "        vertical-align: top;\n",
       "    }\n",
       "\n",
       "    .dataframe thead th {\n",
       "        text-align: right;\n",
       "    }\n",
       "</style>\n",
       "<table border=\"1\" class=\"dataframe\">\n",
       "  <thead>\n",
       "    <tr style=\"text-align: right;\">\n",
       "      <th></th>\n",
       "      <th>EMPNO</th>\n",
       "      <th>FIRSTNME</th>\n",
       "      <th>MIDINIT</th>\n",
       "      <th>LASTNAME</th>\n",
       "      <th>WORKDEPT</th>\n",
       "      <th>PHONENO</th>\n",
       "      <th>HIREDATE</th>\n",
       "      <th>JOB</th>\n",
       "      <th>EDLEVEL</th>\n",
       "      <th>SEX</th>\n",
       "      <th>BIRTHDATE</th>\n",
       "      <th>SALARY</th>\n",
       "      <th>BONUS</th>\n",
       "      <th>COMM</th>\n",
       "    </tr>\n",
       "  </thead>\n",
       "  <tbody>\n",
       "    <tr>\n",
       "      <th>0</th>\n",
       "      <td>000120</td>\n",
       "      <td>SEAN</td>\n",
       "      <td></td>\n",
       "      <td>O'CONNELL</td>\n",
       "      <td>A00</td>\n",
       "      <td>2167</td>\n",
       "      <td>1993-12-05</td>\n",
       "      <td>CLERK</td>\n",
       "      <td>14</td>\n",
       "      <td>M</td>\n",
       "      <td>1972-10-18</td>\n",
       "      <td>49250.0</td>\n",
       "      <td>600.0</td>\n",
       "      <td>2340.0</td>\n",
       "    </tr>\n",
       "  </tbody>\n",
       "</table>\n",
       "</div>"
      ],
      "text/plain": [
       "    EMPNO FIRSTNME MIDINIT   LASTNAME WORKDEPT PHONENO    HIREDATE       JOB  \\\n",
       "0  000120     SEAN          O'CONNELL      A00    2167  1993-12-05  CLERK      \n",
       "\n",
       "   EDLEVEL SEX   BIRTHDATE   SALARY  BONUS    COMM  \n",
       "0       14   M  1972-10-18  49250.0  600.0  2340.0  "
      ]
     },
     "execution_count": 27,
     "metadata": {},
     "output_type": "execute_result"
    }
   ],
   "source": [
    "lastname = \"O'CONNELL\"\n",
    "%sql -e SELECT * FROM EMPLOYEE WHERE LASTNAME = :lastname"
   ]
  },
  {
   "cell_type": "markdown",
   "metadata": {},
   "source": [
    "Notice how the string constant was updated to contain two quotes when inserted into the SQL statement. This is done automatically by the `%sql` magic command, so there is no need to use the two single quotes when assigning a string to a variable. However, you must use the two single quotes when using constants in a SQL statement."
   ]
  },
  {
   "cell_type": "markdown",
   "metadata": {},
   "source": [
    "## Builtin Variables\n",
    "There are 5 predefined variables defined in the program:\n",
    "\n",
    "- database - The name of the database you are connected to\n",
    "- uid - The userid that you connected with\n",
    "- hostname = The IP address of the host system\n",
    "- port - The port number of the host system\n",
    "- max - The maximum number of rows to return in an answer set\n",
    "\n",
    "Theses variables are all part of a structure called _settings. To retrieve a value, use the syntax:\n",
    "```python\n",
    "db = _settings['database']\n",
    "```\n",
    "\n",
    "There are also 3 variables that contain information from the last SQL statement that was executed.\n",
    "\n",
    "- sqlcode - SQLCODE from the last statement executed\n",
    "- sqlstate - SQLSTATE from the last statement executed\n",
    "- sqlerror - Full error message returned on last statement executed\n",
    "\n",
    "You can access these variables directly in your code. The following code segment illustrates the use of the SQLCODE variable."
   ]
  },
  {
   "cell_type": "code",
   "execution_count": 28,
   "metadata": {},
   "outputs": [
    {
     "name": "stdout",
     "output_type": "stream",
     "text": [
      "Employee 000010 salary is 152750.0\n",
      "Employee 999999 left the company!\n"
     ]
    }
   ],
   "source": [
    "empnos = ['000010','999999']\n",
    "for empno in empnos:\n",
    "    ans1 = %sql -r SELECT SALARY FROM EMPLOYEE WHERE EMPNO = :empno\n",
    "    if (sqlcode != 0):\n",
    "        print(\"Employee \"+ empno + \" left the company!\")\n",
    "    else:\n",
    "        print(\"Employee \"+ empno + \" salary is \" + str(ans1[1][0]))"
   ]
  },
  {
   "cell_type": "markdown",
   "metadata": {},
   "source": [
    "## Timing SQL Statements\n",
    "Sometimes you want to see how the execution of a statement changes with the addition of indexes or other\n",
    "optimization changes. The `-t` option will run the statement on the LINE or one SQL statement in the CELL for \n",
    "exactly one second. The results will be displayed and optionally placed into a variable. The syntax of the\n",
    "command is:\n",
    "<pre>\n",
    "sql_time = %sql -t SELECT * FROM EMPLOYEE\n",
    "</pre>\n",
    "For instance, the following SQL will time the VALUES clause."
   ]
  },
  {
   "cell_type": "code",
   "execution_count": 29,
   "metadata": {},
   "outputs": [
    {
     "name": "stdout",
     "output_type": "stream",
     "text": [
      "Total iterations in 1 second(s): 2657\n"
     ]
    },
    {
     "data": {
      "text/plain": [
       "2657"
      ]
     },
     "execution_count": 29,
     "metadata": {},
     "output_type": "execute_result"
    }
   ],
   "source": [
    "%sql -t VALUES 1,2,3,4,5,6,7,8,9"
   ]
  },
  {
   "cell_type": "markdown",
   "metadata": {},
   "source": [
    "When timing a statement, no output will be displayed. If your SQL statement takes longer than one second you\n",
    "will need to modify the runtime options. You can use the `%sql option runtime` command to change the duration the statement runs."
   ]
  },
  {
   "cell_type": "code",
   "execution_count": 30,
   "metadata": {},
   "outputs": [
    {
     "name": "stdout",
     "output_type": "stream",
     "text": [
      "Total iterations in 5 second(s): 13211\n"
     ]
    }
   ],
   "source": [
    "%sql option runtime 5\n",
    "%sql -t VALUES 1,2,3,4,5,6,7,8,9\n",
    "%sql option runtime 1"
   ]
  },
  {
   "cell_type": "markdown",
   "metadata": {},
   "source": [
    "## JSON Formatting\n",
    "Db2 supports querying JSON that is stored in a column within a table. Standard output would just display the \n",
    "JSON as a string. For instance, the following statement would just return a large string of output."
   ]
  },
  {
   "cell_type": "code",
   "execution_count": 31,
   "metadata": {},
   "outputs": [
    {
     "data": {
      "text/html": [
       "<div>\n",
       "<style scoped>\n",
       "    .dataframe tbody tr th:only-of-type {\n",
       "        vertical-align: middle;\n",
       "    }\n",
       "\n",
       "    .dataframe tbody tr th {\n",
       "        vertical-align: top;\n",
       "    }\n",
       "\n",
       "    .dataframe thead th {\n",
       "        text-align: right;\n",
       "    }\n",
       "</style>\n",
       "<table border=\"1\" class=\"dataframe\">\n",
       "  <thead>\n",
       "    <tr style=\"text-align: right;\">\n",
       "      <th></th>\n",
       "      <th>1</th>\n",
       "    </tr>\n",
       "  </thead>\n",
       "  <tbody>\n",
       "    <tr>\n",
       "      <th>0</th>\n",
       "      <td>{       \"empno\":\"000010\",       \"firstnme\":\"CH...</td>\n",
       "    </tr>\n",
       "  </tbody>\n",
       "</table>\n",
       "</div>"
      ],
      "text/plain": [
       "                                                   1\n",
       "0  {       \"empno\":\"000010\",       \"firstnme\":\"CH..."
      ]
     },
     "execution_count": 31,
     "metadata": {},
     "output_type": "execute_result"
    }
   ],
   "source": [
    "%%sql \n",
    "VALUES \n",
    "      '{\n",
    "      \"empno\":\"000010\",\n",
    "      \"firstnme\":\"CHRISTINE\",\n",
    "      \"midinit\":\"I\",\n",
    "      \"lastname\":\"HAAS\",\n",
    "      \"workdept\":\"A00\",\n",
    "      \"phoneno\":[3978],\n",
    "      \"hiredate\":\"01/01/1995\",\n",
    "      \"job\":\"PRES\",\n",
    "      \"edlevel\":18,\n",
    "      \"sex\":\"F\",\n",
    "      \"birthdate\":\"08/24/1963\",\n",
    "      \"pay\" : {\n",
    "        \"salary\":152750.00,\n",
    "        \"bonus\":1000.00,\n",
    "        \"comm\":4220.00}\n",
    "      }'"
   ]
  },
  {
   "cell_type": "markdown",
   "metadata": {},
   "source": [
    "Adding the -j option to the `%sql` (or `%%sql`) command will format the first column of a return set to better\n",
    "display the structure of the document. Note that if your answer set has additional columns associated with it, they will not be displayed in this format."
   ]
  },
  {
   "cell_type": "code",
   "execution_count": 32,
   "metadata": {},
   "outputs": [
    {
     "data": {
      "text/plain": [
       "[{'empno': '000010',\n",
       "  'firstnme': 'CHRISTINE',\n",
       "  'midinit': 'I',\n",
       "  'lastname': 'HAAS',\n",
       "  'workdept': 'A00',\n",
       "  'phoneno': [3978],\n",
       "  'hiredate': '01/01/1995',\n",
       "  'job': 'PRES',\n",
       "  'edlevel': 18,\n",
       "  'sex': 'F',\n",
       "  'birthdate': '08/24/1963',\n",
       "  'pay': {'salary': 152750.0, 'bonus': 1000.0, 'comm': 4220.0}}]"
      ]
     },
     "execution_count": 32,
     "metadata": {},
     "output_type": "execute_result"
    }
   ],
   "source": [
    "%%sql -j \n",
    "VALUES \n",
    "      '{\n",
    "      \"empno\":\"000010\",\n",
    "      \"firstnme\":\"CHRISTINE\",\n",
    "      \"midinit\":\"I\",\n",
    "      \"lastname\":\"HAAS\",\n",
    "      \"workdept\":\"A00\",\n",
    "      \"phoneno\":[3978],\n",
    "      \"hiredate\":\"01/01/1995\",\n",
    "      \"job\":\"PRES\",\n",
    "      \"edlevel\":18,\n",
    "      \"sex\":\"F\",\n",
    "      \"birthdate\":\"08/24/1963\",\n",
    "      \"pay\" : {\n",
    "        \"salary\":152750.00,\n",
    "        \"bonus\":1000.00,\n",
    "        \"comm\":4220.00}\n",
    "      }'"
   ]
  },
  {
   "cell_type": "markdown",
   "metadata": {},
   "source": [
    "JSON fields can be inserted into Db2 columns using Python dictionaries. This makes the input and output of JSON fields much simpler. For instance, the following code will create a Python dictionary which is similar to a JSON record."
   ]
  },
  {
   "cell_type": "code",
   "execution_count": 33,
   "metadata": {},
   "outputs": [],
   "source": [
    "employee = {\n",
    "    \"firstname\" : \"John\",\n",
    "    \"lastname\" : \"Williams\",\n",
    "    \"age\" : 45\n",
    "}"
   ]
  },
  {
   "cell_type": "markdown",
   "metadata": {},
   "source": [
    "The field can be inserted into a character column (or BSON if you use the JSON functions) by doing a direct variable insert."
   ]
  },
  {
   "cell_type": "code",
   "execution_count": 34,
   "metadata": {},
   "outputs": [],
   "source": [
    "%%sql -q\n",
    "DROP TABLE SHOWJSON;\n",
    "CREATE TABLE SHOWJSON(JSONIN VARCHAR(128));"
   ]
  },
  {
   "cell_type": "markdown",
   "metadata": {},
   "source": [
    "An insert would use a variable parameter (colon in front of the variable) instead of a character string."
   ]
  },
  {
   "cell_type": "code",
   "execution_count": 35,
   "metadata": {},
   "outputs": [
    {
     "name": "stdout",
     "output_type": "stream",
     "text": [
      "Command completed.\n"
     ]
    },
    {
     "data": {
      "text/html": [
       "<div>\n",
       "<style scoped>\n",
       "    .dataframe tbody tr th:only-of-type {\n",
       "        vertical-align: middle;\n",
       "    }\n",
       "\n",
       "    .dataframe tbody tr th {\n",
       "        vertical-align: top;\n",
       "    }\n",
       "\n",
       "    .dataframe thead th {\n",
       "        text-align: right;\n",
       "    }\n",
       "</style>\n",
       "<table border=\"1\" class=\"dataframe\">\n",
       "  <thead>\n",
       "    <tr style=\"text-align: right;\">\n",
       "      <th></th>\n",
       "      <th>JSONIN</th>\n",
       "    </tr>\n",
       "  </thead>\n",
       "  <tbody>\n",
       "    <tr>\n",
       "      <th>0</th>\n",
       "      <td>{\"firstname\": \"John\", \"lastname\": \"Williams\", ...</td>\n",
       "    </tr>\n",
       "  </tbody>\n",
       "</table>\n",
       "</div>"
      ],
      "text/plain": [
       "                                              JSONIN\n",
       "0  {\"firstname\": \"John\", \"lastname\": \"Williams\", ..."
      ]
     },
     "execution_count": 35,
     "metadata": {},
     "output_type": "execute_result"
    }
   ],
   "source": [
    "%sql INSERT INTO SHOWJSON VALUES (:employee)\n",
    "%sql SELECT * FROM SHOWJSON"
   ]
  },
  {
   "cell_type": "markdown",
   "metadata": {},
   "source": [
    "An assignment statement to a variable will result in an equivalent Python dictionary type being created. Note that we must use the raw `-j` flag to make sure we only get the data and not a data frame."
   ]
  },
  {
   "cell_type": "code",
   "execution_count": 36,
   "metadata": {},
   "outputs": [
    {
     "name": "stdout",
     "output_type": "stream",
     "text": [
      "First Name is John and the last name is Williams\n"
     ]
    }
   ],
   "source": [
    "x = %sql -j SELECT * FROM SHOWJSON\n",
    "print(\"First Name is \" + x[0][\"firstname\"] + \" and the last name is \" + x[0]['lastname'])"
   ]
  },
  {
   "cell_type": "markdown",
   "metadata": {},
   "source": [
    "## Plotting\n",
    "Sometimes it would be useful to display a result set as either a bar, pie, or line chart. The first one or two\n",
    "columns of a result set need to contain the values need to plot the information.\n",
    "\n",
    "The three possible plot options are:\n",
    "    \n",
    "* `-pb` - bar chart (x,y)\n",
    "* `-pp` - pie chart (y)\n",
    "* `-pl` - line chart (x,y)\n",
    "\n",
    "The following data will be used to demonstrate the different charting options."
   ]
  },
  {
   "cell_type": "code",
   "execution_count": 37,
   "metadata": {},
   "outputs": [
    {
     "data": {
      "text/html": [
       "<div>\n",
       "<style scoped>\n",
       "    .dataframe tbody tr th:only-of-type {\n",
       "        vertical-align: middle;\n",
       "    }\n",
       "\n",
       "    .dataframe tbody tr th {\n",
       "        vertical-align: top;\n",
       "    }\n",
       "\n",
       "    .dataframe thead th {\n",
       "        text-align: right;\n",
       "    }\n",
       "</style>\n",
       "<table border=\"1\" class=\"dataframe\">\n",
       "  <thead>\n",
       "    <tr style=\"text-align: right;\">\n",
       "      <th></th>\n",
       "      <th>1</th>\n",
       "    </tr>\n",
       "  </thead>\n",
       "  <tbody>\n",
       "    <tr>\n",
       "      <th>0</th>\n",
       "      <td>1</td>\n",
       "    </tr>\n",
       "    <tr>\n",
       "      <th>1</th>\n",
       "      <td>2</td>\n",
       "    </tr>\n",
       "    <tr>\n",
       "      <th>2</th>\n",
       "      <td>3</td>\n",
       "    </tr>\n",
       "    <tr>\n",
       "      <th>3</th>\n",
       "      <td>4</td>\n",
       "    </tr>\n",
       "    <tr>\n",
       "      <th>4</th>\n",
       "      <td>5</td>\n",
       "    </tr>\n",
       "  </tbody>\n",
       "</table>\n",
       "</div>"
      ],
      "text/plain": [
       "   1\n",
       "0  1\n",
       "1  2\n",
       "2  3\n",
       "3  4\n",
       "4  5"
      ]
     },
     "execution_count": 37,
     "metadata": {},
     "output_type": "execute_result"
    }
   ],
   "source": [
    "%sql values 1,2,3,4,5"
   ]
  },
  {
   "cell_type": "markdown",
   "metadata": {},
   "source": [
    "Since the results only have one column, the pie, line, and bar charts will not have any labels associated with\n",
    "them. The first example is a bar chart."
   ]
  },
  {
   "cell_type": "code",
   "execution_count": 38,
   "metadata": {
    "pixiedust": {
     "displayParams": {
      "handlerId": "dataframe"
     }
    }
   },
   "outputs": [
    {
     "data": {
      "image/png": "[encoded data removed]",
      "text/plain": [
       "<Figure size 432x288 with 1 Axes>"
      ]
     },
     "metadata": {
      "needs_background": "light"
     },
     "output_type": "display_data"
    }
   ],
   "source": [
    "%sql -pb values 1,2,3,4,5"
   ]
  },
  {
   "cell_type": "markdown",
   "metadata": {},
   "source": [
    "The same data as a pie chart."
   ]
  },
  {
   "cell_type": "code",
   "execution_count": 39,
   "metadata": {},
   "outputs": [
    {
     "data": {
      "image/png": "[encoded data removed]",
      "text/plain": [
       "<Figure size 432x288 with 1 Axes>"
      ]
     },
     "metadata": {},
     "output_type": "display_data"
    }
   ],
   "source": [
    "%sql -pp values 1,2,3,4,5"
   ]
  },
  {
   "cell_type": "markdown",
   "metadata": {},
   "source": [
    "And finally a line chart."
   ]
  },
  {
   "cell_type": "code",
   "execution_count": 40,
   "metadata": {
    "pixiedust": {
     "displayParams": {
      "handlerId": "dataframe"
     }
    },
    "scrolled": true
   },
   "outputs": [
    {
     "data": {
      "image/png": "[encoded data removed]",
      "text/plain": [
       "<Figure size 432x288 with 1 Axes>"
      ]
     },
     "metadata": {
      "needs_background": "light"
     },
     "output_type": "display_data"
    }
   ],
   "source": [
    "%sql -pl values 1,2,3,4,5"
   ]
  },
  {
   "cell_type": "markdown",
   "metadata": {},
   "source": [
    "If you retrieve two columns of information, the first column is used for the labels (X axis or pie slices) and \n",
    "the second column contains the data. "
   ]
  },
  {
   "cell_type": "code",
   "execution_count": 41,
   "metadata": {},
   "outputs": [
    {
     "data": {
      "image/png": "[encoded data removed]",
      "text/plain": [
       "<Figure size 432x288 with 1 Axes>"
      ]
     },
     "metadata": {
      "needs_background": "light"
     },
     "output_type": "display_data"
    }
   ],
   "source": [
    "%sql -pb values ('A',1),('B',2),('C',3),('D',4),('E',5)"
   ]
  },
  {
   "cell_type": "markdown",
   "metadata": {},
   "source": [
    "For a pie chart, the first column is used to label the slices, while the data comes from the second column."
   ]
  },
  {
   "cell_type": "code",
   "execution_count": 42,
   "metadata": {},
   "outputs": [
    {
     "data": {
      "image/png": "[encoded data removed]",
      "text/plain": [
       "<Figure size 432x288 with 1 Axes>"
      ]
     },
     "metadata": {},
     "output_type": "display_data"
    }
   ],
   "source": [
    "%sql -pp values ('A',1),('B',2),('C',3),('D',4),('E',5)"
   ]
  },
  {
   "cell_type": "markdown",
   "metadata": {},
   "source": [
    "Finally, for a line chart, the x contains the labels and the y values are used."
   ]
  },
  {
   "cell_type": "code",
   "execution_count": 43,
   "metadata": {},
   "outputs": [
    {
     "data": {
      "image/png": "[encoded data removed]",
      "text/plain": [
       "<Figure size 432x288 with 1 Axes>"
      ]
     },
     "metadata": {
      "needs_background": "light"
     },
     "output_type": "display_data"
    }
   ],
   "source": [
    "%sql -pl values ('A',1),('B',2),('C',3),('D',4),('E',5)"
   ]
  },
  {
   "cell_type": "markdown",
   "metadata": {},
   "source": [
    "The following SQL will plot the number of employees per department."
   ]
  },
  {
   "cell_type": "code",
   "execution_count": 44,
   "metadata": {},
   "outputs": [
    {
     "data": {
      "image/png": "[encoded data removed]",
      "text/plain": [
       "<Figure size 432x288 with 1 Axes>"
      ]
     },
     "metadata": {
      "needs_background": "light"
     },
     "output_type": "display_data"
    }
   ],
   "source": [
    "%%sql -pb\n",
    "SELECT WORKDEPT, COUNT(*) \n",
    "  FROM EMPLOYEE\n",
    "GROUP BY WORKDEPT"
   ]
  },
  {
   "cell_type": "markdown",
   "metadata": {},
   "source": [
    "## Sample Data\n",
    "Many of the Db2 notebooks depend on two of the tables that are found in the `SAMPLE` database. Rather than\n",
    "having to create the entire `SAMPLE` database, this option will create and populate the `EMPLOYEE` and \n",
    "`DEPARTMENT` tables in your database. Note that if you already have these tables defined, they will not be dropped."
   ]
  },
  {
   "cell_type": "code",
   "execution_count": 45,
   "metadata": {},
   "outputs": [
    {
     "name": "stdout",
     "output_type": "stream",
     "text": [
      "Sample tables [EMPLOYEE, DEPARTMENT] created.\n"
     ]
    }
   ],
   "source": [
    "%sql -sampledata"
   ]
  },
  {
   "cell_type": "markdown",
   "metadata": {},
   "source": [
    "## Result Sets \n",
    "By default, any `%sql` block will return the contents of a result set as a table that is displayed in the notebook. The results are displayed using a feature of pandas dataframes. The following select statement demonstrates a simple result set."
   ]
  },
  {
   "cell_type": "code",
   "execution_count": 46,
   "metadata": {},
   "outputs": [
    {
     "data": {
      "text/html": [
       "<div>\n",
       "<style scoped>\n",
       "    .dataframe tbody tr th:only-of-type {\n",
       "        vertical-align: middle;\n",
       "    }\n",
       "\n",
       "    .dataframe tbody tr th {\n",
       "        vertical-align: top;\n",
       "    }\n",
       "\n",
       "    .dataframe thead th {\n",
       "        text-align: right;\n",
       "    }\n",
       "</style>\n",
       "<table border=\"1\" class=\"dataframe\">\n",
       "  <thead>\n",
       "    <tr style=\"text-align: right;\">\n",
       "      <th></th>\n",
       "      <th>EMPNO</th>\n",
       "      <th>FIRSTNME</th>\n",
       "      <th>MIDINIT</th>\n",
       "      <th>LASTNAME</th>\n",
       "      <th>WORKDEPT</th>\n",
       "      <th>PHONENO</th>\n",
       "      <th>HIREDATE</th>\n",
       "      <th>JOB</th>\n",
       "      <th>EDLEVEL</th>\n",
       "      <th>SEX</th>\n",
       "      <th>BIRTHDATE</th>\n",
       "      <th>SALARY</th>\n",
       "      <th>BONUS</th>\n",
       "      <th>COMM</th>\n",
       "    </tr>\n",
       "  </thead>\n",
       "  <tbody>\n",
       "    <tr>\n",
       "      <th>0</th>\n",
       "      <td>000010</td>\n",
       "      <td>CHRISTINE</td>\n",
       "      <td>I</td>\n",
       "      <td>HAAS</td>\n",
       "      <td>A00</td>\n",
       "      <td>3978</td>\n",
       "      <td>1995-01-01</td>\n",
       "      <td>PRES</td>\n",
       "      <td>18</td>\n",
       "      <td>F</td>\n",
       "      <td>1963-08-24</td>\n",
       "      <td>152750.0</td>\n",
       "      <td>1000.0</td>\n",
       "      <td>4220.0</td>\n",
       "    </tr>\n",
       "    <tr>\n",
       "      <th>1</th>\n",
       "      <td>000050</td>\n",
       "      <td>JOHN</td>\n",
       "      <td>B</td>\n",
       "      <td>GEYER</td>\n",
       "      <td>E01</td>\n",
       "      <td>6789</td>\n",
       "      <td>1979-08-17</td>\n",
       "      <td>MANAGER</td>\n",
       "      <td>16</td>\n",
       "      <td>M</td>\n",
       "      <td>1955-09-15</td>\n",
       "      <td>80175.0</td>\n",
       "      <td>800.0</td>\n",
       "      <td>3214.0</td>\n",
       "    </tr>\n",
       "    <tr>\n",
       "      <th>2</th>\n",
       "      <td>000070</td>\n",
       "      <td>EVA</td>\n",
       "      <td>D</td>\n",
       "      <td>PULASKI</td>\n",
       "      <td>D21</td>\n",
       "      <td>7831</td>\n",
       "      <td>2005-09-30</td>\n",
       "      <td>MANAGER</td>\n",
       "      <td>16</td>\n",
       "      <td>F</td>\n",
       "      <td>2003-05-26</td>\n",
       "      <td>96170.0</td>\n",
       "      <td>700.0</td>\n",
       "      <td>2893.0</td>\n",
       "    </tr>\n",
       "  </tbody>\n",
       "</table>\n",
       "</div>"
      ],
      "text/plain": [
       "    EMPNO   FIRSTNME MIDINIT LASTNAME WORKDEPT PHONENO    HIREDATE       JOB  \\\n",
       "0  000010  CHRISTINE       I     HAAS      A00    3978  1995-01-01  PRES       \n",
       "1  000050       JOHN       B    GEYER      E01    6789  1979-08-17  MANAGER    \n",
       "2  000070        EVA       D  PULASKI      D21    7831  2005-09-30  MANAGER    \n",
       "\n",
       "   EDLEVEL SEX   BIRTHDATE    SALARY   BONUS    COMM  \n",
       "0       18   F  1963-08-24  152750.0  1000.0  4220.0  \n",
       "1       16   M  1955-09-15   80175.0   800.0  3214.0  \n",
       "2       16   F  2003-05-26   96170.0   700.0  2893.0  "
      ]
     },
     "execution_count": 46,
     "metadata": {},
     "output_type": "execute_result"
    }
   ],
   "source": [
    "%sql select * from employee fetch first 3 rows only"
   ]
  },
  {
   "cell_type": "markdown",
   "metadata": {},
   "source": [
    "You can assign the result set directly to a variable."
   ]
  },
  {
   "cell_type": "code",
   "execution_count": 47,
   "metadata": {},
   "outputs": [],
   "source": [
    "x = %sql select * from employee fetch first 3 rows only"
   ]
  },
  {
   "cell_type": "markdown",
   "metadata": {},
   "source": [
    "The variable x contains the dataframe that was produced by the `%sql` statement so you access the result set by using this variable or display the contents by just referring to it in a command line."
   ]
  },
  {
   "cell_type": "code",
   "execution_count": 48,
   "metadata": {},
   "outputs": [
    {
     "data": {
      "text/html": [
       "<div>\n",
       "<style scoped>\n",
       "    .dataframe tbody tr th:only-of-type {\n",
       "        vertical-align: middle;\n",
       "    }\n",
       "\n",
       "    .dataframe tbody tr th {\n",
       "        vertical-align: top;\n",
       "    }\n",
       "\n",
       "    .dataframe thead th {\n",
       "        text-align: right;\n",
       "    }\n",
       "</style>\n",
       "<table border=\"1\" class=\"dataframe\">\n",
       "  <thead>\n",
       "    <tr style=\"text-align: right;\">\n",
       "      <th></th>\n",
       "      <th>EMPNO</th>\n",
       "      <th>FIRSTNME</th>\n",
       "      <th>MIDINIT</th>\n",
       "      <th>LASTNAME</th>\n",
       "      <th>WORKDEPT</th>\n",
       "      <th>PHONENO</th>\n",
       "      <th>HIREDATE</th>\n",
       "      <th>JOB</th>\n",
       "      <th>EDLEVEL</th>\n",
       "      <th>SEX</th>\n",
       "      <th>BIRTHDATE</th>\n",
       "      <th>SALARY</th>\n",
       "      <th>BONUS</th>\n",
       "      <th>COMM</th>\n",
       "    </tr>\n",
       "  </thead>\n",
       "  <tbody>\n",
       "    <tr>\n",
       "      <th>0</th>\n",
       "      <td>000050</td>\n",
       "      <td>JOHN</td>\n",
       "      <td>B</td>\n",
       "      <td>GEYER</td>\n",
       "      <td>E01</td>\n",
       "      <td>6789</td>\n",
       "      <td>1979-08-17</td>\n",
       "      <td>MANAGER</td>\n",
       "      <td>16</td>\n",
       "      <td>M</td>\n",
       "      <td>1955-09-15</td>\n",
       "      <td>80175.0</td>\n",
       "      <td>800.0</td>\n",
       "      <td>3214.0</td>\n",
       "    </tr>\n",
       "    <tr>\n",
       "      <th>1</th>\n",
       "      <td>000060</td>\n",
       "      <td>IRVING</td>\n",
       "      <td>F</td>\n",
       "      <td>STERN</td>\n",
       "      <td>D11</td>\n",
       "      <td>6423</td>\n",
       "      <td>2003-09-14</td>\n",
       "      <td>MANAGER</td>\n",
       "      <td>16</td>\n",
       "      <td>M</td>\n",
       "      <td>1975-07-07</td>\n",
       "      <td>72250.0</td>\n",
       "      <td>500.0</td>\n",
       "      <td>2580.0</td>\n",
       "    </tr>\n",
       "    <tr>\n",
       "      <th>2</th>\n",
       "      <td>000100</td>\n",
       "      <td>THEODORE</td>\n",
       "      <td>Q</td>\n",
       "      <td>SPENSER</td>\n",
       "      <td>E21</td>\n",
       "      <td>0972</td>\n",
       "      <td>2000-06-19</td>\n",
       "      <td>MANAGER</td>\n",
       "      <td>14</td>\n",
       "      <td>M</td>\n",
       "      <td>1980-12-18</td>\n",
       "      <td>86150.0</td>\n",
       "      <td>500.0</td>\n",
       "      <td>2092.0</td>\n",
       "    </tr>\n",
       "  </tbody>\n",
       "</table>\n",
       "</div>"
      ],
      "text/plain": [
       "    EMPNO  FIRSTNME MIDINIT LASTNAME WORKDEPT PHONENO    HIREDATE       JOB  \\\n",
       "0  000050      JOHN       B    GEYER      E01    6789  1979-08-17  MANAGER    \n",
       "1  000060    IRVING       F    STERN      D11    6423  2003-09-14  MANAGER    \n",
       "2  000100  THEODORE       Q  SPENSER      E21    0972  2000-06-19  MANAGER    \n",
       "\n",
       "   EDLEVEL SEX   BIRTHDATE   SALARY  BONUS    COMM  \n",
       "0       16   M  1955-09-15  80175.0  800.0  3214.0  \n",
       "1       16   M  1975-07-07  72250.0  500.0  2580.0  \n",
       "2       14   M  1980-12-18  86150.0  500.0  2092.0  "
      ]
     },
     "execution_count": 48,
     "metadata": {},
     "output_type": "execute_result"
    }
   ],
   "source": [
    "x"
   ]
  },
  {
   "cell_type": "markdown",
   "metadata": {},
   "source": [
    "There is an additional way of capturing the data through the use of the `-r` flag.\n",
    "<pre>\n",
    "var = %sql -r select * from employee\n",
    "</pre>\n",
    "Rather than returning a dataframe result set, this option will produce a list of rows. Each row is a list itself. The column names are found in row zero (0) and the data rows start at 1. To access the first column of the first row, you would use var[1][0] to access it."
   ]
  },
  {
   "cell_type": "code",
   "execution_count": 49,
   "metadata": {},
   "outputs": [
    {
     "name": "stdout",
     "output_type": "stream",
     "text": [
      "000010\n"
     ]
    }
   ],
   "source": [
    "rows = %sql -r select * from employee fetch first 3 rows only\n",
    "print(rows[1][0])"
   ]
  },
  {
   "cell_type": "markdown",
   "metadata": {},
   "source": [
    "The number of rows in the result set can be determined by using the length function and subtracting one for the header row."
   ]
  },
  {
   "cell_type": "code",
   "execution_count": 50,
   "metadata": {},
   "outputs": [
    {
     "name": "stdout",
     "output_type": "stream",
     "text": [
      "3\n"
     ]
    }
   ],
   "source": [
    "print(len(rows)-1)"
   ]
  },
  {
   "cell_type": "markdown",
   "metadata": {},
   "source": [
    "If you want to iterate over all of the rows and columns, you could use the following Python syntax instead of\n",
    "creating a for loop that goes from 0 to 41."
   ]
  },
  {
   "cell_type": "code",
   "execution_count": 51,
   "metadata": {},
   "outputs": [
    {
     "name": "stdout",
     "output_type": "stream",
     "text": [
      "EMPNO,FIRSTNME,MIDINIT,LASTNAME,WORKDEPT,PHONENO,HIREDATE,JOB,EDLEVEL,SEX,BIRTHDATE,SALARY,BONUS,COMM,\n",
      "000010,CHRISTINE,I,HAAS,A00,3978,1995-01-01,PRES    ,18,F,1963-08-24,152750.0,1000.0,4220.0,\n",
      "000020,MICHAEL,L,THOMPSON,B01,3476,2003-10-10,MANAGER ,18,M,1978-02-02,94250.0,800.0,3300.0,\n",
      "000030,SALLY,A,KWAN,C01,4738,2005-04-05,MANAGER ,20,F,1971-05-11,98250.0,800.0,3060.0,\n"
     ]
    }
   ],
   "source": [
    "for row in rows:\n",
    "    line = \"\"\n",
    "    for col in row:\n",
    "        line = line + str(col) + \",\"\n",
    "    print(line)"
   ]
  },
  {
   "cell_type": "markdown",
   "metadata": {},
   "source": [
    "If you don't want the header row, modify the first line to start at the first row instead of row zero."
   ]
  },
  {
   "cell_type": "code",
   "execution_count": 52,
   "metadata": {},
   "outputs": [
    {
     "name": "stdout",
     "output_type": "stream",
     "text": [
      "000010,CHRISTINE,I,HAAS,A00,3978,1995-01-01,PRES    ,18,F,1963-08-24,152750.0,1000.0,4220.0,\n",
      "000020,MICHAEL,L,THOMPSON,B01,3476,2003-10-10,MANAGER ,18,M,1978-02-02,94250.0,800.0,3300.0,\n",
      "000030,SALLY,A,KWAN,C01,4738,2005-04-05,MANAGER ,20,F,1971-05-11,98250.0,800.0,3060.0,\n"
     ]
    }
   ],
   "source": [
    "for row in rows[1:]:\n",
    "    line = \"\"\n",
    "    for col in row:\n",
    "        line = line + str(col) + \",\"\n",
    "    print(line)"
   ]
  },
  {
   "cell_type": "markdown",
   "metadata": {},
   "source": [
    "Since the data may be returned in different formats (like integers), you should use the str() function to convert the values to strings. Otherwise, the concatenation function used in the above example might fail. For instance, the 9th field is an education level. If you retrieve it as an individual value and try and concatenate a string to it, you get the following error."
   ]
  },
  {
   "cell_type": "code",
   "execution_count": 53,
   "metadata": {},
   "outputs": [
    {
     "name": "stdout",
     "output_type": "stream",
     "text": [
      "Oops... Something went wrong!\n",
      "can only concatenate str (not \"int\") to str\n"
     ]
    }
   ],
   "source": [
    "try:\n",
    "    print(\"Education level=\"+rows[1][8])\n",
    "except Exception as err:\n",
    "    print(\"Oops... Something went wrong!\")\n",
    "    print(err)"
   ]
  },
  {
   "cell_type": "markdown",
   "metadata": {},
   "source": [
    "You can fix this problem by adding the str function to convert the date."
   ]
  },
  {
   "cell_type": "code",
   "execution_count": 54,
   "metadata": {},
   "outputs": [
    {
     "name": "stdout",
     "output_type": "stream",
     "text": [
      "Education Level=18\n"
     ]
    }
   ],
   "source": [
    "print(\"Education Level=\"+str(rows[1][8]))"
   ]
  },
  {
   "cell_type": "markdown",
   "metadata": {},
   "source": [
    "## Development SQL\n",
    "The previous set of `%sql` and `%%sql` commands deals with SQL statements and commands that are run in an interactive manner. There is a class of SQL commands that are more suited to a development environment where code is iterated or requires changing input. The commands that are associated with this form of SQL are:\n",
    "- AUTOCOMMIT\n",
    "- COMMIT/ROLLBACK\n",
    "- PREPARE \n",
    "- EXECUTE\n",
    "\n",
    "In addition, the `sqlcode`, `sqlstate` and `sqlerror` fields are populated after every statement so you can use these variables to test for errors.\n",
    "\n",
    "Autocommit is the default manner in which SQL statements are executed. At the end of the successful completion of a statement, the results are commited to the database. There is no concept of a transaction where multiple DML/DDL statements are considered one transaction. The `AUTOCOMMIT` command allows you to turn autocommit `OFF` or `ON`. This means that the set of SQL commands run after the `AUTOCOMMIT OFF` command are executed are not commited to the database until a `COMMIT` or `ROLLBACK` command is issued.\n",
    "\n",
    "`COMMIT (WORK)` will finalize all of the transactions (`COMMIT`) to the database and `ROLLBACK` will undo all of the changes. If you issue a `SELECT` statement during the execution of your block, the results will reflect all of your changes. If you `ROLLBACK` the transaction, the changes will be lost.\n",
    "\n",
    "`PREPARE` is typically used in a situation where you want to repeatidly execute a SQL statement with different variables without incurring the SQL compilation overhead. For instance:\n",
    "```\n",
    "x = %sql PREPARE SELECT LASTNAME FROM EMPLOYEE WHERE EMPNO=?\n",
    "for y in ['000010','000020','000030']:\n",
    "    %sql execute :x using :y\n",
    "```\n",
    "`EXECUTE` is used to execute a previously compiled statement. "
   ]
  },
  {
   "cell_type": "markdown",
   "metadata": {},
   "source": [
    "## Db2 CONNECT Statement\n",
    "As mentioned at the beginning of this notebook, connecting to Db2 is automatically done when you issue your first\n",
    "`%sql` statement. Usually the program will prompt you with what options you want when connecting to a database. The other option is to use the `CONNECT` statement directly. The `CONNECT` statement is similar to the native Db2\n",
    "`CONNECT` command, but includes some options that allow you to connect to databases that has not been\n",
    "catalogued locally.\n",
    "\n",
    "The `CONNECT` command has the following format:\n",
    "<pre>\n",
    "%sql CONNECT TO &lt;database&gt; USER &lt;userid&gt; USING &lt;password | ?&gt; HOST &lt;ip address&gt; PORT &lt;port number&gt; &lt;SSL&gt; \n",
    "</pre>\n",
    "If you use a \"?\" for the password field, the system will prompt you for a password. This avoids typing the \n",
    "password as clear text on the screen. If a connection is not successful, the system will print the error\n",
    "message associated with the connect request.\n",
    "\n",
    "If the connection is successful, the parameters are saved on your system and will be used the next time you\n",
    "run a SQL statement, or when you issue the `%sql CONNECT` command with no parameters.\n",
    "\n",
    "If you want to force the program to connect to a different database (with prompting), use the `CONNECT RESET` command. The next time you run a SQL statement, the program will prompt you for the  the connection\n",
    "and will force the program to reconnect the next time a SQL statement is executed."
   ]
  },
  {
   "cell_type": "markdown",
   "metadata": {},
   "source": [
    "#### Credits: IBM 2019, George Baklarz [baklarz@ca.ibm.com]"
   ]
  }
 ],
 "metadata": {
  "kernelspec": {
   "display_name": "Python 3",
   "language": "python",
   "name": "python3"
  },
  "language_info": {
   "codemirror_mode": {
    "name": "ipython",
    "version": 3
   },
   "file_extension": ".py",
   "mimetype": "text/x-python",
   "name": "python",
   "nbconvert_exporter": "python",
   "pygments_lexer": "ipython3",
   "version": "3.6.13"
  }
 },
 "nbformat": 4,
 "nbformat_minor": 2
}
