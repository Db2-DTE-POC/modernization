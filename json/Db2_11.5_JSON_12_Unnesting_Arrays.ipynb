{
 "cells": [
  {
   "cell_type": "markdown",
   "metadata": {},
   "source": [
    "# Advanced JSON: Unnesting JSON Arrays"
   ]
  },
  {
   "cell_type": "markdown",
   "metadata": {},
   "source": [
    "## Unnesting Arrays\n",
    "One of the challenges of dealing with JSON objects is how to handle arrays of values. The relational model was never designed to deal with a column of data that could be an array so alternate techniques have to be used.\n",
    "The `JSON_QUERY` function can be used to retrieve the entire contents of an array, while `JSON_VALUE` or `JSON_TABLE` can extract the individual elements. However, what method is available to extract all of the elements of an array when the actual array size is unknown?\n",
    "\n",
    "For example, if we have the JSON array `[\"A\",\"B\",\"C\"]` and we want to have the elements returned from an SQL query in a result set like this:\n",
    "```\n",
    "RESULTS\n",
    "-------\n",
    "A\n",
    "B\n",
    "C\n",
    "```\n",
    "How would we do this?\n",
    "\n",
    "A complete implementation of the ISO SQL definition for `JSON_TABLE` would have that function handle this case by returning multiple rows with all the other row values duplicated but the Db2 implementation of `JSON_TABLE` is not yet at that stage of maturity and cannot handle this scenario. There is an older, proprietary Db2 JSON function (unfortunately) also called `JSON_TABLE` that is part of the `SYSTOOLS` schema that can be used to generate a simple result set where each row  represents an element from the array, but this function does not return multiple values per row and is also not compliant with the ISO SQL JSON standard. \n",
    "\n",
    "So, in order to retrieve all the elements of an array as a series of independent values, we have to combine all three new ISO JSON functions (`JSON_EXISTS`, `JSON_VALUE`, `JSON_QUERY`) in a recursive SQL query to retrieve them. "
   ]
  },
  {
   "cell_type": "markdown",
   "metadata": {},
   "source": [
    "### Load Db2 Extensions and Connect to the Database\n",
    "The `connection` notebook contains the `CONNECT` statement which allows access to the `SAMPLE` database. If you need to modify the connection information, edit the `connection.ipynb` notebook."
   ]
  },
  {
   "cell_type": "code",
   "execution_count": null,
   "metadata": {},
   "outputs": [],
   "source": [
    "%run db2.ipynb\n",
    "%run connection.ipynb"
   ]
  },
  {
   "cell_type": "markdown",
   "metadata": {},
   "source": [
    "### Unnesting Simple JSON Arrays\n",
    "The first example uses the book document which contains a \"simple\" array field called formats. A simple array contains individual atomic values rather than complex objects. "
   ]
  },
  {
   "cell_type": "code",
   "execution_count": null,
   "metadata": {},
   "outputs": [],
   "source": [
    "book = {\n",
    "   \"authors\": \n",
    "     [\n",
    "       {\"first_name\": \"Paul\",  \"last_name\" : \"Bird\"},\n",
    "       {\"first_name\": \"George\",\"last_name\" : \"Baklarz\"}\n",
    "     ],\n",
    "   \"foreword\": \n",
    "     {\n",
    "       \"primary\": {\"first_name\": \"Thomas\",\"last_name\" : \"Hronis\"}\n",
    "     },\n",
    "   \"formats\": [\"Hardcover\",\"Paperback\",\"eBook\",\"PDF\"]\n",
    "}"
   ]
  },
  {
   "cell_type": "markdown",
   "metadata": {},
   "source": [
    "The \"formats\" field has four values that need to be return as a list. The following SQL uses recursion to extract the values from the array. "
   ]
  },
  {
   "cell_type": "code",
   "execution_count": null,
   "metadata": {},
   "outputs": [],
   "source": [
    "%%sql\n",
    "WITH BOOKS(INFO) AS (VALUES :book),\n",
    "FORMATS(INDEX, JSON_PATH, BOOKTYPE) AS \n",
    "(\n",
    "  SELECT \n",
    "     0, '$.formats[1]',JSON_VALUE(INFO,'$.formats[0]')\n",
    "  FROM BOOKS \n",
    "     WHERE JSON_EXISTS(INFO,'$.formats[0]') IS TRUE\n",
    "  UNION ALL\n",
    "  SELECT \n",
    "     INDEX+1, \n",
    "     '$.formats[' || TRIM(CHAR(INDEX + 2)) || ']',\n",
    "     JSON_VALUE(INFO, JSON_PATH) \n",
    "  FROM BOOKS, FORMATS\n",
    "     WHERE JSON_EXISTS(INFO, JSON_PATH) IS TRUE\n",
    ")\n",
    "SELECT BOOKTYPE FROM FORMATS"
   ]
  },
  {
   "cell_type": "markdown",
   "metadata": {},
   "source": [
    "The breakdown of the code is found below. The line numbers are shown below for reference. Note that the first line of code is not included `WITH BOOKS(INFO) AS (VALUES :book)` as it was used as a temporary table to run the SQL.\n",
    "```\n",
    "[ 1] WITH FORMATS(INDEX, JSON_PATH, BOOKTYPE) AS \n",
    "[ 2] (\n",
    "[ 3]   SELECT \n",
    "[ 4]      0, '$.formats[1]',JSON_VALUE(INFO,'$.formats[0]')\n",
    "[ 5]   FROM BOOKS \n",
    "[ 6]      WHERE JSON_EXISTS(INFO,'$.formats[0]') IS TRUE\n",
    "[ 7]   UNION ALL\n",
    "[ 8]   SELECT \n",
    "[ 9]      INDEX+1, \n",
    "[10]      '$.formats[' || TRIM(CHAR(INDEX + 2)) || ']',\n",
    "[11]      JSON_VALUE(INFO, JSON_PATH) \n",
    "[12]   FROM BOOKS, FORMATS\n",
    "[13]      WHERE JSON_EXISTS(INFO, JSON_PATH) IS TRUE\n",
    "[14] )\n",
    "[15] SELECT BOOKTYPE FROM FORMATS\n",
    "```\t"
   ]
  },
  {
   "cell_type": "markdown",
   "metadata": {},
   "source": [
    "`[1-14]` `WITH` Block\n",
    "\n",
    "The first section of code is used to initialize a recursive SQL block. Recursive SQL allows us to continually add rows to an answer set based on the results from a SQL statement that gets repeated multiple times.\n",
    "```\n",
    "[1] WITH FORMATS(INDEX, JSON_PATH, BOOKTYPE) AS\n",
    "```\n",
    "The common table expression used in this example is called `FORMATS` and contains three columns. The `INDEX` column is used to increment the array item we want to retrieve, the `JSON_PATH` is used as the path expression to find the next value, and `BOOKTYPE` is the value extracted from the array.\n",
    "\n",
    "`[3-5]` `SELECT` statement\n",
    "\n",
    "The first part of the `SELECT` statement is used to initialize the recursion by providing the first row of the result set.\n",
    "```\n",
    "[ 3]   SELECT \n",
    "[ 4]      0, '$.formats[1]',JSON_VALUE(INFO,'$.formats[0]')\n",
    "[ 5]   FROM BOOKS \n",
    "```\n",
    "The values are:\n",
    "* `INDEX = 0` – This is the first index value in an array\n",
    "* `JSON_PATH = '$.formats[1]'` – The path to the next array value\n",
    "* `BOOKTYPE = JSON_VALUE(INFO,'$.formats[0]')` – The first value in the formats array\n",
    "\n",
    "The `JSON_PATH` column is used as the path expression to find the next array value. This value could be placed directly in the SQL but since the expression is required twice, there is less likelihood of incorrect syntax! The `JSON_PATH` expression is always set to the next value that we need rather than the current one.\n",
    "\n",
    "`[6] WHERE JSON_EXISTS() IS TRUE`\n",
    "\n",
    "The `WHERE` clause is used to check whether or not the first value in the array exists. If it does not, then we return no results.\n",
    "```\n",
    "[ 6]      WHERE JSON_EXISTS(INFO,'$.formats[0]') IS TRUE\n",
    "[ 7] UNION ALL\n",
    "```\n",
    "\n",
    "The `UNION ALL` is required to make the SQL recursive in nature. As the SQL executes, it will add more rows to the `FORMATS` table and then the new rows will be acted upon by this SQL block. \n",
    " \n",
    " `[8-12]` Get the remainder of the array values\n",
    " \n",
    "This block will continue to iterate as long as there are more array values.\n",
    "```\n",
    "[ 8]   SELECT \n",
    "[ 9]      INDEX+1, \n",
    "[10]      '$.formats[' || TRIM(CHAR(INDEX + 2)) || ']',\n",
    "[11]      JSON_VALUE(INFO, JSON_PATH) \n",
    "[12]   FROM BOOKS, FORMATS\n",
    "```\n",
    "The `SELECT` statement increments the index number into the array, creates the next path expression, and retrieves the current array value.\n",
    "\n",
    "The `JSON_PATH` is generated as a character string:\n",
    "```\n",
    "[10]      '$.formats[' || TRIM(CHAR(INDEX + 2)) || ']',\n",
    "```\n",
    "\n",
    "The first portion of the string is the path to the object, concatenated with the current index value plus 2 (always one ahead of the current index value).\n",
    "The tables that are accessed by the SQL are the `BOOKS` table (with the original JSON) and the `FORMATS` table – which is what we are building recursively.\n",
    "```\n",
    "[13] WHERE JSON_EXIST() IS TRUE\n",
    "```\n",
    "\n",
    "The `WHERE` clause is used to check whether or not the current value in the array exists. If it does not exist, then we stop the recursion. This is often referred to as the stop condition in the recursion loop.\n",
    "```\n",
    "[13]      WHERE JSON_EXISTS(INFO, JSON_PATH) IS TRUE\n",
    "[15] Final SELECT statement\n",
    "```\n",
    "\n",
    "Once the recursion is done, we can retrieve the contents of the array. We refer to the `BOOKTYPE` column because that is the only value we are interested in, but if you select everything you will see the index values and path expressions that were generated as part of the SQL.\n",
    "```\n",
    "INDEX  JSON_PATH     BOOKTYPE\n",
    "-----  ------------  --------\n",
    "    0  $.formats[1]  Hardcover\n",
    "    1  $.formats[2]  Paperback\n",
    "    2  $.formats[3]  eBook\n",
    "    3  $.formats[4]  PDF\n",
    "```"
   ]
  },
  {
   "cell_type": "markdown",
   "metadata": {},
   "source": [
    "## Alternate Approach to Unnesting Arrays\n",
    "\n",
    "The Db2 11.5 ISO SQL JSON Functions do not currently support the unwrapping of arrays. You can unwrap arrays using Nested Table Expressions, but this can be error-prone and difficult to follow. The `SYSTOOLS` version of the JSON functions include a version of `JSON_TABLE` which provides an easier way of unwrapping arrays. However, the syntax used by this JSON function does not follow the SQL standard, nor is it part of the SYSIBM function group.\n",
    "\n",
    "While there may be some hesitation in using this function, it does provide the capability required without much extra work. These function below will take an array in a document and return them as a list of rows. The rows will be returned in the datatype that the function is defined as. You can always modify these functions to support another datatype that you require. \n",
    "\n",
    "There are five functions in the list:\n",
    "* `JSON_ARRAY_OBJECT` - Return an object\n",
    "* `JSON_ARRAY_VARCHAR` - Return a character string\n",
    "* `JSON_ARRAY_BIGINT` - Return a large integer\n",
    "* `JSON_ARRAY_INTEGER` - Return an integer\n",
    "* `JSON_ARRAY_DECFLOAT` - Return a DECFLOAT number\n",
    "* `JSON_ARRAY_DATE` - Return a date"
   ]
  },
  {
   "cell_type": "markdown",
   "metadata": {},
   "source": [
    "### Return an Object\n",
    "This function will take an array and return a character string array of objects. You can use this function to extract nested JSON documents. There are two parameters required by this function:\n",
    "* Value being unnested\n",
    "* JSON Path expression\n",
    "\n",
    "The JSON Path expression follows the same syntax as for the JSON ISO functions. \n",
    "\n",
    "In addition, arguments to the `SYSTOOLS` functions must be in BSON format. The function assumes that it is given a character string and converts it to BSON. If you already have data in BSON format, then this conversion is not done.\n",
    "\n",
    "* Version 1 - Takes VARCHAR as input\n",
    "* Version 2 - Take BSON (BLOB) as input\n",
    "\n",
    "There are definitions included for the remaining 5 functions:\n",
    "\n",
    "* `JSON_ARRAY_VARCHAR` - Return a character string\n",
    "* `JSON_ARRAY_BIGINT` - Return a large integer\n",
    "* `JSON_ARRAY_INTEGER` - Return an integer\n",
    "* `JSON_ARRAY_DECFLOAT` - Return a DECFLOAT number\n",
    "* `JSON_ARRAY_DATE` - Return a date\n",
    "\n",
    "All of these functions require the value being unnested and the JSON path expression. What is different from these functions is that they expect to have an atomic value returned (VARCHAR, BIGINT, INTEGER, DECFLOAT, DATE)."
   ]
  },
  {
   "cell_type": "code",
   "execution_count": null,
   "metadata": {},
   "outputs": [],
   "source": [
    "%%sql\n",
    "CREATE OR REPLACE FUNCTION JSON_ARRAY_OBJECT (\n",
    "    IN JSON_IN VARCHAR(32000),\n",
    "    IN JSON_PATH VARCHAR(1024)\n",
    ")\n",
    "RETURNS\n",
    "    TABLE( VALUE VARCHAR(32000) )\n",
    "RETURN\n",
    "    SELECT SYSTOOLS.BSON2JSON(SYSTOOLS.JSON2BSON(RESULTS.VALUE)) FROM \n",
    "      TABLE ( \n",
    "         SYSTOOLS.JSON_TABLE( \n",
    "            SYSTOOLS.JSON2BSON(\n",
    "                JSON_OBJECT( \n",
    "                   KEY 'array' \n",
    "                   VALUE JSON_QUERY(JSON_IN, JSON_PATH)\n",
    "                   FORMAT JSON\n",
    "                )\n",
    "            ),\n",
    "            'array',\n",
    "            's:32000'\n",
    "        ) \n",
    "    ) AS RESULTS;\n",
    "        \n",
    "CREATE OR REPLACE FUNCTION JSON_ARRAY_OBJECT (\n",
    "    IN JSON_IN BLOB,\n",
    "    IN JSON_PATH VARCHAR(1024)\n",
    ")\n",
    "RETURNS\n",
    "    TABLE( VALUE VARCHAR(32000) )\n",
    "RETURN\n",
    "    SELECT SYSTOOLS.BSON2JSON(SYSTOOLS.JSON2BSON(RESULTS.VALUE)) FROM \n",
    "      TABLE ( \n",
    "         SYSTOOLS.JSON_TABLE( \n",
    "            SYSTOOLS.JSON2BSON(\n",
    "                JSON_OBJECT( \n",
    "                   KEY 'array' \n",
    "                   VALUE JSON_QUERY(JSON_IN, JSON_PATH)\n",
    "                   FORMAT JSON\n",
    "                )\n",
    "            ),\n",
    "            'array',\n",
    "            's:32000'\n",
    "        ) \n",
    "    ) AS RESULTS;"
   ]
  },
  {
   "cell_type": "markdown",
   "metadata": {},
   "source": [
    "The remainder of the functions are defined here."
   ]
  },
  {
   "cell_type": "code",
   "execution_count": null,
   "metadata": {},
   "outputs": [],
   "source": [
    "%%sql \n",
    "CREATE OR REPLACE FUNCTION JSON_ARRAY_VARCHAR (IN JSON_IN VARCHAR(32000), IN JSON_PATH VARCHAR(1024))\n",
    "RETURNS TABLE( VALUE VARCHAR(32000) )\n",
    "RETURN  SELECT RESULTS.VALUE FROM \n",
    "        TABLE (SYSTOOLS.JSON_TABLE(SYSTOOLS.JSON2BSON(JSON_OBJECT( \n",
    "              KEY 'array' VALUE JSON_QUERY(JSON_IN, JSON_PATH) FORMAT JSON)),'array','s:32000')\n",
    "        ) AS RESULTS;\n",
    "        \n",
    "CREATE OR REPLACE FUNCTION JSON_ARRAY_VARCHAR (IN JSON_IN BLOB, IN JSON_PATH VARCHAR(1024))\n",
    "RETURNS TABLE( VALUE VARCHAR(32000) )\n",
    "RETURN  SELECT SYSTOOLS.BSON2JSON(SYSTOOLS.JSON2BSON(RESULTS.VALUE)) FROM \n",
    "        TABLE (SYSTOOLS.JSON_TABLE( SYSTOOLS.JSON2BSON(JSON_OBJECT( \n",
    "              KEY 'array' VALUE JSON_QUERY(JSON_IN, JSON_PATH) FORMAT JSON)),'array','s:32000')\n",
    "        ) AS RESULTS;       \n",
    "\n",
    "CREATE OR REPLACE FUNCTION JSON_ARRAY_BIGINT (IN JSON_IN VARCHAR(32000), IN JSON_PATH VARCHAR(1024))\n",
    "RETURNS TABLE( VALUE BIGINT )\n",
    "RETURN  SELECT RESULTS.VALUE FROM \n",
    "        TABLE (SYSTOOLS.JSON_TABLE(SYSTOOLS.JSON2BSON(JSON_OBJECT( \n",
    "               KEY 'array' VALUE JSON_QUERY(JSON_IN, JSON_PATH) FORMAT JSON)),'array','l') \n",
    "        ) AS RESULTS;\n",
    "\n",
    "CREATE OR REPLACE FUNCTION JSON_ARRAY_BIGINT (IN JSON_IN BLOB, IN JSON_PATH VARCHAR(1024))\n",
    "RETURNS TABLE( VALUE BIGINT )\n",
    "RETURN  SELECT RESULTS.VALUE FROM \n",
    "        TABLE (SYSTOOLS.JSON_TABLE(SYSTOOLS.JSON2BSON(JSON_OBJECT( \n",
    "               KEY 'array' VALUE JSON_QUERY(JSON_IN, JSON_PATH) FORMAT JSON)),'array','l') \n",
    "        ) AS RESULTS;\n",
    "\n",
    "CREATE OR REPLACE FUNCTION JSON_ARRAY_INTEGER (IN JSON_IN VARCHAR(32000), IN JSON_PATH VARCHAR(1024))\n",
    "RETURNS TABLE( VALUE INTEGER )\n",
    "RETURN  SELECT RESULTS.VALUE FROM \n",
    "        TABLE (SYSTOOLS.JSON_TABLE(SYSTOOLS.JSON2BSON(JSON_OBJECT( \n",
    "                   KEY 'array' VALUE JSON_QUERY(JSON_IN, JSON_PATH) FORMAT JSON)),'array','i') \n",
    "        ) AS RESULTS;\n",
    "\n",
    "CREATE OR REPLACE FUNCTION JSON_ARRAY_INTEGER (IN JSON_IN BLOB, IN JSON_PATH VARCHAR(1024))\n",
    "RETURNS TABLE( VALUE INTEGER )\n",
    "RETURN  SELECT RESULTS.VALUE FROM \n",
    "        TABLE (SYSTOOLS.JSON_TABLE(SYSTOOLS.JSON2BSON(JSON_OBJECT( \n",
    "               KEY 'array' VALUE JSON_QUERY(JSON_IN, JSON_PATH) FORMAT JSON)),'array','i') \n",
    "        ) AS RESULTS;\n",
    "        \n",
    "CREATE OR REPLACE FUNCTION JSON_ARRAY_DATE (IN JSON_IN VARCHAR(32000), IN JSON_PATH VARCHAR(1024))\n",
    "RETURNS TABLE( VALUE DATE )\n",
    "RETURN  SELECT RESULTS.VALUE FROM \n",
    "        TABLE (SYSTOOLS.JSON_TABLE(SYSTOOLS.JSON2BSON(JSON_OBJECT( \n",
    "               KEY 'array' VALUE JSON_QUERY(JSON_IN, JSON_PATH) FORMAT JSON)),'array','d') \n",
    "        ) AS RESULTS;\n",
    "\n",
    "CREATE OR REPLACE FUNCTION JSON_ARRAY_DATE (IN JSON_IN BLOB, IN JSON_PATH VARCHAR(1024))\n",
    "RETURNS TABLE( VALUE DATE )\n",
    "RETURN  SELECT RESULTS.VALUE FROM \n",
    "        TABLE (SYSTOOLS.JSON_TABLE(SYSTOOLS.JSON2BSON(JSON_OBJECT(\n",
    "               KEY 'array' VALUE JSON_QUERY(JSON_IN, JSON_PATH) FORMAT JSON)),'array','d') \n",
    "       ) AS RESULTS;\n",
    "        \n",
    "CREATE OR REPLACE FUNCTION JSON_ARRAY_DECFLOAT (IN JSON_IN VARCHAR(32000), IN JSON_PATH VARCHAR(1024))\n",
    "RETURNS TABLE( VALUE DECFLOAT(34) )\n",
    "RETURN  SELECT RESULTS.VALUE FROM \n",
    "        TABLE (SYSTOOLS.JSON_TABLE(SYSTOOLS.JSON2BSON(JSON_OBJECT( \n",
    "               KEY 'array' VALUE JSON_QUERY(JSON_IN, JSON_PATH) FORMAT JSON)),'array','n') \n",
    "        ) AS RESULTS;\n",
    "\n",
    "CREATE OR REPLACE FUNCTION JSON_ARRAY_DECFLOAT (IN JSON_IN BLOB, IN JSON_PATH VARCHAR(1024))\n",
    "RETURNS TABLE( VALUE DECFLOAT )\n",
    "RETURN  SELECT RESULTS.VALUE FROM \n",
    "        TABLE (SYSTOOLS.JSON_TABLE(SYSTOOLS.JSON2BSON(JSON_OBJECT( \n",
    "              KEY 'array' VALUE JSON_QUERY(JSON_IN, JSON_PATH) FORMAT JSON)),'array','n') \n",
    "        ) AS RESULTS;"
   ]
  },
  {
   "cell_type": "markdown",
   "metadata": {},
   "source": [
    "## Extracting Books Revisited\n",
    "Now that we have defined our functions, we can use them to extract the formats of the books using a simpler syntax. Here is the definition of the book document again."
   ]
  },
  {
   "cell_type": "code",
   "execution_count": null,
   "metadata": {},
   "outputs": [],
   "source": [
    "book = {\n",
    "   \"authors\": \n",
    "     [\n",
    "       {\"first_name\": \"Paul\",  \"last_name\" : \"Bird\"},\n",
    "       {\"first_name\": \"George\",\"last_name\" : \"Baklarz\"}\n",
    "     ],\n",
    "   \"foreword\": \n",
    "     {\n",
    "       \"primary\": {\"first_name\": \"Thomas\",\"last_name\" : \"Hronis\"}\n",
    "     },\n",
    "   \"formats\": [\"Hardcover\",\"Paperback\",\"eBook\",\"PDF\"]\n",
    "}"
   ]
  },
  {
   "cell_type": "markdown",
   "metadata": {},
   "source": [
    "The following was the recursive SQL that we used to determine the formats using the ISO JSON functions."
   ]
  },
  {
   "cell_type": "code",
   "execution_count": null,
   "metadata": {},
   "outputs": [],
   "source": [
    "%%sql\n",
    "WITH BOOKS(INFO) AS (VALUES :book),\n",
    "FORMATS(INDEX, JSON_PATH, BOOKTYPE) AS \n",
    "(\n",
    "  SELECT \n",
    "     0, '$.formats[1]',JSON_VALUE(INFO,'$.formats[0]')\n",
    "  FROM BOOKS \n",
    "     WHERE JSON_EXISTS(INFO,'$.formats[0]') IS TRUE\n",
    "  UNION ALL\n",
    "  SELECT \n",
    "     INDEX+1, \n",
    "     '$.formats[' || TRIM(CHAR(INDEX + 2)) || ']',\n",
    "     JSON_VALUE(INFO, JSON_PATH) \n",
    "  FROM BOOKS, FORMATS\n",
    "     WHERE JSON_EXISTS(INFO, JSON_PATH) IS TRUE\n",
    ")\n",
    "SELECT BOOKTYPE FROM FORMATS"
   ]
  },
  {
   "cell_type": "markdown",
   "metadata": {},
   "source": [
    "Here is the SQL that we could use with the new functions that have been defined. For this example, we are extracting just the formats, so we can use the `VARCHAR` version of the function."
   ]
  },
  {
   "cell_type": "code",
   "execution_count": null,
   "metadata": {},
   "outputs": [],
   "source": [
    "%%sql\n",
    "SELECT VALUE FROM TABLE( JSON_ARRAY_VARCHAR(:book,'$.formats')) "
   ]
  },
  {
   "cell_type": "code",
   "execution_count": null,
   "metadata": {},
   "outputs": [],
   "source": [
    "%%sql\n",
    "WITH AUTHORS(AUTH) AS (\n",
    "  SELECT VALUE FROM TABLE( JSON_ARRAY_OBJECT(:book,'$.authors')) \n",
    ")\n",
    "SELECT JSON_VALUE(AUTH,'$.first_name' RETURNING VARCHAR(10)), JSON_VALUE(AUTH,'$.last_name' RETURNING VARCHAR(10)) FROM AUTHORS"
   ]
  },
  {
   "cell_type": "markdown",
   "metadata": {},
   "source": [
    "You can see that this syntax significantly simplifies the array extraction! A more complex example deals with the customers records that were generated in an earlier notebook. For reference, here is one record returned from the customer table."
   ]
  },
  {
   "cell_type": "code",
   "execution_count": null,
   "metadata": {},
   "outputs": [],
   "source": [
    "%sql -r select * from customers fetch first 1 row only"
   ]
  },
  {
   "cell_type": "markdown",
   "metadata": {},
   "source": [
    "The customer document includes purchases that were made by the customer, and it is an array of objects:\n",
    "```json\n",
    "\"purchases\": [\n",
    "                {\n",
    "                 \"tx_date\": \"2018-02-14\",\n",
    "                 \"tx_no\": 157972,\n",
    "                 \"product_id\": 1860,\n",
    "                 \"product\": \"Ugliest Snow Blower\",\n",
    "                 \"quantity\": 1,\n",
    "                 \"item_cost\": 51.86\n",
    "                }, …additional purchases…\n",
    "              ]\n",
    "```\n",
    "To produce a list of purchases made by the customer, we need to first extract the array of objects, and then get the items within it. We could use the `JSON_TABLE` function to extra the individuals values, but first we need to unnest the array of objects. The following SQL accomplishes this using the `JSON_ARRAY_OBJECT` function."
   ]
  },
  {
   "cell_type": "code",
   "execution_count": null,
   "metadata": {},
   "outputs": [],
   "source": [
    "%%sql\n",
    "WITH PURCHASES(PURCHASE) AS (\n",
    "  SELECT VALUE FROM CUSTOMERS, TABLE( JSON_ARRAY_OBJECT(DETAILS,'$.purchases') )\n",
    "  WHERE JSON_VALUE(DETAILS,'$.customerid') = '100000'\n",
    ")\n",
    "SELECT RESULTS.* FROM PURCHASES, \n",
    "   JSON_TABLE(PURCHASE, 'strict $'\n",
    "      COLUMNS(\n",
    "         TX_DATE     DATE        PATH '$.tx_date',\n",
    "         TX_NO       INT         PATH '$.tx_no',\n",
    "         PRODUCT_ID  INT         PATH '$.product_id',\n",
    "         PRODUCT     VARCHAR(64) PATH '$.product',\n",
    "         QUANTITY    INT         PATH '$.quantity',\n",
    "         ITEM_COST   DEC(7,2)    PATH '$.item_cost'\n",
    "      ) \n",
    "      ERROR ON ERROR) AS RESULTS"
   ]
  },
  {
   "cell_type": "markdown",
   "metadata": {},
   "source": [
    "## Summary\n",
    "While there is currently no single JSON function within Db2 to retrieve all array values, the combination of `JSON_EXISTS`, `JSON_VALUE`, `JSON_TABLE`, and `JSON_QUERY` can be combined with recursive SQL to extract array objects or individual values. Alternatively, you could use the `SYSTOOLS.JSON_TABLE` function to simplify access to arrays, but you will not be using standard ISO JSON functions."
   ]
  },
  {
   "cell_type": "markdown",
   "metadata": {},
   "source": [
    "#### Copyright (C) IBM 2021, George Baklarz [baklarz@ca.ibm.com]"
   ]
  }
 ],
 "metadata": {
  "kernelspec": {
   "display_name": "Python 3",
   "language": "python",
   "name": "python3"
  },
  "language_info": {
   "codemirror_mode": {
    "name": "ipython",
    "version": 3
   },
   "file_extension": ".py",
   "mimetype": "text/x-python",
   "name": "python",
   "nbconvert_exporter": "python",
   "pygments_lexer": "ipython3",
   "version": "3.7.4"
  }
 },
 "nbformat": 4,
 "nbformat_minor": 2
}
