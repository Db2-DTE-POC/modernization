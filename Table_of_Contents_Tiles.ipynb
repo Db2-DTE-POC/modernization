{
 "cells": [
  {
   "cell_type": "markdown",
   "metadata": {},
   "source": [
    "[![](./media/dte-header.jpg)](https://www.ibm.com/demos/collection/db2-database/)\n",
    "<a id=\"top\">"
   ]
  },
  {
   "cell_type": "markdown",
   "metadata": {},
   "source": [
    "# Modern Db2 Applications \n",
    "Welcome to this Db2 lab that highlights some of the new ways to access Db2 through REST services and build Machine Learning models for and with Db2. This lab uses Jupyter notebooks to demonstrate these features. If you are not familiar with the use of Jupyter notebooks or Python, the following notebooks will guide you through their usage. You can find a copy of these notebooks at https://github.com/Db2-DTE-POC/modernization. "
   ]
  },
  {
   "cell_type": "markdown",
   "metadata": {},
   "source": [
    "<div style=\"font-family: 'IBM Plex Sans';\"> \n",
    "<table style=\"float:left; width: 620px; height: 235px; border-spacing: 10px; border-collapse: separate; table-layout: fixed\"> \n",
    "    <td style=\"padding: 15px; text-align:left; vertical-align: text-top; background-color:#F7F7F7; width: 300px; height: 250px;\"> \n",
    "        <div style=\"height: 75px\"><p style=\"font-size: 24px\">An Introduction to Jupyter Notebooks</div> \n",
    "        <div style=\"height: 125px\"><p style=\"font-size: 14px\"> \n",
    "             If you are not familiar with the use of Jupyter notebooks or Python, the following notebook  \n",
    "             will guide you through their usage. \n",
    "        </div> \n",
    "        <div style=\"height: 25px\"><p style=\"font-size: 12px; text-align: right\"> \n",
    "            <img style=\"display: inline-block;\"src=\"./media/clock.png\">&nbsp;10min \n",
    "        </div> \n",
    "        <div style=\"height: 10px\"><p style=\"font-size: 12px; text-align: right\"> \n",
    "             <a href=\"./An_Introduction_to_Jupyter_Notebooks.ipynb\"> \n",
    "                 <img style=\"display: inline-block;\"src=\"./media/arrowblue.png\"></a>             \n",
    "        </div>             \n",
    "    </td> \n",
    "    <td style=\"padding: 15px; text-align:left; vertical-align: text-top; background-color:#F7F7F7; width: 300px; height:250px\"> \n",
    "        <div style=\"height: 75px\"><p style=\"font-size: 24px\">Db2 Magic Commands</div> \n",
    "        <div style=\"height: 125px\"><p style=\"font-size: 14px\"> \n",
    "             Db2 Magic commands are used in all of the notebooks used in this lab.  \n",
    "             The following notebook provides a tutorial on basics of using the Db2 magic commands. \n",
    "        </div> \n",
    "        <div style=\"height: 25px\"><p style=\"font-size: 12px; text-align: right\"> \n",
    "            <img style=\"display: inline-block;\"src=\"./media/clock.png\">&nbsp;10min \n",
    "        </div>   \n",
    "        <div style=\"height: 10px\"><p style=\"font-size: 12px; text-align: right\"> \n",
    "             <a href=\"./Db2_Jupyter_Extensions_Tutorial.ipynb\"> \n",
    "                 <img style=\"display: inline-block;\"src=\"./media/arrowblue.png\"></a>             \n",
    "        </div>             \n",
    "    </td> \n",
    "    <td style=\"padding: 15px; text-align:left; vertical-align: text-top; background-color:#F7F7F7; width: 300px; height:250px\"> \n",
    "        <div style=\"height: 75px\"><p style=\"font-size: 24px\">Db2 Data Management Console</div> \n",
    "        <div style=\"height: 125px\"><p style=\"font-size: 14px\"> \n",
    "             The IBM Db2 Data Management Console builds on the best of Data Server Manager to help you manage one to hundreds of databases across the Db2 family from ground to cloud. \n",
    "        </div> \n",
    "        <div style=\"height: 25px\"><p style=\"font-size: 12px; text-align: right\"> \n",
    "            <img style=\"display: inline-block;\"src=\"./media/clock.png\">&nbsp;10min \n",
    "        </div>   \n",
    "        <div style=\"height: 10px\"><p style=\"font-size: 12px; text-align: right\"> \n",
    "             <a href=\"./Db2_Data_Management_Console_Introduction.ipynb\"> \n",
    "                 <img style=\"display: inline-block;\"src=\"./media/arrowblue.png\"></a>             \n",
    "        </div>             \n",
    "    </td> \n",
    "    </table> \n",
    "</div>"
   ]
  },
  {
   "cell_type": "markdown",
   "metadata": {},
   "source": [
    "<!-- Row 1 -->\n",
    "<div style=\"font-family: 'IBM Plex Sans';\">\n",
    "<table style=\"float:left; width: 300px; height: 235px; border-spacing: 10px; border-collapse: separate; table-layout: fixed\">\n",
    "        <td style=\"padding: 15px; text-align:left; vertical-align: text-top; background-color:#F7F7F7; width: 300px; height: 250px;\">\n",
    "        <div style=\"height: 75px\"><p style=\"font-size: 24px\">\n",
    "<!-- Title -->\n",
    "Build and Deploy an in-Db2 ML Model\n",
    "        </div>\n",
    "        <div style=\"height: 125px\"><p style=\"font-size: 14px\">\n",
    "<!-- Description -->\n",
    "This lab contains an example of how to develop a customer segmentation machine learning model with Db2's native machine learning functionality.\n",
    "        </div>\n",
    "        <div style=\"height: 25px\"><p style=\"font-size: 12px; text-align: right\">\n",
    "            <img style=\"display: inline-block;\"src=\"./media/clock.png\">&nbsp;\n",
    "<!-- Duration -->\n",
    "90 min\n",
    "        </div>\n",
    "        <div style=\"height: 10px\"><p style=\"font-size: 12px; text-align: right\">\n",
    "<!-- URL -->            \n",
    "<a href=\"./Db2MLTutorial1.ipynb\">\n",
    "                 <img style=\"display: inline-block;\"src=\"./media/arrowblue.png\"></a>            \n",
    "        </div>            \n",
    "    </td>  \n",
    "    <td style=\"padding: 15px; text-align:left; vertical-align: text-top; background-color:#F7F7F7; width: 300px; height: 250px;\">\n",
    "        <div style=\"height: 75px\"><p style=\"font-size: 24px\">\n",
    "<!-- Title -->\n",
    "Operationalize a Scikit-learn Model with Db2\n",
    "        </div>\n",
    "        <div style=\"height: 125px\"><p style=\"font-size: 14px\">\n",
    "<!-- Description -->\n",
    "This lab contains an example of how to develop a machine learning pipeline externally in a Jupyter notebook and deploy the pipeline to Db2 for in-database scoring with Python UDFs.\n",
    "        </div>\n",
    "        <div style=\"height: 25px\"><p style=\"font-size: 12px; text-align: right\">\n",
    "            <img style=\"display: inline-block;\"src=\"./media/clock.png\">&nbsp;\n",
    "<!-- Duration -->\n",
    "90 min\n",
    "        </div>\n",
    "        <div style=\"height: 10px\"><p style=\"font-size: 12px; text-align: right\">\n",
    "<!-- URL -->            \n",
    "<a href=\"./Db2MLTutorial2.ipynb\">\n",
    "                 <img style=\"display: inline-block;\"src=\"./media/arrowblue.png\"></a>            \n",
    "        </div>            \n",
    "    </td>   \n",
    "    <td style=\"padding: 15px; text-align:left; vertical-align: text-top; background-color:#F7F7F7; width: 300px; height:250px\">\n",
    "        <div style=\"height: 75px\"><p style=\"font-size: 24px\">Db2 RESTful Endpoint Service</div>\n",
    "        <div style=\"height: 125px\"><p style=\"font-size: 14px\">\n",
    "             You can extend your Db2 system so that application programmers can create Representational State Transfer (REST) endpoints \n",
    "             to interact with your Db2 database\n",
    "        </div>\n",
    "        <div style=\"height: 25px\"><p style=\"font-size: 12px; text-align: right\">\n",
    "            <img style=\"display: inline-block;\"src=\"./media/clock.png\">&nbsp;20min\n",
    "        </div>  \n",
    "        <div style=\"height: 10px\"><p style=\"font-size: 12px; text-align: right\">\n",
    "             <a href=\"./Db2 RESTful Example.ipynb\">\n",
    "                 <img style=\"display: inline-block;\"src=\"./media/arrowblue.png\"></a>            \n",
    "        </div>            \n",
    "    </td>    \n",
    "</table>\n",
    "</div>"
   ]
  },
  {
   "cell_type": "markdown",
   "metadata": {},
   "source": [
    "#### Questions and Comments: Peter Kohlmann [kohlmann@ca.ibm.com], George Baklarz [baklarz@ca.ibm.com]"
   ]
  }
 ],
 "metadata": {
  "kernelspec": {
   "display_name": "Python 3",
   "language": "python",
   "name": "python3"
  },
  "language_info": {
   "codemirror_mode": {
    "name": "ipython",
    "version": 3
   },
   "file_extension": ".py",
   "mimetype": "text/x-python",
   "name": "python",
   "nbconvert_exporter": "python",
   "pygments_lexer": "ipython3",
   "version": "3.6.13"
  }
 },
 "nbformat": 4,
 "nbformat_minor": 2
}
