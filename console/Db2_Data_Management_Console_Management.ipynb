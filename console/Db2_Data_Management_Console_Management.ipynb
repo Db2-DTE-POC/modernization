{
 "cells": [
  {
   "cell_type": "markdown",
   "metadata": {},
   "source": [
    "<img align=\"left\" src=\"media/Assets&ArchHeader.jpg\">"
   ]
  },
  {
   "cell_type": "markdown",
   "metadata": {},
   "source": [
    "# Managing the Db2 Data Management Console\n",
    "\n",
    "This Jupyter Notebook contains examples of how to setup and manage the Db2 Data Management Console. It covers how to add additional users using database authentication, how to explore and manage connections and setup and manage monitoring profiles.\n",
    "\n",
    "The Db2 Data Management Console is more than a graphical user interface. It is a set of microservices that you can use to script your use of Db2.\n",
    "\n",
    "<img align=\"left\" src=\"media/DMC.png\">"
   ]
  },
  {
   "cell_type": "markdown",
   "metadata": {},
   "source": [
    "### Launching the Db2 Console\n",
    "You can launch the Db2 Console using the browser running in the Virtual desktop or from your own desktop. \n",
    "\n",
    "Inside the virtual machine desktop you can follow the link: http://localhost:11080.\n",
    "\n",
    "To use the Db2 Console from your own browser, look for the link in your welcome note. It will start with **services-uscentral.skytap.com**\n",
    "\n",
    "You can log into the console using:\n",
    "* userid: db2inst1\n",
    "* password: db2inst1"
   ]
  },
  {
   "cell_type": "markdown",
   "metadata": {},
   "source": [
    "### Db2 Console Open API\n",
    "This Jupyter Notebook contains examples of how to use the Open APIs and the composable interface that are available in the Db2 Data Management Console. Everything in the User Interface is also available through an open and fully documented RESTful Services API. The full set of APIs are documented as part of the Db2 Data Management Console user interface. In this hands on lab you can connect to the documentation directly through this link: [Db2 Data Management Console RESTful APIs](http://localhost:11080/dbapi/api/index_enterprise.html). "
   ]
  },
  {
   "cell_type": "markdown",
   "metadata": {},
   "source": [
    "### Where to find this sample online\n",
    "You can find a copy of this notebook at https://github.com/Db2-DTE-POC/db2dmc."
   ]
  },
  {
   "cell_type": "markdown",
   "metadata": {},
   "source": [
    "### First we will import a few helper classes\n",
    "We need to pull in a few standard Python libraries so that we can work with REST, JSON and a library called Pandas. Pandas lets us work with DataFrames, which are a very powerful way to work with tabular data in Python. "
   ]
  },
  {
   "cell_type": "code",
   "execution_count": 12,
   "metadata": {},
   "outputs": [],
   "source": [
    "# Import the class libraries \n",
    "import requests\n",
    "import ssl\n",
    "import json\n",
    "from pprint import pprint\n",
    "from requests import Response\n",
    "import pandas as pd\n",
    "import time\n",
    "from requests.packages.urllib3.exceptions import InsecureRequestWarning\n",
    "requests.packages.urllib3.disable_warnings(InsecureRequestWarning)\n",
    "from IPython.display import IFrame\n",
    "from IPython.display import display, HTML\n",
    "from pandas import json_normalize\n",
    "%matplotlib inline\n",
    "import matplotlib\n",
    "import matplotlib.pyplot as plt"
   ]
  },
  {
   "cell_type": "markdown",
   "metadata": {},
   "source": [
    "### The Db2 Class\n",
    "Next we will create a Db2 helper class that will encapsulate the Rest API calls that we can use to directly access the Db2 Data Management Console service without having to use the user interface. \n",
    "\n",
    "To access the service we need to first authenticate with the service and create a reusable token that we can use for each call to the service. This ensures that we don't have to provide a userID and password each time we run a command. The token makes sure this is secure. \n",
    "\n",
    "Each request is constructed of several parts. First, the URL and the API identify how to connect to the service. Second the REST service request that identifies the request and the options. For example '/metrics/applications/connections/current/list'. And finally some complex requests also include a JSON payload. For example running SQL includes a JSON object that identifies the script, statement delimiters, the maximum number of rows in the results set as well as what do if a statement fails.\n",
    "\n",
    "The full set of APIs are documents as part of the Db2 Data Management Console user interface. In this hands on lab you can connect to that directly through this link: [Db2 Data Management Console RESTful APIs](http://localhost:11080/dbapi/api/index_enterprise.html). "
   ]
  },
  {
   "cell_type": "code",
   "execution_count": 13,
   "metadata": {},
   "outputs": [],
   "source": [
    "# Run the Db2 Class library\n",
    "# Used to construct and reuse an Autentication Key\n",
    "# Used to construct RESTAPI URLs and JSON payloads\n",
    "class Db2Console():\n",
    "    \n",
    "    def __init__(self, url, verify = False, proxies=None, ):\n",
    "        self.url = url\n",
    "        self.proxies = proxies\n",
    "        self.verify = verify\n",
    "\n",
    "    def authenticate(self, userid, password, profile=\"\"):\n",
    "        credentials = {'userid':userid, 'password':password}\n",
    "        r = requests.post(self.url+'/auth/tokens', verify=self.verify, json=credentials, proxies=self.proxies)\n",
    "        if (r.status_code == 200):\n",
    "            bearerToken = r.json()['token']\n",
    "            if profile == \"\":\n",
    "                self.headers = {'Authorization': 'Bearer'+ ' '+bearerToken}\n",
    "                return True;\n",
    "            else:\n",
    "                self.headers = {'Authorization': 'Bearer'+ ' '+bearerToken, 'X-DB-Profile': profile}\n",
    "                return True;\n",
    "        else:\n",
    "            print ('Unable to authenticate, no bearer token obtained')\n",
    "            return False;\n",
    "        \n",
    "    def printResponse(self, r, code):\n",
    "        if (r.status_code == code):\n",
    "            pprint(r.json())\n",
    "        else:\n",
    "            print (r.status_code)\n",
    "            print (r.content)\n",
    "    \n",
    "    def getRequest(self, api, json=None):\n",
    "        return requests.get(self.url+api, verify = self.verify, headers=self.headers, proxies = self.proxies, json=json)\n",
    "\n",
    "    def postRequest(self, api, json=None):\n",
    "        return requests.post(self.url+api, verify = self.verify, headers=self.headers, proxies = self.proxies, json=json) \n",
    "    \n",
    "    def deleteRequest(self, api, json=None):\n",
    "        return requests.delete(self.url+api, verify = self.verify, headers=self.headers, proxies = self.proxies, json=json) \n",
    "    \n",
    "    def putRequest(self, api, json=None):\n",
    "        return requests.put(self.url+api, verify = self.verify, headers=self.headers, proxies = self.proxies, json=json) \n",
    "        \n",
    "    def getStatusCode(self, response):\n",
    "        return (response.status_code)\n",
    "\n",
    "    def getJSON(self, response):\n",
    "        return (response.json())\n",
    "    \n",
    "    def runSQL(self, script, limit=10, separator=';', stopOnError=False):\n",
    "        sqlJob = {'commands': script, 'limit':limit, 'separator':separator, 'stop_on_error':str(stopOnError)}\n",
    "        return self.postRequest('/sql_jobs',sqlJob)\n",
    "        \n",
    "    def getSQLJobResult(self, jobid):\n",
    "        return self.getRequest('/sql_jobs/'+jobid)\n",
    "    \n",
    "    def getUserPriviledges(self, profile=''):\n",
    "        if profile == '' :\n",
    "            return self.getRequest('/userProfilePrivileges')\n",
    "        else : \n",
    "            return self.getRequest('/userProfilePrivileges/'+profile)\n",
    "    \n",
    "    def assignUserPrivileges(self, profile, user):\n",
    "        json = [{'profileName': profile, 'USER':[user], 'OWNER':[]}]\n",
    "        return self.postRequest('/userProfilePrivileges?action=assign', json) \n",
    " \n",
    "    def assignOwnerPrivileges(self, profile, owner):\n",
    "        json = [{'profileName': profile, 'USER':[], 'OWNER':[owner]}]\n",
    "        return self.postRequest('/userProfilePrivileges?action=assign', json) \n",
    "    \n",
    "    def revokeProfilePrivileges(self, profile, user):\n",
    "        json = [{'profileName': profile, 'USER':[user]}]\n",
    "        return self.postRequest('/userProfilePrivileges?action=revoke', json) \n",
    "\n",
    "    def getConnectionProfile(self,profile):\n",
    "        return self.getRequest('/dbprofiles/'+profile)    \n",
    "    \n",
    "    def getMonitorStatus(self):\n",
    "        return self.getRequest('/monitor') \n",
    "    \n",
    "    def getConnectionProfiles(self):\n",
    "        return self.getRequest('/dbprofiles')  \n",
    "    \n",
    "    def getConsoleRepository(self):\n",
    "        return self.getRequest('/repository')    \n",
    "\n",
    "    def getExportConnectionProfiles(self):\n",
    "        return self.getRequest('/dbprofiles/transfer/export?exportCred=true')\n",
    "    \n",
    "    def postConnectionProfile(self, connectionName, dbName, port, host, userid, password, comment):\n",
    "        json = {\"name\":connectionName,\"location\":\"\",\"databaseName\":dbName,\"dataServerType\":\"DB2LUW\",\"port\":port,\"host\":host,\"URL\":\"jdbc:db2://\"+host+\":\"+port+\"/\"+dbName+\":retrieveMessagesFromServerOnGetMessage=true;\",\"sslConnection\":\"false\",\"disableDataCollection\":\"false\",\"collectionCred\":{\"securityMechanism\":\"3\",\"user\":userid,\"password\":password},\"operationCred\":{\"securityMechanism\":\"3\",\"user\":userid,\"password\":password,\"saveOperationCred\":\"true\"},\"comment\":comment}\n",
    "        return self.postRequest('/dbprofiles', json)\n",
    "    \n",
    "    def putConnectionProfileUpdate(self, connectionName, dbName, port, host, userid, password, comment):\n",
    "        json = {\"name\":connectionName,\"location\":\"\",\"databaseName\":dbName,\"dataServerType\":\"DB2LUW\",\"port\":port,\"host\":host,\"URL\":\"jdbc:db2://\"+host+\":\"+port+\"/\"+dbName+\":retrieveMessagesFromServerOnGetMessage=true;\",\"sslConnection\":\"false\",\"disableDataCollection\":\"false\",\"collectionCred\":{\"securityMechanism\":\"3\",\"user\":userid,\"password\":password},\"operationCred\":{\"securityMechanism\":\"3\",\"user\":userid,\"password\":password,\"saveOperationCred\":\"true\"},\"comment\":comment}\n",
    "        return self.putRequest('/dbprofiles/'+connectionName, json)\n",
    "    \n",
    "    def postTestConnection(self, dbName, port, host, userid, password):\n",
    "        json = {\"name\":\"\",\"location\":\"\",\"databaseName\":dbName,\"dataServerType\":\"DB2LUW\",\"port\":port,\"host\":host,\"URL\":\"jdbc:db2://\"+host+\":\"+port+\"/\"+dbName+\":retrieveMessagesFromServerOnGetMessage=true;\",\"sslConnection\":\"false\",\"disableDataCollection\":\"false\",\"operationCred\":{\"securityMechanism\":\"3\",\"user\":userid,\"password\":password}}\n",
    "        return self.postRequest('/dbprofiles/testConnection', json)\n",
    "    \n",
    "    def deleteConnectionProfile(self, connectionName):\n",
    "        return self.deleteRequest('/dbprofiles/'+connectionName)\n",
    "\n",
    "    def getMonitoringProfiles(self):\n",
    "        return self.getRequest('/monitorprofile/front')\n",
    "    \n",
    "    def getMonitoringProfile(self, profileID):\n",
    "        return self.getRequest('/monitorprofile/front/'+profileID)\n",
    "    \n",
    "    def putMonitoringProfile(self, profileID, json):\n",
    "        return self.putRequest('/monitorprofile/front/'+profileID, json)   \n",
    "    \n",
    "    def getProfileIndex(self, profileName):\n",
    "        r = self.getMonitoringProfiles()\n",
    "        if (self.getStatusCode(r)==200):\n",
    "            json = self.getJSON(r) \n",
    "            profileList = pd.DataFrame(json_normalize(json['resources']))[['name','id']]\n",
    "            display(profileList)\n",
    "            profileList.set_index('name',inplace=True)\n",
    "            try:\n",
    "                profileIndex = profileList.loc[profileName][0]\n",
    "            except KeyError:\n",
    "                profileIndex = 0\n",
    "                print(profileName + \" not found\")\n",
    "            return profileIndex\n",
    "        else:\n",
    "            print(self.getStatusCode(r)) "
   ]
  },
  {
   "cell_type": "markdown",
   "metadata": {},
   "source": [
    "### Db2 Data Management Console Connection\n",
    "To connect to the Db2 Data Management Console service you need to provide the URL, the service name (v4) and profile the console user name and password as well as the name of the connection profile used in the console to connect to the database you want to work with. For this lab we are assuming that the following values are used for the connection:\n",
    "* Userid: db2inst1\n",
    "* Password: db2inst1\n",
    "* Connection: sample\n",
    "\n",
    "**Note:** If the Db2 Data Management Console has not completed initialization, the connection below will fail. Wait for a few moments and then try it again."
   ]
  },
  {
   "cell_type": "code",
   "execution_count": 14,
   "metadata": {},
   "outputs": [
    {
     "name": "stdout",
     "output_type": "stream",
     "text": [
      "Token Created\n"
     ]
    }
   ],
   "source": [
    "# Connect to the Db2 Data Management Console service\n",
    "Console  = 'http://localhost:11080'\n",
    "user     = 'DB2INST1'\n",
    "password = 'db2inst1'\n",
    "\n",
    "# Set up the required connection\n",
    "databaseAPI = Db2Console(Console+'/dbapi/v4')\n",
    "if databaseAPI.authenticate(user, password) :\n",
    "    print(\"Token Created\")\n",
    "else : \n",
    "    print(\"Token Creation Failed\")\n",
    "database = Console"
   ]
  },
  {
   "cell_type": "markdown",
   "metadata": {},
   "source": [
    "### Confirm the connection\n",
    "To confirm that your connection is working you can the Console connection profiles."
   ]
  },
  {
   "cell_type": "code",
   "execution_count": 15,
   "metadata": {},
   "outputs": [
    {
     "data": {
      "text/html": [
       "<div>\n",
       "<style scoped>\n",
       "    .dataframe tbody tr th:only-of-type {\n",
       "        vertical-align: middle;\n",
       "    }\n",
       "\n",
       "    .dataframe tbody tr th {\n",
       "        vertical-align: top;\n",
       "    }\n",
       "\n",
       "    .dataframe thead th {\n",
       "        text-align: right;\n",
       "    }\n",
       "</style>\n",
       "<table border=\"1\" class=\"dataframe\">\n",
       "  <thead>\n",
       "    <tr style=\"text-align: right;\">\n",
       "      <th></th>\n",
       "      <th>name</th>\n",
       "      <th>disableDataCollection</th>\n",
       "      <th>databaseVersion</th>\n",
       "      <th>databaseName</th>\n",
       "      <th>timeZone</th>\n",
       "      <th>DB_IDENTITY_HASH</th>\n",
       "      <th>databaseVersion_VRMF</th>\n",
       "      <th>sslConnection</th>\n",
       "      <th>userProfileRole</th>\n",
       "      <th>host</th>\n",
       "      <th>xtraProps</th>\n",
       "      <th>_PROFILE_INIT_</th>\n",
       "      <th>dataServerType</th>\n",
       "      <th>port</th>\n",
       "      <th>edition</th>\n",
       "      <th>dataServerExternalType</th>\n",
       "      <th>unsupport</th>\n",
       "      <th>capabilities</th>\n",
       "      <th>otsEventTablespace</th>\n",
       "    </tr>\n",
       "  </thead>\n",
       "  <tbody>\n",
       "    <tr>\n",
       "      <th>0</th>\n",
       "      <td>Repository</td>\n",
       "      <td>false</td>\n",
       "      <td>11.5.0</td>\n",
       "      <td>REPO</td>\n",
       "      <td>-50000</td>\n",
       "      <td>-1276862475</td>\n",
       "      <td>11.5.5.0</td>\n",
       "      <td>false</td>\n",
       "      <td>OWNER</td>\n",
       "      <td>localhost</td>\n",
       "      <td></td>\n",
       "      <td>true</td>\n",
       "      <td>DB2LUW</td>\n",
       "      <td>50001</td>\n",
       "      <td>ADV</td>\n",
       "      <td>DB2LUW</td>\n",
       "      <td></td>\n",
       "      <td>[\"DSM_ENTERPRISE_LUW\"]</td>\n",
       "      <td>TS4MONITOR</td>\n",
       "    </tr>\n",
       "    <tr>\n",
       "      <th>1</th>\n",
       "      <td>Banking-ML</td>\n",
       "      <td>false</td>\n",
       "      <td>11.5.0</td>\n",
       "      <td>BANKING</td>\n",
       "      <td>-50000</td>\n",
       "      <td>83780771</td>\n",
       "      <td>11.5.5.0</td>\n",
       "      <td>false</td>\n",
       "      <td>OWNER</td>\n",
       "      <td>localhost</td>\n",
       "      <td></td>\n",
       "      <td>true</td>\n",
       "      <td>DB2LUW</td>\n",
       "      <td>50001</td>\n",
       "      <td>ADV</td>\n",
       "      <td>DB2LUW</td>\n",
       "      <td></td>\n",
       "      <td>[\"DSM_ENTERPRISE_LUW\"]</td>\n",
       "      <td>TS4MONITOR</td>\n",
       "    </tr>\n",
       "    <tr>\n",
       "      <th>2</th>\n",
       "      <td>Sample</td>\n",
       "      <td>false</td>\n",
       "      <td>11.5.0</td>\n",
       "      <td>SAMPLE</td>\n",
       "      <td>-50000</td>\n",
       "      <td>1320657261</td>\n",
       "      <td>11.5.5.0</td>\n",
       "      <td>false</td>\n",
       "      <td>OWNER</td>\n",
       "      <td>localhost</td>\n",
       "      <td></td>\n",
       "      <td>true</td>\n",
       "      <td>DB2LUW</td>\n",
       "      <td>50001</td>\n",
       "      <td>ADV</td>\n",
       "      <td>DB2LUW</td>\n",
       "      <td></td>\n",
       "      <td>[\"DSM_ENTERPRISE_LUW\"]</td>\n",
       "      <td>TS4MONITOR</td>\n",
       "    </tr>\n",
       "    <tr>\n",
       "      <th>3</th>\n",
       "      <td>Ontime</td>\n",
       "      <td>false</td>\n",
       "      <td>11.5.0</td>\n",
       "      <td>ONTIME</td>\n",
       "      <td>-50000</td>\n",
       "      <td>1218348271</td>\n",
       "      <td>11.5.5.0</td>\n",
       "      <td>false</td>\n",
       "      <td>OWNER</td>\n",
       "      <td>localhost</td>\n",
       "      <td></td>\n",
       "      <td>true</td>\n",
       "      <td>DB2LUW</td>\n",
       "      <td>50001</td>\n",
       "      <td>ADV</td>\n",
       "      <td>DB2LUW</td>\n",
       "      <td></td>\n",
       "      <td>[\"DSM_ENTERPRISE_LUW\"]</td>\n",
       "      <td>TS4MONITOR</td>\n",
       "    </tr>\n",
       "  </tbody>\n",
       "</table>\n",
       "</div>"
      ],
      "text/plain": [
       "         name disableDataCollection databaseVersion databaseName timeZone  \\\n",
       "0  Repository                 false          11.5.0         REPO   -50000   \n",
       "1  Banking-ML                 false          11.5.0      BANKING   -50000   \n",
       "2      Sample                 false          11.5.0       SAMPLE   -50000   \n",
       "3      Ontime                 false          11.5.0       ONTIME   -50000   \n",
       "\n",
       "  DB_IDENTITY_HASH databaseVersion_VRMF sslConnection userProfileRole  \\\n",
       "0      -1276862475             11.5.5.0         false           OWNER   \n",
       "1         83780771             11.5.5.0         false           OWNER   \n",
       "2       1320657261             11.5.5.0         false           OWNER   \n",
       "3       1218348271             11.5.5.0         false           OWNER   \n",
       "\n",
       "        host xtraProps _PROFILE_INIT_ dataServerType   port edition  \\\n",
       "0  localhost                     true         DB2LUW  50001     ADV   \n",
       "1  localhost                     true         DB2LUW  50001     ADV   \n",
       "2  localhost                     true         DB2LUW  50001     ADV   \n",
       "3  localhost                     true         DB2LUW  50001     ADV   \n",
       "\n",
       "  dataServerExternalType unsupport            capabilities otsEventTablespace  \n",
       "0                 DB2LUW            [\"DSM_ENTERPRISE_LUW\"]         TS4MONITOR  \n",
       "1                 DB2LUW            [\"DSM_ENTERPRISE_LUW\"]         TS4MONITOR  \n",
       "2                 DB2LUW            [\"DSM_ENTERPRISE_LUW\"]         TS4MONITOR  \n",
       "3                 DB2LUW            [\"DSM_ENTERPRISE_LUW\"]         TS4MONITOR  "
      ]
     },
     "metadata": {},
     "output_type": "display_data"
    }
   ],
   "source": [
    "# Get Console Connection Profiles\n",
    "r = databaseAPI.getConnectionProfiles()\n",
    "if (databaseAPI.getStatusCode(r)==200):\n",
    "    json = databaseAPI.getJSON(r)\n",
    "    display(pd.DataFrame(json_normalize(json)))\n",
    "else:\n",
    "    print(databaseAPI.getStatusCode(r))      "
   ]
  },
  {
   "cell_type": "markdown",
   "metadata": {},
   "source": [
    "### Get Repository Configuration\n",
    "You can also get details on the repository configuration. You can see that we are using a local database name HISTORY to store all the monitoring data collected by the console. "
   ]
  },
  {
   "cell_type": "code",
   "execution_count": 16,
   "metadata": {},
   "outputs": [
    {
     "data": {
      "text/html": [
       "<div>\n",
       "<style scoped>\n",
       "    .dataframe tbody tr th:only-of-type {\n",
       "        vertical-align: middle;\n",
       "    }\n",
       "\n",
       "    .dataframe tbody tr th {\n",
       "        vertical-align: top;\n",
       "    }\n",
       "\n",
       "    .dataframe thead th {\n",
       "        text-align: right;\n",
       "    }\n",
       "</style>\n",
       "<table border=\"1\" class=\"dataframe\">\n",
       "  <thead>\n",
       "    <tr style=\"text-align: right;\">\n",
       "      <th></th>\n",
       "      <th>0</th>\n",
       "    </tr>\n",
       "  </thead>\n",
       "  <tbody>\n",
       "    <tr>\n",
       "      <th>databaseName</th>\n",
       "      <td>REPO</td>\n",
       "    </tr>\n",
       "    <tr>\n",
       "      <th>status</th>\n",
       "      <td>active</td>\n",
       "    </tr>\n",
       "    <tr>\n",
       "      <th>host</th>\n",
       "      <td>localhost</td>\n",
       "    </tr>\n",
       "    <tr>\n",
       "      <th>port</th>\n",
       "      <td>50001</td>\n",
       "    </tr>\n",
       "    <tr>\n",
       "      <th>collectionCred.user</th>\n",
       "      <td>db2inst1</td>\n",
       "    </tr>\n",
       "  </tbody>\n",
       "</table>\n",
       "</div>"
      ],
      "text/plain": [
       "                             0\n",
       "databaseName              REPO\n",
       "status                  active\n",
       "host                 localhost\n",
       "port                     50001\n",
       "collectionCred.user   db2inst1"
      ]
     },
     "metadata": {},
     "output_type": "display_data"
    }
   ],
   "source": [
    "# Get Console Repository Configuration\n",
    "r = databaseAPI.getConsoleRepository()\n",
    "if (databaseAPI.getStatusCode(r)==200):\n",
    "    json = databaseAPI.getJSON(r) \n",
    "    display(pd.DataFrame(json_normalize(json)[['databaseName','status','host','port','collectionCred.user']]).transpose())\n",
    "else:\n",
    "    print(databaseAPI.getStatusCode(r))      "
   ]
  },
  {
   "cell_type": "markdown",
   "metadata": {},
   "source": [
    "### Running SQL Routines\n",
    "We need to run some SQL scripts later in the lab. So run the next two cells. They define routines that run SQL scripts and display the results of those scripts. If you want to learn more about how these routines were developed, check out the [Analyzing SQL Workloads notebook](http://localhost:8888/notebooks/Db2_Data_Management_Console_SQL.ipynb)."
   ]
  },
  {
   "cell_type": "code",
   "execution_count": 17,
   "metadata": {},
   "outputs": [
    {
     "name": "stdout",
     "output_type": "stream",
     "text": [
      "runSQL routine defined\n"
     ]
    }
   ],
   "source": [
    "def runSQL(profile,user, password, sqlText):\n",
    "    \n",
    "    if databaseAPI.authenticate(user, password, profile) :\n",
    "\n",
    "        runID = databaseAPI.getJSON(databaseAPI.runSQL(sqlText))['id'] \n",
    "\n",
    "        json = databaseAPI.getJSON(databaseAPI.getSQLJobResult(runID))\n",
    "        while 'results' not in json :\n",
    "                json = databaseAPI.getJSON(databaseAPI.getSQLJobResult(runID))\n",
    "        fulljson = json\n",
    "\n",
    "        while json['results'] != [] or (json['status'] != \"completed\" and json['status'] != \"failed\") :\n",
    "            json = databaseAPI.getJSON(databaseAPI.getSQLJobResult(runID))\n",
    "            while 'results' not in json :\n",
    "                json = databaseAPI.getJSON(databaseAPI.getSQLJobResult(runID))\n",
    "            for results in json['results'] :\n",
    "                fulljson['results'].append(results)\n",
    "            time.sleep(1) \n",
    "        return fulljson\n",
    "    else :\n",
    "        print('Could not authenticate')\n",
    "print('runSQL routine defined')"
   ]
  },
  {
   "cell_type": "code",
   "execution_count": 18,
   "metadata": {},
   "outputs": [
    {
     "name": "stdout",
     "output_type": "stream",
     "text": [
      "displayResults routine defined\n"
     ]
    }
   ],
   "source": [
    "def displayResults(json):\n",
    "\n",
    "    for results in json['results']:\n",
    "        print('Statement: '+str(results['index'])+': '+results['command'])\n",
    "        if 'error' in results : \n",
    "            print(results['error'])\n",
    "        elif 'rows' in results :\n",
    "            df = pd.DataFrame(results['rows'],columns=results['columns'])\n",
    "            print(df)\n",
    "        else :\n",
    "            print('No errors. Row Affected: '+str(results['rows_affected']))\n",
    "        print()\n",
    "print('displayResults routine defined')"
   ]
  },
  {
   "cell_type": "markdown",
   "metadata": {},
   "source": [
    "## Accessing the Db2 Console through custom URLs\n",
    "This lab provides direct links to specific pages in the Db2 Console to make it easy to navigate during the lab. Since you can use this lab from a browser running in the virtual desktop or from your own browser on your own desktop, we just need to save the location of the console you are using. \n",
    "\n",
    "By default it is setup to use links that will work from the virtual machine desktop. To run from your own browser on your own desktop, enter the port location of the Db2 Console provided in your welcome note and run the cell below."
   ]
  },
  {
   "cell_type": "code",
   "execution_count": 22,
   "metadata": {},
   "outputs": [],
   "source": [
    "externalConsole = \"http://services-uscentral.skytap.com:18638\"\n",
    "database = externalConsole"
   ]
  },
  {
   "cell_type": "markdown",
   "metadata": {},
   "source": [
    "### Testing the Custom URL\n",
    "Run the cell below. \n",
    "\n",
    "It will generate a link to the console that works for your selected environment. Notice that it brings up the whole console including the full navigation menu. \n",
    "\n",
    "Right click on the link and select **Open Link in New Tab** or **Open Link in New Window**"
   ]
  },
  {
   "cell_type": "code",
   "execution_count": 24,
   "metadata": {},
   "outputs": [
    {
     "name": "stdout",
     "output_type": "stream",
     "text": [
      "http://services-uscentral.skytap.com:18638/console\n"
     ]
    }
   ],
   "source": [
    "print(database+'/console')"
   ]
  },
  {
   "cell_type": "markdown",
   "metadata": {},
   "source": [
    "You can also navigate to a specific page in the console by specifying the full URL or the page. For example, run the following cell and click on the link to navigate to the page that displays the tables in the Sample database:"
   ]
  },
  {
   "cell_type": "code",
   "execution_count": 25,
   "metadata": {},
   "outputs": [
    {
     "name": "stdout",
     "output_type": "stream",
     "text": [
      "http://services-uscentral.skytap.com:18638/console/#explore/table?profile=Sample\n"
     ]
    }
   ],
   "source": [
    "print(database+'/console/#explore/table?profile=Sample')"
   ]
  },
  {
   "cell_type": "markdown",
   "metadata": {},
   "source": [
    "You can also choose to create a URL that just links a page without the full navigation menu. Simply add **?mode=compact** to the URL as an option. For example:"
   ]
  },
  {
   "cell_type": "code",
   "execution_count": 26,
   "metadata": {},
   "outputs": [
    {
     "name": "stdout",
     "output_type": "stream",
     "text": [
      "http://services-uscentral.skytap.com:18638/console/?mode=compact#explore/table?profile=Sample\n"
     ]
    }
   ],
   "source": [
    "print(database+'/console/?mode=compact#explore/table?profile=Sample')"
   ]
  },
  {
   "cell_type": "markdown",
   "metadata": {},
   "source": [
    "## Setting up Repository Authentication"
   ]
  },
  {
   "cell_type": "markdown",
   "metadata": {},
   "source": [
    "### Reviewing current console authentication and switching to repository authentication"
   ]
  },
  {
   "cell_type": "markdown",
   "metadata": {},
   "source": [
    "Let's start by looking at the current authentication settings in the console. To see the authentication settings you can either:\n",
    "\n",
    "Use the full console to switch to Repository Database Authentication:\n",
    "1. Open the Console\n",
    "2. Click the gear icon at the top right of the page\n",
    "3. Select **Authentication Setting**\n",
    "\n",
    "Use the embedded page from the console to switch to Repostory Database Authentication. \n",
    "1. Run the cell below. \n",
    "2. Click the link in the cell."
   ]
  },
  {
   "cell_type": "code",
   "execution_count": 23,
   "metadata": {},
   "outputs": [
    {
     "name": "stdout",
     "output_type": "stream",
     "text": [
      "http://services-uscentral.skytap.com:18638/console/?mode=compact#settings/authentication\n"
     ]
    }
   ],
   "source": [
    "print(database+'/console/?mode=compact#settings/authentication')"
   ]
  },
  {
   "cell_type": "markdown",
   "metadata": {},
   "source": [
    "To support multiple users you need a way to authenticate those other users. There are two choices. \n",
    "1. **Repository Database Authentication**. This delegates the authentication of console users to the Db2 repository database used by the console to store historical monitoring data. \n",
    "2. **LDAP**. This delegates the authentication to an external LDAP service.\n",
    "In this example we use the Repository Database to authenticate console users. You associate console users and administrators to Db2 Authorities, Groups, UDFs or Role. \n",
    "\n",
    "In this lab we are going to setup the first option, Repository Database Authentication. \n",
    "\n",
    "Before switching to Repository Database Authentication lets create some new users in the operating system that Db2 can recognize. "
   ]
  },
  {
   "cell_type": "markdown",
   "metadata": {},
   "source": [
    "### Adding Operating System Users\n",
    "The repository database uses standard Db2 authentiation. The simplest way to set this up is to use the userid authentication that is built into the operating system that your Db2 database is running on. \n",
    "\n",
    "To add new users to the console you need to add new users to your operating system. \n",
    "\n",
    "In this hands-on lab you can create those new users through the Linux settings console. \n",
    "\n",
    "1. Click the **Settings** Icon at the bottom left of the screen. \n",
    "1. Click **Details** in the meu on the left side of the page\n",
    "1. Click **Users** in the menu on the left side of the page\n",
    "1. Click **Unlock** at the top right side of the page\n",
    "1. Enter the DB2POT password **123qwe123**.\n",
    "1. Click **Add User...** at the top-right of the page\n",
    "1. Type **Peter** into the **Full Name** and the **Username** fields.\n",
    "1. Click **Set a password now**\n",
    "1. Enter **DataConsole** into the **password fields**\n",
    "1. Click **Add** at the top-right of the page\n",
    "\n",
    "Repeat steps 5 to 9 for the following new users:\n",
    "1. **Paul**\n",
    "1. **Mary**"
   ]
  },
  {
   "cell_type": "markdown",
   "metadata": {},
   "source": [
    "### Creating Roles for Authentication\n",
    "Now that you have three new users we need to create two database roles to classify the access allowd for each id. Either an Admin or User role (CONSOLE_ADM, CONSOLE_USR). "
   ]
  },
  {
   "cell_type": "code",
   "execution_count": 10,
   "metadata": {},
   "outputs": [
    {
     "name": "stdout",
     "output_type": "stream",
     "text": [
      "Adding Roles\n"
     ]
    },
    {
     "ename": "KeyError",
     "evalue": "'id'",
     "output_type": "error",
     "traceback": [
      "\u001b[0;31m---------------------------------------------------------------------------\u001b[0m",
      "\u001b[0;31mKeyError\u001b[0m                                  Traceback (most recent call last)",
      "\u001b[0;32m<ipython-input-10-431ed2586836>\u001b[0m in \u001b[0;36m<module>\u001b[0;34m\u001b[0m\n\u001b[1;32m      5\u001b[0m \u001b[0mscript\u001b[0m \u001b[0;34m=\u001b[0m \u001b[0;34m'CREATE ROLE CONSOLE_ADM; CREATE ROLE CONSOLE_USR'\u001b[0m\u001b[0;34m\u001b[0m\u001b[0;34m\u001b[0m\u001b[0m\n\u001b[1;32m      6\u001b[0m \u001b[0mprint\u001b[0m\u001b[0;34m(\u001b[0m\u001b[0;34m'Adding Roles'\u001b[0m\u001b[0;34m)\u001b[0m\u001b[0;34m\u001b[0m\u001b[0;34m\u001b[0m\u001b[0m\n\u001b[0;32m----> 7\u001b[0;31m \u001b[0mdisplayResults\u001b[0m\u001b[0;34m(\u001b[0m\u001b[0mrunSQL\u001b[0m\u001b[0;34m(\u001b[0m\u001b[0mprofile\u001b[0m\u001b[0;34m,\u001b[0m \u001b[0muser\u001b[0m\u001b[0;34m,\u001b[0m \u001b[0mpassword\u001b[0m\u001b[0;34m,\u001b[0m \u001b[0mscript\u001b[0m\u001b[0;34m)\u001b[0m\u001b[0;34m)\u001b[0m\u001b[0;34m\u001b[0m\u001b[0;34m\u001b[0m\u001b[0m\n\u001b[0m\u001b[1;32m      8\u001b[0m \u001b[0mprint\u001b[0m\u001b[0;34m(\u001b[0m\u001b[0;34m'done'\u001b[0m\u001b[0;34m)\u001b[0m\u001b[0;34m\u001b[0m\u001b[0;34m\u001b[0m\u001b[0m\n",
      "\u001b[0;32m<ipython-input-6-58d33a2b999a>\u001b[0m in \u001b[0;36mrunSQL\u001b[0;34m(profile, user, password, sqlText)\u001b[0m\n\u001b[1;32m      3\u001b[0m     \u001b[0;32mif\u001b[0m \u001b[0mdatabaseAPI\u001b[0m\u001b[0;34m.\u001b[0m\u001b[0mauthenticate\u001b[0m\u001b[0;34m(\u001b[0m\u001b[0muser\u001b[0m\u001b[0;34m,\u001b[0m \u001b[0mpassword\u001b[0m\u001b[0;34m,\u001b[0m \u001b[0mprofile\u001b[0m\u001b[0;34m)\u001b[0m \u001b[0;34m:\u001b[0m\u001b[0;34m\u001b[0m\u001b[0;34m\u001b[0m\u001b[0m\n\u001b[1;32m      4\u001b[0m \u001b[0;34m\u001b[0m\u001b[0m\n\u001b[0;32m----> 5\u001b[0;31m         \u001b[0mrunID\u001b[0m \u001b[0;34m=\u001b[0m \u001b[0mdatabaseAPI\u001b[0m\u001b[0;34m.\u001b[0m\u001b[0mgetJSON\u001b[0m\u001b[0;34m(\u001b[0m\u001b[0mdatabaseAPI\u001b[0m\u001b[0;34m.\u001b[0m\u001b[0mrunSQL\u001b[0m\u001b[0;34m(\u001b[0m\u001b[0msqlText\u001b[0m\u001b[0;34m)\u001b[0m\u001b[0;34m)\u001b[0m\u001b[0;34m[\u001b[0m\u001b[0;34m'id'\u001b[0m\u001b[0;34m]\u001b[0m\u001b[0;34m\u001b[0m\u001b[0;34m\u001b[0m\u001b[0m\n\u001b[0m\u001b[1;32m      6\u001b[0m \u001b[0;34m\u001b[0m\u001b[0m\n\u001b[1;32m      7\u001b[0m         \u001b[0mjson\u001b[0m \u001b[0;34m=\u001b[0m \u001b[0mdatabaseAPI\u001b[0m\u001b[0;34m.\u001b[0m\u001b[0mgetJSON\u001b[0m\u001b[0;34m(\u001b[0m\u001b[0mdatabaseAPI\u001b[0m\u001b[0;34m.\u001b[0m\u001b[0mgetSQLJobResult\u001b[0m\u001b[0;34m(\u001b[0m\u001b[0mrunID\u001b[0m\u001b[0;34m)\u001b[0m\u001b[0;34m)\u001b[0m\u001b[0;34m\u001b[0m\u001b[0;34m\u001b[0m\u001b[0m\n",
      "\u001b[0;31mKeyError\u001b[0m: 'id'"
     ]
    }
   ],
   "source": [
    "user = 'DB2INST1'\n",
    "password = 'db2inst1'\n",
    "profile = 'Repository'\n",
    "    \n",
    "script = 'CREATE ROLE CONSOLE_ADM; CREATE ROLE CONSOLE_USR'        \n",
    "print('Adding Roles')\n",
    "displayResults(runSQL(profile, user, password, script))\n",
    "print('done')"
   ]
  },
  {
   "cell_type": "markdown",
   "metadata": {},
   "source": [
    "### Adding Users to the Console using Repository Authentication\n",
    "Now that you have three new users lets add them grant them database authorities and CONSOLE roles. The following cell will grant a user to either an Admin or User role (CONSOLE_ADM, CONSOLE_USR). "
   ]
  },
  {
   "cell_type": "code",
   "execution_count": null,
   "metadata": {},
   "outputs": [],
   "source": [
    "userList = {'newUser':['PETER', 'PAUL', 'MARY'], 'Type':['Admin', 'User', 'User']} \n",
    "userListDF = pd.DataFrame(userList) \n",
    "display(userListDF)\n",
    "  \n",
    "user = 'DB2INST1'\n",
    "password = 'db2inst1'\n",
    "profile = 'HISTORY'\n",
    "\n",
    "for row in range(0, len(userListDF)):\n",
    "    Type = userListDF['Type'].iloc[row]\n",
    "    newUser = userListDF['newUser'].iloc[row]\n",
    "    \n",
    "    script = 'GRANT DBADM, CREATETAB, BINDADD, CONNECT, CREATE_NOT_FENCED, IMPLICIT_SCHEMA, LOAD ON DATABASE TO USER \"'+newUser+'\";'\n",
    "    if userListDF['Type'].iloc[row] == 'Admin' :\n",
    "        script = script + 'GRANT ROLE \"CONSOLE_ADM\" TO USER \"'+newUser+'\" WITH ADMIN OPTION;'\n",
    "    else : \n",
    "        script = script + 'GRANT ROLE \"CONSOLE_USR\" TO USER \"'+newUser+'\";'        \n",
    "    print('Adding User: '+newUser)\n",
    "    displayResults(runSQL(profile, user, password, script))\n",
    "print('done')"
   ]
  },
  {
   "cell_type": "markdown",
   "metadata": {},
   "source": [
    "### Switch Authentication Method in the Console\n",
    "Next that we can users that are assigned to the correct role, we can switch from using the single default user to using Repository Database authentication for multiple users. You can do this through the Db2 Data Management Console and navigating to the **Repository Setting** page or by running the next cell below. Pick one of the two methods below to get to the Repository Settings page. Then follow the 10 steps to change the authentication method.\n",
    "\n",
    "Use the full console to switch to Repository Database Authentication:\n",
    "1. Click the link http://localhost:11080/console\n",
    "2. Click the gear icon at the top right of the page\n",
    "3. Select **Authentication**\n",
    "\n",
    "Use the embedded page from the console to switch to Repostory Database Authentication\n",
    "1. Run the cell below\n",
    "\n",
    "Now configure the console to use the Repository database to authenticate users. \n",
    "1. Select **Repository** from the list of available Authentiation Types.\n",
    "2. Scroll down and select **Db2 Roles** from the list of User role matting methods\n",
    "3. Enter CONSOLE_ADM in the Admin roles field\n",
    "4. Enter CONSOLE_USR in the User roles field\n",
    "5. Click Next\n",
    "6. Enter **Peter** in the Test user ID field\n",
    "7. Enter **DataConsole** in the Test user password field\n",
    "8. Click **Test**. You should see confirmation that the test succeeded\n",
    "9. Select **Save** at the bottom right of the page. A confirmation dialog appears.\n",
    "10. Click **Yes**. You should now see that Repository authentication is set and enabled successfully\n"
   ]
  },
  {
   "cell_type": "code",
   "execution_count": null,
   "metadata": {},
   "outputs": [],
   "source": [
    "URL = database+'/console/?mode=compact#settings/authentication'\n",
    "print(URL)\n",
    "IFrame(URL, width=1400, height=300)"
   ]
  },
  {
   "cell_type": "markdown",
   "metadata": {},
   "source": [
    "### Test a New Console User\n",
    "To test the new user and authentication method you can log out and into the console and you can run the cell below. After signing in you run SQL for the first time. This prompts a new user to enter a userid and password to authenticate against the Db2 database. You can save this authentication pair if you want to run SQL through the service later.\n",
    "\n",
    "1. Open the console http://localhost:11080/console\n",
    "2. Click the user icon at the very top right of the screen\n",
    "3. Select **sign out** a confirmation dialog appears\n",
    "4. Select **Yes**\n",
    "5. Enter **Peter** in the user field\n",
    "6. Enter **DataConsole** in the password field\n",
    "7. Click **History** Connection name in the Databases homepage\n",
    "8. Click the **Run SQL** icon at the left of the page\n",
    "9. Enter **select TABSCHEMA, TABNAME from syscat.tables**\n",
    "9. Click **Run All**\n",
    "9. Enter **Peter** and **DataConsole** in the userid and password field\n",
    "10. IMPORTANT - Click **Save Credentials to repository** \n",
    "11. Click **Test Connection**\n",
    "12. Click **Save**"
   ]
  },
  {
   "cell_type": "markdown",
   "metadata": {},
   "source": [
    "This next cell runs a simple query through the console service using one of the new users. This only works if you chose to save Peter's credentials to the repository."
   ]
  },
  {
   "cell_type": "code",
   "execution_count": null,
   "metadata": {},
   "outputs": [],
   "source": [
    "sql = 'select TABSCHEMA, TABNAME from syscat.tables'\n",
    "displayResults(runSQL('HISTORY', 'Peter', 'DataConsole', sql))"
   ]
  },
  {
   "cell_type": "markdown",
   "metadata": {},
   "source": [
    "### Grant Authority to DBINST1 to Access the Console\n",
    "When you added **Peter** to the CONSOLE_ADM role you also included the **WITH ADMIN OPTION** that means that **Peter** can now grant other users access to the **CONSOLE_ADM** group. Run the SQL in the next cell to grant access to DB2INST to the Console as an Administrator."
   ]
  },
  {
   "cell_type": "code",
   "execution_count": null,
   "metadata": {},
   "outputs": [],
   "source": [
    "sql = 'GRANT ROLE \"CONSOLE_ADM\" TO USER \"DB2INST1\"'\n",
    "displayResults(runSQL('HISTORY', 'Peter', 'DataConsole', sql))"
   ]
  },
  {
   "cell_type": "markdown",
   "metadata": {},
   "source": [
    "Now lets try running the previous select statement using the **DB2INST1** user id."
   ]
  },
  {
   "cell_type": "code",
   "execution_count": null,
   "metadata": {},
   "outputs": [],
   "source": [
    "sql = 'select TABSCHEMA, TABNAME from syscat.tables'\n",
    "displayResults(runSQL('HISTORY', 'db2inst1', 'db2inst1', sql))"
   ]
  },
  {
   "cell_type": "markdown",
   "metadata": {},
   "source": [
    "## Manage Console User Priviledges\n",
    "In the console you can control which users can access specific database connections. These are divided into Owners, who can grant privleges, and users who can only use the connection."
   ]
  },
  {
   "cell_type": "markdown",
   "metadata": {},
   "source": [
    "### Get User Connection Profile Privileges\n",
    "The next cell lets you control exactly which users can access specific databases. You can also access this through the console **Users and Privileges** settings page in the main console. "
   ]
  },
  {
   "cell_type": "code",
   "execution_count": null,
   "metadata": {},
   "outputs": [],
   "source": [
    "URL = database+'/console/?mode=compact#settings/users'\n",
    "print(URL)\n",
    "IFrame(URL, width=1400, height=300)"
   ]
  },
  {
   "cell_type": "markdown",
   "metadata": {},
   "source": [
    "If you have a lot to users and databases to manage it may be useful to script these changes. The next cell includes an example of how to retrieve the current privileges through the console APIs. "
   ]
  },
  {
   "cell_type": "code",
   "execution_count": null,
   "metadata": {},
   "outputs": [],
   "source": [
    "# Get User Connection Profile Privleges\n",
    "r = databaseAPI.getUserPriviledges()\n",
    "if (databaseAPI.getStatusCode(r)==200):\n",
    "    json = databaseAPI.getJSON(r)\n",
    "    display(pd.DataFrame(json_normalize(json)))\n",
    "else:\n",
    "    print(databaseAPI.getStatusCode(r))      "
   ]
  },
  {
   "cell_type": "markdown",
   "metadata": {},
   "source": [
    "### Change User Connection Profile Privileges\n",
    "If you have a lot of changes to make at once, the following cells are examples of how to script changes to multiple user and database connection priviledges. The first two cells in this section define reusable routines that let you add and revoke privileges with a single call. "
   ]
  },
  {
   "cell_type": "code",
   "execution_count": null,
   "metadata": {},
   "outputs": [],
   "source": [
    "# Change User Connection Profile Privileges\n",
    "def addProfilePrivileges(profile, name, userType) :\n",
    "\n",
    "    if userType == 'user' : \n",
    "        r = databaseAPI.assignUserPrivileges(profile, name)\n",
    "    else: \n",
    "        r = databaseAPI.assignOwnerPrivileges(profile, name)\n",
    "\n",
    "    if (databaseAPI.getStatusCode(r)==201):\n",
    "        print(name+' added to: '+profile+\" as a new \"+userType+\".\")\n",
    "    else:\n",
    "        print(databaseAPI.getStatusCode(r)) \n",
    "    \n",
    "print('Created routine to add profile privileges')"
   ]
  },
  {
   "cell_type": "code",
   "execution_count": null,
   "metadata": {},
   "outputs": [],
   "source": [
    "# Revoke User Connection Profile Privileges\n",
    "def revokeProfilePrivileges(profile, name) :\n",
    "\n",
    "    r = databaseAPI.revokeProfilePrivileges(profile, name)\n",
    "\n",
    "    if (databaseAPI.getStatusCode(r)==201):\n",
    "        print(name+' privilege revoked from: '+profile)\n",
    "    else:\n",
    "        print(databaseAPI.getStatusCode(r)) \n",
    "    \n",
    "print('Created routine to revoke profile privileges')"
   ]
  },
  {
   "cell_type": "code",
   "execution_count": null,
   "metadata": {},
   "outputs": [],
   "source": [
    "addProfilePrivileges('HISTORY', 'PAUL', 'owner')"
   ]
  },
  {
   "cell_type": "code",
   "execution_count": null,
   "metadata": {},
   "outputs": [],
   "source": [
    "revokeProfilePrivileges('HISTORY', 'PAUL')"
   ]
  },
  {
   "cell_type": "markdown",
   "metadata": {},
   "source": [
    "These next two examples, show how to process an entire list of changes through a simple loop. Both to grant and revoke user privileges. "
   ]
  },
  {
   "cell_type": "code",
   "execution_count": null,
   "metadata": {},
   "outputs": [],
   "source": [
    "userList = {'userName':['PETER', 'PAUL', 'MARY', 'PETER', 'PAUL', 'MARY'], 'Profile':['HISTORY', 'HISTORY', 'HISTORY', 'SAMPLE', 'SAMPLE','SAMPLE'],'Type':['owner', 'user', 'user', 'owner', 'user', 'user']} \n",
    "userListDF = pd.DataFrame(userList) \n",
    "display(userListDF)\n",
    "\n",
    "for row in range(0, len(userListDF)):\n",
    "    profile = userListDF['Profile'].iloc[row]\n",
    "    userType = userListDF['Type'].iloc[row]\n",
    "    name = userListDF['userName'].iloc[row]   \n",
    "    addProfilePrivileges(profile, name, userType)\n",
    "print('done')"
   ]
  },
  {
   "cell_type": "code",
   "execution_count": null,
   "metadata": {},
   "outputs": [],
   "source": [
    "userList = {'userName':['PETER', 'PAUL', 'MARY', 'PETER', 'PAUL', 'MARY'], 'Profile':['HISTORY', 'HISTORY', 'HISTORY', 'SAMPLE', 'SAMPLE','SAMPLE']} \n",
    "userListDF = pd.DataFrame(userList) \n",
    "display(userListDF)\n",
    "\n",
    "for row in range(0, len(userListDF)):\n",
    "    profile = userListDF['Profile'].iloc[row]\n",
    "    name = userListDF['userName'].iloc[row]   \n",
    "    revokeProfilePrivileges(profile, name)\n",
    "print('done')\n"
   ]
  },
  {
   "cell_type": "markdown",
   "metadata": {},
   "source": [
    "## Managing Database Connection Profiles\n",
    "To monitor and manage more Db2 databases through the console, you need to add a new connection profile for each database. The connection profile includes information on how to connect to the database (host, port, and database name) as well as log in information for monitoring and management. "
   ]
  },
  {
   "cell_type": "markdown",
   "metadata": {},
   "source": [
    "### Adding Connection Profiles"
   ]
  },
  {
   "cell_type": "markdown",
   "metadata": {},
   "source": [
    "Let's start by checking the list of current database profiles available in the console. \n",
    "\n",
    "Run the next two cells. \n",
    "\n",
    "The first cell opens the Connection Profile setting page. You can access this through the full console (http://localhost:11080/console) by selecting **Connection Profile** from the settings menu at the top right of the screen. \n",
    "\n",
    "The second cell lists the connection information by accessing the console API."
   ]
  },
  {
   "cell_type": "code",
   "execution_count": null,
   "metadata": {},
   "outputs": [],
   "source": [
    "URL = database+'/console/?mode=compact#connection/manager'\n",
    "print(URL)\n",
    "IFrame(URL, width=1400, height=300)"
   ]
  },
  {
   "cell_type": "code",
   "execution_count": null,
   "metadata": {},
   "outputs": [],
   "source": [
    "# Get Console Connection Profiles\n",
    "r = databaseAPI.getConnectionProfiles()\n",
    "if (databaseAPI.getStatusCode(r)==200):\n",
    "    json = databaseAPI.getJSON(r)\n",
    "    display(pd.DataFrame(json_normalize(json)))\n",
    "else:\n",
    "    print(databaseAPI.getStatusCode(r))      "
   ]
  },
  {
   "cell_type": "markdown",
   "metadata": {},
   "source": [
    "### Export Connection Profile List\n",
    "To copy information from one instance of the Db2 Data Management Console to another you can export the current connection profile by selecting the **up arrow** icon at the top right of the Connection Profile page. You can then import the same file back into another console to move connection information from on console to another. \n",
    "\n",
    "You can also export the connection profile list through the console API. The example cells below create a csv file with the full connection profile information. You can then read back the csv file to see the contents of the csv file. "
   ]
  },
  {
   "cell_type": "code",
   "execution_count": null,
   "metadata": {},
   "outputs": [],
   "source": [
    "# Export Console Connection Profiles\n",
    "r = databaseAPI.getExportConnectionProfiles()\n",
    "\n",
    "if (databaseAPI.getStatusCode(r)==200):\n",
    "    with open('connectionProfile.csv','wb') as file:\n",
    "        file.write(r.content)\n",
    "        print('Created connectionProfile.csv')\n",
    "else:\n",
    "    print(databaseAPI.getStatusCode(r))  \n",
    "    "
   ]
  },
  {
   "cell_type": "code",
   "execution_count": null,
   "metadata": {},
   "outputs": [],
   "source": [
    "# Import Console Connection Profile\n",
    "df = pd.read_csv(\"connectionProfile.csv\") \n",
    "df = df.drop(df.index[1]) #Drop the second row\n",
    "df = df.iloc[:, :-1] # Drop the last column\n",
    "display(df)"
   ]
  },
  {
   "cell_type": "markdown",
   "metadata": {},
   "source": [
    "Scroll to the right and find the he **collectionCred** column.\n",
    "\n",
    "This is an encrypted version of the userid and password used to connect to the database.\n",
    "Anytime that the Db2 Data Management Console stores a userid and password, it encrypts it using a routine included with the console. If you export and import a connection profile you can choose to export with our without credentials. If you choose to include the credentials you can use the same userid and passwords from the original connection profile list when you import into a new console. "
   ]
  },
  {
   "cell_type": "markdown",
   "metadata": {},
   "source": [
    "### Create a new Db2 Database\n",
    "In this next section you will create a new and add it to the Db2 Data Management Console. "
   ]
  },
  {
   "cell_type": "markdown",
   "metadata": {},
   "source": [
    "To create a new Db2 database you need to access the Db2 Terminal:\n",
    "\n",
    "1. Click the **Terminal** icon at the bottom left of the screen\n",
    "2. Switch to the DB2INST1 USER by running the following command\n",
    "```\n",
    "su - db2inst1\n",
    "```\n",
    "3. Enter the password **db2inst1**\n",
    "4. Create a database with the following command where **dbone** is the name of the new database\n",
    "```\n",
    "db2 create database dbone\n",
    "```"
   ]
  },
  {
   "cell_type": "markdown",
   "metadata": {},
   "source": [
    "### Create a new Database Connection Profile through the User Interface\n",
    "You can add the database through the Connection Profile page or though the console API. Let's try with the console first. Either open the Connection Profile page through the full console (http://localhost:11080/console) and select **Connection Profile** from the settings menu at the top right of the screen, or run the cell below. "
   ]
  },
  {
   "cell_type": "code",
   "execution_count": null,
   "metadata": {},
   "outputs": [],
   "source": [
    "IFrame(database+'/console/?mode=compact#connection/manager/add', width=1400, height=700)"
   ]
  },
  {
   "cell_type": "markdown",
   "metadata": {},
   "source": [
    "To create a new connection:\n",
    "1. Enter **databaseOne** in the **Connection name** field\n",
    "2. Enter **localhost** in the **Host** field\n",
    "3. Enter **50000** in the **Port** field\n",
    "4. Enter **dbone** in the **Database** field\n",
    "5. Enter **db2inst1** in the **User name** field\n",
    "6. Enter **123qwe123** in the **Password** field\n",
    "7. Select **Enable operation**\n",
    "8. Enter **db2inst1** in the **User name** field\n",
    "9. Enter **123qwe123** in the **Password** field\n",
    "10. Select **Save credentials to repository**\n",
    "11. Click **Save**"
   ]
  },
  {
   "cell_type": "markdown",
   "metadata": {},
   "source": [
    "Now, lets delete the connection you just created so we can recreate it using the console API.\n",
    "1. Click the checkbox beside **databaseone**\n",
    "2. Click **delete**\n",
    "3. Click **Yes** to confirm that you want to delete the databaseone connection. This does not drop the actual database. "
   ]
  },
  {
   "cell_type": "markdown",
   "metadata": {},
   "source": [
    "### List the current Connection Profiles\n",
    "Now we can perform the same actions using the console API. Let's start by listing the current database connections. Run the next cell."
   ]
  },
  {
   "cell_type": "code",
   "execution_count": null,
   "metadata": {},
   "outputs": [],
   "source": [
    "# Get Console Connection Profiles\n",
    "r = databaseAPI.getConnectionProfiles()\n",
    "if (databaseAPI.getStatusCode(r)==200):\n",
    "    json = databaseAPI.getJSON(r)\n",
    "    display(pd.DataFrame(json_normalize(json)))\n",
    "else:\n",
    "    print(databaseAPI.getStatusCode(r))      "
   ]
  },
  {
   "cell_type": "markdown",
   "metadata": {},
   "source": [
    "### Check Connection Information without Creating a new Profile\n",
    "Just like the user interface has a **Test connection** button you can test that your userid and password connects to the database before you create a connection profile. The next cell will check that the following connection information is valid. "
   ]
  },
  {
   "cell_type": "code",
   "execution_count": null,
   "metadata": {},
   "outputs": [],
   "source": [
    "dbName = 'dbone'\n",
    "port = '50000'\n",
    "host = 'localhost'\n",
    "userid = 'db2inst1'\n",
    "password = 'db2inst1'\n",
    "r = databaseAPI.postTestConnection(dbName, port, host, userid, password)\n",
    "if (databaseAPI.getStatusCode(r)==200):\n",
    "    print(databaseAPI.getJSON(r))\n",
    "else:\n",
    "    print(databaseAPI.getStatusCode(r)) "
   ]
  },
  {
   "cell_type": "markdown",
   "metadata": {},
   "source": [
    "### Create a new Database Connection Profile\n",
    "The next cell adds a connection to the **dbone** database. "
   ]
  },
  {
   "cell_type": "code",
   "execution_count": null,
   "metadata": {},
   "outputs": [],
   "source": [
    "connectionName = 'databaseOne'\n",
    "dbName = 'dbone'\n",
    "port = '50000'\n",
    "host = 'localhost'\n",
    "userid = 'db2inst1'\n",
    "password = 'db2inst1'\n",
    "comment = 'New connection profile test'\n",
    "r = databaseAPI.postConnectionProfile(connectionName, dbName, port, host, userid, password, comment)\n",
    "if (databaseAPI.getStatusCode(r)==201):\n",
    "    print(\"Created connection profile \"+connectionName)\n",
    "else:\n",
    "    print(databaseAPI.getStatusCode(r)) "
   ]
  },
  {
   "cell_type": "markdown",
   "metadata": {},
   "source": [
    "### List the current Connection Profiles\n",
    "Next run the routine to list the connection profiles to confirm that the connection to dbone is now available. "
   ]
  },
  {
   "cell_type": "code",
   "execution_count": null,
   "metadata": {},
   "outputs": [],
   "source": [
    "# Get Console Connection Profiles\n",
    "r = databaseAPI.getConnectionProfiles()\n",
    "if (databaseAPI.getStatusCode(r)==200):\n",
    "    json = databaseAPI.getJSON(r)\n",
    "    display(pd.DataFrame(json_normalize(json)))\n",
    "else:\n",
    "    print(databaseAPI.getStatusCode(r))      "
   ]
  },
  {
   "cell_type": "markdown",
   "metadata": {},
   "source": [
    "### Update an Existing Database Connection Profile\n",
    "You can also update an exsiting connection profile. The next cell is an example of updating the comment field. You can use the same routine to update the userid and password, host or portnumber as well."
   ]
  },
  {
   "cell_type": "code",
   "execution_count": null,
   "metadata": {},
   "outputs": [],
   "source": [
    "connectionName = 'databaseOne'\n",
    "dbName = 'dbone'\n",
    "port = '50000'\n",
    "host = 'localhost'\n",
    "userid = 'db2inst1'\n",
    "password = 'db2inst1'\n",
    "comment = 'Updated Comment'\n",
    "r = databaseAPI.putConnectionProfileUpdate(connectionName, dbName, port, host, userid, password, comment)\n",
    "if (databaseAPI.getStatusCode(r)==200):\n",
    "    print(\"Updated connection profile \"+connectionName)\n",
    "else:\n",
    "    print(databaseAPI.getStatusCode(r)) "
   ]
  },
  {
   "cell_type": "markdown",
   "metadata": {},
   "source": [
    "Check that the comment field has been updated with the new comment. Run the cell below and check the comment field near the bottom of the list. "
   ]
  },
  {
   "cell_type": "code",
   "execution_count": null,
   "metadata": {},
   "outputs": [],
   "source": [
    "# Check Connection Profile\n",
    "connectionName = 'databaseOne'\n",
    "\n",
    "r = databaseAPI.getConnectionProfile(connectionName)\n",
    "if (databaseAPI.getStatusCode(r)==200):\n",
    "    json = databaseAPI.getJSON(r)\n",
    "    display(pd.DataFrame(json_normalize(json)).transpose())\n",
    "else:\n",
    "    print(databaseAPI.getStatusCode(r))      "
   ]
  },
  {
   "cell_type": "markdown",
   "metadata": {},
   "source": [
    "### Delete a connection profile\n",
    "Finally you can delete existing database connection profiles from the console using a single API call. "
   ]
  },
  {
   "cell_type": "code",
   "execution_count": null,
   "metadata": {},
   "outputs": [],
   "source": [
    "connectionName = 'databaseOne'\n",
    "\n",
    "r = databaseAPI.deleteConnectionProfile(connectionName)\n",
    "if (databaseAPI.getStatusCode(r)==200):\n",
    "    print(\"Deleted connection profile \"+connectionName)\n",
    "else:\n",
    "    print(databaseAPI.getStatusCode(r)) "
   ]
  },
  {
   "cell_type": "markdown",
   "metadata": {},
   "source": [
    "## Manage Monitoring Profiles\n",
    "Each monitored database is associated with a monitoring profile. The profile defines what kind of data is collected, when it is collected and how long it is retained in the repository database. The monitoring profile also configures which alerts are enabled.\n",
    "\n",
    "Multiple database can be associated with each profile. There is also one default profile that any new database connection profile is added to when it is created. "
   ]
  },
  {
   "cell_type": "markdown",
   "metadata": {},
   "source": [
    "### List Monitor Profiles\n",
    "Let's start by listing the current monitoring profiles. \n",
    "\n",
    "You can access this through the full console (http://localhost:11080/console) by selecting **Monitoring Profile** from the settings menu at the top right of the screen. You can also go directly to the monitoring profiles page by running the next cell. \n",
    "\n",
    "1. Click the elipses (...) in the **Actions** column at the right side of the list and click **Edit**\n",
    "2. Browse through the monitoring profile page to see the default settings for this database.\n",
    "3. Click **Cancel** to return to the monitoring profile list."
   ]
  },
  {
   "cell_type": "code",
   "execution_count": null,
   "metadata": {},
   "outputs": [],
   "source": [
    "URL = database+'/console/?mode=compact#monitorprofile'\n",
    "print(URL)\n",
    "IFrame(URL, width=1400, height=300)"
   ]
  },
  {
   "cell_type": "markdown",
   "metadata": {},
   "source": [
    "### Creating a New Monitoring Profile\n",
    "Use the user interface to create a new profile. \n",
    "1. Click **New profile** at the top right of the screen\n",
    "2. Enter **Test Profile** in the **Profile name (New)** field\n",
    "3. Click **Select database list**\n",
    "4. Click the checkbox beside **SAMPLE**\n",
    "5. Click **Save** to add asign the SAMPLE database to the new monitoring profile\n",
    "6. Click **Save** to create the new profile"
   ]
  },
  {
   "cell_type": "markdown",
   "metadata": {},
   "source": [
    "### Using the API to access Monitoring Profiles\n",
    "You can access the same information throug the console API. The next cell lists all the available monitoring profiles. "
   ]
  },
  {
   "cell_type": "code",
   "execution_count": null,
   "metadata": {},
   "outputs": [],
   "source": [
    "r = databaseAPI.getMonitoringProfiles()\n",
    "if (databaseAPI.getStatusCode(r)==200):\n",
    "    json = databaseAPI.getJSON(r) \n",
    "    profileList = pd.DataFrame(json_normalize(json['resources']))\n",
    "    display(profileList)\n",
    "else:\n",
    "    print(databaseAPI.getStatusCode(r)) "
   ]
  },
  {
   "cell_type": "markdown",
   "metadata": {
    "slideshow": {
     "slide_type": "fragment"
    }
   },
   "source": [
    "### Get a Monitor Profile\n",
    "To get the details of a single monitoring profile, run the cell below. The complete JSON string that is returned can be long. So we only display some key information. However you can uncomment the line that prints the entire JSON string if you want to see everything."
   ]
  },
  {
   "cell_type": "code",
   "execution_count": null,
   "metadata": {
    "scrolled": false
   },
   "outputs": [],
   "source": [
    "profileName = \"Test Profile\"\n",
    "\n",
    "# Find the identifier used to access this profile\n",
    "profileID = str(databaseAPI.getProfileIndex(profileName))\n",
    "\n",
    "# Retrieve the monitoring profile information for the identifier\n",
    "r = databaseAPI.getMonitoringProfile(profileID)\n",
    "if (databaseAPI.getStatusCode(r)==200):\n",
    "    json = databaseAPI.getJSON(r) \n",
    "    # print(json)\n",
    "    # Print out the base information of the monitoring profile\n",
    "    print(json['base_info'])\n",
    "    # Print the common monitoring settings\n",
    "    print(json['monitor_config']['common_settings'])\n",
    "else:\n",
    "    print(databaseAPI.getStatusCode(r))    "
   ]
  },
  {
   "cell_type": "markdown",
   "metadata": {
    "slideshow": {
     "slide_type": "fragment"
    }
   },
   "source": [
    "### Change a Monitoring Profile\n",
    "Now that we have the complete monitoring profile as a JSON string, we can update the string and put it back to update the monitoring profile settings. In this example you change the database included in the profile and change the data collection period. "
   ]
  },
  {
   "cell_type": "code",
   "execution_count": null,
   "metadata": {},
   "outputs": [],
   "source": [
    "profileName = \"Test\"\n",
    "\n",
    "# Get the existing json for the monitoring profile\n",
    "profileID = str(databaseAPI.getProfileIndex(profileName))\n",
    "r = databaseAPI.getMonitoringProfile(profileID)\n",
    "if (databaseAPI.getStatusCode(r)==200):\n",
    "    json = databaseAPI.getJSON(r) \n",
    "else:\n",
    "    print(databaseAPI.getStatusCode(r))    \n",
    "\n",
    "# Change the json that describes the list of databases assigned to this monitoring profile\n",
    "json['base_info']['assign_database_list'] = \"HISTORY\"\n",
    "json['monitor_config']['common_settings']['collect_data_every'] = 10  \n",
    "\n",
    "# Put the updated profile back\n",
    "r = databaseAPI.putMonitoringProfile(profileID, json)\n",
    "if (databaseAPI.getStatusCode(r)==200):\n",
    "    print(profileName+' Monitoring Profile Updated')\n",
    "    print(json['base_info'])\n",
    "    print(json['monitor_config']['common_settings'])\n",
    "else:\n",
    "    print(databaseAPI.getStatusCode(r)) "
   ]
  },
  {
   "cell_type": "markdown",
   "metadata": {},
   "source": [
    "## Cleaning up"
   ]
  },
  {
   "cell_type": "markdown",
   "metadata": {},
   "source": [
    "### Re-enable the original setup administrator account"
   ]
  },
  {
   "cell_type": "markdown",
   "metadata": {},
   "source": [
    "The setup administrator account is automatically disabled when the administrator account is configured the authentication settings. However, during emergency situations (for example, when the configured LDAP server is down, or the entries of administrator accounts are removed or renamed) when none of the administrator account is available to log into the console, it becomes necessary to re-enable the setup administrator account.\n",
    "\n",
    "To re-enable setup administrator account:\n",
    "1. Click the **Files** icon at the bottom left of the screen\n",
    "2. Select the **Home** directory\n",
    "3. Select the **dmc** directory\n",
    "3. Select the **Config** directory\n",
    "4. Select the **dewebserver_override.properties** file\n",
    "5. Hit the **Enter** key\n",
    "6. In the file editor change the property value named **auth** to **superAdmin** (auth=superAdmin, no spaces before or after)\n",
    "7. Click **Save** at the top right of the editor screen\n",
    "8. If necessary log out of the IBM Db2 Data Management Console and log in with the setup administrator account.\n",
    "    Userid: db2inst1\n",
    "    Password: db2inst1\n",
    "9. Reload the Db2 Console browser page\n",
    "10. Navigate to Authentication Setting page and configure the authentication settings. You should see that the settings have returned to the default configuration."
   ]
  },
  {
   "cell_type": "markdown",
   "metadata": {},
   "source": [
    "#### Credits: IBM 2019-2021, Peter Kohlmann [kohlmann@ca.ibm.com]"
   ]
  },
  {
   "cell_type": "code",
   "execution_count": null,
   "metadata": {},
   "outputs": [],
   "source": []
  }
 ],
 "metadata": {
  "kernelspec": {
   "display_name": "Python 3",
   "language": "python",
   "name": "python3"
  },
  "language_info": {
   "codemirror_mode": {
    "name": "ipython",
    "version": 3
   },
   "file_extension": ".py",
   "mimetype": "text/x-python",
   "name": "python",
   "nbconvert_exporter": "python",
   "pygments_lexer": "ipython3",
   "version": "3.6.13"
  }
 },
 "nbformat": 4,
 "nbformat_minor": 2
}
