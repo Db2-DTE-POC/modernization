{
 "cells": [
  {
   "cell_type": "markdown",
   "metadata": {},
   "source": [
    "<img align=\"left\" src=\"media/Assets&ArchHeader.jpg\">"
   ]
  },
  {
   "cell_type": "markdown",
   "metadata": {},
   "source": [
    "# Using the Db2 Console RESTful Service Class"
   ]
  },
  {
   "cell_type": "markdown",
   "metadata": {},
   "source": [
    "### Db2 Console Open API\n",
    "This Jupyter Notebook contains examples of how to use the resuable Python class library that encapsulates the Open APIs of the Db2 Data Management Console. Everything in the Console User Interface is available through an open and fully documented RESTful Services API. The full set of APIs are documented as part of the Db2 Data Management Console user interface. In this hands on lab you can connect to the documentation directly through this link: [Db2 Data Management Console RESTful APIs](http://localhost:11080/dbapi/api/index_enterprise.html). "
   ]
  },
  {
   "cell_type": "markdown",
   "metadata": {},
   "source": [
    "### Where to find this sample online\n",
    "You can find a copy of this notebook at https://github.com/Db2-DTE-POC/db2dmc."
   ]
  },
  {
   "cell_type": "markdown",
   "metadata": {},
   "source": [
    "Let's get started by loading the db2console.ipynb class library notebook. You can see the latest copy of this notebook at..."
   ]
  },
  {
   "cell_type": "code",
   "execution_count": null,
   "metadata": {},
   "outputs": [],
   "source": [
    "%run db2console.ipynb"
   ]
  },
  {
   "cell_type": "markdown",
   "metadata": {},
   "source": [
    "### Db2 Data Management Console Connection\n",
    "The first step is to create an instance of the Db2Console class (a Python object). The next cell creates an object called **databaseAPI**. The rest of this lab calls functions that are part of the Db2Console class.\n",
    "\n",
    "The **databaseAPI** object creation requires the URL and root API of the Db2 Console RESTful API as well as the a valid userid and password that you would use to log into the console. \n",
    "\n",
    "**Note:** If the Db2 Data Management Console has not completed initialization, the connection below will fail. Wait for a few moments and then try it again."
   ]
  },
  {
   "cell_type": "code",
   "execution_count": null,
   "metadata": {},
   "outputs": [],
   "source": [
    "# Connect to the Db2 Data Management Console service\n",
    "Console  = 'http://localhost:11080'\n",
    "user     = 'db2inst1'\n",
    "password = 'db2inst1'\n",
    "\n",
    "# Set up the required connection\n",
    "databaseAPI = Db2Console(Console+'/dbapi/v4')\n",
    "if databaseAPI.authenticate(user, password) :\n",
    "    print(\"Token Created\")\n",
    "else : \n",
    "    print(\"Token Creation Failed\")\n",
    "database = Console"
   ]
  },
  {
   "cell_type": "markdown",
   "metadata": {},
   "source": [
    "If the connection was successfully established, the new object contains a reusable token that is used to reconnect to the console API service for each function call. You don't need to ever use the token in your code, but if you want to see what a secure token looks like run the next cell."
   ]
  },
  {
   "cell_type": "code",
   "execution_count": null,
   "metadata": {},
   "outputs": [],
   "source": [
    "databaseAPI.getBearerToken()"
   ]
  },
  {
   "cell_type": "markdown",
   "metadata": {},
   "source": [
    "### Confirm the connection\n",
    "To confirm that your connection is working you can list the Console connection profiles."
   ]
  },
  {
   "cell_type": "code",
   "execution_count": null,
   "metadata": {},
   "outputs": [],
   "source": [
    "databaseAPI.getConnectionProfiles()"
   ]
  },
  {
   "cell_type": "markdown",
   "metadata": {},
   "source": [
    "You can also see the details for a specific connection profile."
   ]
  },
  {
   "cell_type": "code",
   "execution_count": null,
   "metadata": {},
   "outputs": [],
   "source": [
    "databaseAPI.getConnectionProfile('Ontime')"
   ]
  },
  {
   "cell_type": "markdown",
   "metadata": {},
   "source": [
    "### Get Repository Configuration\n",
    "You can also get details on the repository configuration. You can see that we are using a local database name **repo** to store all the monitoring data collected by the console. "
   ]
  },
  {
   "cell_type": "code",
   "execution_count": null,
   "metadata": {},
   "outputs": [],
   "source": [
    "databaseAPI.getConsoleRepository()"
   ]
  },
  {
   "cell_type": "markdown",
   "metadata": {},
   "source": [
    "## Connect to a Specific Database\n",
    "To use functions that work on a specific database you need to recreate the **databaseAPI** object with a specific connection profile. Different users may or may not be allowed to connect using specific profiles. So we need to re-authenticate each time we switch databases. Let's check the privleges of different users."
   ]
  },
  {
   "cell_type": "code",
   "execution_count": null,
   "metadata": {},
   "outputs": [],
   "source": [
    "display(databaseAPI.getUserPrivileges())"
   ]
  },
  {
   "cell_type": "markdown",
   "metadata": {},
   "source": [
    "Notice that we don't have to recreate the databaseAPI object but we do need to re-authenticate. Re-authenticate against the Ontime database as db2inst1."
   ]
  },
  {
   "cell_type": "code",
   "execution_count": null,
   "metadata": {},
   "outputs": [],
   "source": [
    "# Connect to the Db2 Data Management Console service\n",
    "user     = 'db2inst1'\n",
    "password = 'db2inst1'\n",
    "profile = 'Ontime'\n",
    "\n",
    "# Authenticate to a specific connection profile\n",
    "if databaseAPI.authenticate(user, password, profile) :\n",
    "    print(\"Token Created\")\n",
    "else : \n",
    "    print(\"Token Creation Failed\")\n",
    "database = Console"
   ]
  },
  {
   "cell_type": "markdown",
   "metadata": {},
   "source": [
    "### Catalog Functions\n",
    "Now that you are connected to a specific database, in this example 'Ontime', you can call functions that let you access catalog information. You can get a list of the schemas in the Ontime database. The cell below retrieves all the rows in a dataframe and displays the first 5."
   ]
  },
  {
   "cell_type": "code",
   "execution_count": null,
   "metadata": {},
   "outputs": [],
   "source": [
    "databaseAPI.getSchemas().head(5)"
   ]
  },
  {
   "cell_type": "markdown",
   "metadata": {},
   "source": [
    "#### Search and Count Tables and Views\n",
    "You can also use capabilities that are built into the console. For example you can find out how many tables include the work \"AIRCRAFT\" or seach all the views (both user and catalog views) that include the word \"TABLES\". By default the functions below only search user tables. Adding \"true\" to the function call also searches the system tables. "
   ]
  },
  {
   "cell_type": "code",
   "execution_count": null,
   "metadata": {},
   "outputs": [],
   "source": [
    "display(databaseAPI.getSearchTableList(\"AIRCRAFT\"))\n",
    "display(databaseAPI.getSearchViewList(\"TABLES\", \"true\"))"
   ]
  },
  {
   "cell_type": "markdown",
   "metadata": {},
   "source": [
    "#### Tables in a Schema\n",
    "The next function all returns the first five tables contained in the \"ONTIME\" schema"
   ]
  },
  {
   "cell_type": "code",
   "execution_count": null,
   "metadata": {
    "scrolled": true
   },
   "outputs": [],
   "source": [
    "databaseAPI.getTablesInSchema(\"ONTIME\").head(5)"
   ]
  },
  {
   "cell_type": "markdown",
   "metadata": {},
   "source": [
    "#### Fuzy object search\n",
    "The next function returns a list of either the tables or views that match search text. You can specify the number of rows in the result set (in this example 5) and specify whether you want to search user object or user and system objects (in this example true means searching both). "
   ]
  },
  {
   "cell_type": "code",
   "execution_count": null,
   "metadata": {},
   "outputs": [],
   "source": [
    "display(databaseAPI.searchObjects('view',\"TABLE\",5,'true'))\n",
    "display(databaseAPI.searchObjects('table',\"AIRLINE\",5,'true'))"
   ]
  },
  {
   "cell_type": "markdown",
   "metadata": {},
   "source": [
    "### Running Scripts and Workloads\n",
    "The Db2Console class also uses the SQL Editor service that is part of the Db2 Console to let you run Db2 scripts. Not use single SQL statments but scripts that include multiple statements. To make it easy to run scripts against different databases the fucntion requires the connection profile name, the userid and password and the sql script text. The next cell runs three SQL statements. \n",
    "\n",
    "It returns a JSON string that include details on each statement, its runtime, column types, the limit of returned rows, the full row count in the result set, and the actual results to the row limit. "
   ]
  },
  {
   "cell_type": "code",
   "execution_count": null,
   "metadata": {},
   "outputs": [],
   "source": [
    "sql = \\\n",
    "'''\n",
    "SELECT TABSCHEMA, TABNAME, STATUS FROM SYSCAT.TABLES; \n",
    "SELECT VIEWSCHEMA, VIEWNAME, VALID FROM SYSCAT.VIEWS;\n",
    "SELECT TABSCHEMA, TABNAME, COLNAME, TYPENAME, LENGTH FROM SYSCAT.COLUMNS\n",
    "'''\n",
    "user = 'db2inst1'\n",
    "password = 'db2inst1'\n",
    "profile = 'Ontime'\n",
    "\n",
    "display(databaseAPI.runScript(profile, user, password, sql))"
   ]
  },
  {
   "cell_type": "markdown",
   "metadata": {},
   "source": [
    "To make it easier to see the results, the displayResults function parses the JSON into a readable format."
   ]
  },
  {
   "cell_type": "code",
   "execution_count": null,
   "metadata": {},
   "outputs": [],
   "source": [
    "databaseAPI.displayResults(databaseAPI.runScript(profile, user, password, sql))"
   ]
  },
  {
   "cell_type": "markdown",
   "metadata": {},
   "source": [
    "The number of cells returned is limited to 10 by default. You can add an additional parameter to the runScript command to return a much larger result set, which you can then manipulate in Python. The returnRows function converts the JSON result into a dataframe. It requires the json that is returned by runScipt and the index of the SQL result you want to work with."
   ]
  },
  {
   "cell_type": "code",
   "execution_count": null,
   "metadata": {},
   "outputs": [],
   "source": [
    "json = databaseAPI.runScript(profile, user, password, sql, 10000)\n",
    "df = databaseAPI.returnRows(json,0)\n",
    "display(df.head(5))\n",
    "display(df.tail(5))"
   ]
  },
  {
   "cell_type": "code",
   "execution_count": null,
   "metadata": {},
   "outputs": [],
   "source": [
    "df = databaseAPI.returnRows(json,1)\n",
    "display(df.head(5))\n",
    "display(df.tail(5))"
   ]
  },
  {
   "cell_type": "code",
   "execution_count": null,
   "metadata": {},
   "outputs": [],
   "source": [
    "df = databaseAPI.returnRows(json,2)\n",
    "display(df.head(5))\n",
    "display(df.tail(5))"
   ]
  },
  {
   "cell_type": "markdown",
   "metadata": {},
   "source": [
    "One of the most powerful functions built into the Db2Console class is **runWorkload**. It lets you run multiple scripts against multiple databases in a loop. This is particularly useful for demonstrating Db2 monitoring or for measuring the performance of SQL against different databases.\n",
    "\n",
    "In the next example, two scripts are run repeatedly against all the databases currently cataloged by the Db2 Console.\n",
    "\n",
    "The runtimes are collected along the way and returned in a dataframe."
   ]
  },
  {
   "cell_type": "code",
   "execution_count": null,
   "metadata": {},
   "outputs": [],
   "source": [
    "profileList = ['Ontime','Repository','Sample','Banking']\n",
    "sql1 = \\\n",
    "'''\n",
    "SELECT TABSCHEMA, TABNAME, STATUS FROM SYSCAT.TABLES; \n",
    "SELECT VIEWSCHEMA, VIEWNAME, VALID FROM SYSCAT.VIEWS;\n",
    "'''\n",
    "sql2 = \\\n",
    "'''\n",
    "SELECT TABSCHEMA, TABNAME, COLNAME, TYPENAME, LENGTH FROM SYSCAT.COLUMNS\n",
    "'''\n",
    "user = 'db2inst1'\n",
    "password = 'db2inst1'\n",
    "scriptList = [sql1, sql2]\n",
    "user = 'DB2INST1'\n",
    "password = 'db2inst1'\n",
    "profileReps = 2\n",
    "scriptReps = 2\n",
    "pause = 0.25\n",
    "\n",
    "df = databaseAPI.runWorkload(profileList, scriptList, user, password, profileReps, scriptReps,pause)\n",
    "\n",
    "display(df)"
   ]
  },
  {
   "cell_type": "markdown",
   "metadata": {},
   "source": [
    "### Current Metrics Functions\n",
    "Now that you can run a workload to exercise Db2, you can measure what is going on. The following function calls let you see what applications are connected to the \"Ontime\" database, see any statements that are currently in-flight and see the frequently used statements stored in the Db2 package cache.\n",
    "\n",
    "The includeSystem parameter defines whether applications or statements generated by Db2 itself or the Db2 Console are included in the results."
   ]
  },
  {
   "cell_type": "code",
   "execution_count": null,
   "metadata": {},
   "outputs": [],
   "source": [
    "includeSystem = \"true\""
   ]
  },
  {
   "cell_type": "code",
   "execution_count": null,
   "metadata": {},
   "outputs": [],
   "source": [
    "databaseAPI.getCurrentApplicationsConnections(includeSystem)"
   ]
  },
  {
   "cell_type": "code",
   "execution_count": null,
   "metadata": {},
   "outputs": [],
   "source": [
    "databaseAPI.getInflightCurrentList(includeSystem)"
   ]
  },
  {
   "cell_type": "code",
   "execution_count": null,
   "metadata": {},
   "outputs": [],
   "source": [
    "databaseAPI.getCurrentPackageCacheList(includeSystem).head(5)"
   ]
  },
  {
   "cell_type": "markdown",
   "metadata": {},
   "source": [
    "### Timeseries Monitoring Functions\n",
    "One of the key capabilities of the Db2 Console is that is collects historical monitoring information as timeseries  data. The next set of functions returns monitoring data based on a start and endtime. \n",
    "\n",
    "The console and Db2 use EPOCH time, which is the number of milli-seconds since January 1st 1970. The cell below sets startTime and endTime. endTime is the current and end time. startTime is set to 12 hours earlier. "
   ]
  },
  {
   "cell_type": "code",
   "execution_count": null,
   "metadata": {},
   "outputs": [],
   "source": [
    "import time\n",
    "from datetime import date\n",
    "oneHour = 3600000\n",
    "endTime = int(time.time())*1000\n",
    "startTime = endTime-(oneHour*12)"
   ]
  },
  {
   "cell_type": "markdown",
   "metadata": {},
   "source": [
    "#### Time Based Metrics - Summary Functions\n",
    "The following functions return a total summary of the number of user statements that have run over the last 12 hours as well as the average response time in ms over that same period. "
   ]
  },
  {
   "cell_type": "code",
   "execution_count": null,
   "metadata": {},
   "outputs": [],
   "source": [
    "databaseAPI.getStatementsCount(startTime, endTime)"
   ]
  },
  {
   "cell_type": "code",
   "execution_count": null,
   "metadata": {
    "scrolled": true
   },
   "outputs": [],
   "source": [
    "databaseAPI.getAverageResponseTime(startTime, endTime)"
   ]
  },
  {
   "cell_type": "markdown",
   "metadata": {},
   "source": [
    "#### Time Based Metrics - Interval Measurement Functions\n",
    "The following functions return a measurement for each monitoring interval over the last 12 hours. The examples below return average response time and total rows read during each monitoring interval. The last 5 intervals are displayed"
   ]
  },
  {
   "cell_type": "code",
   "execution_count": null,
   "metadata": {
    "scrolled": true
   },
   "outputs": [],
   "source": [
    "databaseAPI.getResponseTime(startTime, endTime).tail(5)"
   ]
  },
  {
   "cell_type": "code",
   "execution_count": null,
   "metadata": {
    "scrolled": true
   },
   "outputs": [],
   "source": [
    "databaseAPI.getRowsRead(startTime, endTime).tail(5)"
   ]
  },
  {
   "cell_type": "markdown",
   "metadata": {},
   "source": [
    "#### Time Based Metrics - Object Functions\n",
    "The following functions return monitoring data over the last 12 hours with a summary row for each object. The latest 5 entries are displayed."
   ]
  },
  {
   "cell_type": "code",
   "execution_count": null,
   "metadata": {},
   "outputs": [],
   "source": [
    "databaseAPI.getTablesMetrics(startTime, endTime, includeSystem).tail(5)"
   ]
  },
  {
   "cell_type": "code",
   "execution_count": null,
   "metadata": {},
   "outputs": [],
   "source": [
    "databaseAPI.getIndividualStatementExecution(startTime, endTime).tail(5)"
   ]
  },
  {
   "cell_type": "code",
   "execution_count": null,
   "metadata": {},
   "outputs": [],
   "source": [
    "databaseAPI.getPackageCacheStatement(startTime, endTime, includeSystem).tail(5)"
   ]
  },
  {
   "cell_type": "markdown",
   "metadata": {},
   "source": [
    "## What's Next\n",
    "Try creating your own workload in a seperate notebook that takes at least an hour to run. You can even use the workload example above and increase the number of repetitions. In a seperate notebook, try running the monitoring functions or use the Db2 Console to see how Db2 responds under load.  "
   ]
  },
  {
   "cell_type": "markdown",
   "metadata": {},
   "source": [
    "#### Credits: IBM 2019-2021, Peter Kohlmann [kohlmann@ca.ibm.com]"
   ]
  }
 ],
 "metadata": {
  "kernelspec": {
   "display_name": "Python 3",
   "language": "python",
   "name": "python3"
  },
  "language_info": {
   "codemirror_mode": {
    "name": "ipython",
    "version": 3
   },
   "file_extension": ".py",
   "mimetype": "text/x-python",
   "name": "python",
   "nbconvert_exporter": "python",
   "pygments_lexer": "ipython3",
   "version": "3.6.13"
  }
 },
 "nbformat": 4,
 "nbformat_minor": 2
}
