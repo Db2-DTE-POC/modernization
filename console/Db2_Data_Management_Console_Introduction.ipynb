{
 "cells": [
  {
   "cell_type": "markdown",
   "metadata": {},
   "source": [
    "<img align=\"left\" src=\"media/Assets&ArchHeader.jpg\">"
   ]
  },
  {
   "cell_type": "markdown",
   "metadata": {
    "slideshow": {
     "slide_type": "slide"
    }
   },
   "source": [
    "# Introducing the Db2 Data Management Console\n",
    "This Jupyter Notebook is a brief introduction to the Db2 Data Management Console user interface.\n",
    "\n",
    "The console is already installed in the demonstration platform. You can start exploring it right away. \n",
    "\n",
    "You can launch the Db2 Console using the browser running in the Virtual desktop or from your own desktop. \n",
    "\n",
    "Inside the virtual machine desktop you can follow the link: http://localhost:11080.\n",
    "\n",
    "To use the Db2 Console from your own browser, look for the link in your welcome note. It will start with **services-uscentral.skytap.com**.\n",
    "\n",
    "You can log into the console using:\n",
    "* userid: db2inst1\n",
    "* password: db2inst1\n",
    "\n",
    "<img align=\"left\" src=\"media/DMC.png\">"
   ]
  },
  {
   "cell_type": "markdown",
   "metadata": {},
   "source": [
    "### The Next Generation of Console for the Db2 database\n",
    "The IBM Db2 Data Management Console is the next step in the evolution of IBM Data Server Manager.\n",
    "This new console builds on the best of Data Server Manager while opening up the platform to exciting new possibilities. This isn’t just a new user interface it is a new way to interact with the Db2 family.\n",
    "\n",
    "We are bringing together the best of our on premises, on cloud and appliance database consoles for the Db2 family in a single experience. We have an new name, IBM Db2 Data Management Console, but you can think of this as Version 3 of Data Server Manager. \n",
    "\n",
    "Much like Data Server Manager, you can install the console on a central server (or your laptop) and manage one to hundreds of databases across the Db2 family from ground to cloud. You can download and install on a Windows, Linux, or now a MacOS machine, and share the interface with your team through a web based console. The console includes alerts, monitoring, historical data collection, object administration including privilege management, relationship mapping and exploration. You can also edit, run and analyze your SQL with an updated editor and visual explain tool. \n",
    "\n",
    "This version is fully supported for anyone with a Db2 for Linux, UNIX or Windows license entitlement using Db2 Version 10.5, 11.1 or 11.5."
   ]
  },
  {
   "cell_type": "markdown",
   "metadata": {
    "hide_input": false
   },
   "source": [
    "## What is different about this console\n",
    "In the Db2 Data Management Console you will find a lot that is familiar from your experience with Data Server Manager. It is a centralized, browser based interface. It lets you manage, monitor, receive alerts and run SQL against one or hundreds of Db2 family databases. \n",
    "\n",
    "Some of the changes are obvious in the user interface. For example the new database over page and the new and improved SQL Editor. \n",
    "\n",
    "Some go deeper than the user interface. The new console architecture opens the console to team collaboration, and a fully open set of APIs. Even how we store historical data has been simplified. "
   ]
  },
  {
   "cell_type": "markdown",
   "metadata": {},
   "source": [
    "### Rapid Triage\n",
    "\n",
    "At a high level, the health and status of your database is represented by six stories. Pilots can understand their airplane through six core instruments that are in every aircraft from a Ultralight to the Space Shuttle. In the same way we have developed six core instruments to understand the availability, responsiveness, throughput, resource use, user contention and time spent in each database. What these instruments or \"widgets\" tell you make it easy to quickly understand the nature and status of your database on one screen. \n",
    "\n",
    "These same stories and metrics are also available on a single enterprise homepage. It summarizes all your databases from a single screen. You can triage (assign degree of urgency) your databases and decide which, if any, require your attention. From the database home page you can to drill in to deeper information to help analyze problems and improve performance. "
   ]
  },
  {
   "cell_type": "markdown",
   "metadata": {},
   "source": [
    "### History\n",
    "Unlike Data Server Manager, the Db2 Data Management Console does not force you switch between real-time and historic modes. You can easily choose any time period from the latest data to the last week or month with a simple click. "
   ]
  },
  {
   "cell_type": "markdown",
   "metadata": {},
   "source": [
    "### Open RESTful API\n",
    "\n",
    "Everything we do through the user interface goes through a new RESTful API that is open and available. That includes APIs to run SQL, Manage Database Objects and Privileges, Monitor performance, load data and files and configure all aspects of the console. \n",
    "\n",
    "You can find extensive documentation in the API link in the lower left of the console."
   ]
  },
  {
   "cell_type": "markdown",
   "metadata": {},
   "source": [
    "### One Schema to Record them All\n",
    "\n",
    "Historical monintoring data is stored in a central Db2 database. Unlike Data Server Manager the Db2 Data Management Console includes histrical data collection for all editions of Db2. There is also free entitlement to use a Db2 Database as the repository without having to purchase any additional Db2 license entitlements. \n",
    "\n",
    "Check out the **IBMCONSOLE** schema. "
   ]
  },
  {
   "cell_type": "markdown",
   "metadata": {},
   "source": [
    "### The SQL Editor\n",
    "To explore the new SQL Editor, go to the Db2 Console and select the **Run SQL** icon at the left side of the console. \n",
    "\n",
    "Look for key features like saving results to CSV or Excel files, sharing file with other console users and the built in visual explain tool. "
   ]
  },
  {
   "cell_type": "markdown",
   "metadata": {},
   "source": [
    "#### Credits: IBM 2021, Peter Kohlmann [kohlmann@ca.ibm.com]"
   ]
  }
 ],
 "metadata": {
  "kernelspec": {
   "display_name": "Python 3",
   "language": "python",
   "name": "python3"
  },
  "language_info": {
   "codemirror_mode": {
    "name": "ipython",
    "version": 3
   },
   "file_extension": ".py",
   "mimetype": "text/x-python",
   "name": "python",
   "nbconvert_exporter": "python",
   "pygments_lexer": "ipython3",
   "version": "3.6.13"
  }
 },
 "nbformat": 4,
 "nbformat_minor": 2
}
