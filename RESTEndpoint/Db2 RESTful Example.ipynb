{
 "cells": [
  {
   "cell_type": "markdown",
   "metadata": {},
   "source": [
    "# Db2 11.5.4 RESTful Programming\n",
    "The following notebook is a brief example of how to use the Db2 11.5.4 RESTful Endpoint service to extend the capabilies of Db2.\n",
    "\n",
    "Programmers can create Representational State Transfer (REST) endpoints that can be used to interact with Db2.\n",
    "\n",
    "Each endpoint is associated with a single SQL statement. Authenticated users of web, mobile, or cloud applications can use these REST endpoints from any REST HTTP client without having to install any Db2 drivers.\n",
    "\n",
    "The Db2 REST server accepts an HTTP request, processes the request body, and returns results in JavaScript Object Notation (JSON).\n",
    "\n",
    "The Db2 REST server is pre-installed and running on Docker on host3 (10.0.0.4) in the Demonstration cluster. As a programmer you can communicate with the service on port 50050. Your welcome note includes the external port you can use to interact with the Db2 RESTful Endpoint service directly.\n",
    "\n",
    "You can find more information about this service at: https://www.ibm.com/support/producthub/db2/docs/content/SSEPGG_11.5.0/com.ibm.db2.luw.admin.rest.doc/doc/c_rest.html."
   ]
  },
  {
   "cell_type": "markdown",
   "metadata": {},
   "source": [
    "### Finding the Db2 RESTful Endpoint Service API Documentation\n",
    "If you are running this notebook from a browser running inside the Cloud Pak for Data cluster, click: http://10.0.0.4:50050/docs If you are running this from a browser from your own desktop, check your welcome note for the address of the Db2 RESTful Service at port 50050."
   ]
  },
  {
   "cell_type": "markdown",
   "metadata": {},
   "source": [
    "## Getting Started\n",
    "Before you can start submitting SQL or creating your own services you need to complete a few setup steps. "
   ]
  },
  {
   "cell_type": "markdown",
   "metadata": {},
   "source": [
    "### Import the required programming libraries\n",
    "The requests library is the minimum required by Python to construct RESTful service calls. The Pandas library is used to format and manipulate JSON result sets as tables."
   ]
  },
  {
   "cell_type": "code",
   "execution_count": null,
   "metadata": {},
   "outputs": [],
   "source": [
    "import requests\n",
    "import pandas as pd"
   ]
  },
  {
   "cell_type": "markdown",
   "metadata": {},
   "source": [
    "### Create the Header File required for getting an authetication token\n",
    "We have to provide the location of the RESTful service for our calls.\n",
    "The RESTful call to the Db2 RESTful Endpoint service is contructed and transmitted as JSON. The first part of the JSON structure is the headers that define the content tyoe of the request."
   ]
  },
  {
   "cell_type": "code",
   "execution_count": null,
   "metadata": {},
   "outputs": [],
   "source": [
    "headers = {\n",
    "  \"content-type\": \"application/json\"\n",
    "}"
   ]
  },
  {
   "cell_type": "markdown",
   "metadata": {},
   "source": [
    "### Define the RESTful Host\n",
    "The next part defines where the request is sent to. It provides the location of the RESTful service for our calls."
   ]
  },
  {
   "cell_type": "code",
   "execution_count": null,
   "metadata": {},
   "outputs": [],
   "source": [
    "Db2RESTful = \"http://localhost:50050\""
   ]
  },
  {
   "cell_type": "markdown",
   "metadata": {},
   "source": [
    "### API Authentication Service\n",
    "Each service has its own path in the RESTful call. For authentication we need to point to the `v1/auth` service."
   ]
  },
  {
   "cell_type": "code",
   "execution_count": null,
   "metadata": {},
   "outputs": [],
   "source": [
    "API_Auth = \"/v1/auth\""
   ]
  },
  {
   "cell_type": "markdown",
   "metadata": {},
   "source": [
    "### Database Connection Information\n",
    "To authenticate to the RESTful service you must provide the connection information for the database along with the userid and password that you are using to authenticate with. You can also provide an expiry time so that the access token that gets returned will be invalidated after that time period."
   ]
  },
  {
   "cell_type": "code",
   "execution_count": null,
   "metadata": {},
   "outputs": [],
   "source": [
    "body = {\n",
    "  \"dbParms\": {\n",
    "    \"dbHost\": \"10.0.0.1\",\n",
    "    \"dbName\": \"ONTIME\",\n",
    "    \"dbPort\": 50001,\n",
    "    \"isSSLConnection\": False,\n",
    "    \"username\": \"db2inst1\",\n",
    "    \"password\": \"db2inst1\"\n",
    "  },\n",
    "  \"expiryTime\": \"8760h\"\n",
    "}"
   ]
  },
  {
   "cell_type": "markdown",
   "metadata": {},
   "source": [
    "### Retrieving an Access Token\n",
    "When communicating with the RESTful service, you must provide the name of the service that you want to interact with. In this case the authentication service is */v1/auth*. "
   ]
  },
  {
   "cell_type": "code",
   "execution_count": null,
   "metadata": {},
   "outputs": [],
   "source": [
    "try:\n",
    "    response = requests.post(\"{}{}\".format(Db2RESTful,API_Auth), headers=headers, json=body)\n",
    "    print (response)\n",
    "except Exception as e:\n",
    "    print(\"Unable to call RESTful service. Error={}\".format(repr(e)))"
   ]
  },
  {
   "cell_type": "markdown",
   "metadata": {},
   "source": [
    "A response code of 200 means that the authentication worked properly, otherwise the error that was generated is printed. The response includes a connection token that is reused throughout the rest of this lab. It ensures secure a connection without requiring that you reenter a userid and password with each request."
   ]
  },
  {
   "cell_type": "code",
   "execution_count": null,
   "metadata": {},
   "outputs": [],
   "source": [
    "if (response.status_code == 200):\n",
    "  token = response.json()[\"token\"]\n",
    "  print(\"Token: {}\".format(token))\n",
    "else:\n",
    "  print(response.json()[\"errors\"])"
   ]
  },
  {
   "cell_type": "markdown",
   "metadata": {},
   "source": [
    "### Creating a standard reusable JSON header\n",
    "The standard header for all subsequent calls will use this format. It includes the access token."
   ]
  },
  {
   "cell_type": "code",
   "execution_count": null,
   "metadata": {},
   "outputs": [],
   "source": [
    "headers = {\n",
    "  \"authorization\": f\"{token}\",\n",
    "  \"content-type\": \"application/json\"\n",
    "}"
   ]
  },
  {
   "cell_type": "markdown",
   "metadata": {},
   "source": [
    "## Executing an SQL Statement\n",
    "Before you try creating your own customer service endpoint, you can try using some of the built in services. These let you submit SQL statements in a variety of ways. \n",
    "\n",
    "Executing SQL requires a different service endpoint. In this case we will use \"/services/execsql\""
   ]
  },
  {
   "cell_type": "code",
   "execution_count": null,
   "metadata": {},
   "outputs": [],
   "source": [
    "API_execsql = \"/v1/services/execsql\""
   ]
  },
  {
   "cell_type": "markdown",
   "metadata": {},
   "source": [
    "In this example the code requests that the RESTful function waits until the command is complete."
   ]
  },
  {
   "cell_type": "code",
   "execution_count": null,
   "metadata": {},
   "outputs": [],
   "source": [
    "sql = \\\n",
    "\"\"\"\n",
    "SELECT AC.\"TAIL_NUMBER\", AC.\"MANUFACTURER\", AC.\"MODEL\", OT.\"FLIGHTDATE\", OT.\"UNIQUECARRIER\", OT.\"AIRLINEID\", OT.\"CARRIER\", OT.\"TAILNUM\", OT.\"FLIGHTNUM\", OT.\"ORIGINAIRPORTID\", OT.\"ORIGINAIRPORTSEQID\", OT.\"ORIGINCITYNAME\", OT.\"ORIGINSTATE\", OT.\"DESTAIRPORTID\", OT.\"DESTCITYNAME\", OT.\"DESTSTATE\", OT.\"DEPTIME\", OT.\"DEPDELAY\", OT.\"TAXIOUT\", OT.\"WHEELSOFF\", OT.\"WHEELSON\", OT.\"TAXIIN\", OT.\"ARRTIME\", OT.\"ARRDELAY\", OT.\"ARRDELAYMINUTES\", OT.\"CANCELLED\", OT.\"AIRTIME\", OT.\"DISTANCE\"\n",
    "  FROM \"ONTIME\".\"ONTIME\" OT, \"ONTIME\".\"AIRCRAFT\" AC \n",
    "  WHERE AC.\"TAIL_NUMBER\" = OT.TAILNUM\n",
    "  AND ORIGINSTATE = 'NJ'\n",
    "  AND DESTSTATE = 'CA'\n",
    "  AND AC.MANUFACTURER = 'Boeing' \n",
    "  AND AC.MODEL LIKE 'B737%'\n",
    "  AND OT.TAXIOUT > 30\n",
    "  AND OT.DISTANCE > 2000\n",
    "  AND OT.DEPDELAY > 300\n",
    "  ORDER BY OT.ARRDELAY;\n",
    "\"\"\""
   ]
  },
  {
   "cell_type": "code",
   "execution_count": null,
   "metadata": {},
   "outputs": [],
   "source": [
    "body = {\n",
    "  \"isQuery\": True,\n",
    "  \"sqlStatement\": sql,\n",
    "  \"sync\": True\n",
    "}\n",
    "print(body)"
   ]
  },
  {
   "cell_type": "code",
   "execution_count": null,
   "metadata": {},
   "outputs": [],
   "source": [
    "def runStatement(sql, isQuery) :\n",
    "    body = {\n",
    "      \"isQuery\": isQuery,\n",
    "      \"sqlStatement\": sql,\n",
    "      \"sync\": True\n",
    "    }\n",
    "    try:\n",
    "        response = requests.post(\"{}{}\".format(Db2RESTful,API_execsql), headers=headers, json=body)\n",
    "        return response\n",
    "    except Exception as e:\n",
    "        print(\"Unable to call RESTful service. Error={}\".format(repr(e)))"
   ]
  },
  {
   "cell_type": "code",
   "execution_count": null,
   "metadata": {},
   "outputs": [],
   "source": [
    "response = runStatement(sql, True)"
   ]
  },
  {
   "cell_type": "markdown",
   "metadata": {},
   "source": [
    "If the successful call returns a **200** response code."
   ]
  },
  {
   "cell_type": "code",
   "execution_count": null,
   "metadata": {},
   "outputs": [],
   "source": [
    "print(response)"
   ]
  },
  {
   "cell_type": "markdown",
   "metadata": {},
   "source": [
    "Now that you know the call is a success, you can retrieve the json in the result set."
   ]
  },
  {
   "cell_type": "code",
   "execution_count": null,
   "metadata": {},
   "outputs": [],
   "source": [
    "print(response.json()[\"resultSet\"])"
   ]
  },
  {
   "cell_type": "markdown",
   "metadata": {},
   "source": [
    "To format the results, use a Pandas Dataframe class to convert the json result set into a table. Dataframes can be used to further manipulate results in Python."
   ]
  },
  {
   "cell_type": "code",
   "execution_count": null,
   "metadata": {},
   "outputs": [],
   "source": [
    "display(pd.DataFrame(response.json()['resultSet']))"
   ]
  },
  {
   "cell_type": "markdown",
   "metadata": {},
   "source": [
    "## Use Parameters in a SQL Statement\n",
    "Simple parameter passing is also available through the execsql service. In this case we are passing the employee number into the query to retrieve the full employee record. Try substituting different employee numbers and run the REST call again. For example, you can change \"000010\" to \"000020\", or \"000030\"."
   ]
  },
  {
   "cell_type": "code",
   "execution_count": null,
   "metadata": {},
   "outputs": [],
   "source": [
    "sqlparm = \\\n",
    "\"\"\"\n",
    "SELECT AC.\"TAIL_NUMBER\", AC.\"MANUFACTURER\", AC.\"MODEL\", OT.\"FLIGHTDATE\", OT.\"UNIQUECARRIER\", OT.\"AIRLINEID\", OT.\"CARRIER\", OT.\"TAILNUM\", OT.\"FLIGHTNUM\", OT.\"ORIGINAIRPORTID\", OT.\"ORIGINAIRPORTSEQID\", OT.\"ORIGINCITYNAME\", OT.\"ORIGINSTATE\", OT.\"DESTAIRPORTID\", OT.\"DESTCITYNAME\", OT.\"DESTSTATE\", OT.\"DEPTIME\", OT.\"DEPDELAY\", OT.\"TAXIOUT\", OT.\"WHEELSOFF\", OT.\"WHEELSON\", OT.\"TAXIIN\", OT.\"ARRTIME\", OT.\"ARRDELAY\", OT.\"ARRDELAYMINUTES\", OT.\"CANCELLED\", OT.\"AIRTIME\", OT.\"DISTANCE\"\n",
    "  FROM \"ONTIME\".\"ONTIME\" OT, \"ONTIME\".\"AIRCRAFT\" AC \n",
    "  WHERE AC.\"TAIL_NUMBER\" = OT.TAILNUM\n",
    "  AND ORIGINSTATE = 'NJ'\n",
    "  AND DESTSTATE = 'CA'\n",
    "  AND AC.MANUFACTURER = 'Boeing' \n",
    "  AND AC.MODEL LIKE 'B737%'\n",
    "  AND OT.TAXIOUT > 30\n",
    "  AND OT.DISTANCE > 2000\n",
    "  AND OT.DEPDELAY > ?\n",
    "  ORDER BY OT.ARRDELAY;\n",
    "\"\"\"\n",
    "\n",
    "body = {\n",
    "  \"isQuery\": True,\n",
    "  \"parameters\" : {\n",
    "      \"1\" : 300\n",
    "  },\n",
    "  \"sqlStatement\": sqlparm,\n",
    "  \"sync\": True\n",
    "}"
   ]
  },
  {
   "cell_type": "code",
   "execution_count": null,
   "metadata": {},
   "outputs": [],
   "source": [
    "try:\n",
    "    response = requests.post(\"{}{}\".format(Db2RESTful,API_execsql), headers=headers, json=body)\n",
    "except Exception as e:\n",
    "    print(\"Unable to call RESTful service. Error={}\".format(repr(e)))"
   ]
  },
  {
   "cell_type": "code",
   "execution_count": null,
   "metadata": {},
   "outputs": [],
   "source": [
    "print(response)"
   ]
  },
  {
   "cell_type": "code",
   "execution_count": null,
   "metadata": {},
   "outputs": [],
   "source": [
    "response.json()[\"resultSet\"]"
   ]
  },
  {
   "cell_type": "code",
   "execution_count": null,
   "metadata": {},
   "outputs": [],
   "source": [
    "display(pd.DataFrame(response.json()['resultSet']))"
   ]
  },
  {
   "cell_type": "markdown",
   "metadata": {},
   "source": [
    "## Generate a Call and don't wait for the results\n",
    "If you know that your statement will take a long time to return a result, you can check back later. Turn **sync** off to avoid waiting."
   ]
  },
  {
   "cell_type": "code",
   "execution_count": null,
   "metadata": {},
   "outputs": [],
   "source": [
    "sql = \\\n",
    "\"\"\"\n",
    "SELECT AC.\"TAIL_NUMBER\", AC.\"MANUFACTURER\", AC.\"MODEL\", OT.\"FLIGHTDATE\", OT.\"UNIQUECARRIER\", OT.\"AIRLINEID\", OT.\"CARRIER\", OT.\"TAILNUM\", OT.\"FLIGHTNUM\", OT.\"ORIGINAIRPORTID\", OT.\"ORIGINAIRPORTSEQID\", OT.\"ORIGINCITYNAME\", OT.\"ORIGINSTATE\", OT.\"DESTAIRPORTID\", OT.\"DESTCITYNAME\", OT.\"DESTSTATE\", OT.\"DEPTIME\", OT.\"DEPDELAY\", OT.\"TAXIOUT\", OT.\"WHEELSOFF\", OT.\"WHEELSON\", OT.\"TAXIIN\", OT.\"ARRTIME\", OT.\"ARRDELAY\", OT.\"ARRDELAYMINUTES\", OT.\"CANCELLED\", OT.\"AIRTIME\", OT.\"DISTANCE\"\n",
    "  FROM \"ONTIME\".\"ONTIME\" OT, \"ONTIME\".\"AIRCRAFT\" AC \n",
    "  WHERE AC.\"TAIL_NUMBER\" = OT.TAILNUM\n",
    "  AND ORIGINSTATE = 'NJ'\n",
    "  AND DESTSTATE = 'CA'\n",
    "  AND AC.MANUFACTURER = 'Boeing' \n",
    "  AND AC.MODEL LIKE 'B737%'\n",
    "  AND OT.TAXIOUT > 30\n",
    "  AND OT.DISTANCE > 2000\n",
    "  AND OT.DEPDELAY > 300\n",
    "  ORDER BY OT.ARRDELAY;\n",
    "\"\"\"\n",
    "\n",
    "body = {\n",
    "  \"isQuery\": True,\n",
    "  \"sqlStatement\": sql,\n",
    "  \"sync\": False\n",
    "}"
   ]
  },
  {
   "cell_type": "code",
   "execution_count": null,
   "metadata": {},
   "outputs": [],
   "source": [
    "try:\n",
    "    response = requests.post(\"{}{}\".format(Db2RESTful,API_execsql), headers=headers, json=body)\n",
    "except Exception as e:\n",
    "    print(\"Unable to call RESTful service. Error={}\".format(repr(e)))"
   ]
  },
  {
   "cell_type": "code",
   "execution_count": null,
   "metadata": {},
   "outputs": [],
   "source": [
    "print(response)"
   ]
  },
  {
   "cell_type": "markdown",
   "metadata": {},
   "source": [
    "Retrieve the job id, so that you can retrieve the results later."
   ]
  },
  {
   "cell_type": "code",
   "execution_count": null,
   "metadata": {},
   "outputs": [],
   "source": [
    "job_id = response.json()[\"id\"]"
   ]
  },
  {
   "cell_type": "code",
   "execution_count": null,
   "metadata": {},
   "outputs": [],
   "source": [
    "print(job_id)"
   ]
  },
  {
   "cell_type": "markdown",
   "metadata": {},
   "source": [
    "## Retrieve Result set using Job ID\n",
    "The service API needs to be appended with the Job ID."
   ]
  },
  {
   "cell_type": "code",
   "execution_count": null,
   "metadata": {},
   "outputs": [],
   "source": [
    "API_get = \"/v1/services/\""
   ]
  },
  {
   "cell_type": "markdown",
   "metadata": {},
   "source": [
    "We can limit the number of rows that we return at a time. Setting the limit to zero means all of the rows are to be returned."
   ]
  },
  {
   "cell_type": "code",
   "execution_count": null,
   "metadata": {},
   "outputs": [],
   "source": [
    "body = {\n",
    "  \"limit\": 0\n",
    "}"
   ]
  },
  {
   "cell_type": "markdown",
   "metadata": {},
   "source": [
    "Get the results."
   ]
  },
  {
   "cell_type": "code",
   "execution_count": null,
   "metadata": {},
   "outputs": [],
   "source": [
    "try:\n",
    "    response = requests.get(\"{}{}{}\".format(Db2RESTful,API_get,job_id), headers=headers, json=body)\n",
    "except Exception as e:\n",
    "    print(\"Unable to call RESTful service. Error={}\".format(repr(e)))"
   ]
  },
  {
   "cell_type": "code",
   "execution_count": null,
   "metadata": {},
   "outputs": [],
   "source": [
    "print(response)"
   ]
  },
  {
   "cell_type": "markdown",
   "metadata": {},
   "source": [
    "Retrieve the results."
   ]
  },
  {
   "cell_type": "code",
   "execution_count": null,
   "metadata": {},
   "outputs": [],
   "source": [
    "display(pd.DataFrame(response.json()['resultSet']))"
   ]
  },
  {
   "cell_type": "markdown",
   "metadata": {},
   "source": [
    "Now that you have some experience with the built in SQL service, you can try creating your own endpoint service. "
   ]
  },
  {
   "cell_type": "markdown",
   "metadata": {},
   "source": [
    "## Using RESTful Endpoint Services\n",
    "The most common way of interacting with the service is to fully encapsulate an SQL statement, including any parameters, in a unique RESTful service. This creates a secure separation between the database service and the RESTful programming service. It also allows you to create versions of the same service to make maintenance and evolution of programming models simple and predictable."
   ]
  },
  {
   "cell_type": "markdown",
   "metadata": {},
   "source": [
    "### Setup the Meta Data Tables and Stored Procedures to manage Endpoint Services\n",
    "Before you can start defining and running your own RESTful Endpoint services you need call the service to create the table and stored procedures in the database you are using. "
   ]
  },
  {
   "cell_type": "code",
   "execution_count": null,
   "metadata": {},
   "outputs": [],
   "source": [
    "API_makerest = \"/v1/metadata/setup\""
   ]
  },
  {
   "cell_type": "markdown",
   "metadata": {},
   "source": [
    "You can specify the schema that the new table and stored procedures will be created in. In this example we will use **DB2REST**"
   ]
  },
  {
   "cell_type": "code",
   "execution_count": null,
   "metadata": {},
   "outputs": [],
   "source": [
    "body = {\n",
    "  \"schema\": \"DB2REST\"\n",
    "}"
   ]
  },
  {
   "cell_type": "code",
   "execution_count": null,
   "metadata": {},
   "outputs": [],
   "source": [
    "try:\n",
    "    response = requests.post(\"{}{}\".format(Db2RESTful,API_makerest), headers=headers, json=body)\n",
    "except Exception as e:\n",
    "    print(\"Unable to call RESTful service. Error={}\".format(repr(e)))"
   ]
  },
  {
   "cell_type": "markdown",
   "metadata": {},
   "source": [
    "If the process is successful the service returns a 201 status code."
   ]
  },
  {
   "cell_type": "code",
   "execution_count": null,
   "metadata": {},
   "outputs": [],
   "source": [
    "if (response.status_code == 201):\n",
    "  print(response.reason)\n",
    "else:\n",
    "  print(response.json())"
   ]
  },
  {
   "cell_type": "markdown",
   "metadata": {},
   "source": [
    "### Create a RESTful Service\n",
    "Now that the RESTful Service metadata is created in your database, you can create your first service. In this example you will pass an employee numb er, a 6 character string, to the service. It will return the department number of the employee."
   ]
  },
  {
   "cell_type": "code",
   "execution_count": null,
   "metadata": {},
   "outputs": [],
   "source": [
    "API_makerest = \"/v1/services\""
   ]
  },
  {
   "cell_type": "markdown",
   "metadata": {},
   "source": [
    "The first step is to define the SQL that we want in the RESTful call. Parameters are identified using an ampersand \"@\". Notice that our SQL is nicely formatted to make this notebook easier to ready. However when creating a service it is good practice to remove the line break characters from your SQL statement. "
   ]
  },
  {
   "cell_type": "code",
   "execution_count": null,
   "metadata": {},
   "outputs": [],
   "source": [
    "sql = \\\n",
    "\"\"\"\n",
    "SELECT COUNT(AC.\"TAIL_NUMBER\") FROM \"ONTIME\".\"ONTIME\" OT, \"ONTIME\".\"AIRCRAFT\" AC \n",
    "  WHERE AC.\"TAIL_NUMBER\" = OT.TAILNUM\n",
    "  AND ORIGINSTATE = @STATE\n",
    "  AND DESTSTATE = 'CA'\n",
    "  AND AC.MANUFACTURER = 'Boeing' \n",
    "  AND AC.MODEL LIKE 'B737%'\n",
    "  AND OT.TAXIOUT > 30\n",
    "  AND OT.DISTANCE > 2000\n",
    "  AND OT.DEPDELAY > @DELAY\n",
    "  FETCH FIRST 5 ROWS ONLY\n",
    "\"\"\"\n",
    "sql = sql.replace(\"\\n\",\"\")"
   ]
  },
  {
   "cell_type": "markdown",
   "metadata": {},
   "source": [
    "The next step is defining the jason body to send along with the REST call."
   ]
  },
  {
   "cell_type": "code",
   "execution_count": null,
   "metadata": {},
   "outputs": [],
   "source": [
    "body = {\"isQuery\": True,\n",
    "       \"parameters\": [\n",
    "         {\n",
    "         \"datatype\": \"CHAR(2)\",\n",
    "         \"name\": \"@STATE\"\n",
    "         },\n",
    "         {\n",
    "         \"datatype\": \"INT\",\n",
    "         \"name\": \"@DELAY\"    \n",
    "         }\n",
    "       ],\n",
    "       \"schema\": \"DEMO\",\n",
    "       \"serviceDescription\": \"Delay\",\n",
    "       \"serviceName\": \"delay\",\n",
    "       \"sqlStatement\": sql,\n",
    "       \"version\": \"1.0\"\n",
    "}"
   ]
  },
  {
   "cell_type": "markdown",
   "metadata": {},
   "source": [
    "Now submit the full RESTful call to create the new service. "
   ]
  },
  {
   "cell_type": "code",
   "execution_count": null,
   "metadata": {},
   "outputs": [],
   "source": [
    "try:\n",
    "    response = requests.post(\"{}{}\".format(Db2RESTful,API_makerest), headers=headers, json=body)\n",
    "except Exception as e:\n",
    "    print(\"Unable to call RESTful service. Error={}\".format(repr(e)))"
   ]
  },
  {
   "cell_type": "code",
   "execution_count": null,
   "metadata": {},
   "outputs": [],
   "source": [
    "print(response)"
   ]
  },
  {
   "cell_type": "markdown",
   "metadata": {},
   "source": [
    "### Call the new RESTful Service\n",
    "Now you can call the RESTful service. In this case we will pass the stock symbol CAT. But like in the previous example you can try rerunning the service call with different stock symbols."
   ]
  },
  {
   "cell_type": "code",
   "execution_count": null,
   "metadata": {},
   "outputs": [],
   "source": [
    "API_runrest = \"/v1/services/delay/1.0\""
   ]
  },
  {
   "cell_type": "code",
   "execution_count": null,
   "metadata": {},
   "outputs": [],
   "source": [
    "body = {\n",
    "  \"parameters\": {\n",
    "    \"@STATE\": \"NY\",\"@DELAY\":\"300\"\n",
    "  },\n",
    "  \"sync\": True\n",
    "}"
   ]
  },
  {
   "cell_type": "code",
   "execution_count": null,
   "metadata": {},
   "outputs": [],
   "source": [
    "try:\n",
    "    response = requests.post(\"{}{}\".format(Db2RESTful,API_runrest), headers=headers, json=body)\n",
    "except Exception as e:\n",
    "    print(\"Unable to call RESTful service. Error={}\".format(repr(e)))"
   ]
  },
  {
   "cell_type": "code",
   "execution_count": null,
   "metadata": {},
   "outputs": [],
   "source": [
    "print(\"{}{}\".format(Db2RESTful,API_runrest))"
   ]
  },
  {
   "cell_type": "code",
   "execution_count": null,
   "metadata": {},
   "outputs": [],
   "source": [
    "print(response)"
   ]
  },
  {
   "cell_type": "code",
   "execution_count": null,
   "metadata": {},
   "outputs": [],
   "source": [
    "print(response.json())"
   ]
  },
  {
   "cell_type": "markdown",
   "metadata": {},
   "source": [
    "You can retrieve the result set, convert it into a Dataframe and display the table."
   ]
  },
  {
   "cell_type": "code",
   "execution_count": null,
   "metadata": {},
   "outputs": [],
   "source": [
    "display(pd.DataFrame(response.json()['resultSet']))"
   ]
  },
  {
   "cell_type": "markdown",
   "metadata": {},
   "source": [
    "## Loop through the new call\n",
    "Now you can call the RESTful service with different values."
   ]
  },
  {
   "cell_type": "code",
   "execution_count": null,
   "metadata": {},
   "outputs": [],
   "source": [
    "API_runrest = \"/v1/services/delay/1.0\""
   ]
  },
  {
   "cell_type": "code",
   "execution_count": null,
   "metadata": {},
   "outputs": [],
   "source": [
    "repeat = 2\n",
    "for x in range(0, repeat):\n",
    "    for state in (\"OH\", \"NJ\", \"NY\", \"FL\", \"MI\"):\n",
    "\n",
    "        body = {\n",
    "          \"parameters\": {\n",
    "            \"@STATE\": state,\"@DELAY\": \"240\"\n",
    "          },\n",
    "          \"sync\": True\n",
    "        }\n",
    "        try:\n",
    "            response = requests.post(\"{}{}\".format(Db2RESTful,API_runrest), headers=headers, json=body)\n",
    "            print(state + \": \" + str(response.json()['resultSet']))\n",
    "        except Exception as e:\n",
    "            print(\"Unable to call RESTful service. Error={}\".format(repr(e)))"
   ]
  },
  {
   "cell_type": "markdown",
   "metadata": {},
   "source": [
    "## Managing Your Services \n",
    "There are several service calls you can use to help manage the Db2 RESTful Endpoint service. "
   ]
  },
  {
   "cell_type": "markdown",
   "metadata": {},
   "source": [
    "## List Available Services\n",
    "You can also list all the user defined services you have access to"
   ]
  },
  {
   "cell_type": "code",
   "execution_count": null,
   "metadata": {},
   "outputs": [],
   "source": [
    "API_listrest = \"/v1/services\""
   ]
  },
  {
   "cell_type": "code",
   "execution_count": null,
   "metadata": {},
   "outputs": [],
   "source": [
    "try:\n",
    "    response = requests.get(\"{}{}\".format(Db2RESTful,API_listrest), headers=headers)\n",
    "except Exception as e:\n",
    "    print(\"Unable to call RESTful service. Error={}\".format(repr(e)))"
   ]
  },
  {
   "cell_type": "code",
   "execution_count": null,
   "metadata": {},
   "outputs": [],
   "source": [
    "print(response.json())"
   ]
  },
  {
   "cell_type": "code",
   "execution_count": null,
   "metadata": {},
   "outputs": [],
   "source": [
    "display(pd.DataFrame(response.json()['Db2Services']))"
   ]
  },
  {
   "cell_type": "markdown",
   "metadata": {},
   "source": [
    "## Get Service Details\n",
    "You can also get the details of a service"
   ]
  },
  {
   "cell_type": "code",
   "execution_count": null,
   "metadata": {},
   "outputs": [],
   "source": [
    "API_getDetails = \"/v1/services/delay/3.0\""
   ]
  },
  {
   "cell_type": "code",
   "execution_count": null,
   "metadata": {},
   "outputs": [],
   "source": [
    "try:\n",
    "    response = requests.get(\"{}{}\".format(Db2RESTful,API_getDetails), headers=headers)\n",
    "except Exception as e:\n",
    "    print(\"Unable to call RESTful service. Error={}\".format(repr(e)))"
   ]
  },
  {
   "cell_type": "code",
   "execution_count": null,
   "metadata": {},
   "outputs": [],
   "source": [
    "json = response.json()\n",
    "print(json)"
   ]
  },
  {
   "cell_type": "markdown",
   "metadata": {},
   "source": [
    "You can format the result to make it easier to ready. For example, here are the input and outputs."
   ]
  },
  {
   "cell_type": "code",
   "execution_count": null,
   "metadata": {},
   "outputs": [],
   "source": [
    "display(pd.DataFrame(json['inputParameters']))\n",
    "display(pd.DataFrame(json['resultSetFields']))"
   ]
  },
  {
   "cell_type": "markdown",
   "metadata": {},
   "source": [
    "## Delete a Service\n",
    "A single call is also available to delete a service"
   ]
  },
  {
   "cell_type": "code",
   "execution_count": null,
   "metadata": {},
   "outputs": [],
   "source": [
    "API_deleteService = \"/v1/services\"\n",
    "Service = \"/delay\"\n",
    "Version = \"/1.0\""
   ]
  },
  {
   "cell_type": "code",
   "execution_count": null,
   "metadata": {},
   "outputs": [],
   "source": [
    "try:\n",
    "    response = requests.delete(\"{}{}{}{}\".format(Db2RESTful,API_deleteService,Service,Version), headers=headers)\n",
    "except Exception as e:\n",
    "    print(\"Unable to call RESTful service. Error={}\".format(repr(e)))"
   ]
  },
  {
   "cell_type": "code",
   "execution_count": null,
   "metadata": {},
   "outputs": [],
   "source": [
    "print (response)"
   ]
  },
  {
   "cell_type": "markdown",
   "metadata": {},
   "source": [
    "## Get Service Logs\n",
    "You can also easily download the Db2 RESTful Endpoint service logs. "
   ]
  },
  {
   "cell_type": "code",
   "execution_count": null,
   "metadata": {},
   "outputs": [],
   "source": [
    "API_listrest = \"/v1/logs\""
   ]
  },
  {
   "cell_type": "code",
   "execution_count": null,
   "metadata": {},
   "outputs": [],
   "source": [
    "try:\n",
    "    response = requests.get(\"{}{}\".format(Db2RESTful,API_listrest), headers=headers)\n",
    "except Exception as e:\n",
    "    print(\"Unable to call RESTful service. Error={}\".format(repr(e)))"
   ]
  },
  {
   "cell_type": "code",
   "execution_count": null,
   "metadata": {},
   "outputs": [],
   "source": [
    "if (response.status_code == 200):\n",
    "  myFile = response.content\n",
    "  open('/tmp/logs.zip', 'wb').write(myFile)\n",
    "  print(\"Downloaded\",len(myFile),\"bytes.\")\n",
    "else:\n",
    "  print(response.json())"
   ]
  },
  {
   "cell_type": "markdown",
   "metadata": {},
   "source": [
    "To see the content of the logs, open the Files browser on machine host3 (10.0.0.4). Navigate to the **/tmp** directory and unzip the logs file. "
   ]
  },
  {
   "cell_type": "markdown",
   "metadata": {},
   "source": [
    "## Using the Db2 REST Class"
   ]
  },
  {
   "cell_type": "code",
   "execution_count": null,
   "metadata": {},
   "outputs": [],
   "source": [
    "# Run the Db2REST Class library\n",
    "# Used to construct and reuse an Autentication Key\n",
    "# Used to construct RESTAPI URLs and JSON payloads\n",
    "import json\n",
    "import requests\n",
    "import pandas as pd\n",
    "\n",
    "class Db2REST():\n",
    "    \n",
    "    def __init__(self, RESTServiceURL):\n",
    "        self.headers = {\"content-type\": \"application/json\"}\n",
    "        self.RESTServiceURL = RESTServiceURL\n",
    "        self.version = \"/v1\"\n",
    "        self.API_auth = self.version + \"/auth\"\n",
    "        self.API_makerest = self.version + \"/metadata/setup\"\n",
    "        self.API_services = self.version + \"/services/\"       \n",
    "        self.API_version = self.version + \"/version/\"      \n",
    "        self.API_execsql = self.API_services + \"execsql\"\n",
    "        self.API_monitor = self.API_services + \"monitor\" \n",
    "        \n",
    "    def connectDatabase(self, dbHost, dbName, dbPort, isSSLConnection, dbUsername, dbPassword, expiryTime=\"300m\"):\n",
    "        self.dbHost = dbHost\n",
    "        self.dbName = dbName\n",
    "        self.dbPort = dbPort\n",
    "        self.isSSLConnection = isSSLConnection\n",
    "        self.dbusername = dbUsername\n",
    "        self.dbpassword = dbPassword      \n",
    "        self.connectionBody = {\n",
    "            \"dbParms\": {\n",
    "            \"dbHost\": dbHost,\n",
    "            \"dbName\": dbName,\n",
    "            \"dbPort\": dbPort,\n",
    "            \"isSSLConnection\": isSSLConnection,\n",
    "            \"username\": dbUsername,\n",
    "            \"password\": dbPassword\n",
    "            },\n",
    "            \"expiryTime\": expiryTime\n",
    "        }\n",
    "        try:\n",
    "            response = requests.post(\"{}{}\".format(self.RESTServiceURL,self.API_auth), headers=self.headers, json=self.connectionBody)\n",
    "            print (response)\n",
    "        except Exception as e:\n",
    "            print(\"Unable to call RESTful service. Error={}\".format(repr(e)))\n",
    "            \n",
    "        if (response.status_code == 200):\n",
    "            self.token = response.json()[\"token\"]\n",
    "            print(\"Successfully connected and retrieved access token\")\n",
    "        else:\n",
    "            print(response.json()[\"errors\"])\n",
    "    \n",
    "        self.headers = {\n",
    "            \"authorization\": f\"{self.token}\",\n",
    "            \"content-type\": \"application/json\"\n",
    "        }\n",
    "        \n",
    "    def getConnection(self):\n",
    "        return self.connectionBody\n",
    "    \n",
    "    def getService(self):\n",
    "        return self.RESTServiceURL\n",
    "    \n",
    "    def getToken(self):\n",
    "        return(\"Token: {}\".format(self.token))\n",
    "    \n",
    "    def getVersion(self):\n",
    "        try:\n",
    "            response = requests.get(\"{}{}\".format(self.RESTServiceURL,self.API_version), headers=self.headers)\n",
    "        except Exception as e:\n",
    "            print(\"Unable to call RESTful service. Error={}\".format(repr(e)))\n",
    "         \n",
    "        if (response.status_code == 200):\n",
    "            return response.json()['version']\n",
    "        else:\n",
    "            print(response.json()['errors'][0]['more_info'])        \n",
    "        \n",
    "    def runStatement(self, sql, isQuery=True, sync=True, parameters={}):\n",
    "        body = {\n",
    "            \"isQuery\": isQuery,\n",
    "            \"sqlStatement\": sql,\n",
    "            \"sync\": sync,\n",
    "            \"parameters\": parameters\n",
    "        }\n",
    "        \n",
    "        try:\n",
    "            response = requests.post(\"{}{}\".format(self.RESTServiceURL,self.API_execsql), headers=self.headers, json=body)\n",
    "        except Exception as e:\n",
    "            print(\"Unable to call RESTful service. Error={}\".format(repr(e)))\n",
    "         \n",
    "        if (response.status_code == 200):\n",
    "            return pd.DataFrame(response.json()['resultSet'])\n",
    "        elif (response.status_code == 202):\n",
    "            return response.json()[\"id\"]\n",
    "        else:\n",
    "            print(response.json()['errors'][0]['more_info'])\n",
    "            \n",
    "    def getResult(self, job_id, limit=0):\n",
    "        body = {\"limit\": limit}\n",
    "        \n",
    "        try:\n",
    "            response = requests.get(\"{}{}{}\".format(self.RESTServiceURL,self.API_services,job_id), headers=self.headers, json=body)\n",
    "        except Exception as e:\n",
    "            print(\"Unable to call RESTful service. Error={}\".format(repr(e)))\n",
    "  \n",
    "        if (response.status_code == 200):\n",
    "            json = response.json()   \n",
    "            if (json['jobStatus'] == 2):\n",
    "                return json['jobStatusDescription']\n",
    "            elif (json['jobStatus'] == 3):\n",
    "                return pd.DataFrame(json['resultSet'])               \n",
    "            elif (json['jobStatus'] == 4):\n",
    "                return pd.DataFrame(json['resultSet'])  \n",
    "            else: \n",
    "                return json\n",
    "        elif (response.status_code == 404):\n",
    "            print(response.json()['errors'])  \n",
    "        elif  (response.status_code == 500):\n",
    "            print(response.json()['errors'][0]['more_info'])            \n",
    "        else:\n",
    "            print(response.json())\n",
    "            \n",
    "    def createServiceMetadata(self, serviceSchema=\"Db2REST\"):\n",
    "        self.serviceSchema = serviceSchema\n",
    "        body = {\"schema\": self.serviceSchema}\n",
    "        try:\n",
    "            response = requests.post(\"{}{}\".format(self.RESTServiceURL,self.API_makerest), headers=self.headers, json=body)\n",
    "            if (response.status_code == 201):\n",
    "                print(response.reason)\n",
    "            else:\n",
    "                print(response.json())\n",
    "            \n",
    "        except Exception as e:\n",
    "            print(\"Unable to call RESTful service. Error={}\".format(repr(e)))\n",
    "            \n",
    "\n",
    "    def listServices(self):\n",
    "        try:\n",
    "            response = requests.get(\"{}{}\".format(self.RESTServiceURL,self.API_services), headers=self.headers)\n",
    "            return pd.DataFrame(response.json()['Db2Services'])\n",
    "        except Exception as e:\n",
    "            print(\"Unable to call RESTful service. Error={}\".format(repr(e)))\n",
    "            \n",
    "    def getServiceDetails(self, serviceName, version):\n",
    "        try:\n",
    "            response = requests.get(\"{}{}{}{}\".format(self.RESTServiceURL,self.API_services,\"/\" + serviceName,\"/\" + version), headers=self.headers)\n",
    "            print(response.status_code)\n",
    "            if (response.status_code == 200):\n",
    "                description = response.json()\n",
    "                print(\"Input parameters:\")\n",
    "                print(description[\"inputParameters\"])\n",
    "                print(\"Result format:\")\n",
    "                print(description[\"resultSetFields\"])\n",
    "            else:\n",
    "                print(response.json())        \n",
    "        except Exception as e:\n",
    "            print(\"Unable to call RESTful service. Error={}\".format(repr(e)))            \n",
    "            \n",
    "    def createService(self, schema, serviceDescription, serviceName, sql, version, parameters=False, isQuery=True):\n",
    "        if (parameters==False):\n",
    "            body = {\"isQuery\": isQuery,\n",
    "                \"schema\": schema,\n",
    "                \"serviceDescription\": serviceDescription,\n",
    "                \"serviceName\": serviceName,\n",
    "                \"sqlStatement\": sql.replace(\"\\n\",\"\"),\n",
    "                \"version\": version\n",
    "            } \n",
    "        else: \n",
    "            body = {\"isQuery\": isQuery,\n",
    "                \"schema\": schema,\n",
    "                \"serviceDescription\": serviceDescription,\n",
    "                \"serviceName\": serviceName,\n",
    "                \"sqlStatement\": sql.replace(\"\\n\",\"\"),\n",
    "                \"version\": version,\n",
    "                \"parameters\": parameters\n",
    "            } \n",
    "        \n",
    "        try:\n",
    "            response = requests.post(\"{}{}\".format(self.RESTServiceURL,self.API_services), headers=self.headers, json=body)\n",
    "        except Exception as e:\n",
    "            print(\"Unable to call RESTful service. Error={}\".format(repr(e)))\n",
    "            \n",
    "        if (response.status_code == 201):\n",
    "             print(\"Service: \" + serviceName + \" Version: \" + version + \" created\")\n",
    "        else:\n",
    "            print(response.json())  \n",
    "            \n",
    "    def deleteService(self, serviceName, version):\n",
    "        try:\n",
    "            response = requests.delete(\"{}{}{}{}\".format(self.RESTServiceURL,self.API_services,\"/\" + serviceName,\"/\" + version), headers=self.headers)\n",
    "        except Exception as e:\n",
    "            print(\"Unable to call RESTful service. Error={}\".format(repr(e)))\n",
    "            \n",
    "        if (response.status_code == 204):\n",
    "            print(\"Service: \" + serviceName + \" Version: \" + version + \" deleted\")\n",
    "        else:\n",
    "            print(response.json())   \n",
    "            \n",
    "    def callService(self, serviceName, version, parameters, sync=True):\n",
    "        body = {\n",
    "            \"parameters\": parameters,\n",
    "            \"sync\": sync\n",
    "        }\n",
    "        try:\n",
    "            response = requests.post(\"{}{}{}{}\".format(self.RESTServiceURL,self.API_services,\"/\" + serviceName,\"/\" + version), headers=self.headers, json=body)\n",
    "            if (response.status_code == 200):\n",
    "                return pd.DataFrame(response.json()['resultSet'])\n",
    "            elif (response.status_code == 202):\n",
    "                return response.json()[\"id\"]\n",
    "            else:\n",
    "                print(response.json()['errors'][0]['more_info'])\n",
    "                \n",
    "        except Exception as e:\n",
    "            if (repr(e) == \"KeyError('more_info',)\"): \n",
    "                print(\"Service not found\")\n",
    "            else: \n",
    "                print(\"Unable to call RESTful service. Error={}\".format(repr(e)))\n",
    "                \n",
    "    def monitorJobs(self):\n",
    "        try:\n",
    "            response = requests.get(\"{}{}\".format(self.RESTServiceURL,self.API_monitor), headers=self.headers)\n",
    "            if (response.status_code == 200):\n",
    "                return pd.DataFrame(response.json()['MonitorServices'])\n",
    "            else:\n",
    "                print(response.json())    \n",
    "        except Exception as e:\n",
    "            print(\"Unable to call RESTful service. Error={}\".format(repr(e)))                       "
   ]
  },
  {
   "cell_type": "markdown",
   "metadata": {},
   "source": [
    "### Setting up a Db2 RESTful Endpoint Service Class instance"
   ]
  },
  {
   "cell_type": "code",
   "execution_count": null,
   "metadata": {},
   "outputs": [],
   "source": [
    "Db2RESTService = Db2REST(\"http://localhost:50050\")\n",
    "print(\"Db2 RESTful Endpoint Service Version: \" + Db2RESTService.getVersion())"
   ]
  },
  {
   "cell_type": "markdown",
   "metadata": {},
   "source": [
    "#### Connecting to the service to the database"
   ]
  },
  {
   "cell_type": "code",
   "execution_count": null,
   "metadata": {},
   "outputs": [],
   "source": [
    "Db2RESTService.connectDatabase(\"10.0.0.1\", \"ONTIME\", 50001, False, \"db2inst1\", \"db2inst1\")"
   ]
  },
  {
   "cell_type": "markdown",
   "metadata": {},
   "source": [
    "#### Confirming the service settings"
   ]
  },
  {
   "cell_type": "code",
   "execution_count": null,
   "metadata": {},
   "outputs": [],
   "source": [
    "print(Db2RESTService.getService())"
   ]
  },
  {
   "cell_type": "markdown",
   "metadata": {},
   "source": [
    "#### Retrieve the database connection details"
   ]
  },
  {
   "cell_type": "code",
   "execution_count": null,
   "metadata": {},
   "outputs": [],
   "source": [
    "print(Db2RESTService.getConnection())"
   ]
  },
  {
   "cell_type": "markdown",
   "metadata": {},
   "source": [
    "#### Retrieve the access Token"
   ]
  },
  {
   "cell_type": "code",
   "execution_count": null,
   "metadata": {},
   "outputs": [],
   "source": [
    "print(Db2RESTService.getToken())"
   ]
  },
  {
   "cell_type": "markdown",
   "metadata": {},
   "source": [
    "### Running SQL Through the Service\n",
    "You can run an SQL Statement through the RESTful service as a simple text string.\n",
    "\n",
    "Let's start by defining the SQL to run:"
   ]
  },
  {
   "cell_type": "code",
   "execution_count": null,
   "metadata": {},
   "outputs": [],
   "source": [
    "sql = \\\n",
    "\"\"\"\n",
    "SELECT AC.\"TAIL_NUMBER\", AC.\"MANUFACTURER\", AC.\"MODEL\", OT.\"FLIGHTDATE\", OT.\"UNIQUECARRIER\", OT.\"AIRLINEID\", OT.\"CARRIER\", OT.\"TAILNUM\", OT.\"FLIGHTNUM\", OT.\"ORIGINAIRPORTID\", OT.\"ORIGINAIRPORTSEQID\", OT.\"ORIGINCITYNAME\", OT.\"ORIGINSTATE\", OT.\"DESTAIRPORTID\", OT.\"DESTCITYNAME\", OT.\"DESTSTATE\", OT.\"DEPTIME\", OT.\"DEPDELAY\", OT.\"TAXIOUT\", OT.\"WHEELSOFF\", OT.\"WHEELSON\", OT.\"TAXIIN\", OT.\"ARRTIME\", OT.\"ARRDELAY\", OT.\"ARRDELAYMINUTES\", OT.\"CANCELLED\", OT.\"AIRTIME\", OT.\"DISTANCE\"\n",
    "  FROM \"ONTIME\".\"ONTIME\" OT, \"ONTIME\".\"AIRCRAFT\" AC \n",
    "  WHERE AC.\"TAIL_NUMBER\" = OT.TAILNUM\n",
    "  AND ORIGINSTATE = 'NJ'\n",
    "  AND DESTSTATE = 'CA'\n",
    "  AND AC.MANUFACTURER = 'Boeing' \n",
    "  AND AC.MODEL LIKE 'B737%'\n",
    "  AND OT.TAXIOUT > 30\n",
    "  AND OT.DISTANCE > 2000\n",
    "  AND OT.DEPDELAY > 300\n",
    "  ORDER BY OT.DEPDELAY DESC\n",
    "  FETCH FIRST 5 ROWS ONLY;\n",
    "\"\"\""
   ]
  },
  {
   "cell_type": "markdown",
   "metadata": {},
   "source": [
    "Now a single call to the **runStatement** routine runs the SQL synchronously and returns the result as a DataFrame"
   ]
  },
  {
   "cell_type": "code",
   "execution_count": null,
   "metadata": {},
   "outputs": [],
   "source": [
    "result = (Db2RESTService.runStatement(sql))\n",
    "display(result)"
   ]
  },
  {
   "cell_type": "markdown",
   "metadata": {},
   "source": [
    "You can also run the statement asynchronously so you don't have to wait for the result. In this case the result is the statement identifier that you can use to check the statement status."
   ]
  },
  {
   "cell_type": "code",
   "execution_count": null,
   "metadata": {},
   "outputs": [],
   "source": [
    "statementID = (Db2RESTService.runStatement(sql, sync=False))\n",
    "display(statementID)"
   ]
  },
  {
   "cell_type": "markdown",
   "metadata": {},
   "source": [
    "If you have several statements running at the same time you can check to see their status with the **monitorStatus** routine and see where they are in the service queue. "
   ]
  },
  {
   "cell_type": "code",
   "execution_count": null,
   "metadata": {},
   "outputs": [],
   "source": [
    "services = Db2RESTService.monitorJobs()\n",
    "display(services)"
   ]
  },
  {
   "cell_type": "markdown",
   "metadata": {},
   "source": [
    "You can try to get the results of the statment by passing the statement identifier into the getResults routine. If the statement has finished running it will return a result set as a DataFrame. It is still running, a message is returned."
   ]
  },
  {
   "cell_type": "code",
   "execution_count": null,
   "metadata": {},
   "outputs": [],
   "source": [
    "result = (Db2RESTService.getResult(statementID))\n",
    "display(result)"
   ]
  },
  {
   "cell_type": "markdown",
   "metadata": {},
   "source": [
    "#### Passing Parameters when running SQL Statements"
   ]
  },
  {
   "cell_type": "code",
   "execution_count": null,
   "metadata": {},
   "outputs": [],
   "source": [
    "sqlparm = \\\n",
    "\"\"\"\n",
    "SELECT AC.\"TAIL_NUMBER\", AC.\"MANUFACTURER\", AC.\"MODEL\", OT.\"FLIGHTDATE\", OT.\"UNIQUECARRIER\", OT.\"AIRLINEID\", OT.\"CARRIER\", OT.\"TAILNUM\", OT.\"FLIGHTNUM\", OT.\"ORIGINAIRPORTID\", OT.\"ORIGINAIRPORTSEQID\", OT.\"ORIGINCITYNAME\", OT.\"ORIGINSTATE\", OT.\"DESTAIRPORTID\", OT.\"DESTCITYNAME\", OT.\"DESTSTATE\", OT.\"DEPTIME\", OT.\"DEPDELAY\", OT.\"TAXIOUT\", OT.\"WHEELSOFF\", OT.\"WHEELSON\", OT.\"TAXIIN\", OT.\"ARRTIME\", OT.\"ARRDELAY\", OT.\"ARRDELAYMINUTES\", OT.\"CANCELLED\", OT.\"AIRTIME\", OT.\"DISTANCE\"\n",
    "  FROM \"ONTIME\".\"ONTIME\" OT, \"ONTIME\".\"AIRCRAFT\" AC \n",
    "  WHERE AC.\"TAIL_NUMBER\" = OT.TAILNUM\n",
    "  AND ORIGINSTATE = ?\n",
    "  AND DESTSTATE = ?\n",
    "  AND AC.MANUFACTURER = 'Boeing' \n",
    "  AND AC.MODEL LIKE 'B737%'\n",
    "  AND OT.TAXIOUT > 30\n",
    "  AND OT.DISTANCE > 2000\n",
    "  AND OT.DEPDELAY > ?\n",
    "  ORDER BY OT.DEPDELAY DESC\n",
    "  FETCH FIRST 10 ROWS ONLY;\n",
    "\"\"\""
   ]
  },
  {
   "cell_type": "code",
   "execution_count": null,
   "metadata": {},
   "outputs": [],
   "source": [
    "result = Db2RESTService.runStatement(sqlparm,parameters={\"1\": 'NY', \"2\": 'CA', \"3\" : 300})\n",
    "display(result)"
   ]
  },
  {
   "cell_type": "code",
   "execution_count": null,
   "metadata": {
    "scrolled": true
   },
   "outputs": [],
   "source": [
    "result = Db2RESTService.runStatement(sqlparm,parameters={\"1\": 'NJ', \"2\": 'CA', \"3\" : 200})\n",
    "display(result)"
   ]
  },
  {
   "cell_type": "markdown",
   "metadata": {},
   "source": [
    "#### Limiting Results"
   ]
  },
  {
   "cell_type": "code",
   "execution_count": null,
   "metadata": {},
   "outputs": [],
   "source": [
    "statementID = Db2RESTService.runStatement(sqlparm, sync=False, parameters={\"1\": 'NJ', \"2\": 'CA', \"3\" : 200})\n",
    "display(statementID)\n",
    "result = (Db2RESTService.getResult(statementID))\n",
    "display(result)"
   ]
  },
  {
   "cell_type": "markdown",
   "metadata": {},
   "source": [
    "This time the **getResult** routine include a parameter to limit the result set to 5 rows. "
   ]
  },
  {
   "cell_type": "code",
   "execution_count": null,
   "metadata": {},
   "outputs": [],
   "source": [
    "result = (Db2RESTService.getResult(statementID, limit=5))\n",
    "display(result)"
   ]
  },
  {
   "cell_type": "markdown",
   "metadata": {},
   "source": [
    "The next cell retrieves the remaining rows."
   ]
  },
  {
   "cell_type": "code",
   "execution_count": null,
   "metadata": {},
   "outputs": [],
   "source": [
    "result = (Db2RESTService.getResult(statementID))\n",
    "display(result)"
   ]
  },
  {
   "cell_type": "markdown",
   "metadata": {},
   "source": [
    "After all the rows have been returned the job history is removed. If you try to retrieve the results for this statement now the service won't find it."
   ]
  },
  {
   "cell_type": "code",
   "execution_count": null,
   "metadata": {},
   "outputs": [],
   "source": [
    "result = (Db2RESTService.getResult(statementID))\n",
    "display(result)"
   ]
  },
  {
   "cell_type": "markdown",
   "metadata": {},
   "source": [
    "### Creating and Running Endpoint Services"
   ]
  },
  {
   "cell_type": "code",
   "execution_count": null,
   "metadata": {},
   "outputs": [],
   "source": [
    "Db2RESTService.createServiceMetadata(\"DB2REST\")"
   ]
  },
  {
   "cell_type": "markdown",
   "metadata": {},
   "source": [
    "Let's start by defining the SQL statement. It can include parameters that have to be idenfied with an amersand \"@\"."
   ]
  },
  {
   "cell_type": "code",
   "execution_count": null,
   "metadata": {},
   "outputs": [],
   "source": [
    "sql = \\\n",
    "\"\"\"\n",
    "SELECT COUNT(AC.\"TAIL_NUMBER\") FROM \"ONTIME\".\"ONTIME\" OT, \"ONTIME\".\"AIRCRAFT\" AC \n",
    "  WHERE AC.\"TAIL_NUMBER\" = OT.TAILNUM\n",
    "  AND ORIGINSTATE = @STATE\n",
    "  AND DESTSTATE = 'CA'\n",
    "  AND AC.MANUFACTURER = 'Boeing' \n",
    "  AND AC.MODEL LIKE 'B737%'\n",
    "  AND OT.TAXIOUT > 30\n",
    "  AND OT.DISTANCE > 2000\n",
    "  AND OT.DEPDELAY > @DELAY\n",
    "  FETCH FIRST 5 ROWS ONLY\n",
    "\"\"\""
   ]
  },
  {
   "cell_type": "markdown",
   "metadata": {},
   "source": [
    "Now we can create the service, including the two parameters, using the **createService** routine. "
   ]
  },
  {
   "cell_type": "code",
   "execution_count": null,
   "metadata": {},
   "outputs": [],
   "source": [
    "parameters = [{\"datatype\": \"CHAR(2)\",\"name\": \"@STATE\"},{\"datatype\": \"INT\",\"name\": \"@DELAY\"}]\n",
    "schema = 'DEMO'\n",
    "serviceDescription = 'Delay'\n",
    "serviceName = 'delay'\n",
    "version = '2.0'\n",
    "\n",
    "Db2RESTService.createService(schema, serviceDescription, serviceName, sql, version, parameters)"
   ]
  },
  {
   "cell_type": "markdown",
   "metadata": {},
   "source": [
    "A call to the **listServices** routine confirms that you have created the new service. "
   ]
  },
  {
   "cell_type": "code",
   "execution_count": null,
   "metadata": {},
   "outputs": [],
   "source": [
    "services = Db2RESTService.listServices()\n",
    "display(services)"
   ]
  },
  {
   "cell_type": "markdown",
   "metadata": {},
   "source": [
    "You can also see the details for any service using the **getServiceDetails** routine."
   ]
  },
  {
   "cell_type": "code",
   "execution_count": null,
   "metadata": {
    "scrolled": true
   },
   "outputs": [],
   "source": [
    "details = Db2RESTService.getServiceDetails(\"delay\",\"2.0\")\n",
    "display(details)"
   ]
  },
  {
   "cell_type": "markdown",
   "metadata": {},
   "source": [
    "You can all the new service using the **callService** routine. The parameters are passed into call using an array of values. By default the call is synchronous so you have to wait for the results. "
   ]
  },
  {
   "cell_type": "code",
   "execution_count": null,
   "metadata": {},
   "outputs": [],
   "source": [
    "serviceName = 'delay'\n",
    "version = '2.0'\n",
    "parameters = {\"@STATE\": \"NJ\",\"@DELAY\":\"200\"}\n",
    "result = Db2RESTService.callService(serviceName, version, parameters)\n",
    "display(result)"
   ]
  },
  {
   "cell_type": "markdown",
   "metadata": {},
   "source": [
    "You can also call the service asychronously, just like we did with SQL statements earlier. Notice the additional parameter **sync=False**. Since the cell below immediately checks the status of the job you can see it has been queued. "
   ]
  },
  {
   "cell_type": "code",
   "execution_count": null,
   "metadata": {},
   "outputs": [],
   "source": [
    "serviceName = 'delay'\n",
    "version = '2.0'\n",
    "parameters = {\"@STATE\": \"NJ\",\"@DELAY\":\"200\"}\n",
    "statementID = Db2RESTService.callService(serviceName, version, parameters, sync=False)\n",
    "display(statementID)  \n",
    "display(Db2RESTService.monitorJobs())"
   ]
  },
  {
   "cell_type": "markdown",
   "metadata": {},
   "source": [
    "Run **monitorJobs** again to confirm that the endpoint service has completed the request."
   ]
  },
  {
   "cell_type": "code",
   "execution_count": null,
   "metadata": {},
   "outputs": [],
   "source": [
    "services = Db2RESTService.monitorJobs()\n",
    "display(services)"
   ]
  },
  {
   "cell_type": "markdown",
   "metadata": {},
   "source": [
    "And retrieve the result set."
   ]
  },
  {
   "cell_type": "code",
   "execution_count": null,
   "metadata": {},
   "outputs": [],
   "source": [
    "result = (Db2RESTService.getResult(statementID))\n",
    "display(result)"
   ]
  },
  {
   "cell_type": "markdown",
   "metadata": {},
   "source": [
    "You can also delete an existing endpoint service with a call to the **deleteService** routine."
   ]
  },
  {
   "cell_type": "code",
   "execution_count": null,
   "metadata": {},
   "outputs": [],
   "source": [
    "serviceName = 'delay'\n",
    "version = '2.0'\n",
    "Db2RESTService.deleteService(serviceName, version)"
   ]
  },
  {
   "cell_type": "markdown",
   "metadata": {},
   "source": [
    "#### Using a service to query the Catalog\n",
    "You can also think about creating services to explore the database catalog. For example, here is a service that accepts a schema as an input parameter and returns a list of tables in the schema. "
   ]
  },
  {
   "cell_type": "code",
   "execution_count": null,
   "metadata": {},
   "outputs": [],
   "source": [
    "sql = \\\n",
    "\"\"\"\n",
    "SELECT TABSCHEMA, TABNAME, ALTER_TIME FROM SYSCAT.TABLES WHERE TABSCHEMA = @SCHEMA\n",
    "\"\"\"\n",
    "\n",
    "parameters = [{\"datatype\": \"VARCHAR(64)\",\"name\": \"@SCHEMA\"}]\n",
    "schema = 'DEMO'\n",
    "serviceDescription = 'Tables'\n",
    "serviceName = 'tables'\n",
    "version = '1.0'\n",
    "\n",
    "Db2RESTService.createService(schema, serviceDescription, serviceName, sql, version, parameters)"
   ]
  },
  {
   "cell_type": "code",
   "execution_count": null,
   "metadata": {},
   "outputs": [],
   "source": [
    "serviceName = 'tables'\n",
    "version = '1.0'\n",
    "result = Db2RESTService.callService(serviceName, version, parameters = {\"@SCHEMA\": \"SYSCAT\"}, sync=True)\n",
    "display(result)"
   ]
  },
  {
   "cell_type": "markdown",
   "metadata": {},
   "source": [
    "## What's Next\n",
    "Try experimenting. Create your own services. You can find out more at: https://www.ibm.com/support/producthub/db2/docs/content/SSEPGG_11.5.0/com.ibm.db2.luw.admin.rest.doc/doc/c_rest.html.\n",
    "\n",
    "Also check out the OpenAPI specification for the service. It includes coding examples in Python, CURL and JavaScript. \n",
    "\n",
    "If you are running this notebook from a browser running inside the Cloud Pak for Data cluster, click: http://10.0.0.4:50050/docs If you are running this from a browser from your own desktop, check your welcome note for the address of the Db2 RESTful Service at port 50050 and add **docs** to the end of the URL."
   ]
  },
  {
   "cell_type": "code",
   "execution_count": null,
   "metadata": {},
   "outputs": [],
   "source": []
  }
 ],
 "metadata": {
  "kernelspec": {
   "display_name": "Python 3",
   "language": "python",
   "name": "python3"
  },
  "language_info": {
   "codemirror_mode": {
    "name": "ipython",
    "version": 3
   },
   "file_extension": ".py",
   "mimetype": "text/x-python",
   "name": "python",
   "nbconvert_exporter": "python",
   "pygments_lexer": "ipython3",
   "version": "3.6.13"
  }
 },
 "nbformat": 4,
 "nbformat_minor": 4
}
